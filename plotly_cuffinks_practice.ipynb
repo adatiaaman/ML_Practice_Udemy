{
 "cells": [
  {
   "cell_type": "code",
   "execution_count": 1,
   "id": "2dfe8011",
   "metadata": {},
   "outputs": [],
   "source": [
    "import pandas as pd\n",
    "import numpy as np"
   ]
  },
  {
   "cell_type": "code",
   "execution_count": 2,
   "id": "5949f471",
   "metadata": {},
   "outputs": [],
   "source": [
    "from plotly import __version__"
   ]
  },
  {
   "cell_type": "code",
   "execution_count": 3,
   "id": "6bf61f32",
   "metadata": {},
   "outputs": [
    {
     "name": "stdout",
     "output_type": "stream",
     "text": [
      "4.14.3\n"
     ]
    }
   ],
   "source": [
    "print(__version__)"
   ]
  },
  {
   "cell_type": "code",
   "execution_count": 4,
   "id": "7d824695",
   "metadata": {},
   "outputs": [],
   "source": [
    "import cufflinks as cf"
   ]
  },
  {
   "cell_type": "code",
   "execution_count": 5,
   "id": "fecf7c49",
   "metadata": {},
   "outputs": [],
   "source": [
    "from plotly.offline import download_plotlyjs, init_notebook_mode, plot, iplot"
   ]
  },
  {
   "cell_type": "code",
   "execution_count": 6,
   "id": "13cfc47b",
   "metadata": {},
   "outputs": [
    {
     "data": {
      "text/html": [
       "        <script type=\"text/javascript\">\n",
       "        window.PlotlyConfig = {MathJaxConfig: 'local'};\n",
       "        if (window.MathJax) {MathJax.Hub.Config({SVG: {font: \"STIX-Web\"}});}\n",
       "        if (typeof require !== 'undefined') {\n",
       "        require.undef(\"plotly\");\n",
       "        requirejs.config({\n",
       "            paths: {\n",
       "                'plotly': ['https://cdn.plot.ly/plotly-latest.min']\n",
       "            }\n",
       "        });\n",
       "        require(['plotly'], function(Plotly) {\n",
       "            window._Plotly = Plotly;\n",
       "        });\n",
       "        }\n",
       "        </script>\n",
       "        "
      ]
     },
     "metadata": {},
     "output_type": "display_data"
    }
   ],
   "source": [
    "init_notebook_mode(connected=True)"
   ]
  },
  {
   "cell_type": "code",
   "execution_count": 7,
   "id": "b8571278",
   "metadata": {},
   "outputs": [
    {
     "data": {
      "text/html": [
       "        <script type=\"text/javascript\">\n",
       "        window.PlotlyConfig = {MathJaxConfig: 'local'};\n",
       "        if (window.MathJax) {MathJax.Hub.Config({SVG: {font: \"STIX-Web\"}});}\n",
       "        if (typeof require !== 'undefined') {\n",
       "        require.undef(\"plotly\");\n",
       "        requirejs.config({\n",
       "            paths: {\n",
       "                'plotly': ['https://cdn.plot.ly/plotly-latest.min']\n",
       "            }\n",
       "        });\n",
       "        require(['plotly'], function(Plotly) {\n",
       "            window._Plotly = Plotly;\n",
       "        });\n",
       "        }\n",
       "        </script>\n",
       "        "
      ]
     },
     "metadata": {},
     "output_type": "display_data"
    }
   ],
   "source": [
    "cf.go_offline()"
   ]
  },
  {
   "cell_type": "code",
   "execution_count": 8,
   "id": "d97c06d0",
   "metadata": {},
   "outputs": [],
   "source": [
    "df = pd.DataFrame(np.random.randn(100,4),columns='A B C D'.split())"
   ]
  },
  {
   "cell_type": "code",
   "execution_count": 9,
   "id": "6492c447",
   "metadata": {},
   "outputs": [
    {
     "data": {
      "text/html": [
       "<div>\n",
       "<style scoped>\n",
       "    .dataframe tbody tr th:only-of-type {\n",
       "        vertical-align: middle;\n",
       "    }\n",
       "\n",
       "    .dataframe tbody tr th {\n",
       "        vertical-align: top;\n",
       "    }\n",
       "\n",
       "    .dataframe thead th {\n",
       "        text-align: right;\n",
       "    }\n",
       "</style>\n",
       "<table border=\"1\" class=\"dataframe\">\n",
       "  <thead>\n",
       "    <tr style=\"text-align: right;\">\n",
       "      <th></th>\n",
       "      <th>A</th>\n",
       "      <th>B</th>\n",
       "      <th>C</th>\n",
       "      <th>D</th>\n",
       "    </tr>\n",
       "  </thead>\n",
       "  <tbody>\n",
       "    <tr>\n",
       "      <th>0</th>\n",
       "      <td>0.757917</td>\n",
       "      <td>0.568450</td>\n",
       "      <td>-0.030842</td>\n",
       "      <td>0.064506</td>\n",
       "    </tr>\n",
       "    <tr>\n",
       "      <th>1</th>\n",
       "      <td>-0.816155</td>\n",
       "      <td>0.565932</td>\n",
       "      <td>-1.789747</td>\n",
       "      <td>0.259657</td>\n",
       "    </tr>\n",
       "    <tr>\n",
       "      <th>2</th>\n",
       "      <td>-1.067666</td>\n",
       "      <td>-0.198278</td>\n",
       "      <td>0.334049</td>\n",
       "      <td>1.002614</td>\n",
       "    </tr>\n",
       "    <tr>\n",
       "      <th>3</th>\n",
       "      <td>0.349248</td>\n",
       "      <td>0.329838</td>\n",
       "      <td>0.429575</td>\n",
       "      <td>0.561643</td>\n",
       "    </tr>\n",
       "    <tr>\n",
       "      <th>4</th>\n",
       "      <td>0.339065</td>\n",
       "      <td>0.532830</td>\n",
       "      <td>1.390668</td>\n",
       "      <td>-0.342787</td>\n",
       "    </tr>\n",
       "  </tbody>\n",
       "</table>\n",
       "</div>"
      ],
      "text/plain": [
       "          A         B         C         D\n",
       "0  0.757917  0.568450 -0.030842  0.064506\n",
       "1 -0.816155  0.565932 -1.789747  0.259657\n",
       "2 -1.067666 -0.198278  0.334049  1.002614\n",
       "3  0.349248  0.329838  0.429575  0.561643\n",
       "4  0.339065  0.532830  1.390668 -0.342787"
      ]
     },
     "execution_count": 9,
     "metadata": {},
     "output_type": "execute_result"
    }
   ],
   "source": [
    "df.head()"
   ]
  },
  {
   "cell_type": "code",
   "execution_count": 10,
   "id": "0ed4e04a",
   "metadata": {},
   "outputs": [],
   "source": [
    "df2 = pd.DataFrame({'Category':['A','B','C'],'Values':[32,43,50]})"
   ]
  },
  {
   "cell_type": "code",
   "execution_count": 11,
   "id": "99dabfe5",
   "metadata": {},
   "outputs": [
    {
     "data": {
      "text/html": [
       "<div>\n",
       "<style scoped>\n",
       "    .dataframe tbody tr th:only-of-type {\n",
       "        vertical-align: middle;\n",
       "    }\n",
       "\n",
       "    .dataframe tbody tr th {\n",
       "        vertical-align: top;\n",
       "    }\n",
       "\n",
       "    .dataframe thead th {\n",
       "        text-align: right;\n",
       "    }\n",
       "</style>\n",
       "<table border=\"1\" class=\"dataframe\">\n",
       "  <thead>\n",
       "    <tr style=\"text-align: right;\">\n",
       "      <th></th>\n",
       "      <th>Category</th>\n",
       "      <th>Values</th>\n",
       "    </tr>\n",
       "  </thead>\n",
       "  <tbody>\n",
       "    <tr>\n",
       "      <th>0</th>\n",
       "      <td>A</td>\n",
       "      <td>32</td>\n",
       "    </tr>\n",
       "    <tr>\n",
       "      <th>1</th>\n",
       "      <td>B</td>\n",
       "      <td>43</td>\n",
       "    </tr>\n",
       "    <tr>\n",
       "      <th>2</th>\n",
       "      <td>C</td>\n",
       "      <td>50</td>\n",
       "    </tr>\n",
       "  </tbody>\n",
       "</table>\n",
       "</div>"
      ],
      "text/plain": [
       "  Category  Values\n",
       "0        A      32\n",
       "1        B      43\n",
       "2        C      50"
      ]
     },
     "execution_count": 11,
     "metadata": {},
     "output_type": "execute_result"
    }
   ],
   "source": [
    "df2"
   ]
  },
  {
   "cell_type": "code",
   "execution_count": 12,
   "id": "408c2c10",
   "metadata": {},
   "outputs": [],
   "source": [
    "%matplotlib inline"
   ]
  },
  {
   "cell_type": "code",
   "execution_count": 13,
   "id": "f269817c",
   "metadata": {},
   "outputs": [
    {
     "data": {
      "text/plain": [
       "<AxesSubplot:>"
      ]
     },
     "execution_count": 13,
     "metadata": {},
     "output_type": "execute_result"
    },
    {
     "data": {
      "image/png": "[encoded data removed]",
      "text/plain": [
       "<Figure size 432x288 with 1 Axes>"
      ]
     },
     "metadata": {
      "needs_background": "light"
     },
     "output_type": "display_data"
    }
   ],
   "source": [
    "df.plot()"
   ]
  },
  {
   "cell_type": "code",
   "execution_count": 14,
   "id": "894b7ae5",
   "metadata": {},
   "outputs": [
    {
     "data": {
      "application/vnd.plotly.v1+json": {
       "config": {
        "linkText": "Export to plot.ly",
        "plotlyServerURL": "https://plot.ly",
        "showLink": true
       },
       "data": [
        {
         "line": {
          "color": "rgba(255, 153, 51, 1.0)",
          "dash": "solid",
          "shape": "linear",
          "width": 1.3
         },
         "mode": "lines",
         "name": "A",
         "text": "",
         "type": "scatter",
         "x": [
          0,
          1,
          2,
          3,
          4,
          5,
          6,
          7,
          8,
          9,
          10,
          11,
          12,
          13,
          14,
          15,
          16,
          17,
          18,
          19,
          20,
          21,
          22,
          23,
          24,
          25,
          26,
          27,
          28,
          29,
          30,
          31,
          32,
          33,
          34,
          35,
          36,
          37,
          38,
          39,
          40,
          41,
          42,
          43,
          44,
          45,
          46,
          47,
          48,
          49,
          50,
          51,
          52,
          53,
          54,
          55,
          56,
          57,
          58,
          59,
          60,
          61,
          62,
          63,
          64,
          65,
          66,
          67,
          68,
          69,
          70,
          71,
          72,
          73,
          74,
          75,
          76,
          77,
          78,
          79,
          80,
          81,
          82,
          83,
          84,
          85,
          86,
          87,
          88,
          89,
          90,
          91,
          92,
          93,
          94,
          95,
          96,
          97,
          98,
          99
         ],
         "y": [
          0.7579169907008975,
          -0.8161547742370481,
          -1.0676658944274364,
          0.3492477357554279,
          0.3390648990769225,
          0.09742219321199275,
          -1.33055230754233,
          -0.12682840085417438,
          -0.25128864086285696,
          2.1115708861917555,
          -1.339406042465701,
          -0.347374481064104,
          -1.3794015617559465,
          0.23290287749488986,
          0.41586382257588445,
          -0.5975340305163689,
          0.4086109611770097,
          0.5472736736776053,
          0.13715433771920907,
          1.6032654886085844,
          -0.5658030710740445,
          0.4404707283859412,
          -0.33724279007117697,
          -0.060014931120361666,
          -0.055651249216383945,
          -0.4050924167306593,
          -0.5674351170616927,
          -1.4251007871026502,
          -0.8995319823222503,
          1.1062589503452354,
          -0.20382072046038863,
          -0.00010055195585183877,
          0.17696378540158358,
          0.7588837221366781,
          0.2521796539016003,
          0.2853964120837876,
          -0.16277726494508643,
          -0.38601143344105365,
          -1.0170379359384103,
          -0.3466500445108914,
          -1.5401398016670331,
          -0.535571994409165,
          -1.7075842134185053,
          0.5066193456872792,
          -1.1181765596137385,
          -0.07719660704485161,
          1.409412284069849,
          -0.5131803731783747,
          0.14512693266306823,
          2.6527272388996663,
          -0.24086569918403608,
          0.5802248482304968,
          -0.28805074414568127,
          -0.394646373523225,
          -0.18229447257056783,
          -0.7128994194693947,
          -0.1760753682112523,
          -0.03307361130640672,
          2.8949245145138893,
          1.4639937505591218,
          -1.1787561032149947,
          0.5080631908125035,
          0.7299226637744624,
          1.114971455912152,
          0.3670444793270461,
          -0.8986701651154719,
          0.10427824380549375,
          0.4926150883989747,
          0.50128685010186,
          0.1582082959286535,
          1.424381376073982,
          -0.7098519159265192,
          1.4343352301075223,
          0.8848001165715448,
          -0.3329297614837509,
          -0.09449322766838299,
          -1.4331704424392953,
          -2.3482367888755706,
          -0.4313472857630825,
          -0.6850394753749117,
          0.07373150250514426,
          1.5035838122434417,
          -1.0673400959574666,
          -0.1790479235488818,
          0.5497921570738876,
          -1.6569094570064595,
          0.6867680990971627,
          -1.5246247206548413,
          0.06523519227070403,
          -1.0893939851966334,
          -0.6426486274421239,
          -1.1784518458385573,
          1.4014189134269002,
          -1.6916384711818373,
          1.2564031949041172,
          0.9657713826538739,
          -0.3086420219503129,
          -0.3789089791792017,
          -0.30407623942767387,
          -0.2204677342273025
         ]
        },
        {
         "line": {
          "color": "rgba(55, 128, 191, 1.0)",
          "dash": "solid",
          "shape": "linear",
          "width": 1.3
         },
         "mode": "lines",
         "name": "B",
         "text": "",
         "type": "scatter",
         "x": [
          0,
          1,
          2,
          3,
          4,
          5,
          6,
          7,
          8,
          9,
          10,
          11,
          12,
          13,
          14,
          15,
          16,
          17,
          18,
          19,
          20,
          21,
          22,
          23,
          24,
          25,
          26,
          27,
          28,
          29,
          30,
          31,
          32,
          33,
          34,
          35,
          36,
          37,
          38,
          39,
          40,
          41,
          42,
          43,
          44,
          45,
          46,
          47,
          48,
          49,
          50,
          51,
          52,
          53,
          54,
          55,
          56,
          57,
          58,
          59,
          60,
          61,
          62,
          63,
          64,
          65,
          66,
          67,
          68,
          69,
          70,
          71,
          72,
          73,
          74,
          75,
          76,
          77,
          78,
          79,
          80,
          81,
          82,
          83,
          84,
          85,
          86,
          87,
          88,
          89,
          90,
          91,
          92,
          93,
          94,
          95,
          96,
          97,
          98,
          99
         ],
         "y": [
          0.5684502720699256,
          0.5659318504590108,
          -0.19827760510486944,
          0.32983830760641514,
          0.5328299766395032,
          -2.6070863592723637,
          -1.498912957132498,
          0.38332965794274665,
          0.22264884897725187,
          -1.6528708786582085,
          -0.49870165714242487,
          -0.4786542575383392,
          1.072071747918505,
          0.30981640073313776,
          0.8935123571549635,
          -0.6819292753460076,
          0.4576173461547523,
          0.44311917309584925,
          -0.3834133487353966,
          0.24893642268377136,
          1.5725896637711498,
          2.5800447501566977,
          -0.031174073981630846,
          -0.527185533592221,
          0.25667482105584083,
          0.8323331450472324,
          -0.9568379443293512,
          0.14736685052680928,
          0.4953577645557132,
          1.127463897276566,
          0.1979067845689406,
          1.5849528203043828,
          -0.1747631695179193,
          0.9573789764398959,
          0.47436736441101895,
          -0.33127828318692876,
          0.7471120167436102,
          -2.022638281155942,
          2.0295295993715894,
          1.4420055066294375,
          -1.5295964399797681,
          1.8233838388928698,
          -0.7918471567136929,
          -1.7277233011088322,
          -0.625284887925668,
          0.8491625546406638,
          0.6780281200173601,
          -0.5141795457121822,
          -0.3431646995205548,
          1.5537837344549983,
          -0.3592575226298186,
          -1.200915218048695,
          0.447692552037646,
          -0.7291164997074,
          -0.0005065946840657674,
          -0.4437346151107805,
          0.15345808437672942,
          0.34710550181778704,
          1.7459026911646645,
          -1.3350888262495035,
          0.5533821815324313,
          0.253181086593142,
          -0.9589033870327761,
          0.4962013516394784,
          -0.16364535978691475,
          -0.5635106687798505,
          0.3874399481008401,
          -0.892203741798904,
          1.1650334107393163,
          0.047543043577904336,
          0.11249070564030511,
          0.09672797186554681,
          -0.8058650376771265,
          -0.583781575627234,
          1.038090201365297,
          -0.20666537242679023,
          -1.048021628407373,
          0.9899524366949004,
          0.7694913735559865,
          -0.22516987366451005,
          0.610271014996182,
          -1.199867464191324,
          -0.31217188679917635,
          0.9675753903319483,
          -2.0023223593090176,
          0.002514579727119917,
          1.4298377798004676,
          -0.9007516727608389,
          1.845629362612709,
          1.014157798755033,
          0.8562826331180223,
          0.1343851276353828,
          -1.5959146246492517,
          -0.0263178124517433,
          -0.8647975627911636,
          0.7729014273210385,
          -0.30570206339584927,
          0.6912959249022436,
          0.05769976468709154,
          0.37649442087166995
         ]
        },
        {
         "line": {
          "color": "rgba(50, 171, 96, 1.0)",
          "dash": "solid",
          "shape": "linear",
          "width": 1.3
         },
         "mode": "lines",
         "name": "C",
         "text": "",
         "type": "scatter",
         "x": [
          0,
          1,
          2,
          3,
          4,
          5,
          6,
          7,
          8,
          9,
          10,
          11,
          12,
          13,
          14,
          15,
          16,
          17,
          18,
          19,
          20,
          21,
          22,
          23,
          24,
          25,
          26,
          27,
          28,
          29,
          30,
          31,
          32,
          33,
          34,
          35,
          36,
          37,
          38,
          39,
          40,
          41,
          42,
          43,
          44,
          45,
          46,
          47,
          48,
          49,
          50,
          51,
          52,
          53,
          54,
          55,
          56,
          57,
          58,
          59,
          60,
          61,
          62,
          63,
          64,
          65,
          66,
          67,
          68,
          69,
          70,
          71,
          72,
          73,
          74,
          75,
          76,
          77,
          78,
          79,
          80,
          81,
          82,
          83,
          84,
          85,
          86,
          87,
          88,
          89,
          90,
          91,
          92,
          93,
          94,
          95,
          96,
          97,
          98,
          99
         ],
         "y": [
          -0.030841936520710423,
          -1.7897465844954101,
          0.33404857729631904,
          0.42957481394269537,
          1.3906679427925948,
          2.292633359034967,
          -0.7649790745758274,
          0.018126786175386135,
          -1.2706645279234314,
          -0.08426149632796881,
          0.07389371271328721,
          0.4243084993669805,
          -0.45464384933490637,
          -0.09473693777734563,
          0.03948991548022201,
          -0.37543131845098937,
          0.36294247945133895,
          0.7316061698865982,
          0.009311538500927507,
          0.01427552739454796,
          0.004373975200186838,
          0.8630383424204059,
          -0.5056348337641644,
          0.5952881803139014,
          -0.8591868262923849,
          -0.30517970825684787,
          0.18242953940181528,
          -0.937798674707065,
          -0.6987263821951233,
          0.5238960257688077,
          -0.48518372156003675,
          0.03146689657984299,
          -1.783826821471204,
          1.8763164275690554,
          1.1024227023493425,
          -1.374424585129283,
          1.327051208825934,
          1.6631033877268955,
          -0.5221836274219149,
          1.1790678399942525,
          0.20449931917440659,
          -0.7351507913998312,
          1.181331806951473,
          -0.6498461989231527,
          -0.561984383721052,
          -0.980958455737706,
          -0.9527489235554565,
          -0.3559026940821522,
          -1.7312463852737618,
          0.6003524590425994,
          -1.0011676580633053,
          0.27599291708270945,
          -1.0562305417097186,
          -1.8426355697171088,
          0.3820952216784,
          -1.3604752246569802,
          -0.3145948157468955,
          -0.7570896887087242,
          0.8407257362979608,
          -0.08334889085136048,
          -1.31888837125692,
          0.7077421503422455,
          1.5082924871792198,
          -0.10394197691061856,
          -0.5812564941032132,
          1.5742308084010164,
          -0.5459628896978114,
          1.182911260415,
          0.31165711404723745,
          0.5411365254188535,
          -0.9152362874791712,
          1.9486794223808281,
          -1.260161129482686,
          0.7143899005700038,
          1.1340389483026478,
          -0.217513783036078,
          -0.8809358145856119,
          0.7646336205622859,
          0.003658402843417368,
          1.0612831411933366,
          1.174055516773016,
          -0.8050002895921485,
          -1.9886559208325512,
          0.4993274729681875,
          -0.3561485718277287,
          -0.012824899034422837,
          0.8102233246215578,
          -0.8346862887134354,
          -1.0459324117012032,
          -0.46180759226587104,
          0.3757891945839428,
          -0.609346617161401,
          -1.318819973101796,
          -1.1054063168652104,
          -2.180036977980027,
          -0.40512129375765205,
          -1.0247128324872112,
          -1.282520781927594,
          0.3039137428223451,
          -1.1538024512803582
         ]
        },
        {
         "line": {
          "color": "rgba(128, 0, 128, 1.0)",
          "dash": "solid",
          "shape": "linear",
          "width": 1.3
         },
         "mode": "lines",
         "name": "D",
         "text": "",
         "type": "scatter",
         "x": [
          0,
          1,
          2,
          3,
          4,
          5,
          6,
          7,
          8,
          9,
          10,
          11,
          12,
          13,
          14,
          15,
          16,
          17,
          18,
          19,
          20,
          21,
          22,
          23,
          24,
          25,
          26,
          27,
          28,
          29,
          30,
          31,
          32,
          33,
          34,
          35,
          36,
          37,
          38,
          39,
          40,
          41,
          42,
          43,
          44,
          45,
          46,
          47,
          48,
          49,
          50,
          51,
          52,
          53,
          54,
          55,
          56,
          57,
          58,
          59,
          60,
          61,
          62,
          63,
          64,
          65,
          66,
          67,
          68,
          69,
          70,
          71,
          72,
          73,
          74,
          75,
          76,
          77,
          78,
          79,
          80,
          81,
          82,
          83,
          84,
          85,
          86,
          87,
          88,
          89,
          90,
          91,
          92,
          93,
          94,
          95,
          96,
          97,
          98,
          99
         ],
         "y": [
          0.06450635021046695,
          0.2596574522833259,
          1.0026143147803723,
          0.561642770158224,
          -0.3427874639302748,
          -0.9508333723957706,
          0.622800588343014,
          0.3125927148018621,
          1.1150879717363051,
          2.455851706634036,
          1.2742268799631815,
          1.154299919220273,
          -0.7942439680024461,
          -0.8644470781202114,
          -0.4168734520579206,
          -1.181803784199834,
          1.238433626346655,
          0.05372197763399264,
          0.34185576901013764,
          -1.4565659440581091,
          -0.1026818959296048,
          0.903541925904409,
          -0.8012528882328342,
          -1.0175719360567876,
          -2.7328299440970025,
          0.7148301356669923,
          -0.8239975679920563,
          -0.7576409674557157,
          -0.5693802501599392,
          -1.0556713820709995,
          -1.3705199522230866,
          -1.3560770882040558,
          0.7309342348001,
          -0.8703792444993791,
          0.09189649227909341,
          -0.3010341429755626,
          -0.3806964790753045,
          -1.2013579543332842,
          1.391184470518253,
          -1.8386086609074515,
          1.6546453153471088,
          -0.38789801126027745,
          0.09767288988891892,
          -1.3640703521993343,
          1.3871828331113376,
          -0.339887497599879,
          0.6410865305435189,
          -0.10596461045588117,
          1.114632580477332,
          0.5887394941232663,
          0.44177588052267247,
          0.12993293999471517,
          -1.001727314146639,
          -0.7320765446444998,
          0.3202318776190888,
          1.163610560377854,
          0.04939823794477496,
          0.04223995029416441,
          -0.14567905816720583,
          0.36920980691186267,
          0.3773260968601199,
          -0.8496724441848096,
          0.2041626662514401,
          0.7618730607445849,
          -1.1507069986281788,
          0.6599107371136214,
          -0.06753929552515554,
          -1.2165069573838576,
          1.8987843998608216,
          -0.31490087940180644,
          0.3660743345820462,
          0.4218107956766632,
          0.3089912594501252,
          0.394789105793771,
          0.4253362614950715,
          1.660226841327557,
          -0.22761012389628388,
          -0.5069865734320621,
          -0.09445619273657074,
          1.1539355107601834,
          2.0500571926687705,
          -0.8948538495499534,
          0.8925199369923554,
          0.16043421919060608,
          0.4190797854967326,
          -1.1605531588840317,
          0.8533946459510025,
          1.0230756283887796,
          1.385085155070938,
          -4.433536853331192,
          -0.4836933956232965,
          -0.13250107547132398,
          -0.17499236765283083,
          -0.026059638174104723,
          -0.13890017489053902,
          -0.1953849616368364,
          0.3124549496360172,
          0.8958394835349717,
          0.009559555697668766,
          -0.6476092790134855
         ]
        }
       ],
       "layout": {
        "legend": {
         "bgcolor": "#F5F6F9",
         "font": {
          "color": "#4D5663"
         }
        },
        "paper_bgcolor": "#F5F6F9",
        "plot_bgcolor": "#F5F6F9",
        "template": {
         "data": {
          "bar": [
           {
            "error_x": {
             "color": "#2a3f5f"
            },
            "error_y": {
             "color": "#2a3f5f"
            },
            "marker": {
             "line": {
              "color": "#E5ECF6",
              "width": 0.5
             }
            },
            "type": "bar"
           }
          ],
          "barpolar": [
           {
            "marker": {
             "line": {
              "color": "#E5ECF6",
              "width": 0.5
             }
            },
            "type": "barpolar"
           }
          ],
          "carpet": [
           {
            "aaxis": {
             "endlinecolor": "#2a3f5f",
             "gridcolor": "white",
             "linecolor": "white",
             "minorgridcolor": "white",
             "startlinecolor": "#2a3f5f"
            },
            "baxis": {
             "endlinecolor": "#2a3f5f",
             "gridcolor": "white",
             "linecolor": "white",
             "minorgridcolor": "white",
             "startlinecolor": "#2a3f5f"
            },
            "type": "carpet"
           }
          ],
          "choropleth": [
           {
            "colorbar": {
             "outlinewidth": 0,
             "ticks": ""
            },
            "type": "choropleth"
           }
          ],
          "contour": [
           {
            "colorbar": {
             "outlinewidth": 0,
             "ticks": ""
            },
            "colorscale": [
             [
              0,
              "#0d0887"
             ],
             [
              0.1111111111111111,
              "#46039f"
             ],
             [
              0.2222222222222222,
              "#7201a8"
             ],
             [
              0.3333333333333333,
              "#9c179e"
             ],
             [
              0.4444444444444444,
              "#bd3786"
             ],
             [
              0.5555555555555556,
              "#d8576b"
             ],
             [
              0.6666666666666666,
              "#ed7953"
             ],
             [
              0.7777777777777778,
              "#fb9f3a"
             ],
             [
              0.8888888888888888,
              "#fdca26"
             ],
             [
              1,
              "#f0f921"
             ]
            ],
            "type": "contour"
           }
          ],
          "contourcarpet": [
           {
            "colorbar": {
             "outlinewidth": 0,
             "ticks": ""
            },
            "type": "contourcarpet"
           }
          ],
          "heatmap": [
           {
            "colorbar": {
             "outlinewidth": 0,
             "ticks": ""
            },
            "colorscale": [
             [
              0,
              "#0d0887"
             ],
             [
              0.1111111111111111,
              "#46039f"
             ],
             [
              0.2222222222222222,
              "#7201a8"
             ],
             [
              0.3333333333333333,
              "#9c179e"
             ],
             [
              0.4444444444444444,
              "#bd3786"
             ],
             [
              0.5555555555555556,
              "#d8576b"
             ],
             [
              0.6666666666666666,
              "#ed7953"
             ],
             [
              0.7777777777777778,
              "#fb9f3a"
             ],
             [
              0.8888888888888888,
              "#fdca26"
             ],
             [
              1,
              "#f0f921"
             ]
            ],
            "type": "heatmap"
           }
          ],
          "heatmapgl": [
           {
            "colorbar": {
             "outlinewidth": 0,
             "ticks": ""
            },
            "colorscale": [
             [
              0,
              "#0d0887"
             ],
             [
              0.1111111111111111,
              "#46039f"
             ],
             [
              0.2222222222222222,
              "#7201a8"
             ],
             [
              0.3333333333333333,
              "#9c179e"
             ],
             [
              0.4444444444444444,
              "#bd3786"
             ],
             [
              0.5555555555555556,
              "#d8576b"
             ],
             [
              0.6666666666666666,
              "#ed7953"
             ],
             [
              0.7777777777777778,
              "#fb9f3a"
             ],
             [
              0.8888888888888888,
              "#fdca26"
             ],
             [
              1,
              "#f0f921"
             ]
            ],
            "type": "heatmapgl"
           }
          ],
          "histogram": [
           {
            "marker": {
             "colorbar": {
              "outlinewidth": 0,
              "ticks": ""
             }
            },
            "type": "histogram"
           }
          ],
          "histogram2d": [
           {
            "colorbar": {
             "outlinewidth": 0,
             "ticks": ""
            },
            "colorscale": [
             [
              0,
              "#0d0887"
             ],
             [
              0.1111111111111111,
              "#46039f"
             ],
             [
              0.2222222222222222,
              "#7201a8"
             ],
             [
              0.3333333333333333,
              "#9c179e"
             ],
             [
              0.4444444444444444,
              "#bd3786"
             ],
             [
              0.5555555555555556,
              "#d8576b"
             ],
             [
              0.6666666666666666,
              "#ed7953"
             ],
             [
              0.7777777777777778,
              "#fb9f3a"
             ],
             [
              0.8888888888888888,
              "#fdca26"
             ],
             [
              1,
              "#f0f921"
             ]
            ],
            "type": "histogram2d"
           }
          ],
          "histogram2dcontour": [
           {
            "colorbar": {
             "outlinewidth": 0,
             "ticks": ""
            },
            "colorscale": [
             [
              0,
              "#0d0887"
             ],
             [
              0.1111111111111111,
              "#46039f"
             ],
             [
              0.2222222222222222,
              "#7201a8"
             ],
             [
              0.3333333333333333,
              "#9c179e"
             ],
             [
              0.4444444444444444,
              "#bd3786"
             ],
             [
              0.5555555555555556,
              "#d8576b"
             ],
             [
              0.6666666666666666,
              "#ed7953"
             ],
             [
              0.7777777777777778,
              "#fb9f3a"
             ],
             [
              0.8888888888888888,
              "#fdca26"
             ],
             [
              1,
              "#f0f921"
             ]
            ],
            "type": "histogram2dcontour"
           }
          ],
          "mesh3d": [
           {
            "colorbar": {
             "outlinewidth": 0,
             "ticks": ""
            },
            "type": "mesh3d"
           }
          ],
          "parcoords": [
           {
            "line": {
             "colorbar": {
              "outlinewidth": 0,
              "ticks": ""
             }
            },
            "type": "parcoords"
           }
          ],
          "pie": [
           {
            "automargin": true,
            "type": "pie"
           }
          ],
          "scatter": [
           {
            "marker": {
             "colorbar": {
              "outlinewidth": 0,
              "ticks": ""
             }
            },
            "type": "scatter"
           }
          ],
          "scatter3d": [
           {
            "line": {
             "colorbar": {
              "outlinewidth": 0,
              "ticks": ""
             }
            },
            "marker": {
             "colorbar": {
              "outlinewidth": 0,
              "ticks": ""
             }
            },
            "type": "scatter3d"
           }
          ],
          "scattercarpet": [
           {
            "marker": {
             "colorbar": {
              "outlinewidth": 0,
              "ticks": ""
             }
            },
            "type": "scattercarpet"
           }
          ],
          "scattergeo": [
           {
            "marker": {
             "colorbar": {
              "outlinewidth": 0,
              "ticks": ""
             }
            },
            "type": "scattergeo"
           }
          ],
          "scattergl": [
           {
            "marker": {
             "colorbar": {
              "outlinewidth": 0,
              "ticks": ""
             }
            },
            "type": "scattergl"
           }
          ],
          "scattermapbox": [
           {
            "marker": {
             "colorbar": {
              "outlinewidth": 0,
              "ticks": ""
             }
            },
            "type": "scattermapbox"
           }
          ],
          "scatterpolar": [
           {
            "marker": {
             "colorbar": {
              "outlinewidth": 0,
              "ticks": ""
             }
            },
            "type": "scatterpolar"
           }
          ],
          "scatterpolargl": [
           {
            "marker": {
             "colorbar": {
              "outlinewidth": 0,
              "ticks": ""
             }
            },
            "type": "scatterpolargl"
           }
          ],
          "scatterternary": [
           {
            "marker": {
             "colorbar": {
              "outlinewidth": 0,
              "ticks": ""
             }
            },
            "type": "scatterternary"
           }
          ],
          "surface": [
           {
            "colorbar": {
             "outlinewidth": 0,
             "ticks": ""
            },
            "colorscale": [
             [
              0,
              "#0d0887"
             ],
             [
              0.1111111111111111,
              "#46039f"
             ],
             [
              0.2222222222222222,
              "#7201a8"
             ],
             [
              0.3333333333333333,
              "#9c179e"
             ],
             [
              0.4444444444444444,
              "#bd3786"
             ],
             [
              0.5555555555555556,
              "#d8576b"
             ],
             [
              0.6666666666666666,
              "#ed7953"
             ],
             [
              0.7777777777777778,
              "#fb9f3a"
             ],
             [
              0.8888888888888888,
              "#fdca26"
             ],
             [
              1,
              "#f0f921"
             ]
            ],
            "type": "surface"
           }
          ],
          "table": [
           {
            "cells": {
             "fill": {
              "color": "#EBF0F8"
             },
             "line": {
              "color": "white"
             }
            },
            "header": {
             "fill": {
              "color": "#C8D4E3"
             },
             "line": {
              "color": "white"
             }
            },
            "type": "table"
           }
          ]
         },
         "layout": {
          "annotationdefaults": {
           "arrowcolor": "#2a3f5f",
           "arrowhead": 0,
           "arrowwidth": 1
          },
          "autotypenumbers": "strict",
          "coloraxis": {
           "colorbar": {
            "outlinewidth": 0,
            "ticks": ""
           }
          },
          "colorscale": {
           "diverging": [
            [
             0,
             "#8e0152"
            ],
            [
             0.1,
             "#c51b7d"
            ],
            [
             0.2,
             "#de77ae"
            ],
            [
             0.3,
             "#f1b6da"
            ],
            [
             0.4,
             "#fde0ef"
            ],
            [
             0.5,
             "#f7f7f7"
            ],
            [
             0.6,
             "#e6f5d0"
            ],
            [
             0.7,
             "#b8e186"
            ],
            [
             0.8,
             "#7fbc41"
            ],
            [
             0.9,
             "#4d9221"
            ],
            [
             1,
             "#276419"
            ]
           ],
           "sequential": [
            [
             0,
             "#0d0887"
            ],
            [
             0.1111111111111111,
             "#46039f"
            ],
            [
             0.2222222222222222,
             "#7201a8"
            ],
            [
             0.3333333333333333,
             "#9c179e"
            ],
            [
             0.4444444444444444,
             "#bd3786"
            ],
            [
             0.5555555555555556,
             "#d8576b"
            ],
            [
             0.6666666666666666,
             "#ed7953"
            ],
            [
             0.7777777777777778,
             "#fb9f3a"
            ],
            [
             0.8888888888888888,
             "#fdca26"
            ],
            [
             1,
             "#f0f921"
            ]
           ],
           "sequentialminus": [
            [
             0,
             "#0d0887"
            ],
            [
             0.1111111111111111,
             "#46039f"
            ],
            [
             0.2222222222222222,
             "#7201a8"
            ],
            [
             0.3333333333333333,
             "#9c179e"
            ],
            [
             0.4444444444444444,
             "#bd3786"
            ],
            [
             0.5555555555555556,
             "#d8576b"
            ],
            [
             0.6666666666666666,
             "#ed7953"
            ],
            [
             0.7777777777777778,
             "#fb9f3a"
            ],
            [
             0.8888888888888888,
             "#fdca26"
            ],
            [
             1,
             "#f0f921"
            ]
           ]
          },
          "colorway": [
           "#636efa",
           "#EF553B",
           "#00cc96",
           "#ab63fa",
           "#FFA15A",
           "#19d3f3",
           "#FF6692",
           "#B6E880",
           "#FF97FF",
           "#FECB52"
          ],
          "font": {
           "color": "#2a3f5f"
          },
          "geo": {
           "bgcolor": "white",
           "lakecolor": "white",
           "landcolor": "#E5ECF6",
           "showlakes": true,
           "showland": true,
           "subunitcolor": "white"
          },
          "hoverlabel": {
           "align": "left"
          },
          "hovermode": "closest",
          "mapbox": {
           "style": "light"
          },
          "paper_bgcolor": "white",
          "plot_bgcolor": "#E5ECF6",
          "polar": {
           "angularaxis": {
            "gridcolor": "white",
            "linecolor": "white",
            "ticks": ""
           },
           "bgcolor": "#E5ECF6",
           "radialaxis": {
            "gridcolor": "white",
            "linecolor": "white",
            "ticks": ""
           }
          },
          "scene": {
           "xaxis": {
            "backgroundcolor": "#E5ECF6",
            "gridcolor": "white",
            "gridwidth": 2,
            "linecolor": "white",
            "showbackground": true,
            "ticks": "",
            "zerolinecolor": "white"
           },
           "yaxis": {
            "backgroundcolor": "#E5ECF6",
            "gridcolor": "white",
            "gridwidth": 2,
            "linecolor": "white",
            "showbackground": true,
            "ticks": "",
            "zerolinecolor": "white"
           },
           "zaxis": {
            "backgroundcolor": "#E5ECF6",
            "gridcolor": "white",
            "gridwidth": 2,
            "linecolor": "white",
            "showbackground": true,
            "ticks": "",
            "zerolinecolor": "white"
           }
          },
          "shapedefaults": {
           "line": {
            "color": "#2a3f5f"
           }
          },
          "ternary": {
           "aaxis": {
            "gridcolor": "white",
            "linecolor": "white",
            "ticks": ""
           },
           "baxis": {
            "gridcolor": "white",
            "linecolor": "white",
            "ticks": ""
           },
           "bgcolor": "#E5ECF6",
           "caxis": {
            "gridcolor": "white",
            "linecolor": "white",
            "ticks": ""
           }
          },
          "title": {
           "x": 0.05
          },
          "xaxis": {
           "automargin": true,
           "gridcolor": "white",
           "linecolor": "white",
           "ticks": "",
           "title": {
            "standoff": 15
           },
           "zerolinecolor": "white",
           "zerolinewidth": 2
          },
          "yaxis": {
           "automargin": true,
           "gridcolor": "white",
           "linecolor": "white",
           "ticks": "",
           "title": {
            "standoff": 15
           },
           "zerolinecolor": "white",
           "zerolinewidth": 2
          }
         }
        },
        "title": {
         "font": {
          "color": "#4D5663"
         }
        },
        "xaxis": {
         "gridcolor": "#E1E5ED",
         "showgrid": true,
         "tickfont": {
          "color": "#4D5663"
         },
         "title": {
          "font": {
           "color": "#4D5663"
          },
          "text": ""
         },
         "zerolinecolor": "#E1E5ED"
        },
        "yaxis": {
         "gridcolor": "#E1E5ED",
         "showgrid": true,
         "tickfont": {
          "color": "#4D5663"
         },
         "title": {
          "font": {
           "color": "#4D5663"
          },
          "text": ""
         },
         "zerolinecolor": "#E1E5ED"
        }
       }
      },
      "text/html": [
       "<div>                            <div id=\"dae9b6cd-d316-43b5-9fba-ace59e33e08e\" class=\"plotly-graph-div\" style=\"height:525px; width:100%;\"></div>            <script type=\"text/javascript\">                require([\"plotly\"], function(Plotly) {                    window.PLOTLYENV=window.PLOTLYENV || {};\n",
       "                    window.PLOTLYENV.BASE_URL='https://plot.ly';                                    if (document.getElementById(\"dae9b6cd-d316-43b5-9fba-ace59e33e08e\")) {                    Plotly.newPlot(                        \"dae9b6cd-d316-43b5-9fba-ace59e33e08e\",                        [{\"line\": {\"color\": \"rgba(255, 153, 51, 1.0)\", \"dash\": \"solid\", \"shape\": \"linear\", \"width\": 1.3}, \"mode\": \"lines\", \"name\": \"A\", \"text\": \"\", \"type\": \"scatter\", \"x\": [0, 1, 2, 3, 4, 5, 6, 7, 8, 9, 10, 11, 12, 13, 14, 15, 16, 17, 18, 19, 20, 21, 22, 23, 24, 25, 26, 27, 28, 29, 30, 31, 32, 33, 34, 35, 36, 37, 38, 39, 40, 41, 42, 43, 44, 45, 46, 47, 48, 49, 50, 51, 52, 53, 54, 55, 56, 57, 58, 59, 60, 61, 62, 63, 64, 65, 66, 67, 68, 69, 70, 71, 72, 73, 74, 75, 76, 77, 78, 79, 80, 81, 82, 83, 84, 85, 86, 87, 88, 89, 90, 91, 92, 93, 94, 95, 96, 97, 98, 99], \"y\": [0.7579169907008975, -0.8161547742370481, -1.0676658944274364, 0.3492477357554279, 0.3390648990769225, 0.09742219321199275, -1.33055230754233, -0.12682840085417438, -0.25128864086285696, 2.1115708861917555, -1.339406042465701, -0.347374481064104, -1.3794015617559465, 0.23290287749488986, 0.41586382257588445, -0.5975340305163689, 0.4086109611770097, 0.5472736736776053, 0.13715433771920907, 1.6032654886085844, -0.5658030710740445, 0.4404707283859412, -0.33724279007117697, -0.060014931120361666, -0.055651249216383945, -0.4050924167306593, -0.5674351170616927, -1.4251007871026502, -0.8995319823222503, 1.1062589503452354, -0.20382072046038863, -0.00010055195585183877, 0.17696378540158358, 0.7588837221366781, 0.2521796539016003, 0.2853964120837876, -0.16277726494508643, -0.38601143344105365, -1.0170379359384103, -0.3466500445108914, -1.5401398016670331, -0.535571994409165, -1.7075842134185053, 0.5066193456872792, -1.1181765596137385, -0.07719660704485161, 1.409412284069849, -0.5131803731783747, 0.14512693266306823, 2.6527272388996663, -0.24086569918403608, 0.5802248482304968, -0.28805074414568127, -0.394646373523225, -0.18229447257056783, -0.7128994194693947, -0.1760753682112523, -0.03307361130640672, 2.8949245145138893, 1.4639937505591218, -1.1787561032149947, 0.5080631908125035, 0.7299226637744624, 1.114971455912152, 0.3670444793270461, -0.8986701651154719, 0.10427824380549375, 0.4926150883989747, 0.50128685010186, 0.1582082959286535, 1.424381376073982, -0.7098519159265192, 1.4343352301075223, 0.8848001165715448, -0.3329297614837509, -0.09449322766838299, -1.4331704424392953, -2.3482367888755706, -0.4313472857630825, -0.6850394753749117, 0.07373150250514426, 1.5035838122434417, -1.0673400959574666, -0.1790479235488818, 0.5497921570738876, -1.6569094570064595, 0.6867680990971627, -1.5246247206548413, 0.06523519227070403, -1.0893939851966334, -0.6426486274421239, -1.1784518458385573, 1.4014189134269002, -1.6916384711818373, 1.2564031949041172, 0.9657713826538739, -0.3086420219503129, -0.3789089791792017, -0.30407623942767387, -0.2204677342273025]}, {\"line\": {\"color\": \"rgba(55, 128, 191, 1.0)\", \"dash\": \"solid\", \"shape\": \"linear\", \"width\": 1.3}, \"mode\": \"lines\", \"name\": \"B\", \"text\": \"\", \"type\": \"scatter\", \"x\": [0, 1, 2, 3, 4, 5, 6, 7, 8, 9, 10, 11, 12, 13, 14, 15, 16, 17, 18, 19, 20, 21, 22, 23, 24, 25, 26, 27, 28, 29, 30, 31, 32, 33, 34, 35, 36, 37, 38, 39, 40, 41, 42, 43, 44, 45, 46, 47, 48, 49, 50, 51, 52, 53, 54, 55, 56, 57, 58, 59, 60, 61, 62, 63, 64, 65, 66, 67, 68, 69, 70, 71, 72, 73, 74, 75, 76, 77, 78, 79, 80, 81, 82, 83, 84, 85, 86, 87, 88, 89, 90, 91, 92, 93, 94, 95, 96, 97, 98, 99], \"y\": [0.5684502720699256, 0.5659318504590108, -0.19827760510486944, 0.32983830760641514, 0.5328299766395032, -2.6070863592723637, -1.498912957132498, 0.38332965794274665, 0.22264884897725187, -1.6528708786582085, -0.49870165714242487, -0.4786542575383392, 1.072071747918505, 0.30981640073313776, 0.8935123571549635, -0.6819292753460076, 0.4576173461547523, 0.44311917309584925, -0.3834133487353966, 0.24893642268377136, 1.5725896637711498, 2.5800447501566977, -0.031174073981630846, -0.527185533592221, 0.25667482105584083, 0.8323331450472324, -0.9568379443293512, 0.14736685052680928, 0.4953577645557132, 1.127463897276566, 0.1979067845689406, 1.5849528203043828, -0.1747631695179193, 0.9573789764398959, 0.47436736441101895, -0.33127828318692876, 0.7471120167436102, -2.022638281155942, 2.0295295993715894, 1.4420055066294375, -1.5295964399797681, 1.8233838388928698, -0.7918471567136929, -1.7277233011088322, -0.625284887925668, 0.8491625546406638, 0.6780281200173601, -0.5141795457121822, -0.3431646995205548, 1.5537837344549983, -0.3592575226298186, -1.200915218048695, 0.447692552037646, -0.7291164997074, -0.0005065946840657674, -0.4437346151107805, 0.15345808437672942, 0.34710550181778704, 1.7459026911646645, -1.3350888262495035, 0.5533821815324313, 0.253181086593142, -0.9589033870327761, 0.4962013516394784, -0.16364535978691475, -0.5635106687798505, 0.3874399481008401, -0.892203741798904, 1.1650334107393163, 0.047543043577904336, 0.11249070564030511, 0.09672797186554681, -0.8058650376771265, -0.583781575627234, 1.038090201365297, -0.20666537242679023, -1.048021628407373, 0.9899524366949004, 0.7694913735559865, -0.22516987366451005, 0.610271014996182, -1.199867464191324, -0.31217188679917635, 0.9675753903319483, -2.0023223593090176, 0.002514579727119917, 1.4298377798004676, -0.9007516727608389, 1.845629362612709, 1.014157798755033, 0.8562826331180223, 0.1343851276353828, -1.5959146246492517, -0.0263178124517433, -0.8647975627911636, 0.7729014273210385, -0.30570206339584927, 0.6912959249022436, 0.05769976468709154, 0.37649442087166995]}, {\"line\": {\"color\": \"rgba(50, 171, 96, 1.0)\", \"dash\": \"solid\", \"shape\": \"linear\", \"width\": 1.3}, \"mode\": \"lines\", \"name\": \"C\", \"text\": \"\", \"type\": \"scatter\", \"x\": [0, 1, 2, 3, 4, 5, 6, 7, 8, 9, 10, 11, 12, 13, 14, 15, 16, 17, 18, 19, 20, 21, 22, 23, 24, 25, 26, 27, 28, 29, 30, 31, 32, 33, 34, 35, 36, 37, 38, 39, 40, 41, 42, 43, 44, 45, 46, 47, 48, 49, 50, 51, 52, 53, 54, 55, 56, 57, 58, 59, 60, 61, 62, 63, 64, 65, 66, 67, 68, 69, 70, 71, 72, 73, 74, 75, 76, 77, 78, 79, 80, 81, 82, 83, 84, 85, 86, 87, 88, 89, 90, 91, 92, 93, 94, 95, 96, 97, 98, 99], \"y\": [-0.030841936520710423, -1.7897465844954101, 0.33404857729631904, 0.42957481394269537, 1.3906679427925948, 2.292633359034967, -0.7649790745758274, 0.018126786175386135, -1.2706645279234314, -0.08426149632796881, 0.07389371271328721, 0.4243084993669805, -0.45464384933490637, -0.09473693777734563, 0.03948991548022201, -0.37543131845098937, 0.36294247945133895, 0.7316061698865982, 0.009311538500927507, 0.01427552739454796, 0.004373975200186838, 0.8630383424204059, -0.5056348337641644, 0.5952881803139014, -0.8591868262923849, -0.30517970825684787, 0.18242953940181528, -0.937798674707065, -0.6987263821951233, 0.5238960257688077, -0.48518372156003675, 0.03146689657984299, -1.783826821471204, 1.8763164275690554, 1.1024227023493425, -1.374424585129283, 1.327051208825934, 1.6631033877268955, -0.5221836274219149, 1.1790678399942525, 0.20449931917440659, -0.7351507913998312, 1.181331806951473, -0.6498461989231527, -0.561984383721052, -0.980958455737706, -0.9527489235554565, -0.3559026940821522, -1.7312463852737618, 0.6003524590425994, -1.0011676580633053, 0.27599291708270945, -1.0562305417097186, -1.8426355697171088, 0.3820952216784, -1.3604752246569802, -0.3145948157468955, -0.7570896887087242, 0.8407257362979608, -0.08334889085136048, -1.31888837125692, 0.7077421503422455, 1.5082924871792198, -0.10394197691061856, -0.5812564941032132, 1.5742308084010164, -0.5459628896978114, 1.182911260415, 0.31165711404723745, 0.5411365254188535, -0.9152362874791712, 1.9486794223808281, -1.260161129482686, 0.7143899005700038, 1.1340389483026478, -0.217513783036078, -0.8809358145856119, 0.7646336205622859, 0.003658402843417368, 1.0612831411933366, 1.174055516773016, -0.8050002895921485, -1.9886559208325512, 0.4993274729681875, -0.3561485718277287, -0.012824899034422837, 0.8102233246215578, -0.8346862887134354, -1.0459324117012032, -0.46180759226587104, 0.3757891945839428, -0.609346617161401, -1.318819973101796, -1.1054063168652104, -2.180036977980027, -0.40512129375765205, -1.0247128324872112, -1.282520781927594, 0.3039137428223451, -1.1538024512803582]}, {\"line\": {\"color\": \"rgba(128, 0, 128, 1.0)\", \"dash\": \"solid\", \"shape\": \"linear\", \"width\": 1.3}, \"mode\": \"lines\", \"name\": \"D\", \"text\": \"\", \"type\": \"scatter\", \"x\": [0, 1, 2, 3, 4, 5, 6, 7, 8, 9, 10, 11, 12, 13, 14, 15, 16, 17, 18, 19, 20, 21, 22, 23, 24, 25, 26, 27, 28, 29, 30, 31, 32, 33, 34, 35, 36, 37, 38, 39, 40, 41, 42, 43, 44, 45, 46, 47, 48, 49, 50, 51, 52, 53, 54, 55, 56, 57, 58, 59, 60, 61, 62, 63, 64, 65, 66, 67, 68, 69, 70, 71, 72, 73, 74, 75, 76, 77, 78, 79, 80, 81, 82, 83, 84, 85, 86, 87, 88, 89, 90, 91, 92, 93, 94, 95, 96, 97, 98, 99], \"y\": [0.06450635021046695, 0.2596574522833259, 1.0026143147803723, 0.561642770158224, -0.3427874639302748, -0.9508333723957706, 0.622800588343014, 0.3125927148018621, 1.1150879717363051, 2.455851706634036, 1.2742268799631815, 1.154299919220273, -0.7942439680024461, -0.8644470781202114, -0.4168734520579206, -1.181803784199834, 1.238433626346655, 0.05372197763399264, 0.34185576901013764, -1.4565659440581091, -0.1026818959296048, 0.903541925904409, -0.8012528882328342, -1.0175719360567876, -2.7328299440970025, 0.7148301356669923, -0.8239975679920563, -0.7576409674557157, -0.5693802501599392, -1.0556713820709995, -1.3705199522230866, -1.3560770882040558, 0.7309342348001, -0.8703792444993791, 0.09189649227909341, -0.3010341429755626, -0.3806964790753045, -1.2013579543332842, 1.391184470518253, -1.8386086609074515, 1.6546453153471088, -0.38789801126027745, 0.09767288988891892, -1.3640703521993343, 1.3871828331113376, -0.339887497599879, 0.6410865305435189, -0.10596461045588117, 1.114632580477332, 0.5887394941232663, 0.44177588052267247, 0.12993293999471517, -1.001727314146639, -0.7320765446444998, 0.3202318776190888, 1.163610560377854, 0.04939823794477496, 0.04223995029416441, -0.14567905816720583, 0.36920980691186267, 0.3773260968601199, -0.8496724441848096, 0.2041626662514401, 0.7618730607445849, -1.1507069986281788, 0.6599107371136214, -0.06753929552515554, -1.2165069573838576, 1.8987843998608216, -0.31490087940180644, 0.3660743345820462, 0.4218107956766632, 0.3089912594501252, 0.394789105793771, 0.4253362614950715, 1.660226841327557, -0.22761012389628388, -0.5069865734320621, -0.09445619273657074, 1.1539355107601834, 2.0500571926687705, -0.8948538495499534, 0.8925199369923554, 0.16043421919060608, 0.4190797854967326, -1.1605531588840317, 0.8533946459510025, 1.0230756283887796, 1.385085155070938, -4.433536853331192, -0.4836933956232965, -0.13250107547132398, -0.17499236765283083, -0.026059638174104723, -0.13890017489053902, -0.1953849616368364, 0.3124549496360172, 0.8958394835349717, 0.009559555697668766, -0.6476092790134855]}],                        {\"legend\": {\"bgcolor\": \"#F5F6F9\", \"font\": {\"color\": \"#4D5663\"}}, \"paper_bgcolor\": \"#F5F6F9\", \"plot_bgcolor\": \"#F5F6F9\", \"template\": {\"data\": {\"bar\": [{\"error_x\": {\"color\": \"#2a3f5f\"}, \"error_y\": {\"color\": \"#2a3f5f\"}, \"marker\": {\"line\": {\"color\": \"#E5ECF6\", \"width\": 0.5}}, \"type\": \"bar\"}], \"barpolar\": [{\"marker\": {\"line\": {\"color\": \"#E5ECF6\", \"width\": 0.5}}, \"type\": \"barpolar\"}], \"carpet\": [{\"aaxis\": {\"endlinecolor\": \"#2a3f5f\", \"gridcolor\": \"white\", \"linecolor\": \"white\", \"minorgridcolor\": \"white\", \"startlinecolor\": \"#2a3f5f\"}, \"baxis\": {\"endlinecolor\": \"#2a3f5f\", \"gridcolor\": \"white\", \"linecolor\": \"white\", \"minorgridcolor\": \"white\", \"startlinecolor\": \"#2a3f5f\"}, \"type\": \"carpet\"}], \"choropleth\": [{\"colorbar\": {\"outlinewidth\": 0, \"ticks\": \"\"}, \"type\": \"choropleth\"}], \"contour\": [{\"colorbar\": {\"outlinewidth\": 0, \"ticks\": \"\"}, \"colorscale\": [[0.0, \"#0d0887\"], [0.1111111111111111, \"#46039f\"], [0.2222222222222222, \"#7201a8\"], [0.3333333333333333, \"#9c179e\"], [0.4444444444444444, \"#bd3786\"], [0.5555555555555556, \"#d8576b\"], [0.6666666666666666, \"#ed7953\"], [0.7777777777777778, \"#fb9f3a\"], [0.8888888888888888, \"#fdca26\"], [1.0, \"#f0f921\"]], \"type\": \"contour\"}], \"contourcarpet\": [{\"colorbar\": {\"outlinewidth\": 0, \"ticks\": \"\"}, \"type\": \"contourcarpet\"}], \"heatmap\": [{\"colorbar\": {\"outlinewidth\": 0, \"ticks\": \"\"}, \"colorscale\": [[0.0, \"#0d0887\"], [0.1111111111111111, \"#46039f\"], [0.2222222222222222, \"#7201a8\"], [0.3333333333333333, \"#9c179e\"], [0.4444444444444444, \"#bd3786\"], [0.5555555555555556, \"#d8576b\"], [0.6666666666666666, \"#ed7953\"], [0.7777777777777778, \"#fb9f3a\"], [0.8888888888888888, \"#fdca26\"], [1.0, \"#f0f921\"]], \"type\": \"heatmap\"}], \"heatmapgl\": [{\"colorbar\": {\"outlinewidth\": 0, \"ticks\": \"\"}, \"colorscale\": [[0.0, \"#0d0887\"], [0.1111111111111111, \"#46039f\"], [0.2222222222222222, \"#7201a8\"], [0.3333333333333333, \"#9c179e\"], [0.4444444444444444, \"#bd3786\"], [0.5555555555555556, \"#d8576b\"], [0.6666666666666666, \"#ed7953\"], [0.7777777777777778, \"#fb9f3a\"], [0.8888888888888888, \"#fdca26\"], [1.0, \"#f0f921\"]], \"type\": \"heatmapgl\"}], \"histogram\": [{\"marker\": {\"colorbar\": {\"outlinewidth\": 0, \"ticks\": \"\"}}, \"type\": \"histogram\"}], \"histogram2d\": [{\"colorbar\": {\"outlinewidth\": 0, \"ticks\": \"\"}, \"colorscale\": [[0.0, \"#0d0887\"], [0.1111111111111111, \"#46039f\"], [0.2222222222222222, \"#7201a8\"], [0.3333333333333333, \"#9c179e\"], [0.4444444444444444, \"#bd3786\"], [0.5555555555555556, \"#d8576b\"], [0.6666666666666666, \"#ed7953\"], [0.7777777777777778, \"#fb9f3a\"], [0.8888888888888888, \"#fdca26\"], [1.0, \"#f0f921\"]], \"type\": \"histogram2d\"}], \"histogram2dcontour\": [{\"colorbar\": {\"outlinewidth\": 0, \"ticks\": \"\"}, \"colorscale\": [[0.0, \"#0d0887\"], [0.1111111111111111, \"#46039f\"], [0.2222222222222222, \"#7201a8\"], [0.3333333333333333, \"#9c179e\"], [0.4444444444444444, \"#bd3786\"], [0.5555555555555556, \"#d8576b\"], [0.6666666666666666, \"#ed7953\"], [0.7777777777777778, \"#fb9f3a\"], [0.8888888888888888, \"#fdca26\"], [1.0, \"#f0f921\"]], \"type\": \"histogram2dcontour\"}], \"mesh3d\": [{\"colorbar\": {\"outlinewidth\": 0, \"ticks\": \"\"}, \"type\": \"mesh3d\"}], \"parcoords\": [{\"line\": {\"colorbar\": {\"outlinewidth\": 0, \"ticks\": \"\"}}, \"type\": \"parcoords\"}], \"pie\": [{\"automargin\": true, \"type\": \"pie\"}], \"scatter\": [{\"marker\": {\"colorbar\": {\"outlinewidth\": 0, \"ticks\": \"\"}}, \"type\": \"scatter\"}], \"scatter3d\": [{\"line\": {\"colorbar\": {\"outlinewidth\": 0, \"ticks\": \"\"}}, \"marker\": {\"colorbar\": {\"outlinewidth\": 0, \"ticks\": \"\"}}, \"type\": \"scatter3d\"}], \"scattercarpet\": [{\"marker\": {\"colorbar\": {\"outlinewidth\": 0, \"ticks\": \"\"}}, \"type\": \"scattercarpet\"}], \"scattergeo\": [{\"marker\": {\"colorbar\": {\"outlinewidth\": 0, \"ticks\": \"\"}}, \"type\": \"scattergeo\"}], \"scattergl\": [{\"marker\": {\"colorbar\": {\"outlinewidth\": 0, \"ticks\": \"\"}}, \"type\": \"scattergl\"}], \"scattermapbox\": [{\"marker\": {\"colorbar\": {\"outlinewidth\": 0, \"ticks\": \"\"}}, \"type\": \"scattermapbox\"}], \"scatterpolar\": [{\"marker\": {\"colorbar\": {\"outlinewidth\": 0, \"ticks\": \"\"}}, \"type\": \"scatterpolar\"}], \"scatterpolargl\": [{\"marker\": {\"colorbar\": {\"outlinewidth\": 0, \"ticks\": \"\"}}, \"type\": \"scatterpolargl\"}], \"scatterternary\": [{\"marker\": {\"colorbar\": {\"outlinewidth\": 0, \"ticks\": \"\"}}, \"type\": \"scatterternary\"}], \"surface\": [{\"colorbar\": {\"outlinewidth\": 0, \"ticks\": \"\"}, \"colorscale\": [[0.0, \"#0d0887\"], [0.1111111111111111, \"#46039f\"], [0.2222222222222222, \"#7201a8\"], [0.3333333333333333, \"#9c179e\"], [0.4444444444444444, \"#bd3786\"], [0.5555555555555556, \"#d8576b\"], [0.6666666666666666, \"#ed7953\"], [0.7777777777777778, \"#fb9f3a\"], [0.8888888888888888, \"#fdca26\"], [1.0, \"#f0f921\"]], \"type\": \"surface\"}], \"table\": [{\"cells\": {\"fill\": {\"color\": \"#EBF0F8\"}, \"line\": {\"color\": \"white\"}}, \"header\": {\"fill\": {\"color\": \"#C8D4E3\"}, \"line\": {\"color\": \"white\"}}, \"type\": \"table\"}]}, \"layout\": {\"annotationdefaults\": {\"arrowcolor\": \"#2a3f5f\", \"arrowhead\": 0, \"arrowwidth\": 1}, \"autotypenumbers\": \"strict\", \"coloraxis\": {\"colorbar\": {\"outlinewidth\": 0, \"ticks\": \"\"}}, \"colorscale\": {\"diverging\": [[0, \"#8e0152\"], [0.1, \"#c51b7d\"], [0.2, \"#de77ae\"], [0.3, \"#f1b6da\"], [0.4, \"#fde0ef\"], [0.5, \"#f7f7f7\"], [0.6, \"#e6f5d0\"], [0.7, \"#b8e186\"], [0.8, \"#7fbc41\"], [0.9, \"#4d9221\"], [1, \"#276419\"]], \"sequential\": [[0.0, \"#0d0887\"], [0.1111111111111111, \"#46039f\"], [0.2222222222222222, \"#7201a8\"], [0.3333333333333333, \"#9c179e\"], [0.4444444444444444, \"#bd3786\"], [0.5555555555555556, \"#d8576b\"], [0.6666666666666666, \"#ed7953\"], [0.7777777777777778, \"#fb9f3a\"], [0.8888888888888888, \"#fdca26\"], [1.0, \"#f0f921\"]], \"sequentialminus\": [[0.0, \"#0d0887\"], [0.1111111111111111, \"#46039f\"], [0.2222222222222222, \"#7201a8\"], [0.3333333333333333, \"#9c179e\"], [0.4444444444444444, \"#bd3786\"], [0.5555555555555556, \"#d8576b\"], [0.6666666666666666, \"#ed7953\"], [0.7777777777777778, \"#fb9f3a\"], [0.8888888888888888, \"#fdca26\"], [1.0, \"#f0f921\"]]}, \"colorway\": [\"#636efa\", \"#EF553B\", \"#00cc96\", \"#ab63fa\", \"#FFA15A\", \"#19d3f3\", \"#FF6692\", \"#B6E880\", \"#FF97FF\", \"#FECB52\"], \"font\": {\"color\": \"#2a3f5f\"}, \"geo\": {\"bgcolor\": \"white\", \"lakecolor\": \"white\", \"landcolor\": \"#E5ECF6\", \"showlakes\": true, \"showland\": true, \"subunitcolor\": \"white\"}, \"hoverlabel\": {\"align\": \"left\"}, \"hovermode\": \"closest\", \"mapbox\": {\"style\": \"light\"}, \"paper_bgcolor\": \"white\", \"plot_bgcolor\": \"#E5ECF6\", \"polar\": {\"angularaxis\": {\"gridcolor\": \"white\", \"linecolor\": \"white\", \"ticks\": \"\"}, \"bgcolor\": \"#E5ECF6\", \"radialaxis\": {\"gridcolor\": \"white\", \"linecolor\": \"white\", \"ticks\": \"\"}}, \"scene\": {\"xaxis\": {\"backgroundcolor\": \"#E5ECF6\", \"gridcolor\": \"white\", \"gridwidth\": 2, \"linecolor\": \"white\", \"showbackground\": true, \"ticks\": \"\", \"zerolinecolor\": \"white\"}, \"yaxis\": {\"backgroundcolor\": \"#E5ECF6\", \"gridcolor\": \"white\", \"gridwidth\": 2, \"linecolor\": \"white\", \"showbackground\": true, \"ticks\": \"\", \"zerolinecolor\": \"white\"}, \"zaxis\": {\"backgroundcolor\": \"#E5ECF6\", \"gridcolor\": \"white\", \"gridwidth\": 2, \"linecolor\": \"white\", \"showbackground\": true, \"ticks\": \"\", \"zerolinecolor\": \"white\"}}, \"shapedefaults\": {\"line\": {\"color\": \"#2a3f5f\"}}, \"ternary\": {\"aaxis\": {\"gridcolor\": \"white\", \"linecolor\": \"white\", \"ticks\": \"\"}, \"baxis\": {\"gridcolor\": \"white\", \"linecolor\": \"white\", \"ticks\": \"\"}, \"bgcolor\": \"#E5ECF6\", \"caxis\": {\"gridcolor\": \"white\", \"linecolor\": \"white\", \"ticks\": \"\"}}, \"title\": {\"x\": 0.05}, \"xaxis\": {\"automargin\": true, \"gridcolor\": \"white\", \"linecolor\": \"white\", \"ticks\": \"\", \"title\": {\"standoff\": 15}, \"zerolinecolor\": \"white\", \"zerolinewidth\": 2}, \"yaxis\": {\"automargin\": true, \"gridcolor\": \"white\", \"linecolor\": \"white\", \"ticks\": \"\", \"title\": {\"standoff\": 15}, \"zerolinecolor\": \"white\", \"zerolinewidth\": 2}}}, \"title\": {\"font\": {\"color\": \"#4D5663\"}}, \"xaxis\": {\"gridcolor\": \"#E1E5ED\", \"showgrid\": true, \"tickfont\": {\"color\": \"#4D5663\"}, \"title\": {\"font\": {\"color\": \"#4D5663\"}, \"text\": \"\"}, \"zerolinecolor\": \"#E1E5ED\"}, \"yaxis\": {\"gridcolor\": \"#E1E5ED\", \"showgrid\": true, \"tickfont\": {\"color\": \"#4D5663\"}, \"title\": {\"font\": {\"color\": \"#4D5663\"}, \"text\": \"\"}, \"zerolinecolor\": \"#E1E5ED\"}},                        {\"showLink\": true, \"linkText\": \"Export to plot.ly\", \"plotlyServerURL\": \"https://plot.ly\", \"responsive\": true}                    ).then(function(){\n",
       "                            \n",
       "var gd = document.getElementById('dae9b6cd-d316-43b5-9fba-ace59e33e08e');\n",
       "var x = new MutationObserver(function (mutations, observer) {{\n",
       "        var display = window.getComputedStyle(gd).display;\n",
       "        if (!display || display === 'none') {{\n",
       "            console.log([gd, 'removed!']);\n",
       "            Plotly.purge(gd);\n",
       "            observer.disconnect();\n",
       "        }}\n",
       "}});\n",
       "\n",
       "// Listen for the removal of the full notebook cells\n",
       "var notebookContainer = gd.closest('#notebook-container');\n",
       "if (notebookContainer) {{\n",
       "    x.observe(notebookContainer, {childList: true});\n",
       "}}\n",
       "\n",
       "// Listen for the clearing of the current output cell\n",
       "var outputEl = gd.closest('.output');\n",
       "if (outputEl) {{\n",
       "    x.observe(outputEl, {childList: true});\n",
       "}}\n",
       "\n",
       "                        })                };                });            </script>        </div>"
      ]
     },
     "metadata": {},
     "output_type": "display_data"
    }
   ],
   "source": [
    "df.iplot()"
   ]
  },
  {
   "cell_type": "code",
   "execution_count": 15,
   "id": "05817651",
   "metadata": {},
   "outputs": [
    {
     "data": {
      "application/vnd.plotly.v1+json": {
       "config": {
        "linkText": "Export to plot.ly",
        "plotlyServerURL": "https://plot.ly",
        "showLink": true
       },
       "data": [
        {
         "line": {
          "color": "rgba(255, 153, 51, 1.0)",
          "dash": "solid",
          "shape": "linear",
          "width": 1.3
         },
         "marker": {
          "size": 10,
          "symbol": "circle"
         },
         "mode": "markers",
         "name": "B",
         "text": "",
         "type": "scatter",
         "x": [
          0.7579169907008975,
          -0.8161547742370481,
          -1.0676658944274364,
          0.3492477357554279,
          0.3390648990769225,
          0.09742219321199275,
          -1.33055230754233,
          -0.12682840085417438,
          -0.25128864086285696,
          2.1115708861917555,
          -1.339406042465701,
          -0.347374481064104,
          -1.3794015617559465,
          0.23290287749488986,
          0.41586382257588445,
          -0.5975340305163689,
          0.4086109611770097,
          0.5472736736776053,
          0.13715433771920907,
          1.6032654886085844,
          -0.5658030710740445,
          0.4404707283859412,
          -0.33724279007117697,
          -0.060014931120361666,
          -0.055651249216383945,
          -0.4050924167306593,
          -0.5674351170616927,
          -1.4251007871026502,
          -0.8995319823222503,
          1.1062589503452354,
          -0.20382072046038863,
          -0.00010055195585183877,
          0.17696378540158358,
          0.7588837221366781,
          0.2521796539016003,
          0.2853964120837876,
          -0.16277726494508643,
          -0.38601143344105365,
          -1.0170379359384103,
          -0.3466500445108914,
          -1.5401398016670331,
          -0.535571994409165,
          -1.7075842134185053,
          0.5066193456872792,
          -1.1181765596137385,
          -0.07719660704485161,
          1.409412284069849,
          -0.5131803731783747,
          0.14512693266306823,
          2.6527272388996663,
          -0.24086569918403608,
          0.5802248482304968,
          -0.28805074414568127,
          -0.394646373523225,
          -0.18229447257056783,
          -0.7128994194693947,
          -0.1760753682112523,
          -0.03307361130640672,
          2.8949245145138893,
          1.4639937505591218,
          -1.1787561032149947,
          0.5080631908125035,
          0.7299226637744624,
          1.114971455912152,
          0.3670444793270461,
          -0.8986701651154719,
          0.10427824380549375,
          0.4926150883989747,
          0.50128685010186,
          0.1582082959286535,
          1.424381376073982,
          -0.7098519159265192,
          1.4343352301075223,
          0.8848001165715448,
          -0.3329297614837509,
          -0.09449322766838299,
          -1.4331704424392953,
          -2.3482367888755706,
          -0.4313472857630825,
          -0.6850394753749117,
          0.07373150250514426,
          1.5035838122434417,
          -1.0673400959574666,
          -0.1790479235488818,
          0.5497921570738876,
          -1.6569094570064595,
          0.6867680990971627,
          -1.5246247206548413,
          0.06523519227070403,
          -1.0893939851966334,
          -0.6426486274421239,
          -1.1784518458385573,
          1.4014189134269002,
          -1.6916384711818373,
          1.2564031949041172,
          0.9657713826538739,
          -0.3086420219503129,
          -0.3789089791792017,
          -0.30407623942767387,
          -0.2204677342273025
         ],
         "y": [
          0.5684502720699256,
          0.5659318504590108,
          -0.19827760510486944,
          0.32983830760641514,
          0.5328299766395032,
          -2.6070863592723637,
          -1.498912957132498,
          0.38332965794274665,
          0.22264884897725187,
          -1.6528708786582085,
          -0.49870165714242487,
          -0.4786542575383392,
          1.072071747918505,
          0.30981640073313776,
          0.8935123571549635,
          -0.6819292753460076,
          0.4576173461547523,
          0.44311917309584925,
          -0.3834133487353966,
          0.24893642268377136,
          1.5725896637711498,
          2.5800447501566977,
          -0.031174073981630846,
          -0.527185533592221,
          0.25667482105584083,
          0.8323331450472324,
          -0.9568379443293512,
          0.14736685052680928,
          0.4953577645557132,
          1.127463897276566,
          0.1979067845689406,
          1.5849528203043828,
          -0.1747631695179193,
          0.9573789764398959,
          0.47436736441101895,
          -0.33127828318692876,
          0.7471120167436102,
          -2.022638281155942,
          2.0295295993715894,
          1.4420055066294375,
          -1.5295964399797681,
          1.8233838388928698,
          -0.7918471567136929,
          -1.7277233011088322,
          -0.625284887925668,
          0.8491625546406638,
          0.6780281200173601,
          -0.5141795457121822,
          -0.3431646995205548,
          1.5537837344549983,
          -0.3592575226298186,
          -1.200915218048695,
          0.447692552037646,
          -0.7291164997074,
          -0.0005065946840657674,
          -0.4437346151107805,
          0.15345808437672942,
          0.34710550181778704,
          1.7459026911646645,
          -1.3350888262495035,
          0.5533821815324313,
          0.253181086593142,
          -0.9589033870327761,
          0.4962013516394784,
          -0.16364535978691475,
          -0.5635106687798505,
          0.3874399481008401,
          -0.892203741798904,
          1.1650334107393163,
          0.047543043577904336,
          0.11249070564030511,
          0.09672797186554681,
          -0.8058650376771265,
          -0.583781575627234,
          1.038090201365297,
          -0.20666537242679023,
          -1.048021628407373,
          0.9899524366949004,
          0.7694913735559865,
          -0.22516987366451005,
          0.610271014996182,
          -1.199867464191324,
          -0.31217188679917635,
          0.9675753903319483,
          -2.0023223593090176,
          0.002514579727119917,
          1.4298377798004676,
          -0.9007516727608389,
          1.845629362612709,
          1.014157798755033,
          0.8562826331180223,
          0.1343851276353828,
          -1.5959146246492517,
          -0.0263178124517433,
          -0.8647975627911636,
          0.7729014273210385,
          -0.30570206339584927,
          0.6912959249022436,
          0.05769976468709154,
          0.37649442087166995
         ]
        }
       ],
       "layout": {
        "legend": {
         "bgcolor": "#F5F6F9",
         "font": {
          "color": "#4D5663"
         }
        },
        "paper_bgcolor": "#F5F6F9",
        "plot_bgcolor": "#F5F6F9",
        "template": {
         "data": {
          "bar": [
           {
            "error_x": {
             "color": "#2a3f5f"
            },
            "error_y": {
             "color": "#2a3f5f"
            },
            "marker": {
             "line": {
              "color": "#E5ECF6",
              "width": 0.5
             }
            },
            "type": "bar"
           }
          ],
          "barpolar": [
           {
            "marker": {
             "line": {
              "color": "#E5ECF6",
              "width": 0.5
             }
            },
            "type": "barpolar"
           }
          ],
          "carpet": [
           {
            "aaxis": {
             "endlinecolor": "#2a3f5f",
             "gridcolor": "white",
             "linecolor": "white",
             "minorgridcolor": "white",
             "startlinecolor": "#2a3f5f"
            },
            "baxis": {
             "endlinecolor": "#2a3f5f",
             "gridcolor": "white",
             "linecolor": "white",
             "minorgridcolor": "white",
             "startlinecolor": "#2a3f5f"
            },
            "type": "carpet"
           }
          ],
          "choropleth": [
           {
            "colorbar": {
             "outlinewidth": 0,
             "ticks": ""
            },
            "type": "choropleth"
           }
          ],
          "contour": [
           {
            "colorbar": {
             "outlinewidth": 0,
             "ticks": ""
            },
            "colorscale": [
             [
              0,
              "#0d0887"
             ],
             [
              0.1111111111111111,
              "#46039f"
             ],
             [
              0.2222222222222222,
              "#7201a8"
             ],
             [
              0.3333333333333333,
              "#9c179e"
             ],
             [
              0.4444444444444444,
              "#bd3786"
             ],
             [
              0.5555555555555556,
              "#d8576b"
             ],
             [
              0.6666666666666666,
              "#ed7953"
             ],
             [
              0.7777777777777778,
              "#fb9f3a"
             ],
             [
              0.8888888888888888,
              "#fdca26"
             ],
             [
              1,
              "#f0f921"
             ]
            ],
            "type": "contour"
           }
          ],
          "contourcarpet": [
           {
            "colorbar": {
             "outlinewidth": 0,
             "ticks": ""
            },
            "type": "contourcarpet"
           }
          ],
          "heatmap": [
           {
            "colorbar": {
             "outlinewidth": 0,
             "ticks": ""
            },
            "colorscale": [
             [
              0,
              "#0d0887"
             ],
             [
              0.1111111111111111,
              "#46039f"
             ],
             [
              0.2222222222222222,
              "#7201a8"
             ],
             [
              0.3333333333333333,
              "#9c179e"
             ],
             [
              0.4444444444444444,
              "#bd3786"
             ],
             [
              0.5555555555555556,
              "#d8576b"
             ],
             [
              0.6666666666666666,
              "#ed7953"
             ],
             [
              0.7777777777777778,
              "#fb9f3a"
             ],
             [
              0.8888888888888888,
              "#fdca26"
             ],
             [
              1,
              "#f0f921"
             ]
            ],
            "type": "heatmap"
           }
          ],
          "heatmapgl": [
           {
            "colorbar": {
             "outlinewidth": 0,
             "ticks": ""
            },
            "colorscale": [
             [
              0,
              "#0d0887"
             ],
             [
              0.1111111111111111,
              "#46039f"
             ],
             [
              0.2222222222222222,
              "#7201a8"
             ],
             [
              0.3333333333333333,
              "#9c179e"
             ],
             [
              0.4444444444444444,
              "#bd3786"
             ],
             [
              0.5555555555555556,
              "#d8576b"
             ],
             [
              0.6666666666666666,
              "#ed7953"
             ],
             [
              0.7777777777777778,
              "#fb9f3a"
             ],
             [
              0.8888888888888888,
              "#fdca26"
             ],
             [
              1,
              "#f0f921"
             ]
            ],
            "type": "heatmapgl"
           }
          ],
          "histogram": [
           {
            "marker": {
             "colorbar": {
              "outlinewidth": 0,
              "ticks": ""
             }
            },
            "type": "histogram"
           }
          ],
          "histogram2d": [
           {
            "colorbar": {
             "outlinewidth": 0,
             "ticks": ""
            },
            "colorscale": [
             [
              0,
              "#0d0887"
             ],
             [
              0.1111111111111111,
              "#46039f"
             ],
             [
              0.2222222222222222,
              "#7201a8"
             ],
             [
              0.3333333333333333,
              "#9c179e"
             ],
             [
              0.4444444444444444,
              "#bd3786"
             ],
             [
              0.5555555555555556,
              "#d8576b"
             ],
             [
              0.6666666666666666,
              "#ed7953"
             ],
             [
              0.7777777777777778,
              "#fb9f3a"
             ],
             [
              0.8888888888888888,
              "#fdca26"
             ],
             [
              1,
              "#f0f921"
             ]
            ],
            "type": "histogram2d"
           }
          ],
          "histogram2dcontour": [
           {
            "colorbar": {
             "outlinewidth": 0,
             "ticks": ""
            },
            "colorscale": [
             [
              0,
              "#0d0887"
             ],
             [
              0.1111111111111111,
              "#46039f"
             ],
             [
              0.2222222222222222,
              "#7201a8"
             ],
             [
              0.3333333333333333,
              "#9c179e"
             ],
             [
              0.4444444444444444,
              "#bd3786"
             ],
             [
              0.5555555555555556,
              "#d8576b"
             ],
             [
              0.6666666666666666,
              "#ed7953"
             ],
             [
              0.7777777777777778,
              "#fb9f3a"
             ],
             [
              0.8888888888888888,
              "#fdca26"
             ],
             [
              1,
              "#f0f921"
             ]
            ],
            "type": "histogram2dcontour"
           }
          ],
          "mesh3d": [
           {
            "colorbar": {
             "outlinewidth": 0,
             "ticks": ""
            },
            "type": "mesh3d"
           }
          ],
          "parcoords": [
           {
            "line": {
             "colorbar": {
              "outlinewidth": 0,
              "ticks": ""
             }
            },
            "type": "parcoords"
           }
          ],
          "pie": [
           {
            "automargin": true,
            "type": "pie"
           }
          ],
          "scatter": [
           {
            "marker": {
             "colorbar": {
              "outlinewidth": 0,
              "ticks": ""
             }
            },
            "type": "scatter"
           }
          ],
          "scatter3d": [
           {
            "line": {
             "colorbar": {
              "outlinewidth": 0,
              "ticks": ""
             }
            },
            "marker": {
             "colorbar": {
              "outlinewidth": 0,
              "ticks": ""
             }
            },
            "type": "scatter3d"
           }
          ],
          "scattercarpet": [
           {
            "marker": {
             "colorbar": {
              "outlinewidth": 0,
              "ticks": ""
             }
            },
            "type": "scattercarpet"
           }
          ],
          "scattergeo": [
           {
            "marker": {
             "colorbar": {
              "outlinewidth": 0,
              "ticks": ""
             }
            },
            "type": "scattergeo"
           }
          ],
          "scattergl": [
           {
            "marker": {
             "colorbar": {
              "outlinewidth": 0,
              "ticks": ""
             }
            },
            "type": "scattergl"
           }
          ],
          "scattermapbox": [
           {
            "marker": {
             "colorbar": {
              "outlinewidth": 0,
              "ticks": ""
             }
            },
            "type": "scattermapbox"
           }
          ],
          "scatterpolar": [
           {
            "marker": {
             "colorbar": {
              "outlinewidth": 0,
              "ticks": ""
             }
            },
            "type": "scatterpolar"
           }
          ],
          "scatterpolargl": [
           {
            "marker": {
             "colorbar": {
              "outlinewidth": 0,
              "ticks": ""
             }
            },
            "type": "scatterpolargl"
           }
          ],
          "scatterternary": [
           {
            "marker": {
             "colorbar": {
              "outlinewidth": 0,
              "ticks": ""
             }
            },
            "type": "scatterternary"
           }
          ],
          "surface": [
           {
            "colorbar": {
             "outlinewidth": 0,
             "ticks": ""
            },
            "colorscale": [
             [
              0,
              "#0d0887"
             ],
             [
              0.1111111111111111,
              "#46039f"
             ],
             [
              0.2222222222222222,
              "#7201a8"
             ],
             [
              0.3333333333333333,
              "#9c179e"
             ],
             [
              0.4444444444444444,
              "#bd3786"
             ],
             [
              0.5555555555555556,
              "#d8576b"
             ],
             [
              0.6666666666666666,
              "#ed7953"
             ],
             [
              0.7777777777777778,
              "#fb9f3a"
             ],
             [
              0.8888888888888888,
              "#fdca26"
             ],
             [
              1,
              "#f0f921"
             ]
            ],
            "type": "surface"
           }
          ],
          "table": [
           {
            "cells": {
             "fill": {
              "color": "#EBF0F8"
             },
             "line": {
              "color": "white"
             }
            },
            "header": {
             "fill": {
              "color": "#C8D4E3"
             },
             "line": {
              "color": "white"
             }
            },
            "type": "table"
           }
          ]
         },
         "layout": {
          "annotationdefaults": {
           "arrowcolor": "#2a3f5f",
           "arrowhead": 0,
           "arrowwidth": 1
          },
          "autotypenumbers": "strict",
          "coloraxis": {
           "colorbar": {
            "outlinewidth": 0,
            "ticks": ""
           }
          },
          "colorscale": {
           "diverging": [
            [
             0,
             "#8e0152"
            ],
            [
             0.1,
             "#c51b7d"
            ],
            [
             0.2,
             "#de77ae"
            ],
            [
             0.3,
             "#f1b6da"
            ],
            [
             0.4,
             "#fde0ef"
            ],
            [
             0.5,
             "#f7f7f7"
            ],
            [
             0.6,
             "#e6f5d0"
            ],
            [
             0.7,
             "#b8e186"
            ],
            [
             0.8,
             "#7fbc41"
            ],
            [
             0.9,
             "#4d9221"
            ],
            [
             1,
             "#276419"
            ]
           ],
           "sequential": [
            [
             0,
             "#0d0887"
            ],
            [
             0.1111111111111111,
             "#46039f"
            ],
            [
             0.2222222222222222,
             "#7201a8"
            ],
            [
             0.3333333333333333,
             "#9c179e"
            ],
            [
             0.4444444444444444,
             "#bd3786"
            ],
            [
             0.5555555555555556,
             "#d8576b"
            ],
            [
             0.6666666666666666,
             "#ed7953"
            ],
            [
             0.7777777777777778,
             "#fb9f3a"
            ],
            [
             0.8888888888888888,
             "#fdca26"
            ],
            [
             1,
             "#f0f921"
            ]
           ],
           "sequentialminus": [
            [
             0,
             "#0d0887"
            ],
            [
             0.1111111111111111,
             "#46039f"
            ],
            [
             0.2222222222222222,
             "#7201a8"
            ],
            [
             0.3333333333333333,
             "#9c179e"
            ],
            [
             0.4444444444444444,
             "#bd3786"
            ],
            [
             0.5555555555555556,
             "#d8576b"
            ],
            [
             0.6666666666666666,
             "#ed7953"
            ],
            [
             0.7777777777777778,
             "#fb9f3a"
            ],
            [
             0.8888888888888888,
             "#fdca26"
            ],
            [
             1,
             "#f0f921"
            ]
           ]
          },
          "colorway": [
           "#636efa",
           "#EF553B",
           "#00cc96",
           "#ab63fa",
           "#FFA15A",
           "#19d3f3",
           "#FF6692",
           "#B6E880",
           "#FF97FF",
           "#FECB52"
          ],
          "font": {
           "color": "#2a3f5f"
          },
          "geo": {
           "bgcolor": "white",
           "lakecolor": "white",
           "landcolor": "#E5ECF6",
           "showlakes": true,
           "showland": true,
           "subunitcolor": "white"
          },
          "hoverlabel": {
           "align": "left"
          },
          "hovermode": "closest",
          "mapbox": {
           "style": "light"
          },
          "paper_bgcolor": "white",
          "plot_bgcolor": "#E5ECF6",
          "polar": {
           "angularaxis": {
            "gridcolor": "white",
            "linecolor": "white",
            "ticks": ""
           },
           "bgcolor": "#E5ECF6",
           "radialaxis": {
            "gridcolor": "white",
            "linecolor": "white",
            "ticks": ""
           }
          },
          "scene": {
           "xaxis": {
            "backgroundcolor": "#E5ECF6",
            "gridcolor": "white",
            "gridwidth": 2,
            "linecolor": "white",
            "showbackground": true,
            "ticks": "",
            "zerolinecolor": "white"
           },
           "yaxis": {
            "backgroundcolor": "#E5ECF6",
            "gridcolor": "white",
            "gridwidth": 2,
            "linecolor": "white",
            "showbackground": true,
            "ticks": "",
            "zerolinecolor": "white"
           },
           "zaxis": {
            "backgroundcolor": "#E5ECF6",
            "gridcolor": "white",
            "gridwidth": 2,
            "linecolor": "white",
            "showbackground": true,
            "ticks": "",
            "zerolinecolor": "white"
           }
          },
          "shapedefaults": {
           "line": {
            "color": "#2a3f5f"
           }
          },
          "ternary": {
           "aaxis": {
            "gridcolor": "white",
            "linecolor": "white",
            "ticks": ""
           },
           "baxis": {
            "gridcolor": "white",
            "linecolor": "white",
            "ticks": ""
           },
           "bgcolor": "#E5ECF6",
           "caxis": {
            "gridcolor": "white",
            "linecolor": "white",
            "ticks": ""
           }
          },
          "title": {
           "x": 0.05
          },
          "xaxis": {
           "automargin": true,
           "gridcolor": "white",
           "linecolor": "white",
           "ticks": "",
           "title": {
            "standoff": 15
           },
           "zerolinecolor": "white",
           "zerolinewidth": 2
          },
          "yaxis": {
           "automargin": true,
           "gridcolor": "white",
           "linecolor": "white",
           "ticks": "",
           "title": {
            "standoff": 15
           },
           "zerolinecolor": "white",
           "zerolinewidth": 2
          }
         }
        },
        "title": {
         "font": {
          "color": "#4D5663"
         }
        },
        "xaxis": {
         "gridcolor": "#E1E5ED",
         "showgrid": true,
         "tickfont": {
          "color": "#4D5663"
         },
         "title": {
          "font": {
           "color": "#4D5663"
          },
          "text": ""
         },
         "zerolinecolor": "#E1E5ED"
        },
        "yaxis": {
         "gridcolor": "#E1E5ED",
         "showgrid": true,
         "tickfont": {
          "color": "#4D5663"
         },
         "title": {
          "font": {
           "color": "#4D5663"
          },
          "text": ""
         },
         "zerolinecolor": "#E1E5ED"
        }
       }
      },
      "text/html": [
       "<div>                            <div id=\"b0fe0283-7e84-43c3-9ec6-64f4fc241677\" class=\"plotly-graph-div\" style=\"height:525px; width:100%;\"></div>            <script type=\"text/javascript\">                require([\"plotly\"], function(Plotly) {                    window.PLOTLYENV=window.PLOTLYENV || {};\n",
       "                    window.PLOTLYENV.BASE_URL='https://plot.ly';                                    if (document.getElementById(\"b0fe0283-7e84-43c3-9ec6-64f4fc241677\")) {                    Plotly.newPlot(                        \"b0fe0283-7e84-43c3-9ec6-64f4fc241677\",                        [{\"line\": {\"color\": \"rgba(255, 153, 51, 1.0)\", \"dash\": \"solid\", \"shape\": \"linear\", \"width\": 1.3}, \"marker\": {\"size\": 10, \"symbol\": \"circle\"}, \"mode\": \"markers\", \"name\": \"B\", \"text\": \"\", \"type\": \"scatter\", \"x\": [0.7579169907008975, -0.8161547742370481, -1.0676658944274364, 0.3492477357554279, 0.3390648990769225, 0.09742219321199275, -1.33055230754233, -0.12682840085417438, -0.25128864086285696, 2.1115708861917555, -1.339406042465701, -0.347374481064104, -1.3794015617559465, 0.23290287749488986, 0.41586382257588445, -0.5975340305163689, 0.4086109611770097, 0.5472736736776053, 0.13715433771920907, 1.6032654886085844, -0.5658030710740445, 0.4404707283859412, -0.33724279007117697, -0.060014931120361666, -0.055651249216383945, -0.4050924167306593, -0.5674351170616927, -1.4251007871026502, -0.8995319823222503, 1.1062589503452354, -0.20382072046038863, -0.00010055195585183877, 0.17696378540158358, 0.7588837221366781, 0.2521796539016003, 0.2853964120837876, -0.16277726494508643, -0.38601143344105365, -1.0170379359384103, -0.3466500445108914, -1.5401398016670331, -0.535571994409165, -1.7075842134185053, 0.5066193456872792, -1.1181765596137385, -0.07719660704485161, 1.409412284069849, -0.5131803731783747, 0.14512693266306823, 2.6527272388996663, -0.24086569918403608, 0.5802248482304968, -0.28805074414568127, -0.394646373523225, -0.18229447257056783, -0.7128994194693947, -0.1760753682112523, -0.03307361130640672, 2.8949245145138893, 1.4639937505591218, -1.1787561032149947, 0.5080631908125035, 0.7299226637744624, 1.114971455912152, 0.3670444793270461, -0.8986701651154719, 0.10427824380549375, 0.4926150883989747, 0.50128685010186, 0.1582082959286535, 1.424381376073982, -0.7098519159265192, 1.4343352301075223, 0.8848001165715448, -0.3329297614837509, -0.09449322766838299, -1.4331704424392953, -2.3482367888755706, -0.4313472857630825, -0.6850394753749117, 0.07373150250514426, 1.5035838122434417, -1.0673400959574666, -0.1790479235488818, 0.5497921570738876, -1.6569094570064595, 0.6867680990971627, -1.5246247206548413, 0.06523519227070403, -1.0893939851966334, -0.6426486274421239, -1.1784518458385573, 1.4014189134269002, -1.6916384711818373, 1.2564031949041172, 0.9657713826538739, -0.3086420219503129, -0.3789089791792017, -0.30407623942767387, -0.2204677342273025], \"y\": [0.5684502720699256, 0.5659318504590108, -0.19827760510486944, 0.32983830760641514, 0.5328299766395032, -2.6070863592723637, -1.498912957132498, 0.38332965794274665, 0.22264884897725187, -1.6528708786582085, -0.49870165714242487, -0.4786542575383392, 1.072071747918505, 0.30981640073313776, 0.8935123571549635, -0.6819292753460076, 0.4576173461547523, 0.44311917309584925, -0.3834133487353966, 0.24893642268377136, 1.5725896637711498, 2.5800447501566977, -0.031174073981630846, -0.527185533592221, 0.25667482105584083, 0.8323331450472324, -0.9568379443293512, 0.14736685052680928, 0.4953577645557132, 1.127463897276566, 0.1979067845689406, 1.5849528203043828, -0.1747631695179193, 0.9573789764398959, 0.47436736441101895, -0.33127828318692876, 0.7471120167436102, -2.022638281155942, 2.0295295993715894, 1.4420055066294375, -1.5295964399797681, 1.8233838388928698, -0.7918471567136929, -1.7277233011088322, -0.625284887925668, 0.8491625546406638, 0.6780281200173601, -0.5141795457121822, -0.3431646995205548, 1.5537837344549983, -0.3592575226298186, -1.200915218048695, 0.447692552037646, -0.7291164997074, -0.0005065946840657674, -0.4437346151107805, 0.15345808437672942, 0.34710550181778704, 1.7459026911646645, -1.3350888262495035, 0.5533821815324313, 0.253181086593142, -0.9589033870327761, 0.4962013516394784, -0.16364535978691475, -0.5635106687798505, 0.3874399481008401, -0.892203741798904, 1.1650334107393163, 0.047543043577904336, 0.11249070564030511, 0.09672797186554681, -0.8058650376771265, -0.583781575627234, 1.038090201365297, -0.20666537242679023, -1.048021628407373, 0.9899524366949004, 0.7694913735559865, -0.22516987366451005, 0.610271014996182, -1.199867464191324, -0.31217188679917635, 0.9675753903319483, -2.0023223593090176, 0.002514579727119917, 1.4298377798004676, -0.9007516727608389, 1.845629362612709, 1.014157798755033, 0.8562826331180223, 0.1343851276353828, -1.5959146246492517, -0.0263178124517433, -0.8647975627911636, 0.7729014273210385, -0.30570206339584927, 0.6912959249022436, 0.05769976468709154, 0.37649442087166995]}],                        {\"legend\": {\"bgcolor\": \"#F5F6F9\", \"font\": {\"color\": \"#4D5663\"}}, \"paper_bgcolor\": \"#F5F6F9\", \"plot_bgcolor\": \"#F5F6F9\", \"template\": {\"data\": {\"bar\": [{\"error_x\": {\"color\": \"#2a3f5f\"}, \"error_y\": {\"color\": \"#2a3f5f\"}, \"marker\": {\"line\": {\"color\": \"#E5ECF6\", \"width\": 0.5}}, \"type\": \"bar\"}], \"barpolar\": [{\"marker\": {\"line\": {\"color\": \"#E5ECF6\", \"width\": 0.5}}, \"type\": \"barpolar\"}], \"carpet\": [{\"aaxis\": {\"endlinecolor\": \"#2a3f5f\", \"gridcolor\": \"white\", \"linecolor\": \"white\", \"minorgridcolor\": \"white\", \"startlinecolor\": \"#2a3f5f\"}, \"baxis\": {\"endlinecolor\": \"#2a3f5f\", \"gridcolor\": \"white\", \"linecolor\": \"white\", \"minorgridcolor\": \"white\", \"startlinecolor\": \"#2a3f5f\"}, \"type\": \"carpet\"}], \"choropleth\": [{\"colorbar\": {\"outlinewidth\": 0, \"ticks\": \"\"}, \"type\": \"choropleth\"}], \"contour\": [{\"colorbar\": {\"outlinewidth\": 0, \"ticks\": \"\"}, \"colorscale\": [[0.0, \"#0d0887\"], [0.1111111111111111, \"#46039f\"], [0.2222222222222222, \"#7201a8\"], [0.3333333333333333, \"#9c179e\"], [0.4444444444444444, \"#bd3786\"], [0.5555555555555556, \"#d8576b\"], [0.6666666666666666, \"#ed7953\"], [0.7777777777777778, \"#fb9f3a\"], [0.8888888888888888, \"#fdca26\"], [1.0, \"#f0f921\"]], \"type\": \"contour\"}], \"contourcarpet\": [{\"colorbar\": {\"outlinewidth\": 0, \"ticks\": \"\"}, \"type\": \"contourcarpet\"}], \"heatmap\": [{\"colorbar\": {\"outlinewidth\": 0, \"ticks\": \"\"}, \"colorscale\": [[0.0, \"#0d0887\"], [0.1111111111111111, \"#46039f\"], [0.2222222222222222, \"#7201a8\"], [0.3333333333333333, \"#9c179e\"], [0.4444444444444444, \"#bd3786\"], [0.5555555555555556, \"#d8576b\"], [0.6666666666666666, \"#ed7953\"], [0.7777777777777778, \"#fb9f3a\"], [0.8888888888888888, \"#fdca26\"], [1.0, \"#f0f921\"]], \"type\": \"heatmap\"}], \"heatmapgl\": [{\"colorbar\": {\"outlinewidth\": 0, \"ticks\": \"\"}, \"colorscale\": [[0.0, \"#0d0887\"], [0.1111111111111111, \"#46039f\"], [0.2222222222222222, \"#7201a8\"], [0.3333333333333333, \"#9c179e\"], [0.4444444444444444, \"#bd3786\"], [0.5555555555555556, \"#d8576b\"], [0.6666666666666666, \"#ed7953\"], [0.7777777777777778, \"#fb9f3a\"], [0.8888888888888888, \"#fdca26\"], [1.0, \"#f0f921\"]], \"type\": \"heatmapgl\"}], \"histogram\": [{\"marker\": {\"colorbar\": {\"outlinewidth\": 0, \"ticks\": \"\"}}, \"type\": \"histogram\"}], \"histogram2d\": [{\"colorbar\": {\"outlinewidth\": 0, \"ticks\": \"\"}, \"colorscale\": [[0.0, \"#0d0887\"], [0.1111111111111111, \"#46039f\"], [0.2222222222222222, \"#7201a8\"], [0.3333333333333333, \"#9c179e\"], [0.4444444444444444, \"#bd3786\"], [0.5555555555555556, \"#d8576b\"], [0.6666666666666666, \"#ed7953\"], [0.7777777777777778, \"#fb9f3a\"], [0.8888888888888888, \"#fdca26\"], [1.0, \"#f0f921\"]], \"type\": \"histogram2d\"}], \"histogram2dcontour\": [{\"colorbar\": {\"outlinewidth\": 0, \"ticks\": \"\"}, \"colorscale\": [[0.0, \"#0d0887\"], [0.1111111111111111, \"#46039f\"], [0.2222222222222222, \"#7201a8\"], [0.3333333333333333, \"#9c179e\"], [0.4444444444444444, \"#bd3786\"], [0.5555555555555556, \"#d8576b\"], [0.6666666666666666, \"#ed7953\"], [0.7777777777777778, \"#fb9f3a\"], [0.8888888888888888, \"#fdca26\"], [1.0, \"#f0f921\"]], \"type\": \"histogram2dcontour\"}], \"mesh3d\": [{\"colorbar\": {\"outlinewidth\": 0, \"ticks\": \"\"}, \"type\": \"mesh3d\"}], \"parcoords\": [{\"line\": {\"colorbar\": {\"outlinewidth\": 0, \"ticks\": \"\"}}, \"type\": \"parcoords\"}], \"pie\": [{\"automargin\": true, \"type\": \"pie\"}], \"scatter\": [{\"marker\": {\"colorbar\": {\"outlinewidth\": 0, \"ticks\": \"\"}}, \"type\": \"scatter\"}], \"scatter3d\": [{\"line\": {\"colorbar\": {\"outlinewidth\": 0, \"ticks\": \"\"}}, \"marker\": {\"colorbar\": {\"outlinewidth\": 0, \"ticks\": \"\"}}, \"type\": \"scatter3d\"}], \"scattercarpet\": [{\"marker\": {\"colorbar\": {\"outlinewidth\": 0, \"ticks\": \"\"}}, \"type\": \"scattercarpet\"}], \"scattergeo\": [{\"marker\": {\"colorbar\": {\"outlinewidth\": 0, \"ticks\": \"\"}}, \"type\": \"scattergeo\"}], \"scattergl\": [{\"marker\": {\"colorbar\": {\"outlinewidth\": 0, \"ticks\": \"\"}}, \"type\": \"scattergl\"}], \"scattermapbox\": [{\"marker\": {\"colorbar\": {\"outlinewidth\": 0, \"ticks\": \"\"}}, \"type\": \"scattermapbox\"}], \"scatterpolar\": [{\"marker\": {\"colorbar\": {\"outlinewidth\": 0, \"ticks\": \"\"}}, \"type\": \"scatterpolar\"}], \"scatterpolargl\": [{\"marker\": {\"colorbar\": {\"outlinewidth\": 0, \"ticks\": \"\"}}, \"type\": \"scatterpolargl\"}], \"scatterternary\": [{\"marker\": {\"colorbar\": {\"outlinewidth\": 0, \"ticks\": \"\"}}, \"type\": \"scatterternary\"}], \"surface\": [{\"colorbar\": {\"outlinewidth\": 0, \"ticks\": \"\"}, \"colorscale\": [[0.0, \"#0d0887\"], [0.1111111111111111, \"#46039f\"], [0.2222222222222222, \"#7201a8\"], [0.3333333333333333, \"#9c179e\"], [0.4444444444444444, \"#bd3786\"], [0.5555555555555556, \"#d8576b\"], [0.6666666666666666, \"#ed7953\"], [0.7777777777777778, \"#fb9f3a\"], [0.8888888888888888, \"#fdca26\"], [1.0, \"#f0f921\"]], \"type\": \"surface\"}], \"table\": [{\"cells\": {\"fill\": {\"color\": \"#EBF0F8\"}, \"line\": {\"color\": \"white\"}}, \"header\": {\"fill\": {\"color\": \"#C8D4E3\"}, \"line\": {\"color\": \"white\"}}, \"type\": \"table\"}]}, \"layout\": {\"annotationdefaults\": {\"arrowcolor\": \"#2a3f5f\", \"arrowhead\": 0, \"arrowwidth\": 1}, \"autotypenumbers\": \"strict\", \"coloraxis\": {\"colorbar\": {\"outlinewidth\": 0, \"ticks\": \"\"}}, \"colorscale\": {\"diverging\": [[0, \"#8e0152\"], [0.1, \"#c51b7d\"], [0.2, \"#de77ae\"], [0.3, \"#f1b6da\"], [0.4, \"#fde0ef\"], [0.5, \"#f7f7f7\"], [0.6, \"#e6f5d0\"], [0.7, \"#b8e186\"], [0.8, \"#7fbc41\"], [0.9, \"#4d9221\"], [1, \"#276419\"]], \"sequential\": [[0.0, \"#0d0887\"], [0.1111111111111111, \"#46039f\"], [0.2222222222222222, \"#7201a8\"], [0.3333333333333333, \"#9c179e\"], [0.4444444444444444, \"#bd3786\"], [0.5555555555555556, \"#d8576b\"], [0.6666666666666666, \"#ed7953\"], [0.7777777777777778, \"#fb9f3a\"], [0.8888888888888888, \"#fdca26\"], [1.0, \"#f0f921\"]], \"sequentialminus\": [[0.0, \"#0d0887\"], [0.1111111111111111, \"#46039f\"], [0.2222222222222222, \"#7201a8\"], [0.3333333333333333, \"#9c179e\"], [0.4444444444444444, \"#bd3786\"], [0.5555555555555556, \"#d8576b\"], [0.6666666666666666, \"#ed7953\"], [0.7777777777777778, \"#fb9f3a\"], [0.8888888888888888, \"#fdca26\"], [1.0, \"#f0f921\"]]}, \"colorway\": [\"#636efa\", \"#EF553B\", \"#00cc96\", \"#ab63fa\", \"#FFA15A\", \"#19d3f3\", \"#FF6692\", \"#B6E880\", \"#FF97FF\", \"#FECB52\"], \"font\": {\"color\": \"#2a3f5f\"}, \"geo\": {\"bgcolor\": \"white\", \"lakecolor\": \"white\", \"landcolor\": \"#E5ECF6\", \"showlakes\": true, \"showland\": true, \"subunitcolor\": \"white\"}, \"hoverlabel\": {\"align\": \"left\"}, \"hovermode\": \"closest\", \"mapbox\": {\"style\": \"light\"}, \"paper_bgcolor\": \"white\", \"plot_bgcolor\": \"#E5ECF6\", \"polar\": {\"angularaxis\": {\"gridcolor\": \"white\", \"linecolor\": \"white\", \"ticks\": \"\"}, \"bgcolor\": \"#E5ECF6\", \"radialaxis\": {\"gridcolor\": \"white\", \"linecolor\": \"white\", \"ticks\": \"\"}}, \"scene\": {\"xaxis\": {\"backgroundcolor\": \"#E5ECF6\", \"gridcolor\": \"white\", \"gridwidth\": 2, \"linecolor\": \"white\", \"showbackground\": true, \"ticks\": \"\", \"zerolinecolor\": \"white\"}, \"yaxis\": {\"backgroundcolor\": \"#E5ECF6\", \"gridcolor\": \"white\", \"gridwidth\": 2, \"linecolor\": \"white\", \"showbackground\": true, \"ticks\": \"\", \"zerolinecolor\": \"white\"}, \"zaxis\": {\"backgroundcolor\": \"#E5ECF6\", \"gridcolor\": \"white\", \"gridwidth\": 2, \"linecolor\": \"white\", \"showbackground\": true, \"ticks\": \"\", \"zerolinecolor\": \"white\"}}, \"shapedefaults\": {\"line\": {\"color\": \"#2a3f5f\"}}, \"ternary\": {\"aaxis\": {\"gridcolor\": \"white\", \"linecolor\": \"white\", \"ticks\": \"\"}, \"baxis\": {\"gridcolor\": \"white\", \"linecolor\": \"white\", \"ticks\": \"\"}, \"bgcolor\": \"#E5ECF6\", \"caxis\": {\"gridcolor\": \"white\", \"linecolor\": \"white\", \"ticks\": \"\"}}, \"title\": {\"x\": 0.05}, \"xaxis\": {\"automargin\": true, \"gridcolor\": \"white\", \"linecolor\": \"white\", \"ticks\": \"\", \"title\": {\"standoff\": 15}, \"zerolinecolor\": \"white\", \"zerolinewidth\": 2}, \"yaxis\": {\"automargin\": true, \"gridcolor\": \"white\", \"linecolor\": \"white\", \"ticks\": \"\", \"title\": {\"standoff\": 15}, \"zerolinecolor\": \"white\", \"zerolinewidth\": 2}}}, \"title\": {\"font\": {\"color\": \"#4D5663\"}}, \"xaxis\": {\"gridcolor\": \"#E1E5ED\", \"showgrid\": true, \"tickfont\": {\"color\": \"#4D5663\"}, \"title\": {\"font\": {\"color\": \"#4D5663\"}, \"text\": \"\"}, \"zerolinecolor\": \"#E1E5ED\"}, \"yaxis\": {\"gridcolor\": \"#E1E5ED\", \"showgrid\": true, \"tickfont\": {\"color\": \"#4D5663\"}, \"title\": {\"font\": {\"color\": \"#4D5663\"}, \"text\": \"\"}, \"zerolinecolor\": \"#E1E5ED\"}},                        {\"showLink\": true, \"linkText\": \"Export to plot.ly\", \"plotlyServerURL\": \"https://plot.ly\", \"responsive\": true}                    ).then(function(){\n",
       "                            \n",
       "var gd = document.getElementById('b0fe0283-7e84-43c3-9ec6-64f4fc241677');\n",
       "var x = new MutationObserver(function (mutations, observer) {{\n",
       "        var display = window.getComputedStyle(gd).display;\n",
       "        if (!display || display === 'none') {{\n",
       "            console.log([gd, 'removed!']);\n",
       "            Plotly.purge(gd);\n",
       "            observer.disconnect();\n",
       "        }}\n",
       "}});\n",
       "\n",
       "// Listen for the removal of the full notebook cells\n",
       "var notebookContainer = gd.closest('#notebook-container');\n",
       "if (notebookContainer) {{\n",
       "    x.observe(notebookContainer, {childList: true});\n",
       "}}\n",
       "\n",
       "// Listen for the clearing of the current output cell\n",
       "var outputEl = gd.closest('.output');\n",
       "if (outputEl) {{\n",
       "    x.observe(outputEl, {childList: true});\n",
       "}}\n",
       "\n",
       "                        })                };                });            </script>        </div>"
      ]
     },
     "metadata": {},
     "output_type": "display_data"
    }
   ],
   "source": [
    "df.iplot(kind='scatter',x='A',y='B',mode='markers',size=10)"
   ]
  },
  {
   "cell_type": "code",
   "execution_count": 16,
   "id": "20d0fc20",
   "metadata": {},
   "outputs": [
    {
     "data": {
      "application/vnd.plotly.v1+json": {
       "config": {
        "linkText": "Export to plot.ly",
        "plotlyServerURL": "https://plot.ly",
        "showLink": true
       },
       "data": [
        {
         "marker": {
          "color": "rgba(255, 153, 51, 0.6)",
          "line": {
           "color": "rgba(255, 153, 51, 1.0)",
           "width": 1
          }
         },
         "name": "Values",
         "orientation": "v",
         "text": "",
         "type": "bar",
         "x": [
          "A",
          "B",
          "C"
         ],
         "y": [
          32,
          43,
          50
         ]
        }
       ],
       "layout": {
        "legend": {
         "bgcolor": "#F5F6F9",
         "font": {
          "color": "#4D5663"
         }
        },
        "paper_bgcolor": "#F5F6F9",
        "plot_bgcolor": "#F5F6F9",
        "template": {
         "data": {
          "bar": [
           {
            "error_x": {
             "color": "#2a3f5f"
            },
            "error_y": {
             "color": "#2a3f5f"
            },
            "marker": {
             "line": {
              "color": "#E5ECF6",
              "width": 0.5
             }
            },
            "type": "bar"
           }
          ],
          "barpolar": [
           {
            "marker": {
             "line": {
              "color": "#E5ECF6",
              "width": 0.5
             }
            },
            "type": "barpolar"
           }
          ],
          "carpet": [
           {
            "aaxis": {
             "endlinecolor": "#2a3f5f",
             "gridcolor": "white",
             "linecolor": "white",
             "minorgridcolor": "white",
             "startlinecolor": "#2a3f5f"
            },
            "baxis": {
             "endlinecolor": "#2a3f5f",
             "gridcolor": "white",
             "linecolor": "white",
             "minorgridcolor": "white",
             "startlinecolor": "#2a3f5f"
            },
            "type": "carpet"
           }
          ],
          "choropleth": [
           {
            "colorbar": {
             "outlinewidth": 0,
             "ticks": ""
            },
            "type": "choropleth"
           }
          ],
          "contour": [
           {
            "colorbar": {
             "outlinewidth": 0,
             "ticks": ""
            },
            "colorscale": [
             [
              0,
              "#0d0887"
             ],
             [
              0.1111111111111111,
              "#46039f"
             ],
             [
              0.2222222222222222,
              "#7201a8"
             ],
             [
              0.3333333333333333,
              "#9c179e"
             ],
             [
              0.4444444444444444,
              "#bd3786"
             ],
             [
              0.5555555555555556,
              "#d8576b"
             ],
             [
              0.6666666666666666,
              "#ed7953"
             ],
             [
              0.7777777777777778,
              "#fb9f3a"
             ],
             [
              0.8888888888888888,
              "#fdca26"
             ],
             [
              1,
              "#f0f921"
             ]
            ],
            "type": "contour"
           }
          ],
          "contourcarpet": [
           {
            "colorbar": {
             "outlinewidth": 0,
             "ticks": ""
            },
            "type": "contourcarpet"
           }
          ],
          "heatmap": [
           {
            "colorbar": {
             "outlinewidth": 0,
             "ticks": ""
            },
            "colorscale": [
             [
              0,
              "#0d0887"
             ],
             [
              0.1111111111111111,
              "#46039f"
             ],
             [
              0.2222222222222222,
              "#7201a8"
             ],
             [
              0.3333333333333333,
              "#9c179e"
             ],
             [
              0.4444444444444444,
              "#bd3786"
             ],
             [
              0.5555555555555556,
              "#d8576b"
             ],
             [
              0.6666666666666666,
              "#ed7953"
             ],
             [
              0.7777777777777778,
              "#fb9f3a"
             ],
             [
              0.8888888888888888,
              "#fdca26"
             ],
             [
              1,
              "#f0f921"
             ]
            ],
            "type": "heatmap"
           }
          ],
          "heatmapgl": [
           {
            "colorbar": {
             "outlinewidth": 0,
             "ticks": ""
            },
            "colorscale": [
             [
              0,
              "#0d0887"
             ],
             [
              0.1111111111111111,
              "#46039f"
             ],
             [
              0.2222222222222222,
              "#7201a8"
             ],
             [
              0.3333333333333333,
              "#9c179e"
             ],
             [
              0.4444444444444444,
              "#bd3786"
             ],
             [
              0.5555555555555556,
              "#d8576b"
             ],
             [
              0.6666666666666666,
              "#ed7953"
             ],
             [
              0.7777777777777778,
              "#fb9f3a"
             ],
             [
              0.8888888888888888,
              "#fdca26"
             ],
             [
              1,
              "#f0f921"
             ]
            ],
            "type": "heatmapgl"
           }
          ],
          "histogram": [
           {
            "marker": {
             "colorbar": {
              "outlinewidth": 0,
              "ticks": ""
             }
            },
            "type": "histogram"
           }
          ],
          "histogram2d": [
           {
            "colorbar": {
             "outlinewidth": 0,
             "ticks": ""
            },
            "colorscale": [
             [
              0,
              "#0d0887"
             ],
             [
              0.1111111111111111,
              "#46039f"
             ],
             [
              0.2222222222222222,
              "#7201a8"
             ],
             [
              0.3333333333333333,
              "#9c179e"
             ],
             [
              0.4444444444444444,
              "#bd3786"
             ],
             [
              0.5555555555555556,
              "#d8576b"
             ],
             [
              0.6666666666666666,
              "#ed7953"
             ],
             [
              0.7777777777777778,
              "#fb9f3a"
             ],
             [
              0.8888888888888888,
              "#fdca26"
             ],
             [
              1,
              "#f0f921"
             ]
            ],
            "type": "histogram2d"
           }
          ],
          "histogram2dcontour": [
           {
            "colorbar": {
             "outlinewidth": 0,
             "ticks": ""
            },
            "colorscale": [
             [
              0,
              "#0d0887"
             ],
             [
              0.1111111111111111,
              "#46039f"
             ],
             [
              0.2222222222222222,
              "#7201a8"
             ],
             [
              0.3333333333333333,
              "#9c179e"
             ],
             [
              0.4444444444444444,
              "#bd3786"
             ],
             [
              0.5555555555555556,
              "#d8576b"
             ],
             [
              0.6666666666666666,
              "#ed7953"
             ],
             [
              0.7777777777777778,
              "#fb9f3a"
             ],
             [
              0.8888888888888888,
              "#fdca26"
             ],
             [
              1,
              "#f0f921"
             ]
            ],
            "type": "histogram2dcontour"
           }
          ],
          "mesh3d": [
           {
            "colorbar": {
             "outlinewidth": 0,
             "ticks": ""
            },
            "type": "mesh3d"
           }
          ],
          "parcoords": [
           {
            "line": {
             "colorbar": {
              "outlinewidth": 0,
              "ticks": ""
             }
            },
            "type": "parcoords"
           }
          ],
          "pie": [
           {
            "automargin": true,
            "type": "pie"
           }
          ],
          "scatter": [
           {
            "marker": {
             "colorbar": {
              "outlinewidth": 0,
              "ticks": ""
             }
            },
            "type": "scatter"
           }
          ],
          "scatter3d": [
           {
            "line": {
             "colorbar": {
              "outlinewidth": 0,
              "ticks": ""
             }
            },
            "marker": {
             "colorbar": {
              "outlinewidth": 0,
              "ticks": ""
             }
            },
            "type": "scatter3d"
           }
          ],
          "scattercarpet": [
           {
            "marker": {
             "colorbar": {
              "outlinewidth": 0,
              "ticks": ""
             }
            },
            "type": "scattercarpet"
           }
          ],
          "scattergeo": [
           {
            "marker": {
             "colorbar": {
              "outlinewidth": 0,
              "ticks": ""
             }
            },
            "type": "scattergeo"
           }
          ],
          "scattergl": [
           {
            "marker": {
             "colorbar": {
              "outlinewidth": 0,
              "ticks": ""
             }
            },
            "type": "scattergl"
           }
          ],
          "scattermapbox": [
           {
            "marker": {
             "colorbar": {
              "outlinewidth": 0,
              "ticks": ""
             }
            },
            "type": "scattermapbox"
           }
          ],
          "scatterpolar": [
           {
            "marker": {
             "colorbar": {
              "outlinewidth": 0,
              "ticks": ""
             }
            },
            "type": "scatterpolar"
           }
          ],
          "scatterpolargl": [
           {
            "marker": {
             "colorbar": {
              "outlinewidth": 0,
              "ticks": ""
             }
            },
            "type": "scatterpolargl"
           }
          ],
          "scatterternary": [
           {
            "marker": {
             "colorbar": {
              "outlinewidth": 0,
              "ticks": ""
             }
            },
            "type": "scatterternary"
           }
          ],
          "surface": [
           {
            "colorbar": {
             "outlinewidth": 0,
             "ticks": ""
            },
            "colorscale": [
             [
              0,
              "#0d0887"
             ],
             [
              0.1111111111111111,
              "#46039f"
             ],
             [
              0.2222222222222222,
              "#7201a8"
             ],
             [
              0.3333333333333333,
              "#9c179e"
             ],
             [
              0.4444444444444444,
              "#bd3786"
             ],
             [
              0.5555555555555556,
              "#d8576b"
             ],
             [
              0.6666666666666666,
              "#ed7953"
             ],
             [
              0.7777777777777778,
              "#fb9f3a"
             ],
             [
              0.8888888888888888,
              "#fdca26"
             ],
             [
              1,
              "#f0f921"
             ]
            ],
            "type": "surface"
           }
          ],
          "table": [
           {
            "cells": {
             "fill": {
              "color": "#EBF0F8"
             },
             "line": {
              "color": "white"
             }
            },
            "header": {
             "fill": {
              "color": "#C8D4E3"
             },
             "line": {
              "color": "white"
             }
            },
            "type": "table"
           }
          ]
         },
         "layout": {
          "annotationdefaults": {
           "arrowcolor": "#2a3f5f",
           "arrowhead": 0,
           "arrowwidth": 1
          },
          "autotypenumbers": "strict",
          "coloraxis": {
           "colorbar": {
            "outlinewidth": 0,
            "ticks": ""
           }
          },
          "colorscale": {
           "diverging": [
            [
             0,
             "#8e0152"
            ],
            [
             0.1,
             "#c51b7d"
            ],
            [
             0.2,
             "#de77ae"
            ],
            [
             0.3,
             "#f1b6da"
            ],
            [
             0.4,
             "#fde0ef"
            ],
            [
             0.5,
             "#f7f7f7"
            ],
            [
             0.6,
             "#e6f5d0"
            ],
            [
             0.7,
             "#b8e186"
            ],
            [
             0.8,
             "#7fbc41"
            ],
            [
             0.9,
             "#4d9221"
            ],
            [
             1,
             "#276419"
            ]
           ],
           "sequential": [
            [
             0,
             "#0d0887"
            ],
            [
             0.1111111111111111,
             "#46039f"
            ],
            [
             0.2222222222222222,
             "#7201a8"
            ],
            [
             0.3333333333333333,
             "#9c179e"
            ],
            [
             0.4444444444444444,
             "#bd3786"
            ],
            [
             0.5555555555555556,
             "#d8576b"
            ],
            [
             0.6666666666666666,
             "#ed7953"
            ],
            [
             0.7777777777777778,
             "#fb9f3a"
            ],
            [
             0.8888888888888888,
             "#fdca26"
            ],
            [
             1,
             "#f0f921"
            ]
           ],
           "sequentialminus": [
            [
             0,
             "#0d0887"
            ],
            [
             0.1111111111111111,
             "#46039f"
            ],
            [
             0.2222222222222222,
             "#7201a8"
            ],
            [
             0.3333333333333333,
             "#9c179e"
            ],
            [
             0.4444444444444444,
             "#bd3786"
            ],
            [
             0.5555555555555556,
             "#d8576b"
            ],
            [
             0.6666666666666666,
             "#ed7953"
            ],
            [
             0.7777777777777778,
             "#fb9f3a"
            ],
            [
             0.8888888888888888,
             "#fdca26"
            ],
            [
             1,
             "#f0f921"
            ]
           ]
          },
          "colorway": [
           "#636efa",
           "#EF553B",
           "#00cc96",
           "#ab63fa",
           "#FFA15A",
           "#19d3f3",
           "#FF6692",
           "#B6E880",
           "#FF97FF",
           "#FECB52"
          ],
          "font": {
           "color": "#2a3f5f"
          },
          "geo": {
           "bgcolor": "white",
           "lakecolor": "white",
           "landcolor": "#E5ECF6",
           "showlakes": true,
           "showland": true,
           "subunitcolor": "white"
          },
          "hoverlabel": {
           "align": "left"
          },
          "hovermode": "closest",
          "mapbox": {
           "style": "light"
          },
          "paper_bgcolor": "white",
          "plot_bgcolor": "#E5ECF6",
          "polar": {
           "angularaxis": {
            "gridcolor": "white",
            "linecolor": "white",
            "ticks": ""
           },
           "bgcolor": "#E5ECF6",
           "radialaxis": {
            "gridcolor": "white",
            "linecolor": "white",
            "ticks": ""
           }
          },
          "scene": {
           "xaxis": {
            "backgroundcolor": "#E5ECF6",
            "gridcolor": "white",
            "gridwidth": 2,
            "linecolor": "white",
            "showbackground": true,
            "ticks": "",
            "zerolinecolor": "white"
           },
           "yaxis": {
            "backgroundcolor": "#E5ECF6",
            "gridcolor": "white",
            "gridwidth": 2,
            "linecolor": "white",
            "showbackground": true,
            "ticks": "",
            "zerolinecolor": "white"
           },
           "zaxis": {
            "backgroundcolor": "#E5ECF6",
            "gridcolor": "white",
            "gridwidth": 2,
            "linecolor": "white",
            "showbackground": true,
            "ticks": "",
            "zerolinecolor": "white"
           }
          },
          "shapedefaults": {
           "line": {
            "color": "#2a3f5f"
           }
          },
          "ternary": {
           "aaxis": {
            "gridcolor": "white",
            "linecolor": "white",
            "ticks": ""
           },
           "baxis": {
            "gridcolor": "white",
            "linecolor": "white",
            "ticks": ""
           },
           "bgcolor": "#E5ECF6",
           "caxis": {
            "gridcolor": "white",
            "linecolor": "white",
            "ticks": ""
           }
          },
          "title": {
           "x": 0.05
          },
          "xaxis": {
           "automargin": true,
           "gridcolor": "white",
           "linecolor": "white",
           "ticks": "",
           "title": {
            "standoff": 15
           },
           "zerolinecolor": "white",
           "zerolinewidth": 2
          },
          "yaxis": {
           "automargin": true,
           "gridcolor": "white",
           "linecolor": "white",
           "ticks": "",
           "title": {
            "standoff": 15
           },
           "zerolinecolor": "white",
           "zerolinewidth": 2
          }
         }
        },
        "title": {
         "font": {
          "color": "#4D5663"
         }
        },
        "xaxis": {
         "gridcolor": "#E1E5ED",
         "showgrid": true,
         "tickfont": {
          "color": "#4D5663"
         },
         "title": {
          "font": {
           "color": "#4D5663"
          },
          "text": ""
         },
         "zerolinecolor": "#E1E5ED"
        },
        "yaxis": {
         "gridcolor": "#E1E5ED",
         "showgrid": true,
         "tickfont": {
          "color": "#4D5663"
         },
         "title": {
          "font": {
           "color": "#4D5663"
          },
          "text": ""
         },
         "zerolinecolor": "#E1E5ED"
        }
       }
      },
      "text/html": [
       "<div>                            <div id=\"19bcfc5a-f861-45c9-8584-9618c0217534\" class=\"plotly-graph-div\" style=\"height:525px; width:100%;\"></div>            <script type=\"text/javascript\">                require([\"plotly\"], function(Plotly) {                    window.PLOTLYENV=window.PLOTLYENV || {};\n",
       "                    window.PLOTLYENV.BASE_URL='https://plot.ly';                                    if (document.getElementById(\"19bcfc5a-f861-45c9-8584-9618c0217534\")) {                    Plotly.newPlot(                        \"19bcfc5a-f861-45c9-8584-9618c0217534\",                        [{\"marker\": {\"color\": \"rgba(255, 153, 51, 0.6)\", \"line\": {\"color\": \"rgba(255, 153, 51, 1.0)\", \"width\": 1}}, \"name\": \"Values\", \"orientation\": \"v\", \"text\": \"\", \"type\": \"bar\", \"x\": [\"A\", \"B\", \"C\"], \"y\": [32, 43, 50]}],                        {\"legend\": {\"bgcolor\": \"#F5F6F9\", \"font\": {\"color\": \"#4D5663\"}}, \"paper_bgcolor\": \"#F5F6F9\", \"plot_bgcolor\": \"#F5F6F9\", \"template\": {\"data\": {\"bar\": [{\"error_x\": {\"color\": \"#2a3f5f\"}, \"error_y\": {\"color\": \"#2a3f5f\"}, \"marker\": {\"line\": {\"color\": \"#E5ECF6\", \"width\": 0.5}}, \"type\": \"bar\"}], \"barpolar\": [{\"marker\": {\"line\": {\"color\": \"#E5ECF6\", \"width\": 0.5}}, \"type\": \"barpolar\"}], \"carpet\": [{\"aaxis\": {\"endlinecolor\": \"#2a3f5f\", \"gridcolor\": \"white\", \"linecolor\": \"white\", \"minorgridcolor\": \"white\", \"startlinecolor\": \"#2a3f5f\"}, \"baxis\": {\"endlinecolor\": \"#2a3f5f\", \"gridcolor\": \"white\", \"linecolor\": \"white\", \"minorgridcolor\": \"white\", \"startlinecolor\": \"#2a3f5f\"}, \"type\": \"carpet\"}], \"choropleth\": [{\"colorbar\": {\"outlinewidth\": 0, \"ticks\": \"\"}, \"type\": \"choropleth\"}], \"contour\": [{\"colorbar\": {\"outlinewidth\": 0, \"ticks\": \"\"}, \"colorscale\": [[0.0, \"#0d0887\"], [0.1111111111111111, \"#46039f\"], [0.2222222222222222, \"#7201a8\"], [0.3333333333333333, \"#9c179e\"], [0.4444444444444444, \"#bd3786\"], [0.5555555555555556, \"#d8576b\"], [0.6666666666666666, \"#ed7953\"], [0.7777777777777778, \"#fb9f3a\"], [0.8888888888888888, \"#fdca26\"], [1.0, \"#f0f921\"]], \"type\": \"contour\"}], \"contourcarpet\": [{\"colorbar\": {\"outlinewidth\": 0, \"ticks\": \"\"}, \"type\": \"contourcarpet\"}], \"heatmap\": [{\"colorbar\": {\"outlinewidth\": 0, \"ticks\": \"\"}, \"colorscale\": [[0.0, \"#0d0887\"], [0.1111111111111111, \"#46039f\"], [0.2222222222222222, \"#7201a8\"], [0.3333333333333333, \"#9c179e\"], [0.4444444444444444, \"#bd3786\"], [0.5555555555555556, \"#d8576b\"], [0.6666666666666666, \"#ed7953\"], [0.7777777777777778, \"#fb9f3a\"], [0.8888888888888888, \"#fdca26\"], [1.0, \"#f0f921\"]], \"type\": \"heatmap\"}], \"heatmapgl\": [{\"colorbar\": {\"outlinewidth\": 0, \"ticks\": \"\"}, \"colorscale\": [[0.0, \"#0d0887\"], [0.1111111111111111, \"#46039f\"], [0.2222222222222222, \"#7201a8\"], [0.3333333333333333, \"#9c179e\"], [0.4444444444444444, \"#bd3786\"], [0.5555555555555556, \"#d8576b\"], [0.6666666666666666, \"#ed7953\"], [0.7777777777777778, \"#fb9f3a\"], [0.8888888888888888, \"#fdca26\"], [1.0, \"#f0f921\"]], \"type\": \"heatmapgl\"}], \"histogram\": [{\"marker\": {\"colorbar\": {\"outlinewidth\": 0, \"ticks\": \"\"}}, \"type\": \"histogram\"}], \"histogram2d\": [{\"colorbar\": {\"outlinewidth\": 0, \"ticks\": \"\"}, \"colorscale\": [[0.0, \"#0d0887\"], [0.1111111111111111, \"#46039f\"], [0.2222222222222222, \"#7201a8\"], [0.3333333333333333, \"#9c179e\"], [0.4444444444444444, \"#bd3786\"], [0.5555555555555556, \"#d8576b\"], [0.6666666666666666, \"#ed7953\"], [0.7777777777777778, \"#fb9f3a\"], [0.8888888888888888, \"#fdca26\"], [1.0, \"#f0f921\"]], \"type\": \"histogram2d\"}], \"histogram2dcontour\": [{\"colorbar\": {\"outlinewidth\": 0, \"ticks\": \"\"}, \"colorscale\": [[0.0, \"#0d0887\"], [0.1111111111111111, \"#46039f\"], [0.2222222222222222, \"#7201a8\"], [0.3333333333333333, \"#9c179e\"], [0.4444444444444444, \"#bd3786\"], [0.5555555555555556, \"#d8576b\"], [0.6666666666666666, \"#ed7953\"], [0.7777777777777778, \"#fb9f3a\"], [0.8888888888888888, \"#fdca26\"], [1.0, \"#f0f921\"]], \"type\": \"histogram2dcontour\"}], \"mesh3d\": [{\"colorbar\": {\"outlinewidth\": 0, \"ticks\": \"\"}, \"type\": \"mesh3d\"}], \"parcoords\": [{\"line\": {\"colorbar\": {\"outlinewidth\": 0, \"ticks\": \"\"}}, \"type\": \"parcoords\"}], \"pie\": [{\"automargin\": true, \"type\": \"pie\"}], \"scatter\": [{\"marker\": {\"colorbar\": {\"outlinewidth\": 0, \"ticks\": \"\"}}, \"type\": \"scatter\"}], \"scatter3d\": [{\"line\": {\"colorbar\": {\"outlinewidth\": 0, \"ticks\": \"\"}}, \"marker\": {\"colorbar\": {\"outlinewidth\": 0, \"ticks\": \"\"}}, \"type\": \"scatter3d\"}], \"scattercarpet\": [{\"marker\": {\"colorbar\": {\"outlinewidth\": 0, \"ticks\": \"\"}}, \"type\": \"scattercarpet\"}], \"scattergeo\": [{\"marker\": {\"colorbar\": {\"outlinewidth\": 0, \"ticks\": \"\"}}, \"type\": \"scattergeo\"}], \"scattergl\": [{\"marker\": {\"colorbar\": {\"outlinewidth\": 0, \"ticks\": \"\"}}, \"type\": \"scattergl\"}], \"scattermapbox\": [{\"marker\": {\"colorbar\": {\"outlinewidth\": 0, \"ticks\": \"\"}}, \"type\": \"scattermapbox\"}], \"scatterpolar\": [{\"marker\": {\"colorbar\": {\"outlinewidth\": 0, \"ticks\": \"\"}}, \"type\": \"scatterpolar\"}], \"scatterpolargl\": [{\"marker\": {\"colorbar\": {\"outlinewidth\": 0, \"ticks\": \"\"}}, \"type\": \"scatterpolargl\"}], \"scatterternary\": [{\"marker\": {\"colorbar\": {\"outlinewidth\": 0, \"ticks\": \"\"}}, \"type\": \"scatterternary\"}], \"surface\": [{\"colorbar\": {\"outlinewidth\": 0, \"ticks\": \"\"}, \"colorscale\": [[0.0, \"#0d0887\"], [0.1111111111111111, \"#46039f\"], [0.2222222222222222, \"#7201a8\"], [0.3333333333333333, \"#9c179e\"], [0.4444444444444444, \"#bd3786\"], [0.5555555555555556, \"#d8576b\"], [0.6666666666666666, \"#ed7953\"], [0.7777777777777778, \"#fb9f3a\"], [0.8888888888888888, \"#fdca26\"], [1.0, \"#f0f921\"]], \"type\": \"surface\"}], \"table\": [{\"cells\": {\"fill\": {\"color\": \"#EBF0F8\"}, \"line\": {\"color\": \"white\"}}, \"header\": {\"fill\": {\"color\": \"#C8D4E3\"}, \"line\": {\"color\": \"white\"}}, \"type\": \"table\"}]}, \"layout\": {\"annotationdefaults\": {\"arrowcolor\": \"#2a3f5f\", \"arrowhead\": 0, \"arrowwidth\": 1}, \"autotypenumbers\": \"strict\", \"coloraxis\": {\"colorbar\": {\"outlinewidth\": 0, \"ticks\": \"\"}}, \"colorscale\": {\"diverging\": [[0, \"#8e0152\"], [0.1, \"#c51b7d\"], [0.2, \"#de77ae\"], [0.3, \"#f1b6da\"], [0.4, \"#fde0ef\"], [0.5, \"#f7f7f7\"], [0.6, \"#e6f5d0\"], [0.7, \"#b8e186\"], [0.8, \"#7fbc41\"], [0.9, \"#4d9221\"], [1, \"#276419\"]], \"sequential\": [[0.0, \"#0d0887\"], [0.1111111111111111, \"#46039f\"], [0.2222222222222222, \"#7201a8\"], [0.3333333333333333, \"#9c179e\"], [0.4444444444444444, \"#bd3786\"], [0.5555555555555556, \"#d8576b\"], [0.6666666666666666, \"#ed7953\"], [0.7777777777777778, \"#fb9f3a\"], [0.8888888888888888, \"#fdca26\"], [1.0, \"#f0f921\"]], \"sequentialminus\": [[0.0, \"#0d0887\"], [0.1111111111111111, \"#46039f\"], [0.2222222222222222, \"#7201a8\"], [0.3333333333333333, \"#9c179e\"], [0.4444444444444444, \"#bd3786\"], [0.5555555555555556, \"#d8576b\"], [0.6666666666666666, \"#ed7953\"], [0.7777777777777778, \"#fb9f3a\"], [0.8888888888888888, \"#fdca26\"], [1.0, \"#f0f921\"]]}, \"colorway\": [\"#636efa\", \"#EF553B\", \"#00cc96\", \"#ab63fa\", \"#FFA15A\", \"#19d3f3\", \"#FF6692\", \"#B6E880\", \"#FF97FF\", \"#FECB52\"], \"font\": {\"color\": \"#2a3f5f\"}, \"geo\": {\"bgcolor\": \"white\", \"lakecolor\": \"white\", \"landcolor\": \"#E5ECF6\", \"showlakes\": true, \"showland\": true, \"subunitcolor\": \"white\"}, \"hoverlabel\": {\"align\": \"left\"}, \"hovermode\": \"closest\", \"mapbox\": {\"style\": \"light\"}, \"paper_bgcolor\": \"white\", \"plot_bgcolor\": \"#E5ECF6\", \"polar\": {\"angularaxis\": {\"gridcolor\": \"white\", \"linecolor\": \"white\", \"ticks\": \"\"}, \"bgcolor\": \"#E5ECF6\", \"radialaxis\": {\"gridcolor\": \"white\", \"linecolor\": \"white\", \"ticks\": \"\"}}, \"scene\": {\"xaxis\": {\"backgroundcolor\": \"#E5ECF6\", \"gridcolor\": \"white\", \"gridwidth\": 2, \"linecolor\": \"white\", \"showbackground\": true, \"ticks\": \"\", \"zerolinecolor\": \"white\"}, \"yaxis\": {\"backgroundcolor\": \"#E5ECF6\", \"gridcolor\": \"white\", \"gridwidth\": 2, \"linecolor\": \"white\", \"showbackground\": true, \"ticks\": \"\", \"zerolinecolor\": \"white\"}, \"zaxis\": {\"backgroundcolor\": \"#E5ECF6\", \"gridcolor\": \"white\", \"gridwidth\": 2, \"linecolor\": \"white\", \"showbackground\": true, \"ticks\": \"\", \"zerolinecolor\": \"white\"}}, \"shapedefaults\": {\"line\": {\"color\": \"#2a3f5f\"}}, \"ternary\": {\"aaxis\": {\"gridcolor\": \"white\", \"linecolor\": \"white\", \"ticks\": \"\"}, \"baxis\": {\"gridcolor\": \"white\", \"linecolor\": \"white\", \"ticks\": \"\"}, \"bgcolor\": \"#E5ECF6\", \"caxis\": {\"gridcolor\": \"white\", \"linecolor\": \"white\", \"ticks\": \"\"}}, \"title\": {\"x\": 0.05}, \"xaxis\": {\"automargin\": true, \"gridcolor\": \"white\", \"linecolor\": \"white\", \"ticks\": \"\", \"title\": {\"standoff\": 15}, \"zerolinecolor\": \"white\", \"zerolinewidth\": 2}, \"yaxis\": {\"automargin\": true, \"gridcolor\": \"white\", \"linecolor\": \"white\", \"ticks\": \"\", \"title\": {\"standoff\": 15}, \"zerolinecolor\": \"white\", \"zerolinewidth\": 2}}}, \"title\": {\"font\": {\"color\": \"#4D5663\"}}, \"xaxis\": {\"gridcolor\": \"#E1E5ED\", \"showgrid\": true, \"tickfont\": {\"color\": \"#4D5663\"}, \"title\": {\"font\": {\"color\": \"#4D5663\"}, \"text\": \"\"}, \"zerolinecolor\": \"#E1E5ED\"}, \"yaxis\": {\"gridcolor\": \"#E1E5ED\", \"showgrid\": true, \"tickfont\": {\"color\": \"#4D5663\"}, \"title\": {\"font\": {\"color\": \"#4D5663\"}, \"text\": \"\"}, \"zerolinecolor\": \"#E1E5ED\"}},                        {\"showLink\": true, \"linkText\": \"Export to plot.ly\", \"plotlyServerURL\": \"https://plot.ly\", \"responsive\": true}                    ).then(function(){\n",
       "                            \n",
       "var gd = document.getElementById('19bcfc5a-f861-45c9-8584-9618c0217534');\n",
       "var x = new MutationObserver(function (mutations, observer) {{\n",
       "        var display = window.getComputedStyle(gd).display;\n",
       "        if (!display || display === 'none') {{\n",
       "            console.log([gd, 'removed!']);\n",
       "            Plotly.purge(gd);\n",
       "            observer.disconnect();\n",
       "        }}\n",
       "}});\n",
       "\n",
       "// Listen for the removal of the full notebook cells\n",
       "var notebookContainer = gd.closest('#notebook-container');\n",
       "if (notebookContainer) {{\n",
       "    x.observe(notebookContainer, {childList: true});\n",
       "}}\n",
       "\n",
       "// Listen for the clearing of the current output cell\n",
       "var outputEl = gd.closest('.output');\n",
       "if (outputEl) {{\n",
       "    x.observe(outputEl, {childList: true});\n",
       "}}\n",
       "\n",
       "                        })                };                });            </script>        </div>"
      ]
     },
     "metadata": {},
     "output_type": "display_data"
    }
   ],
   "source": [
    "df2.iplot(kind='bar',x='Category',y='Values')"
   ]
  },
  {
   "cell_type": "code",
   "execution_count": 18,
   "id": "3e17e7ed",
   "metadata": {},
   "outputs": [
    {
     "data": {
      "application/vnd.plotly.v1+json": {
       "config": {
        "linkText": "Export to plot.ly",
        "plotlyServerURL": "https://plot.ly",
        "showLink": true
       },
       "data": [
        {
         "marker": {
          "color": "rgba(255, 153, 51, 0.6)",
          "line": {
           "color": "rgba(255, 153, 51, 1.0)",
           "width": 1
          }
         },
         "name": "None",
         "orientation": "v",
         "text": "",
         "type": "bar",
         "x": [
          "A",
          "B",
          "C",
          "D"
         ],
         "y": [
          -5.666789656834569,
          8.440531312126586,
          -11.559256751593546,
          0.9437367951234938
         ]
        }
       ],
       "layout": {
        "legend": {
         "bgcolor": "#F5F6F9",
         "font": {
          "color": "#4D5663"
         }
        },
        "paper_bgcolor": "#F5F6F9",
        "plot_bgcolor": "#F5F6F9",
        "template": {
         "data": {
          "bar": [
           {
            "error_x": {
             "color": "#2a3f5f"
            },
            "error_y": {
             "color": "#2a3f5f"
            },
            "marker": {
             "line": {
              "color": "#E5ECF6",
              "width": 0.5
             }
            },
            "type": "bar"
           }
          ],
          "barpolar": [
           {
            "marker": {
             "line": {
              "color": "#E5ECF6",
              "width": 0.5
             }
            },
            "type": "barpolar"
           }
          ],
          "carpet": [
           {
            "aaxis": {
             "endlinecolor": "#2a3f5f",
             "gridcolor": "white",
             "linecolor": "white",
             "minorgridcolor": "white",
             "startlinecolor": "#2a3f5f"
            },
            "baxis": {
             "endlinecolor": "#2a3f5f",
             "gridcolor": "white",
             "linecolor": "white",
             "minorgridcolor": "white",
             "startlinecolor": "#2a3f5f"
            },
            "type": "carpet"
           }
          ],
          "choropleth": [
           {
            "colorbar": {
             "outlinewidth": 0,
             "ticks": ""
            },
            "type": "choropleth"
           }
          ],
          "contour": [
           {
            "colorbar": {
             "outlinewidth": 0,
             "ticks": ""
            },
            "colorscale": [
             [
              0,
              "#0d0887"
             ],
             [
              0.1111111111111111,
              "#46039f"
             ],
             [
              0.2222222222222222,
              "#7201a8"
             ],
             [
              0.3333333333333333,
              "#9c179e"
             ],
             [
              0.4444444444444444,
              "#bd3786"
             ],
             [
              0.5555555555555556,
              "#d8576b"
             ],
             [
              0.6666666666666666,
              "#ed7953"
             ],
             [
              0.7777777777777778,
              "#fb9f3a"
             ],
             [
              0.8888888888888888,
              "#fdca26"
             ],
             [
              1,
              "#f0f921"
             ]
            ],
            "type": "contour"
           }
          ],
          "contourcarpet": [
           {
            "colorbar": {
             "outlinewidth": 0,
             "ticks": ""
            },
            "type": "contourcarpet"
           }
          ],
          "heatmap": [
           {
            "colorbar": {
             "outlinewidth": 0,
             "ticks": ""
            },
            "colorscale": [
             [
              0,
              "#0d0887"
             ],
             [
              0.1111111111111111,
              "#46039f"
             ],
             [
              0.2222222222222222,
              "#7201a8"
             ],
             [
              0.3333333333333333,
              "#9c179e"
             ],
             [
              0.4444444444444444,
              "#bd3786"
             ],
             [
              0.5555555555555556,
              "#d8576b"
             ],
             [
              0.6666666666666666,
              "#ed7953"
             ],
             [
              0.7777777777777778,
              "#fb9f3a"
             ],
             [
              0.8888888888888888,
              "#fdca26"
             ],
             [
              1,
              "#f0f921"
             ]
            ],
            "type": "heatmap"
           }
          ],
          "heatmapgl": [
           {
            "colorbar": {
             "outlinewidth": 0,
             "ticks": ""
            },
            "colorscale": [
             [
              0,
              "#0d0887"
             ],
             [
              0.1111111111111111,
              "#46039f"
             ],
             [
              0.2222222222222222,
              "#7201a8"
             ],
             [
              0.3333333333333333,
              "#9c179e"
             ],
             [
              0.4444444444444444,
              "#bd3786"
             ],
             [
              0.5555555555555556,
              "#d8576b"
             ],
             [
              0.6666666666666666,
              "#ed7953"
             ],
             [
              0.7777777777777778,
              "#fb9f3a"
             ],
             [
              0.8888888888888888,
              "#fdca26"
             ],
             [
              1,
              "#f0f921"
             ]
            ],
            "type": "heatmapgl"
           }
          ],
          "histogram": [
           {
            "marker": {
             "colorbar": {
              "outlinewidth": 0,
              "ticks": ""
             }
            },
            "type": "histogram"
           }
          ],
          "histogram2d": [
           {
            "colorbar": {
             "outlinewidth": 0,
             "ticks": ""
            },
            "colorscale": [
             [
              0,
              "#0d0887"
             ],
             [
              0.1111111111111111,
              "#46039f"
             ],
             [
              0.2222222222222222,
              "#7201a8"
             ],
             [
              0.3333333333333333,
              "#9c179e"
             ],
             [
              0.4444444444444444,
              "#bd3786"
             ],
             [
              0.5555555555555556,
              "#d8576b"
             ],
             [
              0.6666666666666666,
              "#ed7953"
             ],
             [
              0.7777777777777778,
              "#fb9f3a"
             ],
             [
              0.8888888888888888,
              "#fdca26"
             ],
             [
              1,
              "#f0f921"
             ]
            ],
            "type": "histogram2d"
           }
          ],
          "histogram2dcontour": [
           {
            "colorbar": {
             "outlinewidth": 0,
             "ticks": ""
            },
            "colorscale": [
             [
              0,
              "#0d0887"
             ],
             [
              0.1111111111111111,
              "#46039f"
             ],
             [
              0.2222222222222222,
              "#7201a8"
             ],
             [
              0.3333333333333333,
              "#9c179e"
             ],
             [
              0.4444444444444444,
              "#bd3786"
             ],
             [
              0.5555555555555556,
              "#d8576b"
             ],
             [
              0.6666666666666666,
              "#ed7953"
             ],
             [
              0.7777777777777778,
              "#fb9f3a"
             ],
             [
              0.8888888888888888,
              "#fdca26"
             ],
             [
              1,
              "#f0f921"
             ]
            ],
            "type": "histogram2dcontour"
           }
          ],
          "mesh3d": [
           {
            "colorbar": {
             "outlinewidth": 0,
             "ticks": ""
            },
            "type": "mesh3d"
           }
          ],
          "parcoords": [
           {
            "line": {
             "colorbar": {
              "outlinewidth": 0,
              "ticks": ""
             }
            },
            "type": "parcoords"
           }
          ],
          "pie": [
           {
            "automargin": true,
            "type": "pie"
           }
          ],
          "scatter": [
           {
            "marker": {
             "colorbar": {
              "outlinewidth": 0,
              "ticks": ""
             }
            },
            "type": "scatter"
           }
          ],
          "scatter3d": [
           {
            "line": {
             "colorbar": {
              "outlinewidth": 0,
              "ticks": ""
             }
            },
            "marker": {
             "colorbar": {
              "outlinewidth": 0,
              "ticks": ""
             }
            },
            "type": "scatter3d"
           }
          ],
          "scattercarpet": [
           {
            "marker": {
             "colorbar": {
              "outlinewidth": 0,
              "ticks": ""
             }
            },
            "type": "scattercarpet"
           }
          ],
          "scattergeo": [
           {
            "marker": {
             "colorbar": {
              "outlinewidth": 0,
              "ticks": ""
             }
            },
            "type": "scattergeo"
           }
          ],
          "scattergl": [
           {
            "marker": {
             "colorbar": {
              "outlinewidth": 0,
              "ticks": ""
             }
            },
            "type": "scattergl"
           }
          ],
          "scattermapbox": [
           {
            "marker": {
             "colorbar": {
              "outlinewidth": 0,
              "ticks": ""
             }
            },
            "type": "scattermapbox"
           }
          ],
          "scatterpolar": [
           {
            "marker": {
             "colorbar": {
              "outlinewidth": 0,
              "ticks": ""
             }
            },
            "type": "scatterpolar"
           }
          ],
          "scatterpolargl": [
           {
            "marker": {
             "colorbar": {
              "outlinewidth": 0,
              "ticks": ""
             }
            },
            "type": "scatterpolargl"
           }
          ],
          "scatterternary": [
           {
            "marker": {
             "colorbar": {
              "outlinewidth": 0,
              "ticks": ""
             }
            },
            "type": "scatterternary"
           }
          ],
          "surface": [
           {
            "colorbar": {
             "outlinewidth": 0,
             "ticks": ""
            },
            "colorscale": [
             [
              0,
              "#0d0887"
             ],
             [
              0.1111111111111111,
              "#46039f"
             ],
             [
              0.2222222222222222,
              "#7201a8"
             ],
             [
              0.3333333333333333,
              "#9c179e"
             ],
             [
              0.4444444444444444,
              "#bd3786"
             ],
             [
              0.5555555555555556,
              "#d8576b"
             ],
             [
              0.6666666666666666,
              "#ed7953"
             ],
             [
              0.7777777777777778,
              "#fb9f3a"
             ],
             [
              0.8888888888888888,
              "#fdca26"
             ],
             [
              1,
              "#f0f921"
             ]
            ],
            "type": "surface"
           }
          ],
          "table": [
           {
            "cells": {
             "fill": {
              "color": "#EBF0F8"
             },
             "line": {
              "color": "white"
             }
            },
            "header": {
             "fill": {
              "color": "#C8D4E3"
             },
             "line": {
              "color": "white"
             }
            },
            "type": "table"
           }
          ]
         },
         "layout": {
          "annotationdefaults": {
           "arrowcolor": "#2a3f5f",
           "arrowhead": 0,
           "arrowwidth": 1
          },
          "autotypenumbers": "strict",
          "coloraxis": {
           "colorbar": {
            "outlinewidth": 0,
            "ticks": ""
           }
          },
          "colorscale": {
           "diverging": [
            [
             0,
             "#8e0152"
            ],
            [
             0.1,
             "#c51b7d"
            ],
            [
             0.2,
             "#de77ae"
            ],
            [
             0.3,
             "#f1b6da"
            ],
            [
             0.4,
             "#fde0ef"
            ],
            [
             0.5,
             "#f7f7f7"
            ],
            [
             0.6,
             "#e6f5d0"
            ],
            [
             0.7,
             "#b8e186"
            ],
            [
             0.8,
             "#7fbc41"
            ],
            [
             0.9,
             "#4d9221"
            ],
            [
             1,
             "#276419"
            ]
           ],
           "sequential": [
            [
             0,
             "#0d0887"
            ],
            [
             0.1111111111111111,
             "#46039f"
            ],
            [
             0.2222222222222222,
             "#7201a8"
            ],
            [
             0.3333333333333333,
             "#9c179e"
            ],
            [
             0.4444444444444444,
             "#bd3786"
            ],
            [
             0.5555555555555556,
             "#d8576b"
            ],
            [
             0.6666666666666666,
             "#ed7953"
            ],
            [
             0.7777777777777778,
             "#fb9f3a"
            ],
            [
             0.8888888888888888,
             "#fdca26"
            ],
            [
             1,
             "#f0f921"
            ]
           ],
           "sequentialminus": [
            [
             0,
             "#0d0887"
            ],
            [
             0.1111111111111111,
             "#46039f"
            ],
            [
             0.2222222222222222,
             "#7201a8"
            ],
            [
             0.3333333333333333,
             "#9c179e"
            ],
            [
             0.4444444444444444,
             "#bd3786"
            ],
            [
             0.5555555555555556,
             "#d8576b"
            ],
            [
             0.6666666666666666,
             "#ed7953"
            ],
            [
             0.7777777777777778,
             "#fb9f3a"
            ],
            [
             0.8888888888888888,
             "#fdca26"
            ],
            [
             1,
             "#f0f921"
            ]
           ]
          },
          "colorway": [
           "#636efa",
           "#EF553B",
           "#00cc96",
           "#ab63fa",
           "#FFA15A",
           "#19d3f3",
           "#FF6692",
           "#B6E880",
           "#FF97FF",
           "#FECB52"
          ],
          "font": {
           "color": "#2a3f5f"
          },
          "geo": {
           "bgcolor": "white",
           "lakecolor": "white",
           "landcolor": "#E5ECF6",
           "showlakes": true,
           "showland": true,
           "subunitcolor": "white"
          },
          "hoverlabel": {
           "align": "left"
          },
          "hovermode": "closest",
          "mapbox": {
           "style": "light"
          },
          "paper_bgcolor": "white",
          "plot_bgcolor": "#E5ECF6",
          "polar": {
           "angularaxis": {
            "gridcolor": "white",
            "linecolor": "white",
            "ticks": ""
           },
           "bgcolor": "#E5ECF6",
           "radialaxis": {
            "gridcolor": "white",
            "linecolor": "white",
            "ticks": ""
           }
          },
          "scene": {
           "xaxis": {
            "backgroundcolor": "#E5ECF6",
            "gridcolor": "white",
            "gridwidth": 2,
            "linecolor": "white",
            "showbackground": true,
            "ticks": "",
            "zerolinecolor": "white"
           },
           "yaxis": {
            "backgroundcolor": "#E5ECF6",
            "gridcolor": "white",
            "gridwidth": 2,
            "linecolor": "white",
            "showbackground": true,
            "ticks": "",
            "zerolinecolor": "white"
           },
           "zaxis": {
            "backgroundcolor": "#E5ECF6",
            "gridcolor": "white",
            "gridwidth": 2,
            "linecolor": "white",
            "showbackground": true,
            "ticks": "",
            "zerolinecolor": "white"
           }
          },
          "shapedefaults": {
           "line": {
            "color": "#2a3f5f"
           }
          },
          "ternary": {
           "aaxis": {
            "gridcolor": "white",
            "linecolor": "white",
            "ticks": ""
           },
           "baxis": {
            "gridcolor": "white",
            "linecolor": "white",
            "ticks": ""
           },
           "bgcolor": "#E5ECF6",
           "caxis": {
            "gridcolor": "white",
            "linecolor": "white",
            "ticks": ""
           }
          },
          "title": {
           "x": 0.05
          },
          "xaxis": {
           "automargin": true,
           "gridcolor": "white",
           "linecolor": "white",
           "ticks": "",
           "title": {
            "standoff": 15
           },
           "zerolinecolor": "white",
           "zerolinewidth": 2
          },
          "yaxis": {
           "automargin": true,
           "gridcolor": "white",
           "linecolor": "white",
           "ticks": "",
           "title": {
            "standoff": 15
           },
           "zerolinecolor": "white",
           "zerolinewidth": 2
          }
         }
        },
        "title": {
         "font": {
          "color": "#4D5663"
         }
        },
        "xaxis": {
         "gridcolor": "#E1E5ED",
         "showgrid": true,
         "tickfont": {
          "color": "#4D5663"
         },
         "title": {
          "font": {
           "color": "#4D5663"
          },
          "text": ""
         },
         "zerolinecolor": "#E1E5ED"
        },
        "yaxis": {
         "gridcolor": "#E1E5ED",
         "showgrid": true,
         "tickfont": {
          "color": "#4D5663"
         },
         "title": {
          "font": {
           "color": "#4D5663"
          },
          "text": ""
         },
         "zerolinecolor": "#E1E5ED"
        }
       }
      },
      "text/html": [
       "<div>                            <div id=\"05b8700a-1434-4c93-8f07-834f8b324bc6\" class=\"plotly-graph-div\" style=\"height:525px; width:100%;\"></div>            <script type=\"text/javascript\">                require([\"plotly\"], function(Plotly) {                    window.PLOTLYENV=window.PLOTLYENV || {};\n",
       "                    window.PLOTLYENV.BASE_URL='https://plot.ly';                                    if (document.getElementById(\"05b8700a-1434-4c93-8f07-834f8b324bc6\")) {                    Plotly.newPlot(                        \"05b8700a-1434-4c93-8f07-834f8b324bc6\",                        [{\"marker\": {\"color\": \"rgba(255, 153, 51, 0.6)\", \"line\": {\"color\": \"rgba(255, 153, 51, 1.0)\", \"width\": 1}}, \"name\": \"None\", \"orientation\": \"v\", \"text\": \"\", \"type\": \"bar\", \"x\": [\"A\", \"B\", \"C\", \"D\"], \"y\": [-5.666789656834569, 8.440531312126586, -11.559256751593546, 0.9437367951234938]}],                        {\"legend\": {\"bgcolor\": \"#F5F6F9\", \"font\": {\"color\": \"#4D5663\"}}, \"paper_bgcolor\": \"#F5F6F9\", \"plot_bgcolor\": \"#F5F6F9\", \"template\": {\"data\": {\"bar\": [{\"error_x\": {\"color\": \"#2a3f5f\"}, \"error_y\": {\"color\": \"#2a3f5f\"}, \"marker\": {\"line\": {\"color\": \"#E5ECF6\", \"width\": 0.5}}, \"type\": \"bar\"}], \"barpolar\": [{\"marker\": {\"line\": {\"color\": \"#E5ECF6\", \"width\": 0.5}}, \"type\": \"barpolar\"}], \"carpet\": [{\"aaxis\": {\"endlinecolor\": \"#2a3f5f\", \"gridcolor\": \"white\", \"linecolor\": \"white\", \"minorgridcolor\": \"white\", \"startlinecolor\": \"#2a3f5f\"}, \"baxis\": {\"endlinecolor\": \"#2a3f5f\", \"gridcolor\": \"white\", \"linecolor\": \"white\", \"minorgridcolor\": \"white\", \"startlinecolor\": \"#2a3f5f\"}, \"type\": \"carpet\"}], \"choropleth\": [{\"colorbar\": {\"outlinewidth\": 0, \"ticks\": \"\"}, \"type\": \"choropleth\"}], \"contour\": [{\"colorbar\": {\"outlinewidth\": 0, \"ticks\": \"\"}, \"colorscale\": [[0.0, \"#0d0887\"], [0.1111111111111111, \"#46039f\"], [0.2222222222222222, \"#7201a8\"], [0.3333333333333333, \"#9c179e\"], [0.4444444444444444, \"#bd3786\"], [0.5555555555555556, \"#d8576b\"], [0.6666666666666666, \"#ed7953\"], [0.7777777777777778, \"#fb9f3a\"], [0.8888888888888888, \"#fdca26\"], [1.0, \"#f0f921\"]], \"type\": \"contour\"}], \"contourcarpet\": [{\"colorbar\": {\"outlinewidth\": 0, \"ticks\": \"\"}, \"type\": \"contourcarpet\"}], \"heatmap\": [{\"colorbar\": {\"outlinewidth\": 0, \"ticks\": \"\"}, \"colorscale\": [[0.0, \"#0d0887\"], [0.1111111111111111, \"#46039f\"], [0.2222222222222222, \"#7201a8\"], [0.3333333333333333, \"#9c179e\"], [0.4444444444444444, \"#bd3786\"], [0.5555555555555556, \"#d8576b\"], [0.6666666666666666, \"#ed7953\"], [0.7777777777777778, \"#fb9f3a\"], [0.8888888888888888, \"#fdca26\"], [1.0, \"#f0f921\"]], \"type\": \"heatmap\"}], \"heatmapgl\": [{\"colorbar\": {\"outlinewidth\": 0, \"ticks\": \"\"}, \"colorscale\": [[0.0, \"#0d0887\"], [0.1111111111111111, \"#46039f\"], [0.2222222222222222, \"#7201a8\"], [0.3333333333333333, \"#9c179e\"], [0.4444444444444444, \"#bd3786\"], [0.5555555555555556, \"#d8576b\"], [0.6666666666666666, \"#ed7953\"], [0.7777777777777778, \"#fb9f3a\"], [0.8888888888888888, \"#fdca26\"], [1.0, \"#f0f921\"]], \"type\": \"heatmapgl\"}], \"histogram\": [{\"marker\": {\"colorbar\": {\"outlinewidth\": 0, \"ticks\": \"\"}}, \"type\": \"histogram\"}], \"histogram2d\": [{\"colorbar\": {\"outlinewidth\": 0, \"ticks\": \"\"}, \"colorscale\": [[0.0, \"#0d0887\"], [0.1111111111111111, \"#46039f\"], [0.2222222222222222, \"#7201a8\"], [0.3333333333333333, \"#9c179e\"], [0.4444444444444444, \"#bd3786\"], [0.5555555555555556, \"#d8576b\"], [0.6666666666666666, \"#ed7953\"], [0.7777777777777778, \"#fb9f3a\"], [0.8888888888888888, \"#fdca26\"], [1.0, \"#f0f921\"]], \"type\": \"histogram2d\"}], \"histogram2dcontour\": [{\"colorbar\": {\"outlinewidth\": 0, \"ticks\": \"\"}, \"colorscale\": [[0.0, \"#0d0887\"], [0.1111111111111111, \"#46039f\"], [0.2222222222222222, \"#7201a8\"], [0.3333333333333333, \"#9c179e\"], [0.4444444444444444, \"#bd3786\"], [0.5555555555555556, \"#d8576b\"], [0.6666666666666666, \"#ed7953\"], [0.7777777777777778, \"#fb9f3a\"], [0.8888888888888888, \"#fdca26\"], [1.0, \"#f0f921\"]], \"type\": \"histogram2dcontour\"}], \"mesh3d\": [{\"colorbar\": {\"outlinewidth\": 0, \"ticks\": \"\"}, \"type\": \"mesh3d\"}], \"parcoords\": [{\"line\": {\"colorbar\": {\"outlinewidth\": 0, \"ticks\": \"\"}}, \"type\": \"parcoords\"}], \"pie\": [{\"automargin\": true, \"type\": \"pie\"}], \"scatter\": [{\"marker\": {\"colorbar\": {\"outlinewidth\": 0, \"ticks\": \"\"}}, \"type\": \"scatter\"}], \"scatter3d\": [{\"line\": {\"colorbar\": {\"outlinewidth\": 0, \"ticks\": \"\"}}, \"marker\": {\"colorbar\": {\"outlinewidth\": 0, \"ticks\": \"\"}}, \"type\": \"scatter3d\"}], \"scattercarpet\": [{\"marker\": {\"colorbar\": {\"outlinewidth\": 0, \"ticks\": \"\"}}, \"type\": \"scattercarpet\"}], \"scattergeo\": [{\"marker\": {\"colorbar\": {\"outlinewidth\": 0, \"ticks\": \"\"}}, \"type\": \"scattergeo\"}], \"scattergl\": [{\"marker\": {\"colorbar\": {\"outlinewidth\": 0, \"ticks\": \"\"}}, \"type\": \"scattergl\"}], \"scattermapbox\": [{\"marker\": {\"colorbar\": {\"outlinewidth\": 0, \"ticks\": \"\"}}, \"type\": \"scattermapbox\"}], \"scatterpolar\": [{\"marker\": {\"colorbar\": {\"outlinewidth\": 0, \"ticks\": \"\"}}, \"type\": \"scatterpolar\"}], \"scatterpolargl\": [{\"marker\": {\"colorbar\": {\"outlinewidth\": 0, \"ticks\": \"\"}}, \"type\": \"scatterpolargl\"}], \"scatterternary\": [{\"marker\": {\"colorbar\": {\"outlinewidth\": 0, \"ticks\": \"\"}}, \"type\": \"scatterternary\"}], \"surface\": [{\"colorbar\": {\"outlinewidth\": 0, \"ticks\": \"\"}, \"colorscale\": [[0.0, \"#0d0887\"], [0.1111111111111111, \"#46039f\"], [0.2222222222222222, \"#7201a8\"], [0.3333333333333333, \"#9c179e\"], [0.4444444444444444, \"#bd3786\"], [0.5555555555555556, \"#d8576b\"], [0.6666666666666666, \"#ed7953\"], [0.7777777777777778, \"#fb9f3a\"], [0.8888888888888888, \"#fdca26\"], [1.0, \"#f0f921\"]], \"type\": \"surface\"}], \"table\": [{\"cells\": {\"fill\": {\"color\": \"#EBF0F8\"}, \"line\": {\"color\": \"white\"}}, \"header\": {\"fill\": {\"color\": \"#C8D4E3\"}, \"line\": {\"color\": \"white\"}}, \"type\": \"table\"}]}, \"layout\": {\"annotationdefaults\": {\"arrowcolor\": \"#2a3f5f\", \"arrowhead\": 0, \"arrowwidth\": 1}, \"autotypenumbers\": \"strict\", \"coloraxis\": {\"colorbar\": {\"outlinewidth\": 0, \"ticks\": \"\"}}, \"colorscale\": {\"diverging\": [[0, \"#8e0152\"], [0.1, \"#c51b7d\"], [0.2, \"#de77ae\"], [0.3, \"#f1b6da\"], [0.4, \"#fde0ef\"], [0.5, \"#f7f7f7\"], [0.6, \"#e6f5d0\"], [0.7, \"#b8e186\"], [0.8, \"#7fbc41\"], [0.9, \"#4d9221\"], [1, \"#276419\"]], \"sequential\": [[0.0, \"#0d0887\"], [0.1111111111111111, \"#46039f\"], [0.2222222222222222, \"#7201a8\"], [0.3333333333333333, \"#9c179e\"], [0.4444444444444444, \"#bd3786\"], [0.5555555555555556, \"#d8576b\"], [0.6666666666666666, \"#ed7953\"], [0.7777777777777778, \"#fb9f3a\"], [0.8888888888888888, \"#fdca26\"], [1.0, \"#f0f921\"]], \"sequentialminus\": [[0.0, \"#0d0887\"], [0.1111111111111111, \"#46039f\"], [0.2222222222222222, \"#7201a8\"], [0.3333333333333333, \"#9c179e\"], [0.4444444444444444, \"#bd3786\"], [0.5555555555555556, \"#d8576b\"], [0.6666666666666666, \"#ed7953\"], [0.7777777777777778, \"#fb9f3a\"], [0.8888888888888888, \"#fdca26\"], [1.0, \"#f0f921\"]]}, \"colorway\": [\"#636efa\", \"#EF553B\", \"#00cc96\", \"#ab63fa\", \"#FFA15A\", \"#19d3f3\", \"#FF6692\", \"#B6E880\", \"#FF97FF\", \"#FECB52\"], \"font\": {\"color\": \"#2a3f5f\"}, \"geo\": {\"bgcolor\": \"white\", \"lakecolor\": \"white\", \"landcolor\": \"#E5ECF6\", \"showlakes\": true, \"showland\": true, \"subunitcolor\": \"white\"}, \"hoverlabel\": {\"align\": \"left\"}, \"hovermode\": \"closest\", \"mapbox\": {\"style\": \"light\"}, \"paper_bgcolor\": \"white\", \"plot_bgcolor\": \"#E5ECF6\", \"polar\": {\"angularaxis\": {\"gridcolor\": \"white\", \"linecolor\": \"white\", \"ticks\": \"\"}, \"bgcolor\": \"#E5ECF6\", \"radialaxis\": {\"gridcolor\": \"white\", \"linecolor\": \"white\", \"ticks\": \"\"}}, \"scene\": {\"xaxis\": {\"backgroundcolor\": \"#E5ECF6\", \"gridcolor\": \"white\", \"gridwidth\": 2, \"linecolor\": \"white\", \"showbackground\": true, \"ticks\": \"\", \"zerolinecolor\": \"white\"}, \"yaxis\": {\"backgroundcolor\": \"#E5ECF6\", \"gridcolor\": \"white\", \"gridwidth\": 2, \"linecolor\": \"white\", \"showbackground\": true, \"ticks\": \"\", \"zerolinecolor\": \"white\"}, \"zaxis\": {\"backgroundcolor\": \"#E5ECF6\", \"gridcolor\": \"white\", \"gridwidth\": 2, \"linecolor\": \"white\", \"showbackground\": true, \"ticks\": \"\", \"zerolinecolor\": \"white\"}}, \"shapedefaults\": {\"line\": {\"color\": \"#2a3f5f\"}}, \"ternary\": {\"aaxis\": {\"gridcolor\": \"white\", \"linecolor\": \"white\", \"ticks\": \"\"}, \"baxis\": {\"gridcolor\": \"white\", \"linecolor\": \"white\", \"ticks\": \"\"}, \"bgcolor\": \"#E5ECF6\", \"caxis\": {\"gridcolor\": \"white\", \"linecolor\": \"white\", \"ticks\": \"\"}}, \"title\": {\"x\": 0.05}, \"xaxis\": {\"automargin\": true, \"gridcolor\": \"white\", \"linecolor\": \"white\", \"ticks\": \"\", \"title\": {\"standoff\": 15}, \"zerolinecolor\": \"white\", \"zerolinewidth\": 2}, \"yaxis\": {\"automargin\": true, \"gridcolor\": \"white\", \"linecolor\": \"white\", \"ticks\": \"\", \"title\": {\"standoff\": 15}, \"zerolinecolor\": \"white\", \"zerolinewidth\": 2}}}, \"title\": {\"font\": {\"color\": \"#4D5663\"}}, \"xaxis\": {\"gridcolor\": \"#E1E5ED\", \"showgrid\": true, \"tickfont\": {\"color\": \"#4D5663\"}, \"title\": {\"font\": {\"color\": \"#4D5663\"}, \"text\": \"\"}, \"zerolinecolor\": \"#E1E5ED\"}, \"yaxis\": {\"gridcolor\": \"#E1E5ED\", \"showgrid\": true, \"tickfont\": {\"color\": \"#4D5663\"}, \"title\": {\"font\": {\"color\": \"#4D5663\"}, \"text\": \"\"}, \"zerolinecolor\": \"#E1E5ED\"}},                        {\"showLink\": true, \"linkText\": \"Export to plot.ly\", \"plotlyServerURL\": \"https://plot.ly\", \"responsive\": true}                    ).then(function(){\n",
       "                            \n",
       "var gd = document.getElementById('05b8700a-1434-4c93-8f07-834f8b324bc6');\n",
       "var x = new MutationObserver(function (mutations, observer) {{\n",
       "        var display = window.getComputedStyle(gd).display;\n",
       "        if (!display || display === 'none') {{\n",
       "            console.log([gd, 'removed!']);\n",
       "            Plotly.purge(gd);\n",
       "            observer.disconnect();\n",
       "        }}\n",
       "}});\n",
       "\n",
       "// Listen for the removal of the full notebook cells\n",
       "var notebookContainer = gd.closest('#notebook-container');\n",
       "if (notebookContainer) {{\n",
       "    x.observe(notebookContainer, {childList: true});\n",
       "}}\n",
       "\n",
       "// Listen for the clearing of the current output cell\n",
       "var outputEl = gd.closest('.output');\n",
       "if (outputEl) {{\n",
       "    x.observe(outputEl, {childList: true});\n",
       "}}\n",
       "\n",
       "                        })                };                });            </script>        </div>"
      ]
     },
     "metadata": {},
     "output_type": "display_data"
    }
   ],
   "source": [
    "df.sum().iplot(kind='bar')"
   ]
  },
  {
   "cell_type": "code",
   "execution_count": 19,
   "id": "1f089b9b",
   "metadata": {},
   "outputs": [
    {
     "data": {
      "application/vnd.plotly.v1+json": {
       "config": {
        "linkText": "Export to plot.ly",
        "plotlyServerURL": "https://plot.ly",
        "showLink": true
       },
       "data": [
        {
         "boxpoints": false,
         "line": {
          "width": 1.3
         },
         "marker": {
          "color": "rgba(255, 153, 51, 1.0)"
         },
         "name": "A",
         "orientation": "v",
         "type": "box",
         "y": [
          0.7579169907008975,
          -0.8161547742370481,
          -1.0676658944274364,
          0.3492477357554279,
          0.3390648990769225,
          0.09742219321199275,
          -1.33055230754233,
          -0.12682840085417438,
          -0.25128864086285696,
          2.1115708861917555,
          -1.339406042465701,
          -0.347374481064104,
          -1.3794015617559465,
          0.23290287749488986,
          0.41586382257588445,
          -0.5975340305163689,
          0.4086109611770097,
          0.5472736736776053,
          0.13715433771920907,
          1.6032654886085844,
          -0.5658030710740445,
          0.4404707283859412,
          -0.33724279007117697,
          -0.060014931120361666,
          -0.055651249216383945,
          -0.4050924167306593,
          -0.5674351170616927,
          -1.4251007871026502,
          -0.8995319823222503,
          1.1062589503452354,
          -0.20382072046038863,
          -0.00010055195585183877,
          0.17696378540158358,
          0.7588837221366781,
          0.2521796539016003,
          0.2853964120837876,
          -0.16277726494508643,
          -0.38601143344105365,
          -1.0170379359384103,
          -0.3466500445108914,
          -1.5401398016670331,
          -0.535571994409165,
          -1.7075842134185053,
          0.5066193456872792,
          -1.1181765596137385,
          -0.07719660704485161,
          1.409412284069849,
          -0.5131803731783747,
          0.14512693266306823,
          2.6527272388996663,
          -0.24086569918403608,
          0.5802248482304968,
          -0.28805074414568127,
          -0.394646373523225,
          -0.18229447257056783,
          -0.7128994194693947,
          -0.1760753682112523,
          -0.03307361130640672,
          2.8949245145138893,
          1.4639937505591218,
          -1.1787561032149947,
          0.5080631908125035,
          0.7299226637744624,
          1.114971455912152,
          0.3670444793270461,
          -0.8986701651154719,
          0.10427824380549375,
          0.4926150883989747,
          0.50128685010186,
          0.1582082959286535,
          1.424381376073982,
          -0.7098519159265192,
          1.4343352301075223,
          0.8848001165715448,
          -0.3329297614837509,
          -0.09449322766838299,
          -1.4331704424392953,
          -2.3482367888755706,
          -0.4313472857630825,
          -0.6850394753749117,
          0.07373150250514426,
          1.5035838122434417,
          -1.0673400959574666,
          -0.1790479235488818,
          0.5497921570738876,
          -1.6569094570064595,
          0.6867680990971627,
          -1.5246247206548413,
          0.06523519227070403,
          -1.0893939851966334,
          -0.6426486274421239,
          -1.1784518458385573,
          1.4014189134269002,
          -1.6916384711818373,
          1.2564031949041172,
          0.9657713826538739,
          -0.3086420219503129,
          -0.3789089791792017,
          -0.30407623942767387,
          -0.2204677342273025
         ]
        },
        {
         "boxpoints": false,
         "line": {
          "width": 1.3
         },
         "marker": {
          "color": "rgba(55, 128, 191, 1.0)"
         },
         "name": "B",
         "orientation": "v",
         "type": "box",
         "y": [
          0.5684502720699256,
          0.5659318504590108,
          -0.19827760510486944,
          0.32983830760641514,
          0.5328299766395032,
          -2.6070863592723637,
          -1.498912957132498,
          0.38332965794274665,
          0.22264884897725187,
          -1.6528708786582085,
          -0.49870165714242487,
          -0.4786542575383392,
          1.072071747918505,
          0.30981640073313776,
          0.8935123571549635,
          -0.6819292753460076,
          0.4576173461547523,
          0.44311917309584925,
          -0.3834133487353966,
          0.24893642268377136,
          1.5725896637711498,
          2.5800447501566977,
          -0.031174073981630846,
          -0.527185533592221,
          0.25667482105584083,
          0.8323331450472324,
          -0.9568379443293512,
          0.14736685052680928,
          0.4953577645557132,
          1.127463897276566,
          0.1979067845689406,
          1.5849528203043828,
          -0.1747631695179193,
          0.9573789764398959,
          0.47436736441101895,
          -0.33127828318692876,
          0.7471120167436102,
          -2.022638281155942,
          2.0295295993715894,
          1.4420055066294375,
          -1.5295964399797681,
          1.8233838388928698,
          -0.7918471567136929,
          -1.7277233011088322,
          -0.625284887925668,
          0.8491625546406638,
          0.6780281200173601,
          -0.5141795457121822,
          -0.3431646995205548,
          1.5537837344549983,
          -0.3592575226298186,
          -1.200915218048695,
          0.447692552037646,
          -0.7291164997074,
          -0.0005065946840657674,
          -0.4437346151107805,
          0.15345808437672942,
          0.34710550181778704,
          1.7459026911646645,
          -1.3350888262495035,
          0.5533821815324313,
          0.253181086593142,
          -0.9589033870327761,
          0.4962013516394784,
          -0.16364535978691475,
          -0.5635106687798505,
          0.3874399481008401,
          -0.892203741798904,
          1.1650334107393163,
          0.047543043577904336,
          0.11249070564030511,
          0.09672797186554681,
          -0.8058650376771265,
          -0.583781575627234,
          1.038090201365297,
          -0.20666537242679023,
          -1.048021628407373,
          0.9899524366949004,
          0.7694913735559865,
          -0.22516987366451005,
          0.610271014996182,
          -1.199867464191324,
          -0.31217188679917635,
          0.9675753903319483,
          -2.0023223593090176,
          0.002514579727119917,
          1.4298377798004676,
          -0.9007516727608389,
          1.845629362612709,
          1.014157798755033,
          0.8562826331180223,
          0.1343851276353828,
          -1.5959146246492517,
          -0.0263178124517433,
          -0.8647975627911636,
          0.7729014273210385,
          -0.30570206339584927,
          0.6912959249022436,
          0.05769976468709154,
          0.37649442087166995
         ]
        },
        {
         "boxpoints": false,
         "line": {
          "width": 1.3
         },
         "marker": {
          "color": "rgba(50, 171, 96, 1.0)"
         },
         "name": "C",
         "orientation": "v",
         "type": "box",
         "y": [
          -0.030841936520710423,
          -1.7897465844954101,
          0.33404857729631904,
          0.42957481394269537,
          1.3906679427925948,
          2.292633359034967,
          -0.7649790745758274,
          0.018126786175386135,
          -1.2706645279234314,
          -0.08426149632796881,
          0.07389371271328721,
          0.4243084993669805,
          -0.45464384933490637,
          -0.09473693777734563,
          0.03948991548022201,
          -0.37543131845098937,
          0.36294247945133895,
          0.7316061698865982,
          0.009311538500927507,
          0.01427552739454796,
          0.004373975200186838,
          0.8630383424204059,
          -0.5056348337641644,
          0.5952881803139014,
          -0.8591868262923849,
          -0.30517970825684787,
          0.18242953940181528,
          -0.937798674707065,
          -0.6987263821951233,
          0.5238960257688077,
          -0.48518372156003675,
          0.03146689657984299,
          -1.783826821471204,
          1.8763164275690554,
          1.1024227023493425,
          -1.374424585129283,
          1.327051208825934,
          1.6631033877268955,
          -0.5221836274219149,
          1.1790678399942525,
          0.20449931917440659,
          -0.7351507913998312,
          1.181331806951473,
          -0.6498461989231527,
          -0.561984383721052,
          -0.980958455737706,
          -0.9527489235554565,
          -0.3559026940821522,
          -1.7312463852737618,
          0.6003524590425994,
          -1.0011676580633053,
          0.27599291708270945,
          -1.0562305417097186,
          -1.8426355697171088,
          0.3820952216784,
          -1.3604752246569802,
          -0.3145948157468955,
          -0.7570896887087242,
          0.8407257362979608,
          -0.08334889085136048,
          -1.31888837125692,
          0.7077421503422455,
          1.5082924871792198,
          -0.10394197691061856,
          -0.5812564941032132,
          1.5742308084010164,
          -0.5459628896978114,
          1.182911260415,
          0.31165711404723745,
          0.5411365254188535,
          -0.9152362874791712,
          1.9486794223808281,
          -1.260161129482686,
          0.7143899005700038,
          1.1340389483026478,
          -0.217513783036078,
          -0.8809358145856119,
          0.7646336205622859,
          0.003658402843417368,
          1.0612831411933366,
          1.174055516773016,
          -0.8050002895921485,
          -1.9886559208325512,
          0.4993274729681875,
          -0.3561485718277287,
          -0.012824899034422837,
          0.8102233246215578,
          -0.8346862887134354,
          -1.0459324117012032,
          -0.46180759226587104,
          0.3757891945839428,
          -0.609346617161401,
          -1.318819973101796,
          -1.1054063168652104,
          -2.180036977980027,
          -0.40512129375765205,
          -1.0247128324872112,
          -1.282520781927594,
          0.3039137428223451,
          -1.1538024512803582
         ]
        },
        {
         "boxpoints": false,
         "line": {
          "width": 1.3
         },
         "marker": {
          "color": "rgba(128, 0, 128, 1.0)"
         },
         "name": "D",
         "orientation": "v",
         "type": "box",
         "y": [
          0.06450635021046695,
          0.2596574522833259,
          1.0026143147803723,
          0.561642770158224,
          -0.3427874639302748,
          -0.9508333723957706,
          0.622800588343014,
          0.3125927148018621,
          1.1150879717363051,
          2.455851706634036,
          1.2742268799631815,
          1.154299919220273,
          -0.7942439680024461,
          -0.8644470781202114,
          -0.4168734520579206,
          -1.181803784199834,
          1.238433626346655,
          0.05372197763399264,
          0.34185576901013764,
          -1.4565659440581091,
          -0.1026818959296048,
          0.903541925904409,
          -0.8012528882328342,
          -1.0175719360567876,
          -2.7328299440970025,
          0.7148301356669923,
          -0.8239975679920563,
          -0.7576409674557157,
          -0.5693802501599392,
          -1.0556713820709995,
          -1.3705199522230866,
          -1.3560770882040558,
          0.7309342348001,
          -0.8703792444993791,
          0.09189649227909341,
          -0.3010341429755626,
          -0.3806964790753045,
          -1.2013579543332842,
          1.391184470518253,
          -1.8386086609074515,
          1.6546453153471088,
          -0.38789801126027745,
          0.09767288988891892,
          -1.3640703521993343,
          1.3871828331113376,
          -0.339887497599879,
          0.6410865305435189,
          -0.10596461045588117,
          1.114632580477332,
          0.5887394941232663,
          0.44177588052267247,
          0.12993293999471517,
          -1.001727314146639,
          -0.7320765446444998,
          0.3202318776190888,
          1.163610560377854,
          0.04939823794477496,
          0.04223995029416441,
          -0.14567905816720583,
          0.36920980691186267,
          0.3773260968601199,
          -0.8496724441848096,
          0.2041626662514401,
          0.7618730607445849,
          -1.1507069986281788,
          0.6599107371136214,
          -0.06753929552515554,
          -1.2165069573838576,
          1.8987843998608216,
          -0.31490087940180644,
          0.3660743345820462,
          0.4218107956766632,
          0.3089912594501252,
          0.394789105793771,
          0.4253362614950715,
          1.660226841327557,
          -0.22761012389628388,
          -0.5069865734320621,
          -0.09445619273657074,
          1.1539355107601834,
          2.0500571926687705,
          -0.8948538495499534,
          0.8925199369923554,
          0.16043421919060608,
          0.4190797854967326,
          -1.1605531588840317,
          0.8533946459510025,
          1.0230756283887796,
          1.385085155070938,
          -4.433536853331192,
          -0.4836933956232965,
          -0.13250107547132398,
          -0.17499236765283083,
          -0.026059638174104723,
          -0.13890017489053902,
          -0.1953849616368364,
          0.3124549496360172,
          0.8958394835349717,
          0.009559555697668766,
          -0.6476092790134855
         ]
        }
       ],
       "layout": {
        "legend": {
         "bgcolor": "#F5F6F9",
         "font": {
          "color": "#4D5663"
         }
        },
        "paper_bgcolor": "#F5F6F9",
        "plot_bgcolor": "#F5F6F9",
        "template": {
         "data": {
          "bar": [
           {
            "error_x": {
             "color": "#2a3f5f"
            },
            "error_y": {
             "color": "#2a3f5f"
            },
            "marker": {
             "line": {
              "color": "#E5ECF6",
              "width": 0.5
             }
            },
            "type": "bar"
           }
          ],
          "barpolar": [
           {
            "marker": {
             "line": {
              "color": "#E5ECF6",
              "width": 0.5
             }
            },
            "type": "barpolar"
           }
          ],
          "carpet": [
           {
            "aaxis": {
             "endlinecolor": "#2a3f5f",
             "gridcolor": "white",
             "linecolor": "white",
             "minorgridcolor": "white",
             "startlinecolor": "#2a3f5f"
            },
            "baxis": {
             "endlinecolor": "#2a3f5f",
             "gridcolor": "white",
             "linecolor": "white",
             "minorgridcolor": "white",
             "startlinecolor": "#2a3f5f"
            },
            "type": "carpet"
           }
          ],
          "choropleth": [
           {
            "colorbar": {
             "outlinewidth": 0,
             "ticks": ""
            },
            "type": "choropleth"
           }
          ],
          "contour": [
           {
            "colorbar": {
             "outlinewidth": 0,
             "ticks": ""
            },
            "colorscale": [
             [
              0,
              "#0d0887"
             ],
             [
              0.1111111111111111,
              "#46039f"
             ],
             [
              0.2222222222222222,
              "#7201a8"
             ],
             [
              0.3333333333333333,
              "#9c179e"
             ],
             [
              0.4444444444444444,
              "#bd3786"
             ],
             [
              0.5555555555555556,
              "#d8576b"
             ],
             [
              0.6666666666666666,
              "#ed7953"
             ],
             [
              0.7777777777777778,
              "#fb9f3a"
             ],
             [
              0.8888888888888888,
              "#fdca26"
             ],
             [
              1,
              "#f0f921"
             ]
            ],
            "type": "contour"
           }
          ],
          "contourcarpet": [
           {
            "colorbar": {
             "outlinewidth": 0,
             "ticks": ""
            },
            "type": "contourcarpet"
           }
          ],
          "heatmap": [
           {
            "colorbar": {
             "outlinewidth": 0,
             "ticks": ""
            },
            "colorscale": [
             [
              0,
              "#0d0887"
             ],
             [
              0.1111111111111111,
              "#46039f"
             ],
             [
              0.2222222222222222,
              "#7201a8"
             ],
             [
              0.3333333333333333,
              "#9c179e"
             ],
             [
              0.4444444444444444,
              "#bd3786"
             ],
             [
              0.5555555555555556,
              "#d8576b"
             ],
             [
              0.6666666666666666,
              "#ed7953"
             ],
             [
              0.7777777777777778,
              "#fb9f3a"
             ],
             [
              0.8888888888888888,
              "#fdca26"
             ],
             [
              1,
              "#f0f921"
             ]
            ],
            "type": "heatmap"
           }
          ],
          "heatmapgl": [
           {
            "colorbar": {
             "outlinewidth": 0,
             "ticks": ""
            },
            "colorscale": [
             [
              0,
              "#0d0887"
             ],
             [
              0.1111111111111111,
              "#46039f"
             ],
             [
              0.2222222222222222,
              "#7201a8"
             ],
             [
              0.3333333333333333,
              "#9c179e"
             ],
             [
              0.4444444444444444,
              "#bd3786"
             ],
             [
              0.5555555555555556,
              "#d8576b"
             ],
             [
              0.6666666666666666,
              "#ed7953"
             ],
             [
              0.7777777777777778,
              "#fb9f3a"
             ],
             [
              0.8888888888888888,
              "#fdca26"
             ],
             [
              1,
              "#f0f921"
             ]
            ],
            "type": "heatmapgl"
           }
          ],
          "histogram": [
           {
            "marker": {
             "colorbar": {
              "outlinewidth": 0,
              "ticks": ""
             }
            },
            "type": "histogram"
           }
          ],
          "histogram2d": [
           {
            "colorbar": {
             "outlinewidth": 0,
             "ticks": ""
            },
            "colorscale": [
             [
              0,
              "#0d0887"
             ],
             [
              0.1111111111111111,
              "#46039f"
             ],
             [
              0.2222222222222222,
              "#7201a8"
             ],
             [
              0.3333333333333333,
              "#9c179e"
             ],
             [
              0.4444444444444444,
              "#bd3786"
             ],
             [
              0.5555555555555556,
              "#d8576b"
             ],
             [
              0.6666666666666666,
              "#ed7953"
             ],
             [
              0.7777777777777778,
              "#fb9f3a"
             ],
             [
              0.8888888888888888,
              "#fdca26"
             ],
             [
              1,
              "#f0f921"
             ]
            ],
            "type": "histogram2d"
           }
          ],
          "histogram2dcontour": [
           {
            "colorbar": {
             "outlinewidth": 0,
             "ticks": ""
            },
            "colorscale": [
             [
              0,
              "#0d0887"
             ],
             [
              0.1111111111111111,
              "#46039f"
             ],
             [
              0.2222222222222222,
              "#7201a8"
             ],
             [
              0.3333333333333333,
              "#9c179e"
             ],
             [
              0.4444444444444444,
              "#bd3786"
             ],
             [
              0.5555555555555556,
              "#d8576b"
             ],
             [
              0.6666666666666666,
              "#ed7953"
             ],
             [
              0.7777777777777778,
              "#fb9f3a"
             ],
             [
              0.8888888888888888,
              "#fdca26"
             ],
             [
              1,
              "#f0f921"
             ]
            ],
            "type": "histogram2dcontour"
           }
          ],
          "mesh3d": [
           {
            "colorbar": {
             "outlinewidth": 0,
             "ticks": ""
            },
            "type": "mesh3d"
           }
          ],
          "parcoords": [
           {
            "line": {
             "colorbar": {
              "outlinewidth": 0,
              "ticks": ""
             }
            },
            "type": "parcoords"
           }
          ],
          "pie": [
           {
            "automargin": true,
            "type": "pie"
           }
          ],
          "scatter": [
           {
            "marker": {
             "colorbar": {
              "outlinewidth": 0,
              "ticks": ""
             }
            },
            "type": "scatter"
           }
          ],
          "scatter3d": [
           {
            "line": {
             "colorbar": {
              "outlinewidth": 0,
              "ticks": ""
             }
            },
            "marker": {
             "colorbar": {
              "outlinewidth": 0,
              "ticks": ""
             }
            },
            "type": "scatter3d"
           }
          ],
          "scattercarpet": [
           {
            "marker": {
             "colorbar": {
              "outlinewidth": 0,
              "ticks": ""
             }
            },
            "type": "scattercarpet"
           }
          ],
          "scattergeo": [
           {
            "marker": {
             "colorbar": {
              "outlinewidth": 0,
              "ticks": ""
             }
            },
            "type": "scattergeo"
           }
          ],
          "scattergl": [
           {
            "marker": {
             "colorbar": {
              "outlinewidth": 0,
              "ticks": ""
             }
            },
            "type": "scattergl"
           }
          ],
          "scattermapbox": [
           {
            "marker": {
             "colorbar": {
              "outlinewidth": 0,
              "ticks": ""
             }
            },
            "type": "scattermapbox"
           }
          ],
          "scatterpolar": [
           {
            "marker": {
             "colorbar": {
              "outlinewidth": 0,
              "ticks": ""
             }
            },
            "type": "scatterpolar"
           }
          ],
          "scatterpolargl": [
           {
            "marker": {
             "colorbar": {
              "outlinewidth": 0,
              "ticks": ""
             }
            },
            "type": "scatterpolargl"
           }
          ],
          "scatterternary": [
           {
            "marker": {
             "colorbar": {
              "outlinewidth": 0,
              "ticks": ""
             }
            },
            "type": "scatterternary"
           }
          ],
          "surface": [
           {
            "colorbar": {
             "outlinewidth": 0,
             "ticks": ""
            },
            "colorscale": [
             [
              0,
              "#0d0887"
             ],
             [
              0.1111111111111111,
              "#46039f"
             ],
             [
              0.2222222222222222,
              "#7201a8"
             ],
             [
              0.3333333333333333,
              "#9c179e"
             ],
             [
              0.4444444444444444,
              "#bd3786"
             ],
             [
              0.5555555555555556,
              "#d8576b"
             ],
             [
              0.6666666666666666,
              "#ed7953"
             ],
             [
              0.7777777777777778,
              "#fb9f3a"
             ],
             [
              0.8888888888888888,
              "#fdca26"
             ],
             [
              1,
              "#f0f921"
             ]
            ],
            "type": "surface"
           }
          ],
          "table": [
           {
            "cells": {
             "fill": {
              "color": "#EBF0F8"
             },
             "line": {
              "color": "white"
             }
            },
            "header": {
             "fill": {
              "color": "#C8D4E3"
             },
             "line": {
              "color": "white"
             }
            },
            "type": "table"
           }
          ]
         },
         "layout": {
          "annotationdefaults": {
           "arrowcolor": "#2a3f5f",
           "arrowhead": 0,
           "arrowwidth": 1
          },
          "autotypenumbers": "strict",
          "coloraxis": {
           "colorbar": {
            "outlinewidth": 0,
            "ticks": ""
           }
          },
          "colorscale": {
           "diverging": [
            [
             0,
             "#8e0152"
            ],
            [
             0.1,
             "#c51b7d"
            ],
            [
             0.2,
             "#de77ae"
            ],
            [
             0.3,
             "#f1b6da"
            ],
            [
             0.4,
             "#fde0ef"
            ],
            [
             0.5,
             "#f7f7f7"
            ],
            [
             0.6,
             "#e6f5d0"
            ],
            [
             0.7,
             "#b8e186"
            ],
            [
             0.8,
             "#7fbc41"
            ],
            [
             0.9,
             "#4d9221"
            ],
            [
             1,
             "#276419"
            ]
           ],
           "sequential": [
            [
             0,
             "#0d0887"
            ],
            [
             0.1111111111111111,
             "#46039f"
            ],
            [
             0.2222222222222222,
             "#7201a8"
            ],
            [
             0.3333333333333333,
             "#9c179e"
            ],
            [
             0.4444444444444444,
             "#bd3786"
            ],
            [
             0.5555555555555556,
             "#d8576b"
            ],
            [
             0.6666666666666666,
             "#ed7953"
            ],
            [
             0.7777777777777778,
             "#fb9f3a"
            ],
            [
             0.8888888888888888,
             "#fdca26"
            ],
            [
             1,
             "#f0f921"
            ]
           ],
           "sequentialminus": [
            [
             0,
             "#0d0887"
            ],
            [
             0.1111111111111111,
             "#46039f"
            ],
            [
             0.2222222222222222,
             "#7201a8"
            ],
            [
             0.3333333333333333,
             "#9c179e"
            ],
            [
             0.4444444444444444,
             "#bd3786"
            ],
            [
             0.5555555555555556,
             "#d8576b"
            ],
            [
             0.6666666666666666,
             "#ed7953"
            ],
            [
             0.7777777777777778,
             "#fb9f3a"
            ],
            [
             0.8888888888888888,
             "#fdca26"
            ],
            [
             1,
             "#f0f921"
            ]
           ]
          },
          "colorway": [
           "#636efa",
           "#EF553B",
           "#00cc96",
           "#ab63fa",
           "#FFA15A",
           "#19d3f3",
           "#FF6692",
           "#B6E880",
           "#FF97FF",
           "#FECB52"
          ],
          "font": {
           "color": "#2a3f5f"
          },
          "geo": {
           "bgcolor": "white",
           "lakecolor": "white",
           "landcolor": "#E5ECF6",
           "showlakes": true,
           "showland": true,
           "subunitcolor": "white"
          },
          "hoverlabel": {
           "align": "left"
          },
          "hovermode": "closest",
          "mapbox": {
           "style": "light"
          },
          "paper_bgcolor": "white",
          "plot_bgcolor": "#E5ECF6",
          "polar": {
           "angularaxis": {
            "gridcolor": "white",
            "linecolor": "white",
            "ticks": ""
           },
           "bgcolor": "#E5ECF6",
           "radialaxis": {
            "gridcolor": "white",
            "linecolor": "white",
            "ticks": ""
           }
          },
          "scene": {
           "xaxis": {
            "backgroundcolor": "#E5ECF6",
            "gridcolor": "white",
            "gridwidth": 2,
            "linecolor": "white",
            "showbackground": true,
            "ticks": "",
            "zerolinecolor": "white"
           },
           "yaxis": {
            "backgroundcolor": "#E5ECF6",
            "gridcolor": "white",
            "gridwidth": 2,
            "linecolor": "white",
            "showbackground": true,
            "ticks": "",
            "zerolinecolor": "white"
           },
           "zaxis": {
            "backgroundcolor": "#E5ECF6",
            "gridcolor": "white",
            "gridwidth": 2,
            "linecolor": "white",
            "showbackground": true,
            "ticks": "",
            "zerolinecolor": "white"
           }
          },
          "shapedefaults": {
           "line": {
            "color": "#2a3f5f"
           }
          },
          "ternary": {
           "aaxis": {
            "gridcolor": "white",
            "linecolor": "white",
            "ticks": ""
           },
           "baxis": {
            "gridcolor": "white",
            "linecolor": "white",
            "ticks": ""
           },
           "bgcolor": "#E5ECF6",
           "caxis": {
            "gridcolor": "white",
            "linecolor": "white",
            "ticks": ""
           }
          },
          "title": {
           "x": 0.05
          },
          "xaxis": {
           "automargin": true,
           "gridcolor": "white",
           "linecolor": "white",
           "ticks": "",
           "title": {
            "standoff": 15
           },
           "zerolinecolor": "white",
           "zerolinewidth": 2
          },
          "yaxis": {
           "automargin": true,
           "gridcolor": "white",
           "linecolor": "white",
           "ticks": "",
           "title": {
            "standoff": 15
           },
           "zerolinecolor": "white",
           "zerolinewidth": 2
          }
         }
        },
        "title": {
         "font": {
          "color": "#4D5663"
         }
        },
        "xaxis": {
         "gridcolor": "#E1E5ED",
         "showgrid": true,
         "tickfont": {
          "color": "#4D5663"
         },
         "title": {
          "font": {
           "color": "#4D5663"
          },
          "text": ""
         },
         "zerolinecolor": "#E1E5ED"
        },
        "yaxis": {
         "gridcolor": "#E1E5ED",
         "showgrid": true,
         "tickfont": {
          "color": "#4D5663"
         },
         "title": {
          "font": {
           "color": "#4D5663"
          },
          "text": ""
         },
         "zerolinecolor": "#E1E5ED"
        }
       }
      },
      "text/html": [
       "<div>                            <div id=\"fb8c6c49-c89e-48b5-bb7f-9cb308583c9c\" class=\"plotly-graph-div\" style=\"height:525px; width:100%;\"></div>            <script type=\"text/javascript\">                require([\"plotly\"], function(Plotly) {                    window.PLOTLYENV=window.PLOTLYENV || {};\n",
       "                    window.PLOTLYENV.BASE_URL='https://plot.ly';                                    if (document.getElementById(\"fb8c6c49-c89e-48b5-bb7f-9cb308583c9c\")) {                    Plotly.newPlot(                        \"fb8c6c49-c89e-48b5-bb7f-9cb308583c9c\",                        [{\"boxpoints\": false, \"line\": {\"width\": 1.3}, \"marker\": {\"color\": \"rgba(255, 153, 51, 1.0)\"}, \"name\": \"A\", \"orientation\": \"v\", \"type\": \"box\", \"y\": [0.7579169907008975, -0.8161547742370481, -1.0676658944274364, 0.3492477357554279, 0.3390648990769225, 0.09742219321199275, -1.33055230754233, -0.12682840085417438, -0.25128864086285696, 2.1115708861917555, -1.339406042465701, -0.347374481064104, -1.3794015617559465, 0.23290287749488986, 0.41586382257588445, -0.5975340305163689, 0.4086109611770097, 0.5472736736776053, 0.13715433771920907, 1.6032654886085844, -0.5658030710740445, 0.4404707283859412, -0.33724279007117697, -0.060014931120361666, -0.055651249216383945, -0.4050924167306593, -0.5674351170616927, -1.4251007871026502, -0.8995319823222503, 1.1062589503452354, -0.20382072046038863, -0.00010055195585183877, 0.17696378540158358, 0.7588837221366781, 0.2521796539016003, 0.2853964120837876, -0.16277726494508643, -0.38601143344105365, -1.0170379359384103, -0.3466500445108914, -1.5401398016670331, -0.535571994409165, -1.7075842134185053, 0.5066193456872792, -1.1181765596137385, -0.07719660704485161, 1.409412284069849, -0.5131803731783747, 0.14512693266306823, 2.6527272388996663, -0.24086569918403608, 0.5802248482304968, -0.28805074414568127, -0.394646373523225, -0.18229447257056783, -0.7128994194693947, -0.1760753682112523, -0.03307361130640672, 2.8949245145138893, 1.4639937505591218, -1.1787561032149947, 0.5080631908125035, 0.7299226637744624, 1.114971455912152, 0.3670444793270461, -0.8986701651154719, 0.10427824380549375, 0.4926150883989747, 0.50128685010186, 0.1582082959286535, 1.424381376073982, -0.7098519159265192, 1.4343352301075223, 0.8848001165715448, -0.3329297614837509, -0.09449322766838299, -1.4331704424392953, -2.3482367888755706, -0.4313472857630825, -0.6850394753749117, 0.07373150250514426, 1.5035838122434417, -1.0673400959574666, -0.1790479235488818, 0.5497921570738876, -1.6569094570064595, 0.6867680990971627, -1.5246247206548413, 0.06523519227070403, -1.0893939851966334, -0.6426486274421239, -1.1784518458385573, 1.4014189134269002, -1.6916384711818373, 1.2564031949041172, 0.9657713826538739, -0.3086420219503129, -0.3789089791792017, -0.30407623942767387, -0.2204677342273025]}, {\"boxpoints\": false, \"line\": {\"width\": 1.3}, \"marker\": {\"color\": \"rgba(55, 128, 191, 1.0)\"}, \"name\": \"B\", \"orientation\": \"v\", \"type\": \"box\", \"y\": [0.5684502720699256, 0.5659318504590108, -0.19827760510486944, 0.32983830760641514, 0.5328299766395032, -2.6070863592723637, -1.498912957132498, 0.38332965794274665, 0.22264884897725187, -1.6528708786582085, -0.49870165714242487, -0.4786542575383392, 1.072071747918505, 0.30981640073313776, 0.8935123571549635, -0.6819292753460076, 0.4576173461547523, 0.44311917309584925, -0.3834133487353966, 0.24893642268377136, 1.5725896637711498, 2.5800447501566977, -0.031174073981630846, -0.527185533592221, 0.25667482105584083, 0.8323331450472324, -0.9568379443293512, 0.14736685052680928, 0.4953577645557132, 1.127463897276566, 0.1979067845689406, 1.5849528203043828, -0.1747631695179193, 0.9573789764398959, 0.47436736441101895, -0.33127828318692876, 0.7471120167436102, -2.022638281155942, 2.0295295993715894, 1.4420055066294375, -1.5295964399797681, 1.8233838388928698, -0.7918471567136929, -1.7277233011088322, -0.625284887925668, 0.8491625546406638, 0.6780281200173601, -0.5141795457121822, -0.3431646995205548, 1.5537837344549983, -0.3592575226298186, -1.200915218048695, 0.447692552037646, -0.7291164997074, -0.0005065946840657674, -0.4437346151107805, 0.15345808437672942, 0.34710550181778704, 1.7459026911646645, -1.3350888262495035, 0.5533821815324313, 0.253181086593142, -0.9589033870327761, 0.4962013516394784, -0.16364535978691475, -0.5635106687798505, 0.3874399481008401, -0.892203741798904, 1.1650334107393163, 0.047543043577904336, 0.11249070564030511, 0.09672797186554681, -0.8058650376771265, -0.583781575627234, 1.038090201365297, -0.20666537242679023, -1.048021628407373, 0.9899524366949004, 0.7694913735559865, -0.22516987366451005, 0.610271014996182, -1.199867464191324, -0.31217188679917635, 0.9675753903319483, -2.0023223593090176, 0.002514579727119917, 1.4298377798004676, -0.9007516727608389, 1.845629362612709, 1.014157798755033, 0.8562826331180223, 0.1343851276353828, -1.5959146246492517, -0.0263178124517433, -0.8647975627911636, 0.7729014273210385, -0.30570206339584927, 0.6912959249022436, 0.05769976468709154, 0.37649442087166995]}, {\"boxpoints\": false, \"line\": {\"width\": 1.3}, \"marker\": {\"color\": \"rgba(50, 171, 96, 1.0)\"}, \"name\": \"C\", \"orientation\": \"v\", \"type\": \"box\", \"y\": [-0.030841936520710423, -1.7897465844954101, 0.33404857729631904, 0.42957481394269537, 1.3906679427925948, 2.292633359034967, -0.7649790745758274, 0.018126786175386135, -1.2706645279234314, -0.08426149632796881, 0.07389371271328721, 0.4243084993669805, -0.45464384933490637, -0.09473693777734563, 0.03948991548022201, -0.37543131845098937, 0.36294247945133895, 0.7316061698865982, 0.009311538500927507, 0.01427552739454796, 0.004373975200186838, 0.8630383424204059, -0.5056348337641644, 0.5952881803139014, -0.8591868262923849, -0.30517970825684787, 0.18242953940181528, -0.937798674707065, -0.6987263821951233, 0.5238960257688077, -0.48518372156003675, 0.03146689657984299, -1.783826821471204, 1.8763164275690554, 1.1024227023493425, -1.374424585129283, 1.327051208825934, 1.6631033877268955, -0.5221836274219149, 1.1790678399942525, 0.20449931917440659, -0.7351507913998312, 1.181331806951473, -0.6498461989231527, -0.561984383721052, -0.980958455737706, -0.9527489235554565, -0.3559026940821522, -1.7312463852737618, 0.6003524590425994, -1.0011676580633053, 0.27599291708270945, -1.0562305417097186, -1.8426355697171088, 0.3820952216784, -1.3604752246569802, -0.3145948157468955, -0.7570896887087242, 0.8407257362979608, -0.08334889085136048, -1.31888837125692, 0.7077421503422455, 1.5082924871792198, -0.10394197691061856, -0.5812564941032132, 1.5742308084010164, -0.5459628896978114, 1.182911260415, 0.31165711404723745, 0.5411365254188535, -0.9152362874791712, 1.9486794223808281, -1.260161129482686, 0.7143899005700038, 1.1340389483026478, -0.217513783036078, -0.8809358145856119, 0.7646336205622859, 0.003658402843417368, 1.0612831411933366, 1.174055516773016, -0.8050002895921485, -1.9886559208325512, 0.4993274729681875, -0.3561485718277287, -0.012824899034422837, 0.8102233246215578, -0.8346862887134354, -1.0459324117012032, -0.46180759226587104, 0.3757891945839428, -0.609346617161401, -1.318819973101796, -1.1054063168652104, -2.180036977980027, -0.40512129375765205, -1.0247128324872112, -1.282520781927594, 0.3039137428223451, -1.1538024512803582]}, {\"boxpoints\": false, \"line\": {\"width\": 1.3}, \"marker\": {\"color\": \"rgba(128, 0, 128, 1.0)\"}, \"name\": \"D\", \"orientation\": \"v\", \"type\": \"box\", \"y\": [0.06450635021046695, 0.2596574522833259, 1.0026143147803723, 0.561642770158224, -0.3427874639302748, -0.9508333723957706, 0.622800588343014, 0.3125927148018621, 1.1150879717363051, 2.455851706634036, 1.2742268799631815, 1.154299919220273, -0.7942439680024461, -0.8644470781202114, -0.4168734520579206, -1.181803784199834, 1.238433626346655, 0.05372197763399264, 0.34185576901013764, -1.4565659440581091, -0.1026818959296048, 0.903541925904409, -0.8012528882328342, -1.0175719360567876, -2.7328299440970025, 0.7148301356669923, -0.8239975679920563, -0.7576409674557157, -0.5693802501599392, -1.0556713820709995, -1.3705199522230866, -1.3560770882040558, 0.7309342348001, -0.8703792444993791, 0.09189649227909341, -0.3010341429755626, -0.3806964790753045, -1.2013579543332842, 1.391184470518253, -1.8386086609074515, 1.6546453153471088, -0.38789801126027745, 0.09767288988891892, -1.3640703521993343, 1.3871828331113376, -0.339887497599879, 0.6410865305435189, -0.10596461045588117, 1.114632580477332, 0.5887394941232663, 0.44177588052267247, 0.12993293999471517, -1.001727314146639, -0.7320765446444998, 0.3202318776190888, 1.163610560377854, 0.04939823794477496, 0.04223995029416441, -0.14567905816720583, 0.36920980691186267, 0.3773260968601199, -0.8496724441848096, 0.2041626662514401, 0.7618730607445849, -1.1507069986281788, 0.6599107371136214, -0.06753929552515554, -1.2165069573838576, 1.8987843998608216, -0.31490087940180644, 0.3660743345820462, 0.4218107956766632, 0.3089912594501252, 0.394789105793771, 0.4253362614950715, 1.660226841327557, -0.22761012389628388, -0.5069865734320621, -0.09445619273657074, 1.1539355107601834, 2.0500571926687705, -0.8948538495499534, 0.8925199369923554, 0.16043421919060608, 0.4190797854967326, -1.1605531588840317, 0.8533946459510025, 1.0230756283887796, 1.385085155070938, -4.433536853331192, -0.4836933956232965, -0.13250107547132398, -0.17499236765283083, -0.026059638174104723, -0.13890017489053902, -0.1953849616368364, 0.3124549496360172, 0.8958394835349717, 0.009559555697668766, -0.6476092790134855]}],                        {\"legend\": {\"bgcolor\": \"#F5F6F9\", \"font\": {\"color\": \"#4D5663\"}}, \"paper_bgcolor\": \"#F5F6F9\", \"plot_bgcolor\": \"#F5F6F9\", \"template\": {\"data\": {\"bar\": [{\"error_x\": {\"color\": \"#2a3f5f\"}, \"error_y\": {\"color\": \"#2a3f5f\"}, \"marker\": {\"line\": {\"color\": \"#E5ECF6\", \"width\": 0.5}}, \"type\": \"bar\"}], \"barpolar\": [{\"marker\": {\"line\": {\"color\": \"#E5ECF6\", \"width\": 0.5}}, \"type\": \"barpolar\"}], \"carpet\": [{\"aaxis\": {\"endlinecolor\": \"#2a3f5f\", \"gridcolor\": \"white\", \"linecolor\": \"white\", \"minorgridcolor\": \"white\", \"startlinecolor\": \"#2a3f5f\"}, \"baxis\": {\"endlinecolor\": \"#2a3f5f\", \"gridcolor\": \"white\", \"linecolor\": \"white\", \"minorgridcolor\": \"white\", \"startlinecolor\": \"#2a3f5f\"}, \"type\": \"carpet\"}], \"choropleth\": [{\"colorbar\": {\"outlinewidth\": 0, \"ticks\": \"\"}, \"type\": \"choropleth\"}], \"contour\": [{\"colorbar\": {\"outlinewidth\": 0, \"ticks\": \"\"}, \"colorscale\": [[0.0, \"#0d0887\"], [0.1111111111111111, \"#46039f\"], [0.2222222222222222, \"#7201a8\"], [0.3333333333333333, \"#9c179e\"], [0.4444444444444444, \"#bd3786\"], [0.5555555555555556, \"#d8576b\"], [0.6666666666666666, \"#ed7953\"], [0.7777777777777778, \"#fb9f3a\"], [0.8888888888888888, \"#fdca26\"], [1.0, \"#f0f921\"]], \"type\": \"contour\"}], \"contourcarpet\": [{\"colorbar\": {\"outlinewidth\": 0, \"ticks\": \"\"}, \"type\": \"contourcarpet\"}], \"heatmap\": [{\"colorbar\": {\"outlinewidth\": 0, \"ticks\": \"\"}, \"colorscale\": [[0.0, \"#0d0887\"], [0.1111111111111111, \"#46039f\"], [0.2222222222222222, \"#7201a8\"], [0.3333333333333333, \"#9c179e\"], [0.4444444444444444, \"#bd3786\"], [0.5555555555555556, \"#d8576b\"], [0.6666666666666666, \"#ed7953\"], [0.7777777777777778, \"#fb9f3a\"], [0.8888888888888888, \"#fdca26\"], [1.0, \"#f0f921\"]], \"type\": \"heatmap\"}], \"heatmapgl\": [{\"colorbar\": {\"outlinewidth\": 0, \"ticks\": \"\"}, \"colorscale\": [[0.0, \"#0d0887\"], [0.1111111111111111, \"#46039f\"], [0.2222222222222222, \"#7201a8\"], [0.3333333333333333, \"#9c179e\"], [0.4444444444444444, \"#bd3786\"], [0.5555555555555556, \"#d8576b\"], [0.6666666666666666, \"#ed7953\"], [0.7777777777777778, \"#fb9f3a\"], [0.8888888888888888, \"#fdca26\"], [1.0, \"#f0f921\"]], \"type\": \"heatmapgl\"}], \"histogram\": [{\"marker\": {\"colorbar\": {\"outlinewidth\": 0, \"ticks\": \"\"}}, \"type\": \"histogram\"}], \"histogram2d\": [{\"colorbar\": {\"outlinewidth\": 0, \"ticks\": \"\"}, \"colorscale\": [[0.0, \"#0d0887\"], [0.1111111111111111, \"#46039f\"], [0.2222222222222222, \"#7201a8\"], [0.3333333333333333, \"#9c179e\"], [0.4444444444444444, \"#bd3786\"], [0.5555555555555556, \"#d8576b\"], [0.6666666666666666, \"#ed7953\"], [0.7777777777777778, \"#fb9f3a\"], [0.8888888888888888, \"#fdca26\"], [1.0, \"#f0f921\"]], \"type\": \"histogram2d\"}], \"histogram2dcontour\": [{\"colorbar\": {\"outlinewidth\": 0, \"ticks\": \"\"}, \"colorscale\": [[0.0, \"#0d0887\"], [0.1111111111111111, \"#46039f\"], [0.2222222222222222, \"#7201a8\"], [0.3333333333333333, \"#9c179e\"], [0.4444444444444444, \"#bd3786\"], [0.5555555555555556, \"#d8576b\"], [0.6666666666666666, \"#ed7953\"], [0.7777777777777778, \"#fb9f3a\"], [0.8888888888888888, \"#fdca26\"], [1.0, \"#f0f921\"]], \"type\": \"histogram2dcontour\"}], \"mesh3d\": [{\"colorbar\": {\"outlinewidth\": 0, \"ticks\": \"\"}, \"type\": \"mesh3d\"}], \"parcoords\": [{\"line\": {\"colorbar\": {\"outlinewidth\": 0, \"ticks\": \"\"}}, \"type\": \"parcoords\"}], \"pie\": [{\"automargin\": true, \"type\": \"pie\"}], \"scatter\": [{\"marker\": {\"colorbar\": {\"outlinewidth\": 0, \"ticks\": \"\"}}, \"type\": \"scatter\"}], \"scatter3d\": [{\"line\": {\"colorbar\": {\"outlinewidth\": 0, \"ticks\": \"\"}}, \"marker\": {\"colorbar\": {\"outlinewidth\": 0, \"ticks\": \"\"}}, \"type\": \"scatter3d\"}], \"scattercarpet\": [{\"marker\": {\"colorbar\": {\"outlinewidth\": 0, \"ticks\": \"\"}}, \"type\": \"scattercarpet\"}], \"scattergeo\": [{\"marker\": {\"colorbar\": {\"outlinewidth\": 0, \"ticks\": \"\"}}, \"type\": \"scattergeo\"}], \"scattergl\": [{\"marker\": {\"colorbar\": {\"outlinewidth\": 0, \"ticks\": \"\"}}, \"type\": \"scattergl\"}], \"scattermapbox\": [{\"marker\": {\"colorbar\": {\"outlinewidth\": 0, \"ticks\": \"\"}}, \"type\": \"scattermapbox\"}], \"scatterpolar\": [{\"marker\": {\"colorbar\": {\"outlinewidth\": 0, \"ticks\": \"\"}}, \"type\": \"scatterpolar\"}], \"scatterpolargl\": [{\"marker\": {\"colorbar\": {\"outlinewidth\": 0, \"ticks\": \"\"}}, \"type\": \"scatterpolargl\"}], \"scatterternary\": [{\"marker\": {\"colorbar\": {\"outlinewidth\": 0, \"ticks\": \"\"}}, \"type\": \"scatterternary\"}], \"surface\": [{\"colorbar\": {\"outlinewidth\": 0, \"ticks\": \"\"}, \"colorscale\": [[0.0, \"#0d0887\"], [0.1111111111111111, \"#46039f\"], [0.2222222222222222, \"#7201a8\"], [0.3333333333333333, \"#9c179e\"], [0.4444444444444444, \"#bd3786\"], [0.5555555555555556, \"#d8576b\"], [0.6666666666666666, \"#ed7953\"], [0.7777777777777778, \"#fb9f3a\"], [0.8888888888888888, \"#fdca26\"], [1.0, \"#f0f921\"]], \"type\": \"surface\"}], \"table\": [{\"cells\": {\"fill\": {\"color\": \"#EBF0F8\"}, \"line\": {\"color\": \"white\"}}, \"header\": {\"fill\": {\"color\": \"#C8D4E3\"}, \"line\": {\"color\": \"white\"}}, \"type\": \"table\"}]}, \"layout\": {\"annotationdefaults\": {\"arrowcolor\": \"#2a3f5f\", \"arrowhead\": 0, \"arrowwidth\": 1}, \"autotypenumbers\": \"strict\", \"coloraxis\": {\"colorbar\": {\"outlinewidth\": 0, \"ticks\": \"\"}}, \"colorscale\": {\"diverging\": [[0, \"#8e0152\"], [0.1, \"#c51b7d\"], [0.2, \"#de77ae\"], [0.3, \"#f1b6da\"], [0.4, \"#fde0ef\"], [0.5, \"#f7f7f7\"], [0.6, \"#e6f5d0\"], [0.7, \"#b8e186\"], [0.8, \"#7fbc41\"], [0.9, \"#4d9221\"], [1, \"#276419\"]], \"sequential\": [[0.0, \"#0d0887\"], [0.1111111111111111, \"#46039f\"], [0.2222222222222222, \"#7201a8\"], [0.3333333333333333, \"#9c179e\"], [0.4444444444444444, \"#bd3786\"], [0.5555555555555556, \"#d8576b\"], [0.6666666666666666, \"#ed7953\"], [0.7777777777777778, \"#fb9f3a\"], [0.8888888888888888, \"#fdca26\"], [1.0, \"#f0f921\"]], \"sequentialminus\": [[0.0, \"#0d0887\"], [0.1111111111111111, \"#46039f\"], [0.2222222222222222, \"#7201a8\"], [0.3333333333333333, \"#9c179e\"], [0.4444444444444444, \"#bd3786\"], [0.5555555555555556, \"#d8576b\"], [0.6666666666666666, \"#ed7953\"], [0.7777777777777778, \"#fb9f3a\"], [0.8888888888888888, \"#fdca26\"], [1.0, \"#f0f921\"]]}, \"colorway\": [\"#636efa\", \"#EF553B\", \"#00cc96\", \"#ab63fa\", \"#FFA15A\", \"#19d3f3\", \"#FF6692\", \"#B6E880\", \"#FF97FF\", \"#FECB52\"], \"font\": {\"color\": \"#2a3f5f\"}, \"geo\": {\"bgcolor\": \"white\", \"lakecolor\": \"white\", \"landcolor\": \"#E5ECF6\", \"showlakes\": true, \"showland\": true, \"subunitcolor\": \"white\"}, \"hoverlabel\": {\"align\": \"left\"}, \"hovermode\": \"closest\", \"mapbox\": {\"style\": \"light\"}, \"paper_bgcolor\": \"white\", \"plot_bgcolor\": \"#E5ECF6\", \"polar\": {\"angularaxis\": {\"gridcolor\": \"white\", \"linecolor\": \"white\", \"ticks\": \"\"}, \"bgcolor\": \"#E5ECF6\", \"radialaxis\": {\"gridcolor\": \"white\", \"linecolor\": \"white\", \"ticks\": \"\"}}, \"scene\": {\"xaxis\": {\"backgroundcolor\": \"#E5ECF6\", \"gridcolor\": \"white\", \"gridwidth\": 2, \"linecolor\": \"white\", \"showbackground\": true, \"ticks\": \"\", \"zerolinecolor\": \"white\"}, \"yaxis\": {\"backgroundcolor\": \"#E5ECF6\", \"gridcolor\": \"white\", \"gridwidth\": 2, \"linecolor\": \"white\", \"showbackground\": true, \"ticks\": \"\", \"zerolinecolor\": \"white\"}, \"zaxis\": {\"backgroundcolor\": \"#E5ECF6\", \"gridcolor\": \"white\", \"gridwidth\": 2, \"linecolor\": \"white\", \"showbackground\": true, \"ticks\": \"\", \"zerolinecolor\": \"white\"}}, \"shapedefaults\": {\"line\": {\"color\": \"#2a3f5f\"}}, \"ternary\": {\"aaxis\": {\"gridcolor\": \"white\", \"linecolor\": \"white\", \"ticks\": \"\"}, \"baxis\": {\"gridcolor\": \"white\", \"linecolor\": \"white\", \"ticks\": \"\"}, \"bgcolor\": \"#E5ECF6\", \"caxis\": {\"gridcolor\": \"white\", \"linecolor\": \"white\", \"ticks\": \"\"}}, \"title\": {\"x\": 0.05}, \"xaxis\": {\"automargin\": true, \"gridcolor\": \"white\", \"linecolor\": \"white\", \"ticks\": \"\", \"title\": {\"standoff\": 15}, \"zerolinecolor\": \"white\", \"zerolinewidth\": 2}, \"yaxis\": {\"automargin\": true, \"gridcolor\": \"white\", \"linecolor\": \"white\", \"ticks\": \"\", \"title\": {\"standoff\": 15}, \"zerolinecolor\": \"white\", \"zerolinewidth\": 2}}}, \"title\": {\"font\": {\"color\": \"#4D5663\"}}, \"xaxis\": {\"gridcolor\": \"#E1E5ED\", \"showgrid\": true, \"tickfont\": {\"color\": \"#4D5663\"}, \"title\": {\"font\": {\"color\": \"#4D5663\"}, \"text\": \"\"}, \"zerolinecolor\": \"#E1E5ED\"}, \"yaxis\": {\"gridcolor\": \"#E1E5ED\", \"showgrid\": true, \"tickfont\": {\"color\": \"#4D5663\"}, \"title\": {\"font\": {\"color\": \"#4D5663\"}, \"text\": \"\"}, \"zerolinecolor\": \"#E1E5ED\"}},                        {\"showLink\": true, \"linkText\": \"Export to plot.ly\", \"plotlyServerURL\": \"https://plot.ly\", \"responsive\": true}                    ).then(function(){\n",
       "                            \n",
       "var gd = document.getElementById('fb8c6c49-c89e-48b5-bb7f-9cb308583c9c');\n",
       "var x = new MutationObserver(function (mutations, observer) {{\n",
       "        var display = window.getComputedStyle(gd).display;\n",
       "        if (!display || display === 'none') {{\n",
       "            console.log([gd, 'removed!']);\n",
       "            Plotly.purge(gd);\n",
       "            observer.disconnect();\n",
       "        }}\n",
       "}});\n",
       "\n",
       "// Listen for the removal of the full notebook cells\n",
       "var notebookContainer = gd.closest('#notebook-container');\n",
       "if (notebookContainer) {{\n",
       "    x.observe(notebookContainer, {childList: true});\n",
       "}}\n",
       "\n",
       "// Listen for the clearing of the current output cell\n",
       "var outputEl = gd.closest('.output');\n",
       "if (outputEl) {{\n",
       "    x.observe(outputEl, {childList: true});\n",
       "}}\n",
       "\n",
       "                        })                };                });            </script>        </div>"
      ]
     },
     "metadata": {},
     "output_type": "display_data"
    }
   ],
   "source": [
    "df.iplot(kind='box')"
   ]
  },
  {
   "cell_type": "code",
   "execution_count": 20,
   "id": "7a8f0507",
   "metadata": {},
   "outputs": [],
   "source": [
    "df3 = pd.DataFrame({'x':[1,2,3,4,5],'y':[10,20,30,20,10],'z':[5,4,3,2,1]})"
   ]
  },
  {
   "cell_type": "code",
   "execution_count": 21,
   "id": "6448daaf",
   "metadata": {},
   "outputs": [
    {
     "data": {
      "text/html": [
       "<div>\n",
       "<style scoped>\n",
       "    .dataframe tbody tr th:only-of-type {\n",
       "        vertical-align: middle;\n",
       "    }\n",
       "\n",
       "    .dataframe tbody tr th {\n",
       "        vertical-align: top;\n",
       "    }\n",
       "\n",
       "    .dataframe thead th {\n",
       "        text-align: right;\n",
       "    }\n",
       "</style>\n",
       "<table border=\"1\" class=\"dataframe\">\n",
       "  <thead>\n",
       "    <tr style=\"text-align: right;\">\n",
       "      <th></th>\n",
       "      <th>x</th>\n",
       "      <th>y</th>\n",
       "      <th>z</th>\n",
       "    </tr>\n",
       "  </thead>\n",
       "  <tbody>\n",
       "    <tr>\n",
       "      <th>0</th>\n",
       "      <td>1</td>\n",
       "      <td>10</td>\n",
       "      <td>5</td>\n",
       "    </tr>\n",
       "    <tr>\n",
       "      <th>1</th>\n",
       "      <td>2</td>\n",
       "      <td>20</td>\n",
       "      <td>4</td>\n",
       "    </tr>\n",
       "    <tr>\n",
       "      <th>2</th>\n",
       "      <td>3</td>\n",
       "      <td>30</td>\n",
       "      <td>3</td>\n",
       "    </tr>\n",
       "    <tr>\n",
       "      <th>3</th>\n",
       "      <td>4</td>\n",
       "      <td>20</td>\n",
       "      <td>2</td>\n",
       "    </tr>\n",
       "    <tr>\n",
       "      <th>4</th>\n",
       "      <td>5</td>\n",
       "      <td>10</td>\n",
       "      <td>1</td>\n",
       "    </tr>\n",
       "  </tbody>\n",
       "</table>\n",
       "</div>"
      ],
      "text/plain": [
       "   x   y  z\n",
       "0  1  10  5\n",
       "1  2  20  4\n",
       "2  3  30  3\n",
       "3  4  20  2\n",
       "4  5  10  1"
      ]
     },
     "execution_count": 21,
     "metadata": {},
     "output_type": "execute_result"
    }
   ],
   "source": [
    "df3"
   ]
  },
  {
   "cell_type": "code",
   "execution_count": 22,
   "id": "d410ef98",
   "metadata": {},
   "outputs": [
    {
     "data": {
      "application/vnd.plotly.v1+json": {
       "config": {
        "linkText": "Export to plot.ly",
        "plotlyServerURL": "https://plot.ly",
        "showLink": true
       },
       "data": [
        {
         "colorscale": [
          [
           0,
           "rgb(165,0,38)"
          ],
          [
           0.1,
           "rgb(215,48,39)"
          ],
          [
           0.2,
           "rgb(244,109,67)"
          ],
          [
           0.3,
           "rgb(253,174,97)"
          ],
          [
           0.4,
           "rgb(254,224,144)"
          ],
          [
           0.5,
           "rgb(255,255,191)"
          ],
          [
           0.6,
           "rgb(224,243,248)"
          ],
          [
           0.7,
           "rgb(171,217,233)"
          ],
          [
           0.8,
           "rgb(116,173,209)"
          ],
          [
           0.9,
           "rgb(69,117,180)"
          ],
          [
           1,
           "rgb(49,54,149)"
          ]
         ],
         "type": "surface",
         "x": [
          0,
          1,
          2,
          3,
          4
         ],
         "y": [
          "x",
          "y",
          "z"
         ],
         "z": [
          [
           1,
           2,
           3,
           4,
           5
          ],
          [
           10,
           20,
           30,
           20,
           10
          ],
          [
           5,
           4,
           3,
           2,
           1
          ]
         ]
        }
       ],
       "layout": {
        "legend": {
         "bgcolor": "#F5F6F9",
         "font": {
          "color": "#4D5663"
         }
        },
        "paper_bgcolor": "#F5F6F9",
        "plot_bgcolor": "#F5F6F9",
        "template": {
         "data": {
          "bar": [
           {
            "error_x": {
             "color": "#2a3f5f"
            },
            "error_y": {
             "color": "#2a3f5f"
            },
            "marker": {
             "line": {
              "color": "#E5ECF6",
              "width": 0.5
             }
            },
            "type": "bar"
           }
          ],
          "barpolar": [
           {
            "marker": {
             "line": {
              "color": "#E5ECF6",
              "width": 0.5
             }
            },
            "type": "barpolar"
           }
          ],
          "carpet": [
           {
            "aaxis": {
             "endlinecolor": "#2a3f5f",
             "gridcolor": "white",
             "linecolor": "white",
             "minorgridcolor": "white",
             "startlinecolor": "#2a3f5f"
            },
            "baxis": {
             "endlinecolor": "#2a3f5f",
             "gridcolor": "white",
             "linecolor": "white",
             "minorgridcolor": "white",
             "startlinecolor": "#2a3f5f"
            },
            "type": "carpet"
           }
          ],
          "choropleth": [
           {
            "colorbar": {
             "outlinewidth": 0,
             "ticks": ""
            },
            "type": "choropleth"
           }
          ],
          "contour": [
           {
            "colorbar": {
             "outlinewidth": 0,
             "ticks": ""
            },
            "colorscale": [
             [
              0,
              "#0d0887"
             ],
             [
              0.1111111111111111,
              "#46039f"
             ],
             [
              0.2222222222222222,
              "#7201a8"
             ],
             [
              0.3333333333333333,
              "#9c179e"
             ],
             [
              0.4444444444444444,
              "#bd3786"
             ],
             [
              0.5555555555555556,
              "#d8576b"
             ],
             [
              0.6666666666666666,
              "#ed7953"
             ],
             [
              0.7777777777777778,
              "#fb9f3a"
             ],
             [
              0.8888888888888888,
              "#fdca26"
             ],
             [
              1,
              "#f0f921"
             ]
            ],
            "type": "contour"
           }
          ],
          "contourcarpet": [
           {
            "colorbar": {
             "outlinewidth": 0,
             "ticks": ""
            },
            "type": "contourcarpet"
           }
          ],
          "heatmap": [
           {
            "colorbar": {
             "outlinewidth": 0,
             "ticks": ""
            },
            "colorscale": [
             [
              0,
              "#0d0887"
             ],
             [
              0.1111111111111111,
              "#46039f"
             ],
             [
              0.2222222222222222,
              "#7201a8"
             ],
             [
              0.3333333333333333,
              "#9c179e"
             ],
             [
              0.4444444444444444,
              "#bd3786"
             ],
             [
              0.5555555555555556,
              "#d8576b"
             ],
             [
              0.6666666666666666,
              "#ed7953"
             ],
             [
              0.7777777777777778,
              "#fb9f3a"
             ],
             [
              0.8888888888888888,
              "#fdca26"
             ],
             [
              1,
              "#f0f921"
             ]
            ],
            "type": "heatmap"
           }
          ],
          "heatmapgl": [
           {
            "colorbar": {
             "outlinewidth": 0,
             "ticks": ""
            },
            "colorscale": [
             [
              0,
              "#0d0887"
             ],
             [
              0.1111111111111111,
              "#46039f"
             ],
             [
              0.2222222222222222,
              "#7201a8"
             ],
             [
              0.3333333333333333,
              "#9c179e"
             ],
             [
              0.4444444444444444,
              "#bd3786"
             ],
             [
              0.5555555555555556,
              "#d8576b"
             ],
             [
              0.6666666666666666,
              "#ed7953"
             ],
             [
              0.7777777777777778,
              "#fb9f3a"
             ],
             [
              0.8888888888888888,
              "#fdca26"
             ],
             [
              1,
              "#f0f921"
             ]
            ],
            "type": "heatmapgl"
           }
          ],
          "histogram": [
           {
            "marker": {
             "colorbar": {
              "outlinewidth": 0,
              "ticks": ""
             }
            },
            "type": "histogram"
           }
          ],
          "histogram2d": [
           {
            "colorbar": {
             "outlinewidth": 0,
             "ticks": ""
            },
            "colorscale": [
             [
              0,
              "#0d0887"
             ],
             [
              0.1111111111111111,
              "#46039f"
             ],
             [
              0.2222222222222222,
              "#7201a8"
             ],
             [
              0.3333333333333333,
              "#9c179e"
             ],
             [
              0.4444444444444444,
              "#bd3786"
             ],
             [
              0.5555555555555556,
              "#d8576b"
             ],
             [
              0.6666666666666666,
              "#ed7953"
             ],
             [
              0.7777777777777778,
              "#fb9f3a"
             ],
             [
              0.8888888888888888,
              "#fdca26"
             ],
             [
              1,
              "#f0f921"
             ]
            ],
            "type": "histogram2d"
           }
          ],
          "histogram2dcontour": [
           {
            "colorbar": {
             "outlinewidth": 0,
             "ticks": ""
            },
            "colorscale": [
             [
              0,
              "#0d0887"
             ],
             [
              0.1111111111111111,
              "#46039f"
             ],
             [
              0.2222222222222222,
              "#7201a8"
             ],
             [
              0.3333333333333333,
              "#9c179e"
             ],
             [
              0.4444444444444444,
              "#bd3786"
             ],
             [
              0.5555555555555556,
              "#d8576b"
             ],
             [
              0.6666666666666666,
              "#ed7953"
             ],
             [
              0.7777777777777778,
              "#fb9f3a"
             ],
             [
              0.8888888888888888,
              "#fdca26"
             ],
             [
              1,
              "#f0f921"
             ]
            ],
            "type": "histogram2dcontour"
           }
          ],
          "mesh3d": [
           {
            "colorbar": {
             "outlinewidth": 0,
             "ticks": ""
            },
            "type": "mesh3d"
           }
          ],
          "parcoords": [
           {
            "line": {
             "colorbar": {
              "outlinewidth": 0,
              "ticks": ""
             }
            },
            "type": "parcoords"
           }
          ],
          "pie": [
           {
            "automargin": true,
            "type": "pie"
           }
          ],
          "scatter": [
           {
            "marker": {
             "colorbar": {
              "outlinewidth": 0,
              "ticks": ""
             }
            },
            "type": "scatter"
           }
          ],
          "scatter3d": [
           {
            "line": {
             "colorbar": {
              "outlinewidth": 0,
              "ticks": ""
             }
            },
            "marker": {
             "colorbar": {
              "outlinewidth": 0,
              "ticks": ""
             }
            },
            "type": "scatter3d"
           }
          ],
          "scattercarpet": [
           {
            "marker": {
             "colorbar": {
              "outlinewidth": 0,
              "ticks": ""
             }
            },
            "type": "scattercarpet"
           }
          ],
          "scattergeo": [
           {
            "marker": {
             "colorbar": {
              "outlinewidth": 0,
              "ticks": ""
             }
            },
            "type": "scattergeo"
           }
          ],
          "scattergl": [
           {
            "marker": {
             "colorbar": {
              "outlinewidth": 0,
              "ticks": ""
             }
            },
            "type": "scattergl"
           }
          ],
          "scattermapbox": [
           {
            "marker": {
             "colorbar": {
              "outlinewidth": 0,
              "ticks": ""
             }
            },
            "type": "scattermapbox"
           }
          ],
          "scatterpolar": [
           {
            "marker": {
             "colorbar": {
              "outlinewidth": 0,
              "ticks": ""
             }
            },
            "type": "scatterpolar"
           }
          ],
          "scatterpolargl": [
           {
            "marker": {
             "colorbar": {
              "outlinewidth": 0,
              "ticks": ""
             }
            },
            "type": "scatterpolargl"
           }
          ],
          "scatterternary": [
           {
            "marker": {
             "colorbar": {
              "outlinewidth": 0,
              "ticks": ""
             }
            },
            "type": "scatterternary"
           }
          ],
          "surface": [
           {
            "colorbar": {
             "outlinewidth": 0,
             "ticks": ""
            },
            "colorscale": [
             [
              0,
              "#0d0887"
             ],
             [
              0.1111111111111111,
              "#46039f"
             ],
             [
              0.2222222222222222,
              "#7201a8"
             ],
             [
              0.3333333333333333,
              "#9c179e"
             ],
             [
              0.4444444444444444,
              "#bd3786"
             ],
             [
              0.5555555555555556,
              "#d8576b"
             ],
             [
              0.6666666666666666,
              "#ed7953"
             ],
             [
              0.7777777777777778,
              "#fb9f3a"
             ],
             [
              0.8888888888888888,
              "#fdca26"
             ],
             [
              1,
              "#f0f921"
             ]
            ],
            "type": "surface"
           }
          ],
          "table": [
           {
            "cells": {
             "fill": {
              "color": "#EBF0F8"
             },
             "line": {
              "color": "white"
             }
            },
            "header": {
             "fill": {
              "color": "#C8D4E3"
             },
             "line": {
              "color": "white"
             }
            },
            "type": "table"
           }
          ]
         },
         "layout": {
          "annotationdefaults": {
           "arrowcolor": "#2a3f5f",
           "arrowhead": 0,
           "arrowwidth": 1
          },
          "autotypenumbers": "strict",
          "coloraxis": {
           "colorbar": {
            "outlinewidth": 0,
            "ticks": ""
           }
          },
          "colorscale": {
           "diverging": [
            [
             0,
             "#8e0152"
            ],
            [
             0.1,
             "#c51b7d"
            ],
            [
             0.2,
             "#de77ae"
            ],
            [
             0.3,
             "#f1b6da"
            ],
            [
             0.4,
             "#fde0ef"
            ],
            [
             0.5,
             "#f7f7f7"
            ],
            [
             0.6,
             "#e6f5d0"
            ],
            [
             0.7,
             "#b8e186"
            ],
            [
             0.8,
             "#7fbc41"
            ],
            [
             0.9,
             "#4d9221"
            ],
            [
             1,
             "#276419"
            ]
           ],
           "sequential": [
            [
             0,
             "#0d0887"
            ],
            [
             0.1111111111111111,
             "#46039f"
            ],
            [
             0.2222222222222222,
             "#7201a8"
            ],
            [
             0.3333333333333333,
             "#9c179e"
            ],
            [
             0.4444444444444444,
             "#bd3786"
            ],
            [
             0.5555555555555556,
             "#d8576b"
            ],
            [
             0.6666666666666666,
             "#ed7953"
            ],
            [
             0.7777777777777778,
             "#fb9f3a"
            ],
            [
             0.8888888888888888,
             "#fdca26"
            ],
            [
             1,
             "#f0f921"
            ]
           ],
           "sequentialminus": [
            [
             0,
             "#0d0887"
            ],
            [
             0.1111111111111111,
             "#46039f"
            ],
            [
             0.2222222222222222,
             "#7201a8"
            ],
            [
             0.3333333333333333,
             "#9c179e"
            ],
            [
             0.4444444444444444,
             "#bd3786"
            ],
            [
             0.5555555555555556,
             "#d8576b"
            ],
            [
             0.6666666666666666,
             "#ed7953"
            ],
            [
             0.7777777777777778,
             "#fb9f3a"
            ],
            [
             0.8888888888888888,
             "#fdca26"
            ],
            [
             1,
             "#f0f921"
            ]
           ]
          },
          "colorway": [
           "#636efa",
           "#EF553B",
           "#00cc96",
           "#ab63fa",
           "#FFA15A",
           "#19d3f3",
           "#FF6692",
           "#B6E880",
           "#FF97FF",
           "#FECB52"
          ],
          "font": {
           "color": "#2a3f5f"
          },
          "geo": {
           "bgcolor": "white",
           "lakecolor": "white",
           "landcolor": "#E5ECF6",
           "showlakes": true,
           "showland": true,
           "subunitcolor": "white"
          },
          "hoverlabel": {
           "align": "left"
          },
          "hovermode": "closest",
          "mapbox": {
           "style": "light"
          },
          "paper_bgcolor": "white",
          "plot_bgcolor": "#E5ECF6",
          "polar": {
           "angularaxis": {
            "gridcolor": "white",
            "linecolor": "white",
            "ticks": ""
           },
           "bgcolor": "#E5ECF6",
           "radialaxis": {
            "gridcolor": "white",
            "linecolor": "white",
            "ticks": ""
           }
          },
          "scene": {
           "xaxis": {
            "backgroundcolor": "#E5ECF6",
            "gridcolor": "white",
            "gridwidth": 2,
            "linecolor": "white",
            "showbackground": true,
            "ticks": "",
            "zerolinecolor": "white"
           },
           "yaxis": {
            "backgroundcolor": "#E5ECF6",
            "gridcolor": "white",
            "gridwidth": 2,
            "linecolor": "white",
            "showbackground": true,
            "ticks": "",
            "zerolinecolor": "white"
           },
           "zaxis": {
            "backgroundcolor": "#E5ECF6",
            "gridcolor": "white",
            "gridwidth": 2,
            "linecolor": "white",
            "showbackground": true,
            "ticks": "",
            "zerolinecolor": "white"
           }
          },
          "shapedefaults": {
           "line": {
            "color": "#2a3f5f"
           }
          },
          "ternary": {
           "aaxis": {
            "gridcolor": "white",
            "linecolor": "white",
            "ticks": ""
           },
           "baxis": {
            "gridcolor": "white",
            "linecolor": "white",
            "ticks": ""
           },
           "bgcolor": "#E5ECF6",
           "caxis": {
            "gridcolor": "white",
            "linecolor": "white",
            "ticks": ""
           }
          },
          "title": {
           "x": 0.05
          },
          "xaxis": {
           "automargin": true,
           "gridcolor": "white",
           "linecolor": "white",
           "ticks": "",
           "title": {
            "standoff": 15
           },
           "zerolinecolor": "white",
           "zerolinewidth": 2
          },
          "yaxis": {
           "automargin": true,
           "gridcolor": "white",
           "linecolor": "white",
           "ticks": "",
           "title": {
            "standoff": 15
           },
           "zerolinecolor": "white",
           "zerolinewidth": 2
          }
         }
        },
        "title": {
         "font": {
          "color": "#4D5663"
         }
        },
        "xaxis": {
         "gridcolor": "#E1E5ED",
         "showgrid": true,
         "tickfont": {
          "color": "#4D5663"
         },
         "title": {
          "font": {
           "color": "#4D5663"
          },
          "text": ""
         },
         "zerolinecolor": "#E1E5ED"
        },
        "yaxis": {
         "gridcolor": "#E1E5ED",
         "showgrid": true,
         "tickfont": {
          "color": "#4D5663"
         },
         "title": {
          "font": {
           "color": "#4D5663"
          },
          "text": ""
         },
         "zerolinecolor": "#E1E5ED"
        }
       }
      },
      "text/html": [
       "<div>                            <div id=\"2e5a6397-3555-4eeb-9849-59335d8244c3\" class=\"plotly-graph-div\" style=\"height:525px; width:100%;\"></div>            <script type=\"text/javascript\">                require([\"plotly\"], function(Plotly) {                    window.PLOTLYENV=window.PLOTLYENV || {};\n",
       "                    window.PLOTLYENV.BASE_URL='https://plot.ly';                                    if (document.getElementById(\"2e5a6397-3555-4eeb-9849-59335d8244c3\")) {                    Plotly.newPlot(                        \"2e5a6397-3555-4eeb-9849-59335d8244c3\",                        [{\"colorscale\": [[0.0, \"rgb(165,0,38)\"], [0.1, \"rgb(215,48,39)\"], [0.2, \"rgb(244,109,67)\"], [0.3, \"rgb(253,174,97)\"], [0.4, \"rgb(254,224,144)\"], [0.5, \"rgb(255,255,191)\"], [0.6, \"rgb(224,243,248)\"], [0.7, \"rgb(171,217,233)\"], [0.8, \"rgb(116,173,209)\"], [0.9, \"rgb(69,117,180)\"], [1.0, \"rgb(49,54,149)\"]], \"type\": \"surface\", \"x\": [0, 1, 2, 3, 4], \"y\": [\"x\", \"y\", \"z\"], \"z\": [[1, 2, 3, 4, 5], [10, 20, 30, 20, 10], [5, 4, 3, 2, 1]]}],                        {\"legend\": {\"bgcolor\": \"#F5F6F9\", \"font\": {\"color\": \"#4D5663\"}}, \"paper_bgcolor\": \"#F5F6F9\", \"plot_bgcolor\": \"#F5F6F9\", \"template\": {\"data\": {\"bar\": [{\"error_x\": {\"color\": \"#2a3f5f\"}, \"error_y\": {\"color\": \"#2a3f5f\"}, \"marker\": {\"line\": {\"color\": \"#E5ECF6\", \"width\": 0.5}}, \"type\": \"bar\"}], \"barpolar\": [{\"marker\": {\"line\": {\"color\": \"#E5ECF6\", \"width\": 0.5}}, \"type\": \"barpolar\"}], \"carpet\": [{\"aaxis\": {\"endlinecolor\": \"#2a3f5f\", \"gridcolor\": \"white\", \"linecolor\": \"white\", \"minorgridcolor\": \"white\", \"startlinecolor\": \"#2a3f5f\"}, \"baxis\": {\"endlinecolor\": \"#2a3f5f\", \"gridcolor\": \"white\", \"linecolor\": \"white\", \"minorgridcolor\": \"white\", \"startlinecolor\": \"#2a3f5f\"}, \"type\": \"carpet\"}], \"choropleth\": [{\"colorbar\": {\"outlinewidth\": 0, \"ticks\": \"\"}, \"type\": \"choropleth\"}], \"contour\": [{\"colorbar\": {\"outlinewidth\": 0, \"ticks\": \"\"}, \"colorscale\": [[0.0, \"#0d0887\"], [0.1111111111111111, \"#46039f\"], [0.2222222222222222, \"#7201a8\"], [0.3333333333333333, \"#9c179e\"], [0.4444444444444444, \"#bd3786\"], [0.5555555555555556, \"#d8576b\"], [0.6666666666666666, \"#ed7953\"], [0.7777777777777778, \"#fb9f3a\"], [0.8888888888888888, \"#fdca26\"], [1.0, \"#f0f921\"]], \"type\": \"contour\"}], \"contourcarpet\": [{\"colorbar\": {\"outlinewidth\": 0, \"ticks\": \"\"}, \"type\": \"contourcarpet\"}], \"heatmap\": [{\"colorbar\": {\"outlinewidth\": 0, \"ticks\": \"\"}, \"colorscale\": [[0.0, \"#0d0887\"], [0.1111111111111111, \"#46039f\"], [0.2222222222222222, \"#7201a8\"], [0.3333333333333333, \"#9c179e\"], [0.4444444444444444, \"#bd3786\"], [0.5555555555555556, \"#d8576b\"], [0.6666666666666666, \"#ed7953\"], [0.7777777777777778, \"#fb9f3a\"], [0.8888888888888888, \"#fdca26\"], [1.0, \"#f0f921\"]], \"type\": \"heatmap\"}], \"heatmapgl\": [{\"colorbar\": {\"outlinewidth\": 0, \"ticks\": \"\"}, \"colorscale\": [[0.0, \"#0d0887\"], [0.1111111111111111, \"#46039f\"], [0.2222222222222222, \"#7201a8\"], [0.3333333333333333, \"#9c179e\"], [0.4444444444444444, \"#bd3786\"], [0.5555555555555556, \"#d8576b\"], [0.6666666666666666, \"#ed7953\"], [0.7777777777777778, \"#fb9f3a\"], [0.8888888888888888, \"#fdca26\"], [1.0, \"#f0f921\"]], \"type\": \"heatmapgl\"}], \"histogram\": [{\"marker\": {\"colorbar\": {\"outlinewidth\": 0, \"ticks\": \"\"}}, \"type\": \"histogram\"}], \"histogram2d\": [{\"colorbar\": {\"outlinewidth\": 0, \"ticks\": \"\"}, \"colorscale\": [[0.0, \"#0d0887\"], [0.1111111111111111, \"#46039f\"], [0.2222222222222222, \"#7201a8\"], [0.3333333333333333, \"#9c179e\"], [0.4444444444444444, \"#bd3786\"], [0.5555555555555556, \"#d8576b\"], [0.6666666666666666, \"#ed7953\"], [0.7777777777777778, \"#fb9f3a\"], [0.8888888888888888, \"#fdca26\"], [1.0, \"#f0f921\"]], \"type\": \"histogram2d\"}], \"histogram2dcontour\": [{\"colorbar\": {\"outlinewidth\": 0, \"ticks\": \"\"}, \"colorscale\": [[0.0, \"#0d0887\"], [0.1111111111111111, \"#46039f\"], [0.2222222222222222, \"#7201a8\"], [0.3333333333333333, \"#9c179e\"], [0.4444444444444444, \"#bd3786\"], [0.5555555555555556, \"#d8576b\"], [0.6666666666666666, \"#ed7953\"], [0.7777777777777778, \"#fb9f3a\"], [0.8888888888888888, \"#fdca26\"], [1.0, \"#f0f921\"]], \"type\": \"histogram2dcontour\"}], \"mesh3d\": [{\"colorbar\": {\"outlinewidth\": 0, \"ticks\": \"\"}, \"type\": \"mesh3d\"}], \"parcoords\": [{\"line\": {\"colorbar\": {\"outlinewidth\": 0, \"ticks\": \"\"}}, \"type\": \"parcoords\"}], \"pie\": [{\"automargin\": true, \"type\": \"pie\"}], \"scatter\": [{\"marker\": {\"colorbar\": {\"outlinewidth\": 0, \"ticks\": \"\"}}, \"type\": \"scatter\"}], \"scatter3d\": [{\"line\": {\"colorbar\": {\"outlinewidth\": 0, \"ticks\": \"\"}}, \"marker\": {\"colorbar\": {\"outlinewidth\": 0, \"ticks\": \"\"}}, \"type\": \"scatter3d\"}], \"scattercarpet\": [{\"marker\": {\"colorbar\": {\"outlinewidth\": 0, \"ticks\": \"\"}}, \"type\": \"scattercarpet\"}], \"scattergeo\": [{\"marker\": {\"colorbar\": {\"outlinewidth\": 0, \"ticks\": \"\"}}, \"type\": \"scattergeo\"}], \"scattergl\": [{\"marker\": {\"colorbar\": {\"outlinewidth\": 0, \"ticks\": \"\"}}, \"type\": \"scattergl\"}], \"scattermapbox\": [{\"marker\": {\"colorbar\": {\"outlinewidth\": 0, \"ticks\": \"\"}}, \"type\": \"scattermapbox\"}], \"scatterpolar\": [{\"marker\": {\"colorbar\": {\"outlinewidth\": 0, \"ticks\": \"\"}}, \"type\": \"scatterpolar\"}], \"scatterpolargl\": [{\"marker\": {\"colorbar\": {\"outlinewidth\": 0, \"ticks\": \"\"}}, \"type\": \"scatterpolargl\"}], \"scatterternary\": [{\"marker\": {\"colorbar\": {\"outlinewidth\": 0, \"ticks\": \"\"}}, \"type\": \"scatterternary\"}], \"surface\": [{\"colorbar\": {\"outlinewidth\": 0, \"ticks\": \"\"}, \"colorscale\": [[0.0, \"#0d0887\"], [0.1111111111111111, \"#46039f\"], [0.2222222222222222, \"#7201a8\"], [0.3333333333333333, \"#9c179e\"], [0.4444444444444444, \"#bd3786\"], [0.5555555555555556, \"#d8576b\"], [0.6666666666666666, \"#ed7953\"], [0.7777777777777778, \"#fb9f3a\"], [0.8888888888888888, \"#fdca26\"], [1.0, \"#f0f921\"]], \"type\": \"surface\"}], \"table\": [{\"cells\": {\"fill\": {\"color\": \"#EBF0F8\"}, \"line\": {\"color\": \"white\"}}, \"header\": {\"fill\": {\"color\": \"#C8D4E3\"}, \"line\": {\"color\": \"white\"}}, \"type\": \"table\"}]}, \"layout\": {\"annotationdefaults\": {\"arrowcolor\": \"#2a3f5f\", \"arrowhead\": 0, \"arrowwidth\": 1}, \"autotypenumbers\": \"strict\", \"coloraxis\": {\"colorbar\": {\"outlinewidth\": 0, \"ticks\": \"\"}}, \"colorscale\": {\"diverging\": [[0, \"#8e0152\"], [0.1, \"#c51b7d\"], [0.2, \"#de77ae\"], [0.3, \"#f1b6da\"], [0.4, \"#fde0ef\"], [0.5, \"#f7f7f7\"], [0.6, \"#e6f5d0\"], [0.7, \"#b8e186\"], [0.8, \"#7fbc41\"], [0.9, \"#4d9221\"], [1, \"#276419\"]], \"sequential\": [[0.0, \"#0d0887\"], [0.1111111111111111, \"#46039f\"], [0.2222222222222222, \"#7201a8\"], [0.3333333333333333, \"#9c179e\"], [0.4444444444444444, \"#bd3786\"], [0.5555555555555556, \"#d8576b\"], [0.6666666666666666, \"#ed7953\"], [0.7777777777777778, \"#fb9f3a\"], [0.8888888888888888, \"#fdca26\"], [1.0, \"#f0f921\"]], \"sequentialminus\": [[0.0, \"#0d0887\"], [0.1111111111111111, \"#46039f\"], [0.2222222222222222, \"#7201a8\"], [0.3333333333333333, \"#9c179e\"], [0.4444444444444444, \"#bd3786\"], [0.5555555555555556, \"#d8576b\"], [0.6666666666666666, \"#ed7953\"], [0.7777777777777778, \"#fb9f3a\"], [0.8888888888888888, \"#fdca26\"], [1.0, \"#f0f921\"]]}, \"colorway\": [\"#636efa\", \"#EF553B\", \"#00cc96\", \"#ab63fa\", \"#FFA15A\", \"#19d3f3\", \"#FF6692\", \"#B6E880\", \"#FF97FF\", \"#FECB52\"], \"font\": {\"color\": \"#2a3f5f\"}, \"geo\": {\"bgcolor\": \"white\", \"lakecolor\": \"white\", \"landcolor\": \"#E5ECF6\", \"showlakes\": true, \"showland\": true, \"subunitcolor\": \"white\"}, \"hoverlabel\": {\"align\": \"left\"}, \"hovermode\": \"closest\", \"mapbox\": {\"style\": \"light\"}, \"paper_bgcolor\": \"white\", \"plot_bgcolor\": \"#E5ECF6\", \"polar\": {\"angularaxis\": {\"gridcolor\": \"white\", \"linecolor\": \"white\", \"ticks\": \"\"}, \"bgcolor\": \"#E5ECF6\", \"radialaxis\": {\"gridcolor\": \"white\", \"linecolor\": \"white\", \"ticks\": \"\"}}, \"scene\": {\"xaxis\": {\"backgroundcolor\": \"#E5ECF6\", \"gridcolor\": \"white\", \"gridwidth\": 2, \"linecolor\": \"white\", \"showbackground\": true, \"ticks\": \"\", \"zerolinecolor\": \"white\"}, \"yaxis\": {\"backgroundcolor\": \"#E5ECF6\", \"gridcolor\": \"white\", \"gridwidth\": 2, \"linecolor\": \"white\", \"showbackground\": true, \"ticks\": \"\", \"zerolinecolor\": \"white\"}, \"zaxis\": {\"backgroundcolor\": \"#E5ECF6\", \"gridcolor\": \"white\", \"gridwidth\": 2, \"linecolor\": \"white\", \"showbackground\": true, \"ticks\": \"\", \"zerolinecolor\": \"white\"}}, \"shapedefaults\": {\"line\": {\"color\": \"#2a3f5f\"}}, \"ternary\": {\"aaxis\": {\"gridcolor\": \"white\", \"linecolor\": \"white\", \"ticks\": \"\"}, \"baxis\": {\"gridcolor\": \"white\", \"linecolor\": \"white\", \"ticks\": \"\"}, \"bgcolor\": \"#E5ECF6\", \"caxis\": {\"gridcolor\": \"white\", \"linecolor\": \"white\", \"ticks\": \"\"}}, \"title\": {\"x\": 0.05}, \"xaxis\": {\"automargin\": true, \"gridcolor\": \"white\", \"linecolor\": \"white\", \"ticks\": \"\", \"title\": {\"standoff\": 15}, \"zerolinecolor\": \"white\", \"zerolinewidth\": 2}, \"yaxis\": {\"automargin\": true, \"gridcolor\": \"white\", \"linecolor\": \"white\", \"ticks\": \"\", \"title\": {\"standoff\": 15}, \"zerolinecolor\": \"white\", \"zerolinewidth\": 2}}}, \"title\": {\"font\": {\"color\": \"#4D5663\"}}, \"xaxis\": {\"gridcolor\": \"#E1E5ED\", \"showgrid\": true, \"tickfont\": {\"color\": \"#4D5663\"}, \"title\": {\"font\": {\"color\": \"#4D5663\"}, \"text\": \"\"}, \"zerolinecolor\": \"#E1E5ED\"}, \"yaxis\": {\"gridcolor\": \"#E1E5ED\", \"showgrid\": true, \"tickfont\": {\"color\": \"#4D5663\"}, \"title\": {\"font\": {\"color\": \"#4D5663\"}, \"text\": \"\"}, \"zerolinecolor\": \"#E1E5ED\"}},                        {\"showLink\": true, \"linkText\": \"Export to plot.ly\", \"plotlyServerURL\": \"https://plot.ly\", \"responsive\": true}                    ).then(function(){\n",
       "                            \n",
       "var gd = document.getElementById('2e5a6397-3555-4eeb-9849-59335d8244c3');\n",
       "var x = new MutationObserver(function (mutations, observer) {{\n",
       "        var display = window.getComputedStyle(gd).display;\n",
       "        if (!display || display === 'none') {{\n",
       "            console.log([gd, 'removed!']);\n",
       "            Plotly.purge(gd);\n",
       "            observer.disconnect();\n",
       "        }}\n",
       "}});\n",
       "\n",
       "// Listen for the removal of the full notebook cells\n",
       "var notebookContainer = gd.closest('#notebook-container');\n",
       "if (notebookContainer) {{\n",
       "    x.observe(notebookContainer, {childList: true});\n",
       "}}\n",
       "\n",
       "// Listen for the clearing of the current output cell\n",
       "var outputEl = gd.closest('.output');\n",
       "if (outputEl) {{\n",
       "    x.observe(outputEl, {childList: true});\n",
       "}}\n",
       "\n",
       "                        })                };                });            </script>        </div>"
      ]
     },
     "metadata": {},
     "output_type": "display_data"
    }
   ],
   "source": [
    "df3.iplot(kind='surface',colorscale='rdylbu')"
   ]
  },
  {
   "cell_type": "code",
   "execution_count": 25,
   "id": "613ae174",
   "metadata": {},
   "outputs": [
    {
     "data": {
      "application/vnd.plotly.v1+json": {
       "config": {
        "linkText": "Export to plot.ly",
        "plotlyServerURL": "https://plot.ly",
        "showLink": true
       },
       "data": [
        {
         "histfunc": "count",
         "histnorm": "",
         "marker": {
          "color": "rgba(255, 153, 51, 1.0)",
          "line": {
           "color": "#4D5663",
           "width": 1.3
          }
         },
         "name": "A",
         "nbinsx": 50,
         "opacity": 0.8,
         "orientation": "v",
         "type": "histogram",
         "x": [
          0.7579169907008975,
          -0.8161547742370481,
          -1.0676658944274364,
          0.3492477357554279,
          0.3390648990769225,
          0.09742219321199275,
          -1.33055230754233,
          -0.12682840085417438,
          -0.25128864086285696,
          2.1115708861917555,
          -1.339406042465701,
          -0.347374481064104,
          -1.3794015617559465,
          0.23290287749488986,
          0.41586382257588445,
          -0.5975340305163689,
          0.4086109611770097,
          0.5472736736776053,
          0.13715433771920907,
          1.6032654886085844,
          -0.5658030710740445,
          0.4404707283859412,
          -0.33724279007117697,
          -0.060014931120361666,
          -0.055651249216383945,
          -0.4050924167306593,
          -0.5674351170616927,
          -1.4251007871026502,
          -0.8995319823222503,
          1.1062589503452354,
          -0.20382072046038863,
          -0.00010055195585183877,
          0.17696378540158358,
          0.7588837221366781,
          0.2521796539016003,
          0.2853964120837876,
          -0.16277726494508643,
          -0.38601143344105365,
          -1.0170379359384103,
          -0.3466500445108914,
          -1.5401398016670331,
          -0.535571994409165,
          -1.7075842134185053,
          0.5066193456872792,
          -1.1181765596137385,
          -0.07719660704485161,
          1.409412284069849,
          -0.5131803731783747,
          0.14512693266306823,
          2.6527272388996663,
          -0.24086569918403608,
          0.5802248482304968,
          -0.28805074414568127,
          -0.394646373523225,
          -0.18229447257056783,
          -0.7128994194693947,
          -0.1760753682112523,
          -0.03307361130640672,
          2.8949245145138893,
          1.4639937505591218,
          -1.1787561032149947,
          0.5080631908125035,
          0.7299226637744624,
          1.114971455912152,
          0.3670444793270461,
          -0.8986701651154719,
          0.10427824380549375,
          0.4926150883989747,
          0.50128685010186,
          0.1582082959286535,
          1.424381376073982,
          -0.7098519159265192,
          1.4343352301075223,
          0.8848001165715448,
          -0.3329297614837509,
          -0.09449322766838299,
          -1.4331704424392953,
          -2.3482367888755706,
          -0.4313472857630825,
          -0.6850394753749117,
          0.07373150250514426,
          1.5035838122434417,
          -1.0673400959574666,
          -0.1790479235488818,
          0.5497921570738876,
          -1.6569094570064595,
          0.6867680990971627,
          -1.5246247206548413,
          0.06523519227070403,
          -1.0893939851966334,
          -0.6426486274421239,
          -1.1784518458385573,
          1.4014189134269002,
          -1.6916384711818373,
          1.2564031949041172,
          0.9657713826538739,
          -0.3086420219503129,
          -0.3789089791792017,
          -0.30407623942767387,
          -0.2204677342273025
         ]
        }
       ],
       "layout": {
        "barmode": "overlay",
        "legend": {
         "bgcolor": "#F5F6F9",
         "font": {
          "color": "#4D5663"
         }
        },
        "paper_bgcolor": "#F5F6F9",
        "plot_bgcolor": "#F5F6F9",
        "template": {
         "data": {
          "bar": [
           {
            "error_x": {
             "color": "#2a3f5f"
            },
            "error_y": {
             "color": "#2a3f5f"
            },
            "marker": {
             "line": {
              "color": "#E5ECF6",
              "width": 0.5
             }
            },
            "type": "bar"
           }
          ],
          "barpolar": [
           {
            "marker": {
             "line": {
              "color": "#E5ECF6",
              "width": 0.5
             }
            },
            "type": "barpolar"
           }
          ],
          "carpet": [
           {
            "aaxis": {
             "endlinecolor": "#2a3f5f",
             "gridcolor": "white",
             "linecolor": "white",
             "minorgridcolor": "white",
             "startlinecolor": "#2a3f5f"
            },
            "baxis": {
             "endlinecolor": "#2a3f5f",
             "gridcolor": "white",
             "linecolor": "white",
             "minorgridcolor": "white",
             "startlinecolor": "#2a3f5f"
            },
            "type": "carpet"
           }
          ],
          "choropleth": [
           {
            "colorbar": {
             "outlinewidth": 0,
             "ticks": ""
            },
            "type": "choropleth"
           }
          ],
          "contour": [
           {
            "colorbar": {
             "outlinewidth": 0,
             "ticks": ""
            },
            "colorscale": [
             [
              0,
              "#0d0887"
             ],
             [
              0.1111111111111111,
              "#46039f"
             ],
             [
              0.2222222222222222,
              "#7201a8"
             ],
             [
              0.3333333333333333,
              "#9c179e"
             ],
             [
              0.4444444444444444,
              "#bd3786"
             ],
             [
              0.5555555555555556,
              "#d8576b"
             ],
             [
              0.6666666666666666,
              "#ed7953"
             ],
             [
              0.7777777777777778,
              "#fb9f3a"
             ],
             [
              0.8888888888888888,
              "#fdca26"
             ],
             [
              1,
              "#f0f921"
             ]
            ],
            "type": "contour"
           }
          ],
          "contourcarpet": [
           {
            "colorbar": {
             "outlinewidth": 0,
             "ticks": ""
            },
            "type": "contourcarpet"
           }
          ],
          "heatmap": [
           {
            "colorbar": {
             "outlinewidth": 0,
             "ticks": ""
            },
            "colorscale": [
             [
              0,
              "#0d0887"
             ],
             [
              0.1111111111111111,
              "#46039f"
             ],
             [
              0.2222222222222222,
              "#7201a8"
             ],
             [
              0.3333333333333333,
              "#9c179e"
             ],
             [
              0.4444444444444444,
              "#bd3786"
             ],
             [
              0.5555555555555556,
              "#d8576b"
             ],
             [
              0.6666666666666666,
              "#ed7953"
             ],
             [
              0.7777777777777778,
              "#fb9f3a"
             ],
             [
              0.8888888888888888,
              "#fdca26"
             ],
             [
              1,
              "#f0f921"
             ]
            ],
            "type": "heatmap"
           }
          ],
          "heatmapgl": [
           {
            "colorbar": {
             "outlinewidth": 0,
             "ticks": ""
            },
            "colorscale": [
             [
              0,
              "#0d0887"
             ],
             [
              0.1111111111111111,
              "#46039f"
             ],
             [
              0.2222222222222222,
              "#7201a8"
             ],
             [
              0.3333333333333333,
              "#9c179e"
             ],
             [
              0.4444444444444444,
              "#bd3786"
             ],
             [
              0.5555555555555556,
              "#d8576b"
             ],
             [
              0.6666666666666666,
              "#ed7953"
             ],
             [
              0.7777777777777778,
              "#fb9f3a"
             ],
             [
              0.8888888888888888,
              "#fdca26"
             ],
             [
              1,
              "#f0f921"
             ]
            ],
            "type": "heatmapgl"
           }
          ],
          "histogram": [
           {
            "marker": {
             "colorbar": {
              "outlinewidth": 0,
              "ticks": ""
             }
            },
            "type": "histogram"
           }
          ],
          "histogram2d": [
           {
            "colorbar": {
             "outlinewidth": 0,
             "ticks": ""
            },
            "colorscale": [
             [
              0,
              "#0d0887"
             ],
             [
              0.1111111111111111,
              "#46039f"
             ],
             [
              0.2222222222222222,
              "#7201a8"
             ],
             [
              0.3333333333333333,
              "#9c179e"
             ],
             [
              0.4444444444444444,
              "#bd3786"
             ],
             [
              0.5555555555555556,
              "#d8576b"
             ],
             [
              0.6666666666666666,
              "#ed7953"
             ],
             [
              0.7777777777777778,
              "#fb9f3a"
             ],
             [
              0.8888888888888888,
              "#fdca26"
             ],
             [
              1,
              "#f0f921"
             ]
            ],
            "type": "histogram2d"
           }
          ],
          "histogram2dcontour": [
           {
            "colorbar": {
             "outlinewidth": 0,
             "ticks": ""
            },
            "colorscale": [
             [
              0,
              "#0d0887"
             ],
             [
              0.1111111111111111,
              "#46039f"
             ],
             [
              0.2222222222222222,
              "#7201a8"
             ],
             [
              0.3333333333333333,
              "#9c179e"
             ],
             [
              0.4444444444444444,
              "#bd3786"
             ],
             [
              0.5555555555555556,
              "#d8576b"
             ],
             [
              0.6666666666666666,
              "#ed7953"
             ],
             [
              0.7777777777777778,
              "#fb9f3a"
             ],
             [
              0.8888888888888888,
              "#fdca26"
             ],
             [
              1,
              "#f0f921"
             ]
            ],
            "type": "histogram2dcontour"
           }
          ],
          "mesh3d": [
           {
            "colorbar": {
             "outlinewidth": 0,
             "ticks": ""
            },
            "type": "mesh3d"
           }
          ],
          "parcoords": [
           {
            "line": {
             "colorbar": {
              "outlinewidth": 0,
              "ticks": ""
             }
            },
            "type": "parcoords"
           }
          ],
          "pie": [
           {
            "automargin": true,
            "type": "pie"
           }
          ],
          "scatter": [
           {
            "marker": {
             "colorbar": {
              "outlinewidth": 0,
              "ticks": ""
             }
            },
            "type": "scatter"
           }
          ],
          "scatter3d": [
           {
            "line": {
             "colorbar": {
              "outlinewidth": 0,
              "ticks": ""
             }
            },
            "marker": {
             "colorbar": {
              "outlinewidth": 0,
              "ticks": ""
             }
            },
            "type": "scatter3d"
           }
          ],
          "scattercarpet": [
           {
            "marker": {
             "colorbar": {
              "outlinewidth": 0,
              "ticks": ""
             }
            },
            "type": "scattercarpet"
           }
          ],
          "scattergeo": [
           {
            "marker": {
             "colorbar": {
              "outlinewidth": 0,
              "ticks": ""
             }
            },
            "type": "scattergeo"
           }
          ],
          "scattergl": [
           {
            "marker": {
             "colorbar": {
              "outlinewidth": 0,
              "ticks": ""
             }
            },
            "type": "scattergl"
           }
          ],
          "scattermapbox": [
           {
            "marker": {
             "colorbar": {
              "outlinewidth": 0,
              "ticks": ""
             }
            },
            "type": "scattermapbox"
           }
          ],
          "scatterpolar": [
           {
            "marker": {
             "colorbar": {
              "outlinewidth": 0,
              "ticks": ""
             }
            },
            "type": "scatterpolar"
           }
          ],
          "scatterpolargl": [
           {
            "marker": {
             "colorbar": {
              "outlinewidth": 0,
              "ticks": ""
             }
            },
            "type": "scatterpolargl"
           }
          ],
          "scatterternary": [
           {
            "marker": {
             "colorbar": {
              "outlinewidth": 0,
              "ticks": ""
             }
            },
            "type": "scatterternary"
           }
          ],
          "surface": [
           {
            "colorbar": {
             "outlinewidth": 0,
             "ticks": ""
            },
            "colorscale": [
             [
              0,
              "#0d0887"
             ],
             [
              0.1111111111111111,
              "#46039f"
             ],
             [
              0.2222222222222222,
              "#7201a8"
             ],
             [
              0.3333333333333333,
              "#9c179e"
             ],
             [
              0.4444444444444444,
              "#bd3786"
             ],
             [
              0.5555555555555556,
              "#d8576b"
             ],
             [
              0.6666666666666666,
              "#ed7953"
             ],
             [
              0.7777777777777778,
              "#fb9f3a"
             ],
             [
              0.8888888888888888,
              "#fdca26"
             ],
             [
              1,
              "#f0f921"
             ]
            ],
            "type": "surface"
           }
          ],
          "table": [
           {
            "cells": {
             "fill": {
              "color": "#EBF0F8"
             },
             "line": {
              "color": "white"
             }
            },
            "header": {
             "fill": {
              "color": "#C8D4E3"
             },
             "line": {
              "color": "white"
             }
            },
            "type": "table"
           }
          ]
         },
         "layout": {
          "annotationdefaults": {
           "arrowcolor": "#2a3f5f",
           "arrowhead": 0,
           "arrowwidth": 1
          },
          "autotypenumbers": "strict",
          "coloraxis": {
           "colorbar": {
            "outlinewidth": 0,
            "ticks": ""
           }
          },
          "colorscale": {
           "diverging": [
            [
             0,
             "#8e0152"
            ],
            [
             0.1,
             "#c51b7d"
            ],
            [
             0.2,
             "#de77ae"
            ],
            [
             0.3,
             "#f1b6da"
            ],
            [
             0.4,
             "#fde0ef"
            ],
            [
             0.5,
             "#f7f7f7"
            ],
            [
             0.6,
             "#e6f5d0"
            ],
            [
             0.7,
             "#b8e186"
            ],
            [
             0.8,
             "#7fbc41"
            ],
            [
             0.9,
             "#4d9221"
            ],
            [
             1,
             "#276419"
            ]
           ],
           "sequential": [
            [
             0,
             "#0d0887"
            ],
            [
             0.1111111111111111,
             "#46039f"
            ],
            [
             0.2222222222222222,
             "#7201a8"
            ],
            [
             0.3333333333333333,
             "#9c179e"
            ],
            [
             0.4444444444444444,
             "#bd3786"
            ],
            [
             0.5555555555555556,
             "#d8576b"
            ],
            [
             0.6666666666666666,
             "#ed7953"
            ],
            [
             0.7777777777777778,
             "#fb9f3a"
            ],
            [
             0.8888888888888888,
             "#fdca26"
            ],
            [
             1,
             "#f0f921"
            ]
           ],
           "sequentialminus": [
            [
             0,
             "#0d0887"
            ],
            [
             0.1111111111111111,
             "#46039f"
            ],
            [
             0.2222222222222222,
             "#7201a8"
            ],
            [
             0.3333333333333333,
             "#9c179e"
            ],
            [
             0.4444444444444444,
             "#bd3786"
            ],
            [
             0.5555555555555556,
             "#d8576b"
            ],
            [
             0.6666666666666666,
             "#ed7953"
            ],
            [
             0.7777777777777778,
             "#fb9f3a"
            ],
            [
             0.8888888888888888,
             "#fdca26"
            ],
            [
             1,
             "#f0f921"
            ]
           ]
          },
          "colorway": [
           "#636efa",
           "#EF553B",
           "#00cc96",
           "#ab63fa",
           "#FFA15A",
           "#19d3f3",
           "#FF6692",
           "#B6E880",
           "#FF97FF",
           "#FECB52"
          ],
          "font": {
           "color": "#2a3f5f"
          },
          "geo": {
           "bgcolor": "white",
           "lakecolor": "white",
           "landcolor": "#E5ECF6",
           "showlakes": true,
           "showland": true,
           "subunitcolor": "white"
          },
          "hoverlabel": {
           "align": "left"
          },
          "hovermode": "closest",
          "mapbox": {
           "style": "light"
          },
          "paper_bgcolor": "white",
          "plot_bgcolor": "#E5ECF6",
          "polar": {
           "angularaxis": {
            "gridcolor": "white",
            "linecolor": "white",
            "ticks": ""
           },
           "bgcolor": "#E5ECF6",
           "radialaxis": {
            "gridcolor": "white",
            "linecolor": "white",
            "ticks": ""
           }
          },
          "scene": {
           "xaxis": {
            "backgroundcolor": "#E5ECF6",
            "gridcolor": "white",
            "gridwidth": 2,
            "linecolor": "white",
            "showbackground": true,
            "ticks": "",
            "zerolinecolor": "white"
           },
           "yaxis": {
            "backgroundcolor": "#E5ECF6",
            "gridcolor": "white",
            "gridwidth": 2,
            "linecolor": "white",
            "showbackground": true,
            "ticks": "",
            "zerolinecolor": "white"
           },
           "zaxis": {
            "backgroundcolor": "#E5ECF6",
            "gridcolor": "white",
            "gridwidth": 2,
            "linecolor": "white",
            "showbackground": true,
            "ticks": "",
            "zerolinecolor": "white"
           }
          },
          "shapedefaults": {
           "line": {
            "color": "#2a3f5f"
           }
          },
          "ternary": {
           "aaxis": {
            "gridcolor": "white",
            "linecolor": "white",
            "ticks": ""
           },
           "baxis": {
            "gridcolor": "white",
            "linecolor": "white",
            "ticks": ""
           },
           "bgcolor": "#E5ECF6",
           "caxis": {
            "gridcolor": "white",
            "linecolor": "white",
            "ticks": ""
           }
          },
          "title": {
           "x": 0.05
          },
          "xaxis": {
           "automargin": true,
           "gridcolor": "white",
           "linecolor": "white",
           "ticks": "",
           "title": {
            "standoff": 15
           },
           "zerolinecolor": "white",
           "zerolinewidth": 2
          },
          "yaxis": {
           "automargin": true,
           "gridcolor": "white",
           "linecolor": "white",
           "ticks": "",
           "title": {
            "standoff": 15
           },
           "zerolinecolor": "white",
           "zerolinewidth": 2
          }
         }
        },
        "title": {
         "font": {
          "color": "#4D5663"
         }
        },
        "xaxis": {
         "gridcolor": "#E1E5ED",
         "showgrid": true,
         "tickfont": {
          "color": "#4D5663"
         },
         "title": {
          "font": {
           "color": "#4D5663"
          },
          "text": ""
         },
         "zerolinecolor": "#E1E5ED"
        },
        "yaxis": {
         "gridcolor": "#E1E5ED",
         "showgrid": true,
         "tickfont": {
          "color": "#4D5663"
         },
         "title": {
          "font": {
           "color": "#4D5663"
          },
          "text": ""
         },
         "zerolinecolor": "#E1E5ED"
        }
       }
      },
      "text/html": [
       "<div>                            <div id=\"8a2a8c37-be1c-4034-99c8-e0bfc7183ee5\" class=\"plotly-graph-div\" style=\"height:525px; width:100%;\"></div>            <script type=\"text/javascript\">                require([\"plotly\"], function(Plotly) {                    window.PLOTLYENV=window.PLOTLYENV || {};\n",
       "                    window.PLOTLYENV.BASE_URL='https://plot.ly';                                    if (document.getElementById(\"8a2a8c37-be1c-4034-99c8-e0bfc7183ee5\")) {                    Plotly.newPlot(                        \"8a2a8c37-be1c-4034-99c8-e0bfc7183ee5\",                        [{\"histfunc\": \"count\", \"histnorm\": \"\", \"marker\": {\"color\": \"rgba(255, 153, 51, 1.0)\", \"line\": {\"color\": \"#4D5663\", \"width\": 1.3}}, \"name\": \"A\", \"nbinsx\": 50, \"opacity\": 0.8, \"orientation\": \"v\", \"type\": \"histogram\", \"x\": [0.7579169907008975, -0.8161547742370481, -1.0676658944274364, 0.3492477357554279, 0.3390648990769225, 0.09742219321199275, -1.33055230754233, -0.12682840085417438, -0.25128864086285696, 2.1115708861917555, -1.339406042465701, -0.347374481064104, -1.3794015617559465, 0.23290287749488986, 0.41586382257588445, -0.5975340305163689, 0.4086109611770097, 0.5472736736776053, 0.13715433771920907, 1.6032654886085844, -0.5658030710740445, 0.4404707283859412, -0.33724279007117697, -0.060014931120361666, -0.055651249216383945, -0.4050924167306593, -0.5674351170616927, -1.4251007871026502, -0.8995319823222503, 1.1062589503452354, -0.20382072046038863, -0.00010055195585183877, 0.17696378540158358, 0.7588837221366781, 0.2521796539016003, 0.2853964120837876, -0.16277726494508643, -0.38601143344105365, -1.0170379359384103, -0.3466500445108914, -1.5401398016670331, -0.535571994409165, -1.7075842134185053, 0.5066193456872792, -1.1181765596137385, -0.07719660704485161, 1.409412284069849, -0.5131803731783747, 0.14512693266306823, 2.6527272388996663, -0.24086569918403608, 0.5802248482304968, -0.28805074414568127, -0.394646373523225, -0.18229447257056783, -0.7128994194693947, -0.1760753682112523, -0.03307361130640672, 2.8949245145138893, 1.4639937505591218, -1.1787561032149947, 0.5080631908125035, 0.7299226637744624, 1.114971455912152, 0.3670444793270461, -0.8986701651154719, 0.10427824380549375, 0.4926150883989747, 0.50128685010186, 0.1582082959286535, 1.424381376073982, -0.7098519159265192, 1.4343352301075223, 0.8848001165715448, -0.3329297614837509, -0.09449322766838299, -1.4331704424392953, -2.3482367888755706, -0.4313472857630825, -0.6850394753749117, 0.07373150250514426, 1.5035838122434417, -1.0673400959574666, -0.1790479235488818, 0.5497921570738876, -1.6569094570064595, 0.6867680990971627, -1.5246247206548413, 0.06523519227070403, -1.0893939851966334, -0.6426486274421239, -1.1784518458385573, 1.4014189134269002, -1.6916384711818373, 1.2564031949041172, 0.9657713826538739, -0.3086420219503129, -0.3789089791792017, -0.30407623942767387, -0.2204677342273025]}],                        {\"barmode\": \"overlay\", \"legend\": {\"bgcolor\": \"#F5F6F9\", \"font\": {\"color\": \"#4D5663\"}}, \"paper_bgcolor\": \"#F5F6F9\", \"plot_bgcolor\": \"#F5F6F9\", \"template\": {\"data\": {\"bar\": [{\"error_x\": {\"color\": \"#2a3f5f\"}, \"error_y\": {\"color\": \"#2a3f5f\"}, \"marker\": {\"line\": {\"color\": \"#E5ECF6\", \"width\": 0.5}}, \"type\": \"bar\"}], \"barpolar\": [{\"marker\": {\"line\": {\"color\": \"#E5ECF6\", \"width\": 0.5}}, \"type\": \"barpolar\"}], \"carpet\": [{\"aaxis\": {\"endlinecolor\": \"#2a3f5f\", \"gridcolor\": \"white\", \"linecolor\": \"white\", \"minorgridcolor\": \"white\", \"startlinecolor\": \"#2a3f5f\"}, \"baxis\": {\"endlinecolor\": \"#2a3f5f\", \"gridcolor\": \"white\", \"linecolor\": \"white\", \"minorgridcolor\": \"white\", \"startlinecolor\": \"#2a3f5f\"}, \"type\": \"carpet\"}], \"choropleth\": [{\"colorbar\": {\"outlinewidth\": 0, \"ticks\": \"\"}, \"type\": \"choropleth\"}], \"contour\": [{\"colorbar\": {\"outlinewidth\": 0, \"ticks\": \"\"}, \"colorscale\": [[0.0, \"#0d0887\"], [0.1111111111111111, \"#46039f\"], [0.2222222222222222, \"#7201a8\"], [0.3333333333333333, \"#9c179e\"], [0.4444444444444444, \"#bd3786\"], [0.5555555555555556, \"#d8576b\"], [0.6666666666666666, \"#ed7953\"], [0.7777777777777778, \"#fb9f3a\"], [0.8888888888888888, \"#fdca26\"], [1.0, \"#f0f921\"]], \"type\": \"contour\"}], \"contourcarpet\": [{\"colorbar\": {\"outlinewidth\": 0, \"ticks\": \"\"}, \"type\": \"contourcarpet\"}], \"heatmap\": [{\"colorbar\": {\"outlinewidth\": 0, \"ticks\": \"\"}, \"colorscale\": [[0.0, \"#0d0887\"], [0.1111111111111111, \"#46039f\"], [0.2222222222222222, \"#7201a8\"], [0.3333333333333333, \"#9c179e\"], [0.4444444444444444, \"#bd3786\"], [0.5555555555555556, \"#d8576b\"], [0.6666666666666666, \"#ed7953\"], [0.7777777777777778, \"#fb9f3a\"], [0.8888888888888888, \"#fdca26\"], [1.0, \"#f0f921\"]], \"type\": \"heatmap\"}], \"heatmapgl\": [{\"colorbar\": {\"outlinewidth\": 0, \"ticks\": \"\"}, \"colorscale\": [[0.0, \"#0d0887\"], [0.1111111111111111, \"#46039f\"], [0.2222222222222222, \"#7201a8\"], [0.3333333333333333, \"#9c179e\"], [0.4444444444444444, \"#bd3786\"], [0.5555555555555556, \"#d8576b\"], [0.6666666666666666, \"#ed7953\"], [0.7777777777777778, \"#fb9f3a\"], [0.8888888888888888, \"#fdca26\"], [1.0, \"#f0f921\"]], \"type\": \"heatmapgl\"}], \"histogram\": [{\"marker\": {\"colorbar\": {\"outlinewidth\": 0, \"ticks\": \"\"}}, \"type\": \"histogram\"}], \"histogram2d\": [{\"colorbar\": {\"outlinewidth\": 0, \"ticks\": \"\"}, \"colorscale\": [[0.0, \"#0d0887\"], [0.1111111111111111, \"#46039f\"], [0.2222222222222222, \"#7201a8\"], [0.3333333333333333, \"#9c179e\"], [0.4444444444444444, \"#bd3786\"], [0.5555555555555556, \"#d8576b\"], [0.6666666666666666, \"#ed7953\"], [0.7777777777777778, \"#fb9f3a\"], [0.8888888888888888, \"#fdca26\"], [1.0, \"#f0f921\"]], \"type\": \"histogram2d\"}], \"histogram2dcontour\": [{\"colorbar\": {\"outlinewidth\": 0, \"ticks\": \"\"}, \"colorscale\": [[0.0, \"#0d0887\"], [0.1111111111111111, \"#46039f\"], [0.2222222222222222, \"#7201a8\"], [0.3333333333333333, \"#9c179e\"], [0.4444444444444444, \"#bd3786\"], [0.5555555555555556, \"#d8576b\"], [0.6666666666666666, \"#ed7953\"], [0.7777777777777778, \"#fb9f3a\"], [0.8888888888888888, \"#fdca26\"], [1.0, \"#f0f921\"]], \"type\": \"histogram2dcontour\"}], \"mesh3d\": [{\"colorbar\": {\"outlinewidth\": 0, \"ticks\": \"\"}, \"type\": \"mesh3d\"}], \"parcoords\": [{\"line\": {\"colorbar\": {\"outlinewidth\": 0, \"ticks\": \"\"}}, \"type\": \"parcoords\"}], \"pie\": [{\"automargin\": true, \"type\": \"pie\"}], \"scatter\": [{\"marker\": {\"colorbar\": {\"outlinewidth\": 0, \"ticks\": \"\"}}, \"type\": \"scatter\"}], \"scatter3d\": [{\"line\": {\"colorbar\": {\"outlinewidth\": 0, \"ticks\": \"\"}}, \"marker\": {\"colorbar\": {\"outlinewidth\": 0, \"ticks\": \"\"}}, \"type\": \"scatter3d\"}], \"scattercarpet\": [{\"marker\": {\"colorbar\": {\"outlinewidth\": 0, \"ticks\": \"\"}}, \"type\": \"scattercarpet\"}], \"scattergeo\": [{\"marker\": {\"colorbar\": {\"outlinewidth\": 0, \"ticks\": \"\"}}, \"type\": \"scattergeo\"}], \"scattergl\": [{\"marker\": {\"colorbar\": {\"outlinewidth\": 0, \"ticks\": \"\"}}, \"type\": \"scattergl\"}], \"scattermapbox\": [{\"marker\": {\"colorbar\": {\"outlinewidth\": 0, \"ticks\": \"\"}}, \"type\": \"scattermapbox\"}], \"scatterpolar\": [{\"marker\": {\"colorbar\": {\"outlinewidth\": 0, \"ticks\": \"\"}}, \"type\": \"scatterpolar\"}], \"scatterpolargl\": [{\"marker\": {\"colorbar\": {\"outlinewidth\": 0, \"ticks\": \"\"}}, \"type\": \"scatterpolargl\"}], \"scatterternary\": [{\"marker\": {\"colorbar\": {\"outlinewidth\": 0, \"ticks\": \"\"}}, \"type\": \"scatterternary\"}], \"surface\": [{\"colorbar\": {\"outlinewidth\": 0, \"ticks\": \"\"}, \"colorscale\": [[0.0, \"#0d0887\"], [0.1111111111111111, \"#46039f\"], [0.2222222222222222, \"#7201a8\"], [0.3333333333333333, \"#9c179e\"], [0.4444444444444444, \"#bd3786\"], [0.5555555555555556, \"#d8576b\"], [0.6666666666666666, \"#ed7953\"], [0.7777777777777778, \"#fb9f3a\"], [0.8888888888888888, \"#fdca26\"], [1.0, \"#f0f921\"]], \"type\": \"surface\"}], \"table\": [{\"cells\": {\"fill\": {\"color\": \"#EBF0F8\"}, \"line\": {\"color\": \"white\"}}, \"header\": {\"fill\": {\"color\": \"#C8D4E3\"}, \"line\": {\"color\": \"white\"}}, \"type\": \"table\"}]}, \"layout\": {\"annotationdefaults\": {\"arrowcolor\": \"#2a3f5f\", \"arrowhead\": 0, \"arrowwidth\": 1}, \"autotypenumbers\": \"strict\", \"coloraxis\": {\"colorbar\": {\"outlinewidth\": 0, \"ticks\": \"\"}}, \"colorscale\": {\"diverging\": [[0, \"#8e0152\"], [0.1, \"#c51b7d\"], [0.2, \"#de77ae\"], [0.3, \"#f1b6da\"], [0.4, \"#fde0ef\"], [0.5, \"#f7f7f7\"], [0.6, \"#e6f5d0\"], [0.7, \"#b8e186\"], [0.8, \"#7fbc41\"], [0.9, \"#4d9221\"], [1, \"#276419\"]], \"sequential\": [[0.0, \"#0d0887\"], [0.1111111111111111, \"#46039f\"], [0.2222222222222222, \"#7201a8\"], [0.3333333333333333, \"#9c179e\"], [0.4444444444444444, \"#bd3786\"], [0.5555555555555556, \"#d8576b\"], [0.6666666666666666, \"#ed7953\"], [0.7777777777777778, \"#fb9f3a\"], [0.8888888888888888, \"#fdca26\"], [1.0, \"#f0f921\"]], \"sequentialminus\": [[0.0, \"#0d0887\"], [0.1111111111111111, \"#46039f\"], [0.2222222222222222, \"#7201a8\"], [0.3333333333333333, \"#9c179e\"], [0.4444444444444444, \"#bd3786\"], [0.5555555555555556, \"#d8576b\"], [0.6666666666666666, \"#ed7953\"], [0.7777777777777778, \"#fb9f3a\"], [0.8888888888888888, \"#fdca26\"], [1.0, \"#f0f921\"]]}, \"colorway\": [\"#636efa\", \"#EF553B\", \"#00cc96\", \"#ab63fa\", \"#FFA15A\", \"#19d3f3\", \"#FF6692\", \"#B6E880\", \"#FF97FF\", \"#FECB52\"], \"font\": {\"color\": \"#2a3f5f\"}, \"geo\": {\"bgcolor\": \"white\", \"lakecolor\": \"white\", \"landcolor\": \"#E5ECF6\", \"showlakes\": true, \"showland\": true, \"subunitcolor\": \"white\"}, \"hoverlabel\": {\"align\": \"left\"}, \"hovermode\": \"closest\", \"mapbox\": {\"style\": \"light\"}, \"paper_bgcolor\": \"white\", \"plot_bgcolor\": \"#E5ECF6\", \"polar\": {\"angularaxis\": {\"gridcolor\": \"white\", \"linecolor\": \"white\", \"ticks\": \"\"}, \"bgcolor\": \"#E5ECF6\", \"radialaxis\": {\"gridcolor\": \"white\", \"linecolor\": \"white\", \"ticks\": \"\"}}, \"scene\": {\"xaxis\": {\"backgroundcolor\": \"#E5ECF6\", \"gridcolor\": \"white\", \"gridwidth\": 2, \"linecolor\": \"white\", \"showbackground\": true, \"ticks\": \"\", \"zerolinecolor\": \"white\"}, \"yaxis\": {\"backgroundcolor\": \"#E5ECF6\", \"gridcolor\": \"white\", \"gridwidth\": 2, \"linecolor\": \"white\", \"showbackground\": true, \"ticks\": \"\", \"zerolinecolor\": \"white\"}, \"zaxis\": {\"backgroundcolor\": \"#E5ECF6\", \"gridcolor\": \"white\", \"gridwidth\": 2, \"linecolor\": \"white\", \"showbackground\": true, \"ticks\": \"\", \"zerolinecolor\": \"white\"}}, \"shapedefaults\": {\"line\": {\"color\": \"#2a3f5f\"}}, \"ternary\": {\"aaxis\": {\"gridcolor\": \"white\", \"linecolor\": \"white\", \"ticks\": \"\"}, \"baxis\": {\"gridcolor\": \"white\", \"linecolor\": \"white\", \"ticks\": \"\"}, \"bgcolor\": \"#E5ECF6\", \"caxis\": {\"gridcolor\": \"white\", \"linecolor\": \"white\", \"ticks\": \"\"}}, \"title\": {\"x\": 0.05}, \"xaxis\": {\"automargin\": true, \"gridcolor\": \"white\", \"linecolor\": \"white\", \"ticks\": \"\", \"title\": {\"standoff\": 15}, \"zerolinecolor\": \"white\", \"zerolinewidth\": 2}, \"yaxis\": {\"automargin\": true, \"gridcolor\": \"white\", \"linecolor\": \"white\", \"ticks\": \"\", \"title\": {\"standoff\": 15}, \"zerolinecolor\": \"white\", \"zerolinewidth\": 2}}}, \"title\": {\"font\": {\"color\": \"#4D5663\"}}, \"xaxis\": {\"gridcolor\": \"#E1E5ED\", \"showgrid\": true, \"tickfont\": {\"color\": \"#4D5663\"}, \"title\": {\"font\": {\"color\": \"#4D5663\"}, \"text\": \"\"}, \"zerolinecolor\": \"#E1E5ED\"}, \"yaxis\": {\"gridcolor\": \"#E1E5ED\", \"showgrid\": true, \"tickfont\": {\"color\": \"#4D5663\"}, \"title\": {\"font\": {\"color\": \"#4D5663\"}, \"text\": \"\"}, \"zerolinecolor\": \"#E1E5ED\"}},                        {\"showLink\": true, \"linkText\": \"Export to plot.ly\", \"plotlyServerURL\": \"https://plot.ly\", \"responsive\": true}                    ).then(function(){\n",
       "                            \n",
       "var gd = document.getElementById('8a2a8c37-be1c-4034-99c8-e0bfc7183ee5');\n",
       "var x = new MutationObserver(function (mutations, observer) {{\n",
       "        var display = window.getComputedStyle(gd).display;\n",
       "        if (!display || display === 'none') {{\n",
       "            console.log([gd, 'removed!']);\n",
       "            Plotly.purge(gd);\n",
       "            observer.disconnect();\n",
       "        }}\n",
       "}});\n",
       "\n",
       "// Listen for the removal of the full notebook cells\n",
       "var notebookContainer = gd.closest('#notebook-container');\n",
       "if (notebookContainer) {{\n",
       "    x.observe(notebookContainer, {childList: true});\n",
       "}}\n",
       "\n",
       "// Listen for the clearing of the current output cell\n",
       "var outputEl = gd.closest('.output');\n",
       "if (outputEl) {{\n",
       "    x.observe(outputEl, {childList: true});\n",
       "}}\n",
       "\n",
       "                        })                };                });            </script>        </div>"
      ]
     },
     "metadata": {},
     "output_type": "display_data"
    }
   ],
   "source": [
    "df['A'].iplot(kind='hist', bins=50)"
   ]
  },
  {
   "cell_type": "code",
   "execution_count": 26,
   "id": "b8c02e65",
   "metadata": {},
   "outputs": [
    {
     "data": {
      "application/vnd.plotly.v1+json": {
       "config": {
        "linkText": "Export to plot.ly",
        "plotlyServerURL": "https://plot.ly",
        "showLink": true
       },
       "data": [
        {
         "histfunc": "count",
         "histnorm": "",
         "marker": {
          "color": "rgba(255, 153, 51, 1.0)",
          "line": {
           "color": "#4D5663",
           "width": 1.3
          }
         },
         "name": "A",
         "nbinsx": 50,
         "opacity": 0.8,
         "orientation": "v",
         "type": "histogram",
         "x": [
          0.7579169907008975,
          -0.8161547742370481,
          -1.0676658944274364,
          0.3492477357554279,
          0.3390648990769225,
          0.09742219321199275,
          -1.33055230754233,
          -0.12682840085417438,
          -0.25128864086285696,
          2.1115708861917555,
          -1.339406042465701,
          -0.347374481064104,
          -1.3794015617559465,
          0.23290287749488986,
          0.41586382257588445,
          -0.5975340305163689,
          0.4086109611770097,
          0.5472736736776053,
          0.13715433771920907,
          1.6032654886085844,
          -0.5658030710740445,
          0.4404707283859412,
          -0.33724279007117697,
          -0.060014931120361666,
          -0.055651249216383945,
          -0.4050924167306593,
          -0.5674351170616927,
          -1.4251007871026502,
          -0.8995319823222503,
          1.1062589503452354,
          -0.20382072046038863,
          -0.00010055195585183877,
          0.17696378540158358,
          0.7588837221366781,
          0.2521796539016003,
          0.2853964120837876,
          -0.16277726494508643,
          -0.38601143344105365,
          -1.0170379359384103,
          -0.3466500445108914,
          -1.5401398016670331,
          -0.535571994409165,
          -1.7075842134185053,
          0.5066193456872792,
          -1.1181765596137385,
          -0.07719660704485161,
          1.409412284069849,
          -0.5131803731783747,
          0.14512693266306823,
          2.6527272388996663,
          -0.24086569918403608,
          0.5802248482304968,
          -0.28805074414568127,
          -0.394646373523225,
          -0.18229447257056783,
          -0.7128994194693947,
          -0.1760753682112523,
          -0.03307361130640672,
          2.8949245145138893,
          1.4639937505591218,
          -1.1787561032149947,
          0.5080631908125035,
          0.7299226637744624,
          1.114971455912152,
          0.3670444793270461,
          -0.8986701651154719,
          0.10427824380549375,
          0.4926150883989747,
          0.50128685010186,
          0.1582082959286535,
          1.424381376073982,
          -0.7098519159265192,
          1.4343352301075223,
          0.8848001165715448,
          -0.3329297614837509,
          -0.09449322766838299,
          -1.4331704424392953,
          -2.3482367888755706,
          -0.4313472857630825,
          -0.6850394753749117,
          0.07373150250514426,
          1.5035838122434417,
          -1.0673400959574666,
          -0.1790479235488818,
          0.5497921570738876,
          -1.6569094570064595,
          0.6867680990971627,
          -1.5246247206548413,
          0.06523519227070403,
          -1.0893939851966334,
          -0.6426486274421239,
          -1.1784518458385573,
          1.4014189134269002,
          -1.6916384711818373,
          1.2564031949041172,
          0.9657713826538739,
          -0.3086420219503129,
          -0.3789089791792017,
          -0.30407623942767387,
          -0.2204677342273025
         ]
        },
        {
         "histfunc": "count",
         "histnorm": "",
         "marker": {
          "color": "rgba(55, 128, 191, 1.0)",
          "line": {
           "color": "#4D5663",
           "width": 1.3
          }
         },
         "name": "B",
         "nbinsx": 50,
         "opacity": 0.8,
         "orientation": "v",
         "type": "histogram",
         "x": [
          0.5684502720699256,
          0.5659318504590108,
          -0.19827760510486944,
          0.32983830760641514,
          0.5328299766395032,
          -2.6070863592723637,
          -1.498912957132498,
          0.38332965794274665,
          0.22264884897725187,
          -1.6528708786582085,
          -0.49870165714242487,
          -0.4786542575383392,
          1.072071747918505,
          0.30981640073313776,
          0.8935123571549635,
          -0.6819292753460076,
          0.4576173461547523,
          0.44311917309584925,
          -0.3834133487353966,
          0.24893642268377136,
          1.5725896637711498,
          2.5800447501566977,
          -0.031174073981630846,
          -0.527185533592221,
          0.25667482105584083,
          0.8323331450472324,
          -0.9568379443293512,
          0.14736685052680928,
          0.4953577645557132,
          1.127463897276566,
          0.1979067845689406,
          1.5849528203043828,
          -0.1747631695179193,
          0.9573789764398959,
          0.47436736441101895,
          -0.33127828318692876,
          0.7471120167436102,
          -2.022638281155942,
          2.0295295993715894,
          1.4420055066294375,
          -1.5295964399797681,
          1.8233838388928698,
          -0.7918471567136929,
          -1.7277233011088322,
          -0.625284887925668,
          0.8491625546406638,
          0.6780281200173601,
          -0.5141795457121822,
          -0.3431646995205548,
          1.5537837344549983,
          -0.3592575226298186,
          -1.200915218048695,
          0.447692552037646,
          -0.7291164997074,
          -0.0005065946840657674,
          -0.4437346151107805,
          0.15345808437672942,
          0.34710550181778704,
          1.7459026911646645,
          -1.3350888262495035,
          0.5533821815324313,
          0.253181086593142,
          -0.9589033870327761,
          0.4962013516394784,
          -0.16364535978691475,
          -0.5635106687798505,
          0.3874399481008401,
          -0.892203741798904,
          1.1650334107393163,
          0.047543043577904336,
          0.11249070564030511,
          0.09672797186554681,
          -0.8058650376771265,
          -0.583781575627234,
          1.038090201365297,
          -0.20666537242679023,
          -1.048021628407373,
          0.9899524366949004,
          0.7694913735559865,
          -0.22516987366451005,
          0.610271014996182,
          -1.199867464191324,
          -0.31217188679917635,
          0.9675753903319483,
          -2.0023223593090176,
          0.002514579727119917,
          1.4298377798004676,
          -0.9007516727608389,
          1.845629362612709,
          1.014157798755033,
          0.8562826331180223,
          0.1343851276353828,
          -1.5959146246492517,
          -0.0263178124517433,
          -0.8647975627911636,
          0.7729014273210385,
          -0.30570206339584927,
          0.6912959249022436,
          0.05769976468709154,
          0.37649442087166995
         ]
        },
        {
         "histfunc": "count",
         "histnorm": "",
         "marker": {
          "color": "rgba(50, 171, 96, 1.0)",
          "line": {
           "color": "#4D5663",
           "width": 1.3
          }
         },
         "name": "C",
         "nbinsx": 50,
         "opacity": 0.8,
         "orientation": "v",
         "type": "histogram",
         "x": [
          -0.030841936520710423,
          -1.7897465844954101,
          0.33404857729631904,
          0.42957481394269537,
          1.3906679427925948,
          2.292633359034967,
          -0.7649790745758274,
          0.018126786175386135,
          -1.2706645279234314,
          -0.08426149632796881,
          0.07389371271328721,
          0.4243084993669805,
          -0.45464384933490637,
          -0.09473693777734563,
          0.03948991548022201,
          -0.37543131845098937,
          0.36294247945133895,
          0.7316061698865982,
          0.009311538500927507,
          0.01427552739454796,
          0.004373975200186838,
          0.8630383424204059,
          -0.5056348337641644,
          0.5952881803139014,
          -0.8591868262923849,
          -0.30517970825684787,
          0.18242953940181528,
          -0.937798674707065,
          -0.6987263821951233,
          0.5238960257688077,
          -0.48518372156003675,
          0.03146689657984299,
          -1.783826821471204,
          1.8763164275690554,
          1.1024227023493425,
          -1.374424585129283,
          1.327051208825934,
          1.6631033877268955,
          -0.5221836274219149,
          1.1790678399942525,
          0.20449931917440659,
          -0.7351507913998312,
          1.181331806951473,
          -0.6498461989231527,
          -0.561984383721052,
          -0.980958455737706,
          -0.9527489235554565,
          -0.3559026940821522,
          -1.7312463852737618,
          0.6003524590425994,
          -1.0011676580633053,
          0.27599291708270945,
          -1.0562305417097186,
          -1.8426355697171088,
          0.3820952216784,
          -1.3604752246569802,
          -0.3145948157468955,
          -0.7570896887087242,
          0.8407257362979608,
          -0.08334889085136048,
          -1.31888837125692,
          0.7077421503422455,
          1.5082924871792198,
          -0.10394197691061856,
          -0.5812564941032132,
          1.5742308084010164,
          -0.5459628896978114,
          1.182911260415,
          0.31165711404723745,
          0.5411365254188535,
          -0.9152362874791712,
          1.9486794223808281,
          -1.260161129482686,
          0.7143899005700038,
          1.1340389483026478,
          -0.217513783036078,
          -0.8809358145856119,
          0.7646336205622859,
          0.003658402843417368,
          1.0612831411933366,
          1.174055516773016,
          -0.8050002895921485,
          -1.9886559208325512,
          0.4993274729681875,
          -0.3561485718277287,
          -0.012824899034422837,
          0.8102233246215578,
          -0.8346862887134354,
          -1.0459324117012032,
          -0.46180759226587104,
          0.3757891945839428,
          -0.609346617161401,
          -1.318819973101796,
          -1.1054063168652104,
          -2.180036977980027,
          -0.40512129375765205,
          -1.0247128324872112,
          -1.282520781927594,
          0.3039137428223451,
          -1.1538024512803582
         ]
        },
        {
         "histfunc": "count",
         "histnorm": "",
         "marker": {
          "color": "rgba(128, 0, 128, 1.0)",
          "line": {
           "color": "#4D5663",
           "width": 1.3
          }
         },
         "name": "D",
         "nbinsx": 50,
         "opacity": 0.8,
         "orientation": "v",
         "type": "histogram",
         "x": [
          0.06450635021046695,
          0.2596574522833259,
          1.0026143147803723,
          0.561642770158224,
          -0.3427874639302748,
          -0.9508333723957706,
          0.622800588343014,
          0.3125927148018621,
          1.1150879717363051,
          2.455851706634036,
          1.2742268799631815,
          1.154299919220273,
          -0.7942439680024461,
          -0.8644470781202114,
          -0.4168734520579206,
          -1.181803784199834,
          1.238433626346655,
          0.05372197763399264,
          0.34185576901013764,
          -1.4565659440581091,
          -0.1026818959296048,
          0.903541925904409,
          -0.8012528882328342,
          -1.0175719360567876,
          -2.7328299440970025,
          0.7148301356669923,
          -0.8239975679920563,
          -0.7576409674557157,
          -0.5693802501599392,
          -1.0556713820709995,
          -1.3705199522230866,
          -1.3560770882040558,
          0.7309342348001,
          -0.8703792444993791,
          0.09189649227909341,
          -0.3010341429755626,
          -0.3806964790753045,
          -1.2013579543332842,
          1.391184470518253,
          -1.8386086609074515,
          1.6546453153471088,
          -0.38789801126027745,
          0.09767288988891892,
          -1.3640703521993343,
          1.3871828331113376,
          -0.339887497599879,
          0.6410865305435189,
          -0.10596461045588117,
          1.114632580477332,
          0.5887394941232663,
          0.44177588052267247,
          0.12993293999471517,
          -1.001727314146639,
          -0.7320765446444998,
          0.3202318776190888,
          1.163610560377854,
          0.04939823794477496,
          0.04223995029416441,
          -0.14567905816720583,
          0.36920980691186267,
          0.3773260968601199,
          -0.8496724441848096,
          0.2041626662514401,
          0.7618730607445849,
          -1.1507069986281788,
          0.6599107371136214,
          -0.06753929552515554,
          -1.2165069573838576,
          1.8987843998608216,
          -0.31490087940180644,
          0.3660743345820462,
          0.4218107956766632,
          0.3089912594501252,
          0.394789105793771,
          0.4253362614950715,
          1.660226841327557,
          -0.22761012389628388,
          -0.5069865734320621,
          -0.09445619273657074,
          1.1539355107601834,
          2.0500571926687705,
          -0.8948538495499534,
          0.8925199369923554,
          0.16043421919060608,
          0.4190797854967326,
          -1.1605531588840317,
          0.8533946459510025,
          1.0230756283887796,
          1.385085155070938,
          -4.433536853331192,
          -0.4836933956232965,
          -0.13250107547132398,
          -0.17499236765283083,
          -0.026059638174104723,
          -0.13890017489053902,
          -0.1953849616368364,
          0.3124549496360172,
          0.8958394835349717,
          0.009559555697668766,
          -0.6476092790134855
         ]
        }
       ],
       "layout": {
        "barmode": "overlay",
        "legend": {
         "bgcolor": "#F5F6F9",
         "font": {
          "color": "#4D5663"
         }
        },
        "paper_bgcolor": "#F5F6F9",
        "plot_bgcolor": "#F5F6F9",
        "template": {
         "data": {
          "bar": [
           {
            "error_x": {
             "color": "#2a3f5f"
            },
            "error_y": {
             "color": "#2a3f5f"
            },
            "marker": {
             "line": {
              "color": "#E5ECF6",
              "width": 0.5
             }
            },
            "type": "bar"
           }
          ],
          "barpolar": [
           {
            "marker": {
             "line": {
              "color": "#E5ECF6",
              "width": 0.5
             }
            },
            "type": "barpolar"
           }
          ],
          "carpet": [
           {
            "aaxis": {
             "endlinecolor": "#2a3f5f",
             "gridcolor": "white",
             "linecolor": "white",
             "minorgridcolor": "white",
             "startlinecolor": "#2a3f5f"
            },
            "baxis": {
             "endlinecolor": "#2a3f5f",
             "gridcolor": "white",
             "linecolor": "white",
             "minorgridcolor": "white",
             "startlinecolor": "#2a3f5f"
            },
            "type": "carpet"
           }
          ],
          "choropleth": [
           {
            "colorbar": {
             "outlinewidth": 0,
             "ticks": ""
            },
            "type": "choropleth"
           }
          ],
          "contour": [
           {
            "colorbar": {
             "outlinewidth": 0,
             "ticks": ""
            },
            "colorscale": [
             [
              0,
              "#0d0887"
             ],
             [
              0.1111111111111111,
              "#46039f"
             ],
             [
              0.2222222222222222,
              "#7201a8"
             ],
             [
              0.3333333333333333,
              "#9c179e"
             ],
             [
              0.4444444444444444,
              "#bd3786"
             ],
             [
              0.5555555555555556,
              "#d8576b"
             ],
             [
              0.6666666666666666,
              "#ed7953"
             ],
             [
              0.7777777777777778,
              "#fb9f3a"
             ],
             [
              0.8888888888888888,
              "#fdca26"
             ],
             [
              1,
              "#f0f921"
             ]
            ],
            "type": "contour"
           }
          ],
          "contourcarpet": [
           {
            "colorbar": {
             "outlinewidth": 0,
             "ticks": ""
            },
            "type": "contourcarpet"
           }
          ],
          "heatmap": [
           {
            "colorbar": {
             "outlinewidth": 0,
             "ticks": ""
            },
            "colorscale": [
             [
              0,
              "#0d0887"
             ],
             [
              0.1111111111111111,
              "#46039f"
             ],
             [
              0.2222222222222222,
              "#7201a8"
             ],
             [
              0.3333333333333333,
              "#9c179e"
             ],
             [
              0.4444444444444444,
              "#bd3786"
             ],
             [
              0.5555555555555556,
              "#d8576b"
             ],
             [
              0.6666666666666666,
              "#ed7953"
             ],
             [
              0.7777777777777778,
              "#fb9f3a"
             ],
             [
              0.8888888888888888,
              "#fdca26"
             ],
             [
              1,
              "#f0f921"
             ]
            ],
            "type": "heatmap"
           }
          ],
          "heatmapgl": [
           {
            "colorbar": {
             "outlinewidth": 0,
             "ticks": ""
            },
            "colorscale": [
             [
              0,
              "#0d0887"
             ],
             [
              0.1111111111111111,
              "#46039f"
             ],
             [
              0.2222222222222222,
              "#7201a8"
             ],
             [
              0.3333333333333333,
              "#9c179e"
             ],
             [
              0.4444444444444444,
              "#bd3786"
             ],
             [
              0.5555555555555556,
              "#d8576b"
             ],
             [
              0.6666666666666666,
              "#ed7953"
             ],
             [
              0.7777777777777778,
              "#fb9f3a"
             ],
             [
              0.8888888888888888,
              "#fdca26"
             ],
             [
              1,
              "#f0f921"
             ]
            ],
            "type": "heatmapgl"
           }
          ],
          "histogram": [
           {
            "marker": {
             "colorbar": {
              "outlinewidth": 0,
              "ticks": ""
             }
            },
            "type": "histogram"
           }
          ],
          "histogram2d": [
           {
            "colorbar": {
             "outlinewidth": 0,
             "ticks": ""
            },
            "colorscale": [
             [
              0,
              "#0d0887"
             ],
             [
              0.1111111111111111,
              "#46039f"
             ],
             [
              0.2222222222222222,
              "#7201a8"
             ],
             [
              0.3333333333333333,
              "#9c179e"
             ],
             [
              0.4444444444444444,
              "#bd3786"
             ],
             [
              0.5555555555555556,
              "#d8576b"
             ],
             [
              0.6666666666666666,
              "#ed7953"
             ],
             [
              0.7777777777777778,
              "#fb9f3a"
             ],
             [
              0.8888888888888888,
              "#fdca26"
             ],
             [
              1,
              "#f0f921"
             ]
            ],
            "type": "histogram2d"
           }
          ],
          "histogram2dcontour": [
           {
            "colorbar": {
             "outlinewidth": 0,
             "ticks": ""
            },
            "colorscale": [
             [
              0,
              "#0d0887"
             ],
             [
              0.1111111111111111,
              "#46039f"
             ],
             [
              0.2222222222222222,
              "#7201a8"
             ],
             [
              0.3333333333333333,
              "#9c179e"
             ],
             [
              0.4444444444444444,
              "#bd3786"
             ],
             [
              0.5555555555555556,
              "#d8576b"
             ],
             [
              0.6666666666666666,
              "#ed7953"
             ],
             [
              0.7777777777777778,
              "#fb9f3a"
             ],
             [
              0.8888888888888888,
              "#fdca26"
             ],
             [
              1,
              "#f0f921"
             ]
            ],
            "type": "histogram2dcontour"
           }
          ],
          "mesh3d": [
           {
            "colorbar": {
             "outlinewidth": 0,
             "ticks": ""
            },
            "type": "mesh3d"
           }
          ],
          "parcoords": [
           {
            "line": {
             "colorbar": {
              "outlinewidth": 0,
              "ticks": ""
             }
            },
            "type": "parcoords"
           }
          ],
          "pie": [
           {
            "automargin": true,
            "type": "pie"
           }
          ],
          "scatter": [
           {
            "marker": {
             "colorbar": {
              "outlinewidth": 0,
              "ticks": ""
             }
            },
            "type": "scatter"
           }
          ],
          "scatter3d": [
           {
            "line": {
             "colorbar": {
              "outlinewidth": 0,
              "ticks": ""
             }
            },
            "marker": {
             "colorbar": {
              "outlinewidth": 0,
              "ticks": ""
             }
            },
            "type": "scatter3d"
           }
          ],
          "scattercarpet": [
           {
            "marker": {
             "colorbar": {
              "outlinewidth": 0,
              "ticks": ""
             }
            },
            "type": "scattercarpet"
           }
          ],
          "scattergeo": [
           {
            "marker": {
             "colorbar": {
              "outlinewidth": 0,
              "ticks": ""
             }
            },
            "type": "scattergeo"
           }
          ],
          "scattergl": [
           {
            "marker": {
             "colorbar": {
              "outlinewidth": 0,
              "ticks": ""
             }
            },
            "type": "scattergl"
           }
          ],
          "scattermapbox": [
           {
            "marker": {
             "colorbar": {
              "outlinewidth": 0,
              "ticks": ""
             }
            },
            "type": "scattermapbox"
           }
          ],
          "scatterpolar": [
           {
            "marker": {
             "colorbar": {
              "outlinewidth": 0,
              "ticks": ""
             }
            },
            "type": "scatterpolar"
           }
          ],
          "scatterpolargl": [
           {
            "marker": {
             "colorbar": {
              "outlinewidth": 0,
              "ticks": ""
             }
            },
            "type": "scatterpolargl"
           }
          ],
          "scatterternary": [
           {
            "marker": {
             "colorbar": {
              "outlinewidth": 0,
              "ticks": ""
             }
            },
            "type": "scatterternary"
           }
          ],
          "surface": [
           {
            "colorbar": {
             "outlinewidth": 0,
             "ticks": ""
            },
            "colorscale": [
             [
              0,
              "#0d0887"
             ],
             [
              0.1111111111111111,
              "#46039f"
             ],
             [
              0.2222222222222222,
              "#7201a8"
             ],
             [
              0.3333333333333333,
              "#9c179e"
             ],
             [
              0.4444444444444444,
              "#bd3786"
             ],
             [
              0.5555555555555556,
              "#d8576b"
             ],
             [
              0.6666666666666666,
              "#ed7953"
             ],
             [
              0.7777777777777778,
              "#fb9f3a"
             ],
             [
              0.8888888888888888,
              "#fdca26"
             ],
             [
              1,
              "#f0f921"
             ]
            ],
            "type": "surface"
           }
          ],
          "table": [
           {
            "cells": {
             "fill": {
              "color": "#EBF0F8"
             },
             "line": {
              "color": "white"
             }
            },
            "header": {
             "fill": {
              "color": "#C8D4E3"
             },
             "line": {
              "color": "white"
             }
            },
            "type": "table"
           }
          ]
         },
         "layout": {
          "annotationdefaults": {
           "arrowcolor": "#2a3f5f",
           "arrowhead": 0,
           "arrowwidth": 1
          },
          "autotypenumbers": "strict",
          "coloraxis": {
           "colorbar": {
            "outlinewidth": 0,
            "ticks": ""
           }
          },
          "colorscale": {
           "diverging": [
            [
             0,
             "#8e0152"
            ],
            [
             0.1,
             "#c51b7d"
            ],
            [
             0.2,
             "#de77ae"
            ],
            [
             0.3,
             "#f1b6da"
            ],
            [
             0.4,
             "#fde0ef"
            ],
            [
             0.5,
             "#f7f7f7"
            ],
            [
             0.6,
             "#e6f5d0"
            ],
            [
             0.7,
             "#b8e186"
            ],
            [
             0.8,
             "#7fbc41"
            ],
            [
             0.9,
             "#4d9221"
            ],
            [
             1,
             "#276419"
            ]
           ],
           "sequential": [
            [
             0,
             "#0d0887"
            ],
            [
             0.1111111111111111,
             "#46039f"
            ],
            [
             0.2222222222222222,
             "#7201a8"
            ],
            [
             0.3333333333333333,
             "#9c179e"
            ],
            [
             0.4444444444444444,
             "#bd3786"
            ],
            [
             0.5555555555555556,
             "#d8576b"
            ],
            [
             0.6666666666666666,
             "#ed7953"
            ],
            [
             0.7777777777777778,
             "#fb9f3a"
            ],
            [
             0.8888888888888888,
             "#fdca26"
            ],
            [
             1,
             "#f0f921"
            ]
           ],
           "sequentialminus": [
            [
             0,
             "#0d0887"
            ],
            [
             0.1111111111111111,
             "#46039f"
            ],
            [
             0.2222222222222222,
             "#7201a8"
            ],
            [
             0.3333333333333333,
             "#9c179e"
            ],
            [
             0.4444444444444444,
             "#bd3786"
            ],
            [
             0.5555555555555556,
             "#d8576b"
            ],
            [
             0.6666666666666666,
             "#ed7953"
            ],
            [
             0.7777777777777778,
             "#fb9f3a"
            ],
            [
             0.8888888888888888,
             "#fdca26"
            ],
            [
             1,
             "#f0f921"
            ]
           ]
          },
          "colorway": [
           "#636efa",
           "#EF553B",
           "#00cc96",
           "#ab63fa",
           "#FFA15A",
           "#19d3f3",
           "#FF6692",
           "#B6E880",
           "#FF97FF",
           "#FECB52"
          ],
          "font": {
           "color": "#2a3f5f"
          },
          "geo": {
           "bgcolor": "white",
           "lakecolor": "white",
           "landcolor": "#E5ECF6",
           "showlakes": true,
           "showland": true,
           "subunitcolor": "white"
          },
          "hoverlabel": {
           "align": "left"
          },
          "hovermode": "closest",
          "mapbox": {
           "style": "light"
          },
          "paper_bgcolor": "white",
          "plot_bgcolor": "#E5ECF6",
          "polar": {
           "angularaxis": {
            "gridcolor": "white",
            "linecolor": "white",
            "ticks": ""
           },
           "bgcolor": "#E5ECF6",
           "radialaxis": {
            "gridcolor": "white",
            "linecolor": "white",
            "ticks": ""
           }
          },
          "scene": {
           "xaxis": {
            "backgroundcolor": "#E5ECF6",
            "gridcolor": "white",
            "gridwidth": 2,
            "linecolor": "white",
            "showbackground": true,
            "ticks": "",
            "zerolinecolor": "white"
           },
           "yaxis": {
            "backgroundcolor": "#E5ECF6",
            "gridcolor": "white",
            "gridwidth": 2,
            "linecolor": "white",
            "showbackground": true,
            "ticks": "",
            "zerolinecolor": "white"
           },
           "zaxis": {
            "backgroundcolor": "#E5ECF6",
            "gridcolor": "white",
            "gridwidth": 2,
            "linecolor": "white",
            "showbackground": true,
            "ticks": "",
            "zerolinecolor": "white"
           }
          },
          "shapedefaults": {
           "line": {
            "color": "#2a3f5f"
           }
          },
          "ternary": {
           "aaxis": {
            "gridcolor": "white",
            "linecolor": "white",
            "ticks": ""
           },
           "baxis": {
            "gridcolor": "white",
            "linecolor": "white",
            "ticks": ""
           },
           "bgcolor": "#E5ECF6",
           "caxis": {
            "gridcolor": "white",
            "linecolor": "white",
            "ticks": ""
           }
          },
          "title": {
           "x": 0.05
          },
          "xaxis": {
           "automargin": true,
           "gridcolor": "white",
           "linecolor": "white",
           "ticks": "",
           "title": {
            "standoff": 15
           },
           "zerolinecolor": "white",
           "zerolinewidth": 2
          },
          "yaxis": {
           "automargin": true,
           "gridcolor": "white",
           "linecolor": "white",
           "ticks": "",
           "title": {
            "standoff": 15
           },
           "zerolinecolor": "white",
           "zerolinewidth": 2
          }
         }
        },
        "title": {
         "font": {
          "color": "#4D5663"
         }
        },
        "xaxis": {
         "gridcolor": "#E1E5ED",
         "showgrid": true,
         "tickfont": {
          "color": "#4D5663"
         },
         "title": {
          "font": {
           "color": "#4D5663"
          },
          "text": ""
         },
         "zerolinecolor": "#E1E5ED"
        },
        "yaxis": {
         "gridcolor": "#E1E5ED",
         "showgrid": true,
         "tickfont": {
          "color": "#4D5663"
         },
         "title": {
          "font": {
           "color": "#4D5663"
          },
          "text": ""
         },
         "zerolinecolor": "#E1E5ED"
        }
       }
      },
      "text/html": [
       "<div>                            <div id=\"420c8487-8dc1-47bf-a006-07bbb1033eda\" class=\"plotly-graph-div\" style=\"height:525px; width:100%;\"></div>            <script type=\"text/javascript\">                require([\"plotly\"], function(Plotly) {                    window.PLOTLYENV=window.PLOTLYENV || {};\n",
       "                    window.PLOTLYENV.BASE_URL='https://plot.ly';                                    if (document.getElementById(\"420c8487-8dc1-47bf-a006-07bbb1033eda\")) {                    Plotly.newPlot(                        \"420c8487-8dc1-47bf-a006-07bbb1033eda\",                        [{\"histfunc\": \"count\", \"histnorm\": \"\", \"marker\": {\"color\": \"rgba(255, 153, 51, 1.0)\", \"line\": {\"color\": \"#4D5663\", \"width\": 1.3}}, \"name\": \"A\", \"nbinsx\": 50, \"opacity\": 0.8, \"orientation\": \"v\", \"type\": \"histogram\", \"x\": [0.7579169907008975, -0.8161547742370481, -1.0676658944274364, 0.3492477357554279, 0.3390648990769225, 0.09742219321199275, -1.33055230754233, -0.12682840085417438, -0.25128864086285696, 2.1115708861917555, -1.339406042465701, -0.347374481064104, -1.3794015617559465, 0.23290287749488986, 0.41586382257588445, -0.5975340305163689, 0.4086109611770097, 0.5472736736776053, 0.13715433771920907, 1.6032654886085844, -0.5658030710740445, 0.4404707283859412, -0.33724279007117697, -0.060014931120361666, -0.055651249216383945, -0.4050924167306593, -0.5674351170616927, -1.4251007871026502, -0.8995319823222503, 1.1062589503452354, -0.20382072046038863, -0.00010055195585183877, 0.17696378540158358, 0.7588837221366781, 0.2521796539016003, 0.2853964120837876, -0.16277726494508643, -0.38601143344105365, -1.0170379359384103, -0.3466500445108914, -1.5401398016670331, -0.535571994409165, -1.7075842134185053, 0.5066193456872792, -1.1181765596137385, -0.07719660704485161, 1.409412284069849, -0.5131803731783747, 0.14512693266306823, 2.6527272388996663, -0.24086569918403608, 0.5802248482304968, -0.28805074414568127, -0.394646373523225, -0.18229447257056783, -0.7128994194693947, -0.1760753682112523, -0.03307361130640672, 2.8949245145138893, 1.4639937505591218, -1.1787561032149947, 0.5080631908125035, 0.7299226637744624, 1.114971455912152, 0.3670444793270461, -0.8986701651154719, 0.10427824380549375, 0.4926150883989747, 0.50128685010186, 0.1582082959286535, 1.424381376073982, -0.7098519159265192, 1.4343352301075223, 0.8848001165715448, -0.3329297614837509, -0.09449322766838299, -1.4331704424392953, -2.3482367888755706, -0.4313472857630825, -0.6850394753749117, 0.07373150250514426, 1.5035838122434417, -1.0673400959574666, -0.1790479235488818, 0.5497921570738876, -1.6569094570064595, 0.6867680990971627, -1.5246247206548413, 0.06523519227070403, -1.0893939851966334, -0.6426486274421239, -1.1784518458385573, 1.4014189134269002, -1.6916384711818373, 1.2564031949041172, 0.9657713826538739, -0.3086420219503129, -0.3789089791792017, -0.30407623942767387, -0.2204677342273025]}, {\"histfunc\": \"count\", \"histnorm\": \"\", \"marker\": {\"color\": \"rgba(55, 128, 191, 1.0)\", \"line\": {\"color\": \"#4D5663\", \"width\": 1.3}}, \"name\": \"B\", \"nbinsx\": 50, \"opacity\": 0.8, \"orientation\": \"v\", \"type\": \"histogram\", \"x\": [0.5684502720699256, 0.5659318504590108, -0.19827760510486944, 0.32983830760641514, 0.5328299766395032, -2.6070863592723637, -1.498912957132498, 0.38332965794274665, 0.22264884897725187, -1.6528708786582085, -0.49870165714242487, -0.4786542575383392, 1.072071747918505, 0.30981640073313776, 0.8935123571549635, -0.6819292753460076, 0.4576173461547523, 0.44311917309584925, -0.3834133487353966, 0.24893642268377136, 1.5725896637711498, 2.5800447501566977, -0.031174073981630846, -0.527185533592221, 0.25667482105584083, 0.8323331450472324, -0.9568379443293512, 0.14736685052680928, 0.4953577645557132, 1.127463897276566, 0.1979067845689406, 1.5849528203043828, -0.1747631695179193, 0.9573789764398959, 0.47436736441101895, -0.33127828318692876, 0.7471120167436102, -2.022638281155942, 2.0295295993715894, 1.4420055066294375, -1.5295964399797681, 1.8233838388928698, -0.7918471567136929, -1.7277233011088322, -0.625284887925668, 0.8491625546406638, 0.6780281200173601, -0.5141795457121822, -0.3431646995205548, 1.5537837344549983, -0.3592575226298186, -1.200915218048695, 0.447692552037646, -0.7291164997074, -0.0005065946840657674, -0.4437346151107805, 0.15345808437672942, 0.34710550181778704, 1.7459026911646645, -1.3350888262495035, 0.5533821815324313, 0.253181086593142, -0.9589033870327761, 0.4962013516394784, -0.16364535978691475, -0.5635106687798505, 0.3874399481008401, -0.892203741798904, 1.1650334107393163, 0.047543043577904336, 0.11249070564030511, 0.09672797186554681, -0.8058650376771265, -0.583781575627234, 1.038090201365297, -0.20666537242679023, -1.048021628407373, 0.9899524366949004, 0.7694913735559865, -0.22516987366451005, 0.610271014996182, -1.199867464191324, -0.31217188679917635, 0.9675753903319483, -2.0023223593090176, 0.002514579727119917, 1.4298377798004676, -0.9007516727608389, 1.845629362612709, 1.014157798755033, 0.8562826331180223, 0.1343851276353828, -1.5959146246492517, -0.0263178124517433, -0.8647975627911636, 0.7729014273210385, -0.30570206339584927, 0.6912959249022436, 0.05769976468709154, 0.37649442087166995]}, {\"histfunc\": \"count\", \"histnorm\": \"\", \"marker\": {\"color\": \"rgba(50, 171, 96, 1.0)\", \"line\": {\"color\": \"#4D5663\", \"width\": 1.3}}, \"name\": \"C\", \"nbinsx\": 50, \"opacity\": 0.8, \"orientation\": \"v\", \"type\": \"histogram\", \"x\": [-0.030841936520710423, -1.7897465844954101, 0.33404857729631904, 0.42957481394269537, 1.3906679427925948, 2.292633359034967, -0.7649790745758274, 0.018126786175386135, -1.2706645279234314, -0.08426149632796881, 0.07389371271328721, 0.4243084993669805, -0.45464384933490637, -0.09473693777734563, 0.03948991548022201, -0.37543131845098937, 0.36294247945133895, 0.7316061698865982, 0.009311538500927507, 0.01427552739454796, 0.004373975200186838, 0.8630383424204059, -0.5056348337641644, 0.5952881803139014, -0.8591868262923849, -0.30517970825684787, 0.18242953940181528, -0.937798674707065, -0.6987263821951233, 0.5238960257688077, -0.48518372156003675, 0.03146689657984299, -1.783826821471204, 1.8763164275690554, 1.1024227023493425, -1.374424585129283, 1.327051208825934, 1.6631033877268955, -0.5221836274219149, 1.1790678399942525, 0.20449931917440659, -0.7351507913998312, 1.181331806951473, -0.6498461989231527, -0.561984383721052, -0.980958455737706, -0.9527489235554565, -0.3559026940821522, -1.7312463852737618, 0.6003524590425994, -1.0011676580633053, 0.27599291708270945, -1.0562305417097186, -1.8426355697171088, 0.3820952216784, -1.3604752246569802, -0.3145948157468955, -0.7570896887087242, 0.8407257362979608, -0.08334889085136048, -1.31888837125692, 0.7077421503422455, 1.5082924871792198, -0.10394197691061856, -0.5812564941032132, 1.5742308084010164, -0.5459628896978114, 1.182911260415, 0.31165711404723745, 0.5411365254188535, -0.9152362874791712, 1.9486794223808281, -1.260161129482686, 0.7143899005700038, 1.1340389483026478, -0.217513783036078, -0.8809358145856119, 0.7646336205622859, 0.003658402843417368, 1.0612831411933366, 1.174055516773016, -0.8050002895921485, -1.9886559208325512, 0.4993274729681875, -0.3561485718277287, -0.012824899034422837, 0.8102233246215578, -0.8346862887134354, -1.0459324117012032, -0.46180759226587104, 0.3757891945839428, -0.609346617161401, -1.318819973101796, -1.1054063168652104, -2.180036977980027, -0.40512129375765205, -1.0247128324872112, -1.282520781927594, 0.3039137428223451, -1.1538024512803582]}, {\"histfunc\": \"count\", \"histnorm\": \"\", \"marker\": {\"color\": \"rgba(128, 0, 128, 1.0)\", \"line\": {\"color\": \"#4D5663\", \"width\": 1.3}}, \"name\": \"D\", \"nbinsx\": 50, \"opacity\": 0.8, \"orientation\": \"v\", \"type\": \"histogram\", \"x\": [0.06450635021046695, 0.2596574522833259, 1.0026143147803723, 0.561642770158224, -0.3427874639302748, -0.9508333723957706, 0.622800588343014, 0.3125927148018621, 1.1150879717363051, 2.455851706634036, 1.2742268799631815, 1.154299919220273, -0.7942439680024461, -0.8644470781202114, -0.4168734520579206, -1.181803784199834, 1.238433626346655, 0.05372197763399264, 0.34185576901013764, -1.4565659440581091, -0.1026818959296048, 0.903541925904409, -0.8012528882328342, -1.0175719360567876, -2.7328299440970025, 0.7148301356669923, -0.8239975679920563, -0.7576409674557157, -0.5693802501599392, -1.0556713820709995, -1.3705199522230866, -1.3560770882040558, 0.7309342348001, -0.8703792444993791, 0.09189649227909341, -0.3010341429755626, -0.3806964790753045, -1.2013579543332842, 1.391184470518253, -1.8386086609074515, 1.6546453153471088, -0.38789801126027745, 0.09767288988891892, -1.3640703521993343, 1.3871828331113376, -0.339887497599879, 0.6410865305435189, -0.10596461045588117, 1.114632580477332, 0.5887394941232663, 0.44177588052267247, 0.12993293999471517, -1.001727314146639, -0.7320765446444998, 0.3202318776190888, 1.163610560377854, 0.04939823794477496, 0.04223995029416441, -0.14567905816720583, 0.36920980691186267, 0.3773260968601199, -0.8496724441848096, 0.2041626662514401, 0.7618730607445849, -1.1507069986281788, 0.6599107371136214, -0.06753929552515554, -1.2165069573838576, 1.8987843998608216, -0.31490087940180644, 0.3660743345820462, 0.4218107956766632, 0.3089912594501252, 0.394789105793771, 0.4253362614950715, 1.660226841327557, -0.22761012389628388, -0.5069865734320621, -0.09445619273657074, 1.1539355107601834, 2.0500571926687705, -0.8948538495499534, 0.8925199369923554, 0.16043421919060608, 0.4190797854967326, -1.1605531588840317, 0.8533946459510025, 1.0230756283887796, 1.385085155070938, -4.433536853331192, -0.4836933956232965, -0.13250107547132398, -0.17499236765283083, -0.026059638174104723, -0.13890017489053902, -0.1953849616368364, 0.3124549496360172, 0.8958394835349717, 0.009559555697668766, -0.6476092790134855]}],                        {\"barmode\": \"overlay\", \"legend\": {\"bgcolor\": \"#F5F6F9\", \"font\": {\"color\": \"#4D5663\"}}, \"paper_bgcolor\": \"#F5F6F9\", \"plot_bgcolor\": \"#F5F6F9\", \"template\": {\"data\": {\"bar\": [{\"error_x\": {\"color\": \"#2a3f5f\"}, \"error_y\": {\"color\": \"#2a3f5f\"}, \"marker\": {\"line\": {\"color\": \"#E5ECF6\", \"width\": 0.5}}, \"type\": \"bar\"}], \"barpolar\": [{\"marker\": {\"line\": {\"color\": \"#E5ECF6\", \"width\": 0.5}}, \"type\": \"barpolar\"}], \"carpet\": [{\"aaxis\": {\"endlinecolor\": \"#2a3f5f\", \"gridcolor\": \"white\", \"linecolor\": \"white\", \"minorgridcolor\": \"white\", \"startlinecolor\": \"#2a3f5f\"}, \"baxis\": {\"endlinecolor\": \"#2a3f5f\", \"gridcolor\": \"white\", \"linecolor\": \"white\", \"minorgridcolor\": \"white\", \"startlinecolor\": \"#2a3f5f\"}, \"type\": \"carpet\"}], \"choropleth\": [{\"colorbar\": {\"outlinewidth\": 0, \"ticks\": \"\"}, \"type\": \"choropleth\"}], \"contour\": [{\"colorbar\": {\"outlinewidth\": 0, \"ticks\": \"\"}, \"colorscale\": [[0.0, \"#0d0887\"], [0.1111111111111111, \"#46039f\"], [0.2222222222222222, \"#7201a8\"], [0.3333333333333333, \"#9c179e\"], [0.4444444444444444, \"#bd3786\"], [0.5555555555555556, \"#d8576b\"], [0.6666666666666666, \"#ed7953\"], [0.7777777777777778, \"#fb9f3a\"], [0.8888888888888888, \"#fdca26\"], [1.0, \"#f0f921\"]], \"type\": \"contour\"}], \"contourcarpet\": [{\"colorbar\": {\"outlinewidth\": 0, \"ticks\": \"\"}, \"type\": \"contourcarpet\"}], \"heatmap\": [{\"colorbar\": {\"outlinewidth\": 0, \"ticks\": \"\"}, \"colorscale\": [[0.0, \"#0d0887\"], [0.1111111111111111, \"#46039f\"], [0.2222222222222222, \"#7201a8\"], [0.3333333333333333, \"#9c179e\"], [0.4444444444444444, \"#bd3786\"], [0.5555555555555556, \"#d8576b\"], [0.6666666666666666, \"#ed7953\"], [0.7777777777777778, \"#fb9f3a\"], [0.8888888888888888, \"#fdca26\"], [1.0, \"#f0f921\"]], \"type\": \"heatmap\"}], \"heatmapgl\": [{\"colorbar\": {\"outlinewidth\": 0, \"ticks\": \"\"}, \"colorscale\": [[0.0, \"#0d0887\"], [0.1111111111111111, \"#46039f\"], [0.2222222222222222, \"#7201a8\"], [0.3333333333333333, \"#9c179e\"], [0.4444444444444444, \"#bd3786\"], [0.5555555555555556, \"#d8576b\"], [0.6666666666666666, \"#ed7953\"], [0.7777777777777778, \"#fb9f3a\"], [0.8888888888888888, \"#fdca26\"], [1.0, \"#f0f921\"]], \"type\": \"heatmapgl\"}], \"histogram\": [{\"marker\": {\"colorbar\": {\"outlinewidth\": 0, \"ticks\": \"\"}}, \"type\": \"histogram\"}], \"histogram2d\": [{\"colorbar\": {\"outlinewidth\": 0, \"ticks\": \"\"}, \"colorscale\": [[0.0, \"#0d0887\"], [0.1111111111111111, \"#46039f\"], [0.2222222222222222, \"#7201a8\"], [0.3333333333333333, \"#9c179e\"], [0.4444444444444444, \"#bd3786\"], [0.5555555555555556, \"#d8576b\"], [0.6666666666666666, \"#ed7953\"], [0.7777777777777778, \"#fb9f3a\"], [0.8888888888888888, \"#fdca26\"], [1.0, \"#f0f921\"]], \"type\": \"histogram2d\"}], \"histogram2dcontour\": [{\"colorbar\": {\"outlinewidth\": 0, \"ticks\": \"\"}, \"colorscale\": [[0.0, \"#0d0887\"], [0.1111111111111111, \"#46039f\"], [0.2222222222222222, \"#7201a8\"], [0.3333333333333333, \"#9c179e\"], [0.4444444444444444, \"#bd3786\"], [0.5555555555555556, \"#d8576b\"], [0.6666666666666666, \"#ed7953\"], [0.7777777777777778, \"#fb9f3a\"], [0.8888888888888888, \"#fdca26\"], [1.0, \"#f0f921\"]], \"type\": \"histogram2dcontour\"}], \"mesh3d\": [{\"colorbar\": {\"outlinewidth\": 0, \"ticks\": \"\"}, \"type\": \"mesh3d\"}], \"parcoords\": [{\"line\": {\"colorbar\": {\"outlinewidth\": 0, \"ticks\": \"\"}}, \"type\": \"parcoords\"}], \"pie\": [{\"automargin\": true, \"type\": \"pie\"}], \"scatter\": [{\"marker\": {\"colorbar\": {\"outlinewidth\": 0, \"ticks\": \"\"}}, \"type\": \"scatter\"}], \"scatter3d\": [{\"line\": {\"colorbar\": {\"outlinewidth\": 0, \"ticks\": \"\"}}, \"marker\": {\"colorbar\": {\"outlinewidth\": 0, \"ticks\": \"\"}}, \"type\": \"scatter3d\"}], \"scattercarpet\": [{\"marker\": {\"colorbar\": {\"outlinewidth\": 0, \"ticks\": \"\"}}, \"type\": \"scattercarpet\"}], \"scattergeo\": [{\"marker\": {\"colorbar\": {\"outlinewidth\": 0, \"ticks\": \"\"}}, \"type\": \"scattergeo\"}], \"scattergl\": [{\"marker\": {\"colorbar\": {\"outlinewidth\": 0, \"ticks\": \"\"}}, \"type\": \"scattergl\"}], \"scattermapbox\": [{\"marker\": {\"colorbar\": {\"outlinewidth\": 0, \"ticks\": \"\"}}, \"type\": \"scattermapbox\"}], \"scatterpolar\": [{\"marker\": {\"colorbar\": {\"outlinewidth\": 0, \"ticks\": \"\"}}, \"type\": \"scatterpolar\"}], \"scatterpolargl\": [{\"marker\": {\"colorbar\": {\"outlinewidth\": 0, \"ticks\": \"\"}}, \"type\": \"scatterpolargl\"}], \"scatterternary\": [{\"marker\": {\"colorbar\": {\"outlinewidth\": 0, \"ticks\": \"\"}}, \"type\": \"scatterternary\"}], \"surface\": [{\"colorbar\": {\"outlinewidth\": 0, \"ticks\": \"\"}, \"colorscale\": [[0.0, \"#0d0887\"], [0.1111111111111111, \"#46039f\"], [0.2222222222222222, \"#7201a8\"], [0.3333333333333333, \"#9c179e\"], [0.4444444444444444, \"#bd3786\"], [0.5555555555555556, \"#d8576b\"], [0.6666666666666666, \"#ed7953\"], [0.7777777777777778, \"#fb9f3a\"], [0.8888888888888888, \"#fdca26\"], [1.0, \"#f0f921\"]], \"type\": \"surface\"}], \"table\": [{\"cells\": {\"fill\": {\"color\": \"#EBF0F8\"}, \"line\": {\"color\": \"white\"}}, \"header\": {\"fill\": {\"color\": \"#C8D4E3\"}, \"line\": {\"color\": \"white\"}}, \"type\": \"table\"}]}, \"layout\": {\"annotationdefaults\": {\"arrowcolor\": \"#2a3f5f\", \"arrowhead\": 0, \"arrowwidth\": 1}, \"autotypenumbers\": \"strict\", \"coloraxis\": {\"colorbar\": {\"outlinewidth\": 0, \"ticks\": \"\"}}, \"colorscale\": {\"diverging\": [[0, \"#8e0152\"], [0.1, \"#c51b7d\"], [0.2, \"#de77ae\"], [0.3, \"#f1b6da\"], [0.4, \"#fde0ef\"], [0.5, \"#f7f7f7\"], [0.6, \"#e6f5d0\"], [0.7, \"#b8e186\"], [0.8, \"#7fbc41\"], [0.9, \"#4d9221\"], [1, \"#276419\"]], \"sequential\": [[0.0, \"#0d0887\"], [0.1111111111111111, \"#46039f\"], [0.2222222222222222, \"#7201a8\"], [0.3333333333333333, \"#9c179e\"], [0.4444444444444444, \"#bd3786\"], [0.5555555555555556, \"#d8576b\"], [0.6666666666666666, \"#ed7953\"], [0.7777777777777778, \"#fb9f3a\"], [0.8888888888888888, \"#fdca26\"], [1.0, \"#f0f921\"]], \"sequentialminus\": [[0.0, \"#0d0887\"], [0.1111111111111111, \"#46039f\"], [0.2222222222222222, \"#7201a8\"], [0.3333333333333333, \"#9c179e\"], [0.4444444444444444, \"#bd3786\"], [0.5555555555555556, \"#d8576b\"], [0.6666666666666666, \"#ed7953\"], [0.7777777777777778, \"#fb9f3a\"], [0.8888888888888888, \"#fdca26\"], [1.0, \"#f0f921\"]]}, \"colorway\": [\"#636efa\", \"#EF553B\", \"#00cc96\", \"#ab63fa\", \"#FFA15A\", \"#19d3f3\", \"#FF6692\", \"#B6E880\", \"#FF97FF\", \"#FECB52\"], \"font\": {\"color\": \"#2a3f5f\"}, \"geo\": {\"bgcolor\": \"white\", \"lakecolor\": \"white\", \"landcolor\": \"#E5ECF6\", \"showlakes\": true, \"showland\": true, \"subunitcolor\": \"white\"}, \"hoverlabel\": {\"align\": \"left\"}, \"hovermode\": \"closest\", \"mapbox\": {\"style\": \"light\"}, \"paper_bgcolor\": \"white\", \"plot_bgcolor\": \"#E5ECF6\", \"polar\": {\"angularaxis\": {\"gridcolor\": \"white\", \"linecolor\": \"white\", \"ticks\": \"\"}, \"bgcolor\": \"#E5ECF6\", \"radialaxis\": {\"gridcolor\": \"white\", \"linecolor\": \"white\", \"ticks\": \"\"}}, \"scene\": {\"xaxis\": {\"backgroundcolor\": \"#E5ECF6\", \"gridcolor\": \"white\", \"gridwidth\": 2, \"linecolor\": \"white\", \"showbackground\": true, \"ticks\": \"\", \"zerolinecolor\": \"white\"}, \"yaxis\": {\"backgroundcolor\": \"#E5ECF6\", \"gridcolor\": \"white\", \"gridwidth\": 2, \"linecolor\": \"white\", \"showbackground\": true, \"ticks\": \"\", \"zerolinecolor\": \"white\"}, \"zaxis\": {\"backgroundcolor\": \"#E5ECF6\", \"gridcolor\": \"white\", \"gridwidth\": 2, \"linecolor\": \"white\", \"showbackground\": true, \"ticks\": \"\", \"zerolinecolor\": \"white\"}}, \"shapedefaults\": {\"line\": {\"color\": \"#2a3f5f\"}}, \"ternary\": {\"aaxis\": {\"gridcolor\": \"white\", \"linecolor\": \"white\", \"ticks\": \"\"}, \"baxis\": {\"gridcolor\": \"white\", \"linecolor\": \"white\", \"ticks\": \"\"}, \"bgcolor\": \"#E5ECF6\", \"caxis\": {\"gridcolor\": \"white\", \"linecolor\": \"white\", \"ticks\": \"\"}}, \"title\": {\"x\": 0.05}, \"xaxis\": {\"automargin\": true, \"gridcolor\": \"white\", \"linecolor\": \"white\", \"ticks\": \"\", \"title\": {\"standoff\": 15}, \"zerolinecolor\": \"white\", \"zerolinewidth\": 2}, \"yaxis\": {\"automargin\": true, \"gridcolor\": \"white\", \"linecolor\": \"white\", \"ticks\": \"\", \"title\": {\"standoff\": 15}, \"zerolinecolor\": \"white\", \"zerolinewidth\": 2}}}, \"title\": {\"font\": {\"color\": \"#4D5663\"}}, \"xaxis\": {\"gridcolor\": \"#E1E5ED\", \"showgrid\": true, \"tickfont\": {\"color\": \"#4D5663\"}, \"title\": {\"font\": {\"color\": \"#4D5663\"}, \"text\": \"\"}, \"zerolinecolor\": \"#E1E5ED\"}, \"yaxis\": {\"gridcolor\": \"#E1E5ED\", \"showgrid\": true, \"tickfont\": {\"color\": \"#4D5663\"}, \"title\": {\"font\": {\"color\": \"#4D5663\"}, \"text\": \"\"}, \"zerolinecolor\": \"#E1E5ED\"}},                        {\"showLink\": true, \"linkText\": \"Export to plot.ly\", \"plotlyServerURL\": \"https://plot.ly\", \"responsive\": true}                    ).then(function(){\n",
       "                            \n",
       "var gd = document.getElementById('420c8487-8dc1-47bf-a006-07bbb1033eda');\n",
       "var x = new MutationObserver(function (mutations, observer) {{\n",
       "        var display = window.getComputedStyle(gd).display;\n",
       "        if (!display || display === 'none') {{\n",
       "            console.log([gd, 'removed!']);\n",
       "            Plotly.purge(gd);\n",
       "            observer.disconnect();\n",
       "        }}\n",
       "}});\n",
       "\n",
       "// Listen for the removal of the full notebook cells\n",
       "var notebookContainer = gd.closest('#notebook-container');\n",
       "if (notebookContainer) {{\n",
       "    x.observe(notebookContainer, {childList: true});\n",
       "}}\n",
       "\n",
       "// Listen for the clearing of the current output cell\n",
       "var outputEl = gd.closest('.output');\n",
       "if (outputEl) {{\n",
       "    x.observe(outputEl, {childList: true});\n",
       "}}\n",
       "\n",
       "                        })                };                });            </script>        </div>"
      ]
     },
     "metadata": {},
     "output_type": "display_data"
    }
   ],
   "source": [
    "df.iplot(kind='hist', bins=50)"
   ]
  },
  {
   "cell_type": "code",
   "execution_count": 27,
   "id": "ce805b3d",
   "metadata": {},
   "outputs": [
    {
     "name": "stderr",
     "output_type": "stream",
     "text": [
      "C:\\Users\\DELL\\anaconda3\\lib\\site-packages\\cufflinks\\plotlytools.py:849: FutureWarning:\n",
      "\n",
      "The pandas.np module is deprecated and will be removed from pandas in a future version. Import numpy directly instead\n",
      "\n",
      "C:\\Users\\DELL\\anaconda3\\lib\\site-packages\\cufflinks\\plotlytools.py:850: FutureWarning:\n",
      "\n",
      "The pandas.np module is deprecated and will be removed from pandas in a future version. Import numpy directly instead\n",
      "\n"
     ]
    },
    {
     "data": {
      "application/vnd.plotly.v1+json": {
       "config": {
        "linkText": "Export to plot.ly",
        "plotlyServerURL": "https://plot.ly",
        "showLink": true
       },
       "data": [
        {
         "line": {
          "color": "rgba(255, 153, 51, 1.0)",
          "dash": "solid",
          "shape": "linear",
          "width": 1.3
         },
         "mode": "lines",
         "name": "A",
         "text": "",
         "type": "scatter",
         "x": [
          0,
          1,
          2,
          3,
          4,
          5,
          6,
          7,
          8,
          9,
          10,
          11,
          12,
          13,
          14,
          15,
          16,
          17,
          18,
          19,
          20,
          21,
          22,
          23,
          24,
          25,
          26,
          27,
          28,
          29,
          30,
          31,
          32,
          33,
          34,
          35,
          36,
          37,
          38,
          39,
          40,
          41,
          42,
          43,
          44,
          45,
          46,
          47,
          48,
          49,
          50,
          51,
          52,
          53,
          54,
          55,
          56,
          57,
          58,
          59,
          60,
          61,
          62,
          63,
          64,
          65,
          66,
          67,
          68,
          69,
          70,
          71,
          72,
          73,
          74,
          75,
          76,
          77,
          78,
          79,
          80,
          81,
          82,
          83,
          84,
          85,
          86,
          87,
          88,
          89,
          90,
          91,
          92,
          93,
          94,
          95,
          96,
          97,
          98,
          99
         ],
         "y": [
          0.7579169907008975,
          -0.8161547742370481,
          -1.0676658944274364,
          0.3492477357554279,
          0.3390648990769225,
          0.09742219321199275,
          -1.33055230754233,
          -0.12682840085417438,
          -0.25128864086285696,
          2.1115708861917555,
          -1.339406042465701,
          -0.347374481064104,
          -1.3794015617559465,
          0.23290287749488986,
          0.41586382257588445,
          -0.5975340305163689,
          0.4086109611770097,
          0.5472736736776053,
          0.13715433771920907,
          1.6032654886085844,
          -0.5658030710740445,
          0.4404707283859412,
          -0.33724279007117697,
          -0.060014931120361666,
          -0.055651249216383945,
          -0.4050924167306593,
          -0.5674351170616927,
          -1.4251007871026502,
          -0.8995319823222503,
          1.1062589503452354,
          -0.20382072046038863,
          -0.00010055195585183877,
          0.17696378540158358,
          0.7588837221366781,
          0.2521796539016003,
          0.2853964120837876,
          -0.16277726494508643,
          -0.38601143344105365,
          -1.0170379359384103,
          -0.3466500445108914,
          -1.5401398016670331,
          -0.535571994409165,
          -1.7075842134185053,
          0.5066193456872792,
          -1.1181765596137385,
          -0.07719660704485161,
          1.409412284069849,
          -0.5131803731783747,
          0.14512693266306823,
          2.6527272388996663,
          -0.24086569918403608,
          0.5802248482304968,
          -0.28805074414568127,
          -0.394646373523225,
          -0.18229447257056783,
          -0.7128994194693947,
          -0.1760753682112523,
          -0.03307361130640672,
          2.8949245145138893,
          1.4639937505591218,
          -1.1787561032149947,
          0.5080631908125035,
          0.7299226637744624,
          1.114971455912152,
          0.3670444793270461,
          -0.8986701651154719,
          0.10427824380549375,
          0.4926150883989747,
          0.50128685010186,
          0.1582082959286535,
          1.424381376073982,
          -0.7098519159265192,
          1.4343352301075223,
          0.8848001165715448,
          -0.3329297614837509,
          -0.09449322766838299,
          -1.4331704424392953,
          -2.3482367888755706,
          -0.4313472857630825,
          -0.6850394753749117,
          0.07373150250514426,
          1.5035838122434417,
          -1.0673400959574666,
          -0.1790479235488818,
          0.5497921570738876,
          -1.6569094570064595,
          0.6867680990971627,
          -1.5246247206548413,
          0.06523519227070403,
          -1.0893939851966334,
          -0.6426486274421239,
          -1.1784518458385573,
          1.4014189134269002,
          -1.6916384711818373,
          1.2564031949041172,
          0.9657713826538739,
          -0.3086420219503129,
          -0.3789089791792017,
          -0.30407623942767387,
          -0.2204677342273025
         ]
        },
        {
         "line": {
          "color": "rgba(55, 128, 191, 1.0)",
          "dash": "solid",
          "shape": "linear",
          "width": 1.3
         },
         "mode": "lines",
         "name": "B",
         "text": "",
         "type": "scatter",
         "x": [
          0,
          1,
          2,
          3,
          4,
          5,
          6,
          7,
          8,
          9,
          10,
          11,
          12,
          13,
          14,
          15,
          16,
          17,
          18,
          19,
          20,
          21,
          22,
          23,
          24,
          25,
          26,
          27,
          28,
          29,
          30,
          31,
          32,
          33,
          34,
          35,
          36,
          37,
          38,
          39,
          40,
          41,
          42,
          43,
          44,
          45,
          46,
          47,
          48,
          49,
          50,
          51,
          52,
          53,
          54,
          55,
          56,
          57,
          58,
          59,
          60,
          61,
          62,
          63,
          64,
          65,
          66,
          67,
          68,
          69,
          70,
          71,
          72,
          73,
          74,
          75,
          76,
          77,
          78,
          79,
          80,
          81,
          82,
          83,
          84,
          85,
          86,
          87,
          88,
          89,
          90,
          91,
          92,
          93,
          94,
          95,
          96,
          97,
          98,
          99
         ],
         "y": [
          0.5684502720699256,
          0.5659318504590108,
          -0.19827760510486944,
          0.32983830760641514,
          0.5328299766395032,
          -2.6070863592723637,
          -1.498912957132498,
          0.38332965794274665,
          0.22264884897725187,
          -1.6528708786582085,
          -0.49870165714242487,
          -0.4786542575383392,
          1.072071747918505,
          0.30981640073313776,
          0.8935123571549635,
          -0.6819292753460076,
          0.4576173461547523,
          0.44311917309584925,
          -0.3834133487353966,
          0.24893642268377136,
          1.5725896637711498,
          2.5800447501566977,
          -0.031174073981630846,
          -0.527185533592221,
          0.25667482105584083,
          0.8323331450472324,
          -0.9568379443293512,
          0.14736685052680928,
          0.4953577645557132,
          1.127463897276566,
          0.1979067845689406,
          1.5849528203043828,
          -0.1747631695179193,
          0.9573789764398959,
          0.47436736441101895,
          -0.33127828318692876,
          0.7471120167436102,
          -2.022638281155942,
          2.0295295993715894,
          1.4420055066294375,
          -1.5295964399797681,
          1.8233838388928698,
          -0.7918471567136929,
          -1.7277233011088322,
          -0.625284887925668,
          0.8491625546406638,
          0.6780281200173601,
          -0.5141795457121822,
          -0.3431646995205548,
          1.5537837344549983,
          -0.3592575226298186,
          -1.200915218048695,
          0.447692552037646,
          -0.7291164997074,
          -0.0005065946840657674,
          -0.4437346151107805,
          0.15345808437672942,
          0.34710550181778704,
          1.7459026911646645,
          -1.3350888262495035,
          0.5533821815324313,
          0.253181086593142,
          -0.9589033870327761,
          0.4962013516394784,
          -0.16364535978691475,
          -0.5635106687798505,
          0.3874399481008401,
          -0.892203741798904,
          1.1650334107393163,
          0.047543043577904336,
          0.11249070564030511,
          0.09672797186554681,
          -0.8058650376771265,
          -0.583781575627234,
          1.038090201365297,
          -0.20666537242679023,
          -1.048021628407373,
          0.9899524366949004,
          0.7694913735559865,
          -0.22516987366451005,
          0.610271014996182,
          -1.199867464191324,
          -0.31217188679917635,
          0.9675753903319483,
          -2.0023223593090176,
          0.002514579727119917,
          1.4298377798004676,
          -0.9007516727608389,
          1.845629362612709,
          1.014157798755033,
          0.8562826331180223,
          0.1343851276353828,
          -1.5959146246492517,
          -0.0263178124517433,
          -0.8647975627911636,
          0.7729014273210385,
          -0.30570206339584927,
          0.6912959249022436,
          0.05769976468709154,
          0.37649442087166995
         ]
        },
        {
         "connectgaps": false,
         "fill": "tozeroy",
         "line": {
          "color": "green",
          "dash": "solid",
          "shape": "linear",
          "width": 0.5
         },
         "mode": "lines",
         "name": "Spread",
         "showlegend": false,
         "type": "scatter",
         "x": [
          0,
          1,
          2,
          3,
          4,
          5,
          6,
          7,
          8,
          9,
          10,
          11,
          12,
          13,
          14,
          15,
          16,
          17,
          18,
          19,
          20,
          21,
          22,
          23,
          24,
          25,
          26,
          27,
          28,
          29,
          30,
          31,
          32,
          33,
          34,
          35,
          36,
          37,
          38,
          39,
          40,
          41,
          42,
          43,
          44,
          45,
          46,
          47,
          48,
          49,
          50,
          51,
          52,
          53,
          54,
          55,
          56,
          57,
          58,
          59,
          60,
          61,
          62,
          63,
          64,
          65,
          66,
          67,
          68,
          69,
          70,
          71,
          72,
          73,
          74,
          75,
          76,
          77,
          78,
          79,
          80,
          81,
          82,
          83,
          84,
          85,
          86,
          87,
          88,
          89,
          90,
          91,
          92,
          93,
          94,
          95,
          96,
          97,
          98,
          99
         ],
         "xaxis": "x2",
         "y": [
          0.18946671863097186,
          "",
          "",
          0.019409428149012753,
          "",
          2.7045085524843566,
          0.16836064959016794,
          "",
          "",
          3.764441764849964,
          "",
          0.13127977647423517,
          "",
          "",
          "",
          0.08439524482963867,
          "",
          0.10415450058175602,
          0.5205676864546057,
          1.354329065924813,
          "",
          "",
          "",
          0.4671706024718593,
          "",
          "",
          0.3894028272676585,
          "",
          "",
          "",
          "",
          "",
          0.3517269549195029,
          "",
          "",
          0.6166746952707163,
          "",
          1.6366268477148882,
          "",
          "",
          "",
          "",
          "",
          2.2343426467961116,
          "",
          "",
          0.731384164052489,
          0.0009991725338074353,
          0.48829163218362304,
          1.098943504444668,
          0.1183918234457825,
          1.7811400662791919,
          "",
          0.334470126184175,
          "",
          "",
          "",
          "",
          1.1490218233492249,
          2.799082576808625,
          "",
          0.2548821042193615,
          1.6888260508072386,
          0.6187701042726735,
          0.5306898391139608,
          "",
          "",
          1.3848188301978788,
          "",
          0.11066525235074914,
          1.311890670433677,
          "",
          2.240200267784649,
          1.4685816921987787,
          "",
          0.11217214475840724,
          "",
          "",
          "",
          "",
          "",
          2.703451276434766,
          "",
          "",
          2.5521145163829053,
          "",
          "",
          "",
          "",
          "",
          "",
          "",
          2.997333538076152,
          "",
          2.1212007576952807,
          0.19286995533283535,
          "",
          "",
          "",
          ""
         ],
         "yaxis": "y2"
        },
        {
         "connectgaps": false,
         "fill": "tozeroy",
         "line": {
          "color": "red",
          "dash": "solid",
          "shape": "linear",
          "width": 0.5
         },
         "mode": "lines",
         "name": "Spread",
         "showlegend": false,
         "type": "scatter",
         "x": [
          0,
          1,
          2,
          3,
          4,
          5,
          6,
          7,
          8,
          9,
          10,
          11,
          12,
          13,
          14,
          15,
          16,
          17,
          18,
          19,
          20,
          21,
          22,
          23,
          24,
          25,
          26,
          27,
          28,
          29,
          30,
          31,
          32,
          33,
          34,
          35,
          36,
          37,
          38,
          39,
          40,
          41,
          42,
          43,
          44,
          45,
          46,
          47,
          48,
          49,
          50,
          51,
          52,
          53,
          54,
          55,
          56,
          57,
          58,
          59,
          60,
          61,
          62,
          63,
          64,
          65,
          66,
          67,
          68,
          69,
          70,
          71,
          72,
          73,
          74,
          75,
          76,
          77,
          78,
          79,
          80,
          81,
          82,
          83,
          84,
          85,
          86,
          87,
          88,
          89,
          90,
          91,
          92,
          93,
          94,
          95,
          96,
          97,
          98,
          99
         ],
         "xaxis": "x2",
         "y": [
          "",
          -1.382086624696059,
          -0.869388289322567,
          "",
          -0.19376507756258066,
          "",
          "",
          -0.510158058796921,
          -0.47393748984010886,
          "",
          -0.8407043853232762,
          "",
          -2.4514733096744514,
          -0.0769135232382479,
          -0.477648534579079,
          "",
          -0.04900638497774262,
          "",
          "",
          "",
          -2.138392734845194,
          -2.1395740217707564,
          -0.3060687160895461,
          "",
          -0.31232607027222475,
          -1.2374255617778918,
          "",
          -1.5724676376294595,
          -1.3948897468779635,
          -0.02120494693133068,
          -0.4017275050293292,
          -1.5850533722602347,
          "",
          -0.1984952543032178,
          -0.22218771050941866,
          "",
          -0.9098892816886965,
          "",
          -3.0465675353099995,
          -1.7886555511403288,
          -0.010543361687264996,
          -2.358955833302035,
          -0.9157370567048124,
          "",
          -0.49289167168807047,
          -0.9263591616855155,
          "",
          "",
          "",
          "",
          "",
          "",
          -0.7357432961833272,
          "",
          -0.18178787788650205,
          -0.26916480435861423,
          -0.3295334525879817,
          -0.3801791131241938,
          "",
          "",
          -1.732138284747426,
          "",
          "",
          "",
          "",
          -0.3351594963356215,
          -0.2831617042953464,
          "",
          -0.6637465606374563,
          "",
          "",
          -0.806579887792066,
          "",
          "",
          -1.371019962849048,
          "",
          -0.38514881403192236,
          -3.338189225570471,
          -1.200838659319069,
          -0.4598696017104017,
          -0.5365395124910377,
          "",
          -0.7551682091582903,
          -1.1466233138808302,
          "",
          -1.6594240367335795,
          -0.7430696807033048,
          -0.6238730478940024,
          -1.780394170342005,
          -2.1035517839516666,
          -1.4989312605601461,
          -1.31283697347394,
          "",
          -1.665320658730094,
          "",
          "",
          -0.0029399585544636064,
          -1.0702049040814452,
          -0.3617760041147654,
          -0.5969621550989724
         ],
         "yaxis": "y2"
        }
       ],
       "layout": {
        "hovermode": "x",
        "legend": {
         "bgcolor": "#F5F6F9",
         "font": {
          "color": "#4D5663"
         }
        },
        "paper_bgcolor": "#F5F6F9",
        "plot_bgcolor": "#F5F6F9",
        "template": {
         "data": {
          "bar": [
           {
            "error_x": {
             "color": "#2a3f5f"
            },
            "error_y": {
             "color": "#2a3f5f"
            },
            "marker": {
             "line": {
              "color": "#E5ECF6",
              "width": 0.5
             }
            },
            "type": "bar"
           }
          ],
          "barpolar": [
           {
            "marker": {
             "line": {
              "color": "#E5ECF6",
              "width": 0.5
             }
            },
            "type": "barpolar"
           }
          ],
          "carpet": [
           {
            "aaxis": {
             "endlinecolor": "#2a3f5f",
             "gridcolor": "white",
             "linecolor": "white",
             "minorgridcolor": "white",
             "startlinecolor": "#2a3f5f"
            },
            "baxis": {
             "endlinecolor": "#2a3f5f",
             "gridcolor": "white",
             "linecolor": "white",
             "minorgridcolor": "white",
             "startlinecolor": "#2a3f5f"
            },
            "type": "carpet"
           }
          ],
          "choropleth": [
           {
            "colorbar": {
             "outlinewidth": 0,
             "ticks": ""
            },
            "type": "choropleth"
           }
          ],
          "contour": [
           {
            "colorbar": {
             "outlinewidth": 0,
             "ticks": ""
            },
            "colorscale": [
             [
              0,
              "#0d0887"
             ],
             [
              0.1111111111111111,
              "#46039f"
             ],
             [
              0.2222222222222222,
              "#7201a8"
             ],
             [
              0.3333333333333333,
              "#9c179e"
             ],
             [
              0.4444444444444444,
              "#bd3786"
             ],
             [
              0.5555555555555556,
              "#d8576b"
             ],
             [
              0.6666666666666666,
              "#ed7953"
             ],
             [
              0.7777777777777778,
              "#fb9f3a"
             ],
             [
              0.8888888888888888,
              "#fdca26"
             ],
             [
              1,
              "#f0f921"
             ]
            ],
            "type": "contour"
           }
          ],
          "contourcarpet": [
           {
            "colorbar": {
             "outlinewidth": 0,
             "ticks": ""
            },
            "type": "contourcarpet"
           }
          ],
          "heatmap": [
           {
            "colorbar": {
             "outlinewidth": 0,
             "ticks": ""
            },
            "colorscale": [
             [
              0,
              "#0d0887"
             ],
             [
              0.1111111111111111,
              "#46039f"
             ],
             [
              0.2222222222222222,
              "#7201a8"
             ],
             [
              0.3333333333333333,
              "#9c179e"
             ],
             [
              0.4444444444444444,
              "#bd3786"
             ],
             [
              0.5555555555555556,
              "#d8576b"
             ],
             [
              0.6666666666666666,
              "#ed7953"
             ],
             [
              0.7777777777777778,
              "#fb9f3a"
             ],
             [
              0.8888888888888888,
              "#fdca26"
             ],
             [
              1,
              "#f0f921"
             ]
            ],
            "type": "heatmap"
           }
          ],
          "heatmapgl": [
           {
            "colorbar": {
             "outlinewidth": 0,
             "ticks": ""
            },
            "colorscale": [
             [
              0,
              "#0d0887"
             ],
             [
              0.1111111111111111,
              "#46039f"
             ],
             [
              0.2222222222222222,
              "#7201a8"
             ],
             [
              0.3333333333333333,
              "#9c179e"
             ],
             [
              0.4444444444444444,
              "#bd3786"
             ],
             [
              0.5555555555555556,
              "#d8576b"
             ],
             [
              0.6666666666666666,
              "#ed7953"
             ],
             [
              0.7777777777777778,
              "#fb9f3a"
             ],
             [
              0.8888888888888888,
              "#fdca26"
             ],
             [
              1,
              "#f0f921"
             ]
            ],
            "type": "heatmapgl"
           }
          ],
          "histogram": [
           {
            "marker": {
             "colorbar": {
              "outlinewidth": 0,
              "ticks": ""
             }
            },
            "type": "histogram"
           }
          ],
          "histogram2d": [
           {
            "colorbar": {
             "outlinewidth": 0,
             "ticks": ""
            },
            "colorscale": [
             [
              0,
              "#0d0887"
             ],
             [
              0.1111111111111111,
              "#46039f"
             ],
             [
              0.2222222222222222,
              "#7201a8"
             ],
             [
              0.3333333333333333,
              "#9c179e"
             ],
             [
              0.4444444444444444,
              "#bd3786"
             ],
             [
              0.5555555555555556,
              "#d8576b"
             ],
             [
              0.6666666666666666,
              "#ed7953"
             ],
             [
              0.7777777777777778,
              "#fb9f3a"
             ],
             [
              0.8888888888888888,
              "#fdca26"
             ],
             [
              1,
              "#f0f921"
             ]
            ],
            "type": "histogram2d"
           }
          ],
          "histogram2dcontour": [
           {
            "colorbar": {
             "outlinewidth": 0,
             "ticks": ""
            },
            "colorscale": [
             [
              0,
              "#0d0887"
             ],
             [
              0.1111111111111111,
              "#46039f"
             ],
             [
              0.2222222222222222,
              "#7201a8"
             ],
             [
              0.3333333333333333,
              "#9c179e"
             ],
             [
              0.4444444444444444,
              "#bd3786"
             ],
             [
              0.5555555555555556,
              "#d8576b"
             ],
             [
              0.6666666666666666,
              "#ed7953"
             ],
             [
              0.7777777777777778,
              "#fb9f3a"
             ],
             [
              0.8888888888888888,
              "#fdca26"
             ],
             [
              1,
              "#f0f921"
             ]
            ],
            "type": "histogram2dcontour"
           }
          ],
          "mesh3d": [
           {
            "colorbar": {
             "outlinewidth": 0,
             "ticks": ""
            },
            "type": "mesh3d"
           }
          ],
          "parcoords": [
           {
            "line": {
             "colorbar": {
              "outlinewidth": 0,
              "ticks": ""
             }
            },
            "type": "parcoords"
           }
          ],
          "pie": [
           {
            "automargin": true,
            "type": "pie"
           }
          ],
          "scatter": [
           {
            "marker": {
             "colorbar": {
              "outlinewidth": 0,
              "ticks": ""
             }
            },
            "type": "scatter"
           }
          ],
          "scatter3d": [
           {
            "line": {
             "colorbar": {
              "outlinewidth": 0,
              "ticks": ""
             }
            },
            "marker": {
             "colorbar": {
              "outlinewidth": 0,
              "ticks": ""
             }
            },
            "type": "scatter3d"
           }
          ],
          "scattercarpet": [
           {
            "marker": {
             "colorbar": {
              "outlinewidth": 0,
              "ticks": ""
             }
            },
            "type": "scattercarpet"
           }
          ],
          "scattergeo": [
           {
            "marker": {
             "colorbar": {
              "outlinewidth": 0,
              "ticks": ""
             }
            },
            "type": "scattergeo"
           }
          ],
          "scattergl": [
           {
            "marker": {
             "colorbar": {
              "outlinewidth": 0,
              "ticks": ""
             }
            },
            "type": "scattergl"
           }
          ],
          "scattermapbox": [
           {
            "marker": {
             "colorbar": {
              "outlinewidth": 0,
              "ticks": ""
             }
            },
            "type": "scattermapbox"
           }
          ],
          "scatterpolar": [
           {
            "marker": {
             "colorbar": {
              "outlinewidth": 0,
              "ticks": ""
             }
            },
            "type": "scatterpolar"
           }
          ],
          "scatterpolargl": [
           {
            "marker": {
             "colorbar": {
              "outlinewidth": 0,
              "ticks": ""
             }
            },
            "type": "scatterpolargl"
           }
          ],
          "scatterternary": [
           {
            "marker": {
             "colorbar": {
              "outlinewidth": 0,
              "ticks": ""
             }
            },
            "type": "scatterternary"
           }
          ],
          "surface": [
           {
            "colorbar": {
             "outlinewidth": 0,
             "ticks": ""
            },
            "colorscale": [
             [
              0,
              "#0d0887"
             ],
             [
              0.1111111111111111,
              "#46039f"
             ],
             [
              0.2222222222222222,
              "#7201a8"
             ],
             [
              0.3333333333333333,
              "#9c179e"
             ],
             [
              0.4444444444444444,
              "#bd3786"
             ],
             [
              0.5555555555555556,
              "#d8576b"
             ],
             [
              0.6666666666666666,
              "#ed7953"
             ],
             [
              0.7777777777777778,
              "#fb9f3a"
             ],
             [
              0.8888888888888888,
              "#fdca26"
             ],
             [
              1,
              "#f0f921"
             ]
            ],
            "type": "surface"
           }
          ],
          "table": [
           {
            "cells": {
             "fill": {
              "color": "#EBF0F8"
             },
             "line": {
              "color": "white"
             }
            },
            "header": {
             "fill": {
              "color": "#C8D4E3"
             },
             "line": {
              "color": "white"
             }
            },
            "type": "table"
           }
          ]
         },
         "layout": {
          "annotationdefaults": {
           "arrowcolor": "#2a3f5f",
           "arrowhead": 0,
           "arrowwidth": 1
          },
          "autotypenumbers": "strict",
          "coloraxis": {
           "colorbar": {
            "outlinewidth": 0,
            "ticks": ""
           }
          },
          "colorscale": {
           "diverging": [
            [
             0,
             "#8e0152"
            ],
            [
             0.1,
             "#c51b7d"
            ],
            [
             0.2,
             "#de77ae"
            ],
            [
             0.3,
             "#f1b6da"
            ],
            [
             0.4,
             "#fde0ef"
            ],
            [
             0.5,
             "#f7f7f7"
            ],
            [
             0.6,
             "#e6f5d0"
            ],
            [
             0.7,
             "#b8e186"
            ],
            [
             0.8,
             "#7fbc41"
            ],
            [
             0.9,
             "#4d9221"
            ],
            [
             1,
             "#276419"
            ]
           ],
           "sequential": [
            [
             0,
             "#0d0887"
            ],
            [
             0.1111111111111111,
             "#46039f"
            ],
            [
             0.2222222222222222,
             "#7201a8"
            ],
            [
             0.3333333333333333,
             "#9c179e"
            ],
            [
             0.4444444444444444,
             "#bd3786"
            ],
            [
             0.5555555555555556,
             "#d8576b"
            ],
            [
             0.6666666666666666,
             "#ed7953"
            ],
            [
             0.7777777777777778,
             "#fb9f3a"
            ],
            [
             0.8888888888888888,
             "#fdca26"
            ],
            [
             1,
             "#f0f921"
            ]
           ],
           "sequentialminus": [
            [
             0,
             "#0d0887"
            ],
            [
             0.1111111111111111,
             "#46039f"
            ],
            [
             0.2222222222222222,
             "#7201a8"
            ],
            [
             0.3333333333333333,
             "#9c179e"
            ],
            [
             0.4444444444444444,
             "#bd3786"
            ],
            [
             0.5555555555555556,
             "#d8576b"
            ],
            [
             0.6666666666666666,
             "#ed7953"
            ],
            [
             0.7777777777777778,
             "#fb9f3a"
            ],
            [
             0.8888888888888888,
             "#fdca26"
            ],
            [
             1,
             "#f0f921"
            ]
           ]
          },
          "colorway": [
           "#636efa",
           "#EF553B",
           "#00cc96",
           "#ab63fa",
           "#FFA15A",
           "#19d3f3",
           "#FF6692",
           "#B6E880",
           "#FF97FF",
           "#FECB52"
          ],
          "font": {
           "color": "#2a3f5f"
          },
          "geo": {
           "bgcolor": "white",
           "lakecolor": "white",
           "landcolor": "#E5ECF6",
           "showlakes": true,
           "showland": true,
           "subunitcolor": "white"
          },
          "hoverlabel": {
           "align": "left"
          },
          "hovermode": "closest",
          "mapbox": {
           "style": "light"
          },
          "paper_bgcolor": "white",
          "plot_bgcolor": "#E5ECF6",
          "polar": {
           "angularaxis": {
            "gridcolor": "white",
            "linecolor": "white",
            "ticks": ""
           },
           "bgcolor": "#E5ECF6",
           "radialaxis": {
            "gridcolor": "white",
            "linecolor": "white",
            "ticks": ""
           }
          },
          "scene": {
           "xaxis": {
            "backgroundcolor": "#E5ECF6",
            "gridcolor": "white",
            "gridwidth": 2,
            "linecolor": "white",
            "showbackground": true,
            "ticks": "",
            "zerolinecolor": "white"
           },
           "yaxis": {
            "backgroundcolor": "#E5ECF6",
            "gridcolor": "white",
            "gridwidth": 2,
            "linecolor": "white",
            "showbackground": true,
            "ticks": "",
            "zerolinecolor": "white"
           },
           "zaxis": {
            "backgroundcolor": "#E5ECF6",
            "gridcolor": "white",
            "gridwidth": 2,
            "linecolor": "white",
            "showbackground": true,
            "ticks": "",
            "zerolinecolor": "white"
           }
          },
          "shapedefaults": {
           "line": {
            "color": "#2a3f5f"
           }
          },
          "ternary": {
           "aaxis": {
            "gridcolor": "white",
            "linecolor": "white",
            "ticks": ""
           },
           "baxis": {
            "gridcolor": "white",
            "linecolor": "white",
            "ticks": ""
           },
           "bgcolor": "#E5ECF6",
           "caxis": {
            "gridcolor": "white",
            "linecolor": "white",
            "ticks": ""
           }
          },
          "title": {
           "x": 0.05
          },
          "xaxis": {
           "automargin": true,
           "gridcolor": "white",
           "linecolor": "white",
           "ticks": "",
           "title": {
            "standoff": 15
           },
           "zerolinecolor": "white",
           "zerolinewidth": 2
          },
          "yaxis": {
           "automargin": true,
           "gridcolor": "white",
           "linecolor": "white",
           "ticks": "",
           "title": {
            "standoff": 15
           },
           "zerolinecolor": "white",
           "zerolinewidth": 2
          }
         }
        },
        "title": {
         "font": {
          "color": "#4D5663"
         }
        },
        "xaxis": {
         "gridcolor": "#E1E5ED",
         "showgrid": true,
         "tickfont": {
          "color": "#4D5663"
         },
         "title": {
          "font": {
           "color": "#4D5663"
          },
          "text": ""
         },
         "zerolinecolor": "#E1E5ED"
        },
        "xaxis2": {
         "anchor": "y2",
         "gridcolor": "#E1E5ED",
         "showgrid": true,
         "showticklabels": false,
         "tickfont": {
          "color": "#4D5663"
         },
         "title": {
          "font": {
           "color": "#4D5663"
          },
          "text": ""
         },
         "zerolinecolor": "#E1E5ED"
        },
        "yaxis": {
         "domain": [
          0.3,
          1
         ],
         "gridcolor": "#E1E5ED",
         "showgrid": true,
         "tickfont": {
          "color": "#4D5663"
         },
         "title": {
          "font": {
           "color": "#4D5663"
          },
          "text": ""
         },
         "zerolinecolor": "#E1E5ED"
        },
        "yaxis2": {
         "domain": [
          0,
          0.25
         ],
         "gridcolor": "#E1E5ED",
         "showgrid": true,
         "tickfont": {
          "color": "#4D5663"
         },
         "title": {
          "font": {
           "color": "#4D5663"
          },
          "text": "Spread"
         },
         "zerolinecolor": "#E1E5ED"
        }
       }
      },
      "text/html": [
       "<div>                            <div id=\"a633e0a9-86d8-453d-a0ce-d1b98afb9f78\" class=\"plotly-graph-div\" style=\"height:525px; width:100%;\"></div>            <script type=\"text/javascript\">                require([\"plotly\"], function(Plotly) {                    window.PLOTLYENV=window.PLOTLYENV || {};\n",
       "                    window.PLOTLYENV.BASE_URL='https://plot.ly';                                    if (document.getElementById(\"a633e0a9-86d8-453d-a0ce-d1b98afb9f78\")) {                    Plotly.newPlot(                        \"a633e0a9-86d8-453d-a0ce-d1b98afb9f78\",                        [{\"line\": {\"color\": \"rgba(255, 153, 51, 1.0)\", \"dash\": \"solid\", \"shape\": \"linear\", \"width\": 1.3}, \"mode\": \"lines\", \"name\": \"A\", \"text\": \"\", \"type\": \"scatter\", \"x\": [0, 1, 2, 3, 4, 5, 6, 7, 8, 9, 10, 11, 12, 13, 14, 15, 16, 17, 18, 19, 20, 21, 22, 23, 24, 25, 26, 27, 28, 29, 30, 31, 32, 33, 34, 35, 36, 37, 38, 39, 40, 41, 42, 43, 44, 45, 46, 47, 48, 49, 50, 51, 52, 53, 54, 55, 56, 57, 58, 59, 60, 61, 62, 63, 64, 65, 66, 67, 68, 69, 70, 71, 72, 73, 74, 75, 76, 77, 78, 79, 80, 81, 82, 83, 84, 85, 86, 87, 88, 89, 90, 91, 92, 93, 94, 95, 96, 97, 98, 99], \"y\": [0.7579169907008975, -0.8161547742370481, -1.0676658944274364, 0.3492477357554279, 0.3390648990769225, 0.09742219321199275, -1.33055230754233, -0.12682840085417438, -0.25128864086285696, 2.1115708861917555, -1.339406042465701, -0.347374481064104, -1.3794015617559465, 0.23290287749488986, 0.41586382257588445, -0.5975340305163689, 0.4086109611770097, 0.5472736736776053, 0.13715433771920907, 1.6032654886085844, -0.5658030710740445, 0.4404707283859412, -0.33724279007117697, -0.060014931120361666, -0.055651249216383945, -0.4050924167306593, -0.5674351170616927, -1.4251007871026502, -0.8995319823222503, 1.1062589503452354, -0.20382072046038863, -0.00010055195585183877, 0.17696378540158358, 0.7588837221366781, 0.2521796539016003, 0.2853964120837876, -0.16277726494508643, -0.38601143344105365, -1.0170379359384103, -0.3466500445108914, -1.5401398016670331, -0.535571994409165, -1.7075842134185053, 0.5066193456872792, -1.1181765596137385, -0.07719660704485161, 1.409412284069849, -0.5131803731783747, 0.14512693266306823, 2.6527272388996663, -0.24086569918403608, 0.5802248482304968, -0.28805074414568127, -0.394646373523225, -0.18229447257056783, -0.7128994194693947, -0.1760753682112523, -0.03307361130640672, 2.8949245145138893, 1.4639937505591218, -1.1787561032149947, 0.5080631908125035, 0.7299226637744624, 1.114971455912152, 0.3670444793270461, -0.8986701651154719, 0.10427824380549375, 0.4926150883989747, 0.50128685010186, 0.1582082959286535, 1.424381376073982, -0.7098519159265192, 1.4343352301075223, 0.8848001165715448, -0.3329297614837509, -0.09449322766838299, -1.4331704424392953, -2.3482367888755706, -0.4313472857630825, -0.6850394753749117, 0.07373150250514426, 1.5035838122434417, -1.0673400959574666, -0.1790479235488818, 0.5497921570738876, -1.6569094570064595, 0.6867680990971627, -1.5246247206548413, 0.06523519227070403, -1.0893939851966334, -0.6426486274421239, -1.1784518458385573, 1.4014189134269002, -1.6916384711818373, 1.2564031949041172, 0.9657713826538739, -0.3086420219503129, -0.3789089791792017, -0.30407623942767387, -0.2204677342273025]}, {\"line\": {\"color\": \"rgba(55, 128, 191, 1.0)\", \"dash\": \"solid\", \"shape\": \"linear\", \"width\": 1.3}, \"mode\": \"lines\", \"name\": \"B\", \"text\": \"\", \"type\": \"scatter\", \"x\": [0, 1, 2, 3, 4, 5, 6, 7, 8, 9, 10, 11, 12, 13, 14, 15, 16, 17, 18, 19, 20, 21, 22, 23, 24, 25, 26, 27, 28, 29, 30, 31, 32, 33, 34, 35, 36, 37, 38, 39, 40, 41, 42, 43, 44, 45, 46, 47, 48, 49, 50, 51, 52, 53, 54, 55, 56, 57, 58, 59, 60, 61, 62, 63, 64, 65, 66, 67, 68, 69, 70, 71, 72, 73, 74, 75, 76, 77, 78, 79, 80, 81, 82, 83, 84, 85, 86, 87, 88, 89, 90, 91, 92, 93, 94, 95, 96, 97, 98, 99], \"y\": [0.5684502720699256, 0.5659318504590108, -0.19827760510486944, 0.32983830760641514, 0.5328299766395032, -2.6070863592723637, -1.498912957132498, 0.38332965794274665, 0.22264884897725187, -1.6528708786582085, -0.49870165714242487, -0.4786542575383392, 1.072071747918505, 0.30981640073313776, 0.8935123571549635, -0.6819292753460076, 0.4576173461547523, 0.44311917309584925, -0.3834133487353966, 0.24893642268377136, 1.5725896637711498, 2.5800447501566977, -0.031174073981630846, -0.527185533592221, 0.25667482105584083, 0.8323331450472324, -0.9568379443293512, 0.14736685052680928, 0.4953577645557132, 1.127463897276566, 0.1979067845689406, 1.5849528203043828, -0.1747631695179193, 0.9573789764398959, 0.47436736441101895, -0.33127828318692876, 0.7471120167436102, -2.022638281155942, 2.0295295993715894, 1.4420055066294375, -1.5295964399797681, 1.8233838388928698, -0.7918471567136929, -1.7277233011088322, -0.625284887925668, 0.8491625546406638, 0.6780281200173601, -0.5141795457121822, -0.3431646995205548, 1.5537837344549983, -0.3592575226298186, -1.200915218048695, 0.447692552037646, -0.7291164997074, -0.0005065946840657674, -0.4437346151107805, 0.15345808437672942, 0.34710550181778704, 1.7459026911646645, -1.3350888262495035, 0.5533821815324313, 0.253181086593142, -0.9589033870327761, 0.4962013516394784, -0.16364535978691475, -0.5635106687798505, 0.3874399481008401, -0.892203741798904, 1.1650334107393163, 0.047543043577904336, 0.11249070564030511, 0.09672797186554681, -0.8058650376771265, -0.583781575627234, 1.038090201365297, -0.20666537242679023, -1.048021628407373, 0.9899524366949004, 0.7694913735559865, -0.22516987366451005, 0.610271014996182, -1.199867464191324, -0.31217188679917635, 0.9675753903319483, -2.0023223593090176, 0.002514579727119917, 1.4298377798004676, -0.9007516727608389, 1.845629362612709, 1.014157798755033, 0.8562826331180223, 0.1343851276353828, -1.5959146246492517, -0.0263178124517433, -0.8647975627911636, 0.7729014273210385, -0.30570206339584927, 0.6912959249022436, 0.05769976468709154, 0.37649442087166995]}, {\"connectgaps\": false, \"fill\": \"tozeroy\", \"line\": {\"color\": \"green\", \"dash\": \"solid\", \"shape\": \"linear\", \"width\": 0.5}, \"mode\": \"lines\", \"name\": \"Spread\", \"showlegend\": false, \"type\": \"scatter\", \"x\": [0, 1, 2, 3, 4, 5, 6, 7, 8, 9, 10, 11, 12, 13, 14, 15, 16, 17, 18, 19, 20, 21, 22, 23, 24, 25, 26, 27, 28, 29, 30, 31, 32, 33, 34, 35, 36, 37, 38, 39, 40, 41, 42, 43, 44, 45, 46, 47, 48, 49, 50, 51, 52, 53, 54, 55, 56, 57, 58, 59, 60, 61, 62, 63, 64, 65, 66, 67, 68, 69, 70, 71, 72, 73, 74, 75, 76, 77, 78, 79, 80, 81, 82, 83, 84, 85, 86, 87, 88, 89, 90, 91, 92, 93, 94, 95, 96, 97, 98, 99], \"xaxis\": \"x2\", \"y\": [0.18946671863097186, \"\", \"\", 0.019409428149012753, \"\", 2.7045085524843566, 0.16836064959016794, \"\", \"\", 3.764441764849964, \"\", 0.13127977647423517, \"\", \"\", \"\", 0.08439524482963867, \"\", 0.10415450058175602, 0.5205676864546057, 1.354329065924813, \"\", \"\", \"\", 0.4671706024718593, \"\", \"\", 0.3894028272676585, \"\", \"\", \"\", \"\", \"\", 0.3517269549195029, \"\", \"\", 0.6166746952707163, \"\", 1.6366268477148882, \"\", \"\", \"\", \"\", \"\", 2.2343426467961116, \"\", \"\", 0.731384164052489, 0.0009991725338074353, 0.48829163218362304, 1.098943504444668, 0.1183918234457825, 1.7811400662791919, \"\", 0.334470126184175, \"\", \"\", \"\", \"\", 1.1490218233492249, 2.799082576808625, \"\", 0.2548821042193615, 1.6888260508072386, 0.6187701042726735, 0.5306898391139608, \"\", \"\", 1.3848188301978788, \"\", 0.11066525235074914, 1.311890670433677, \"\", 2.240200267784649, 1.4685816921987787, \"\", 0.11217214475840724, \"\", \"\", \"\", \"\", \"\", 2.703451276434766, \"\", \"\", 2.5521145163829053, \"\", \"\", \"\", \"\", \"\", \"\", \"\", 2.997333538076152, \"\", 2.1212007576952807, 0.19286995533283535, \"\", \"\", \"\", \"\"], \"yaxis\": \"y2\"}, {\"connectgaps\": false, \"fill\": \"tozeroy\", \"line\": {\"color\": \"red\", \"dash\": \"solid\", \"shape\": \"linear\", \"width\": 0.5}, \"mode\": \"lines\", \"name\": \"Spread\", \"showlegend\": false, \"type\": \"scatter\", \"x\": [0, 1, 2, 3, 4, 5, 6, 7, 8, 9, 10, 11, 12, 13, 14, 15, 16, 17, 18, 19, 20, 21, 22, 23, 24, 25, 26, 27, 28, 29, 30, 31, 32, 33, 34, 35, 36, 37, 38, 39, 40, 41, 42, 43, 44, 45, 46, 47, 48, 49, 50, 51, 52, 53, 54, 55, 56, 57, 58, 59, 60, 61, 62, 63, 64, 65, 66, 67, 68, 69, 70, 71, 72, 73, 74, 75, 76, 77, 78, 79, 80, 81, 82, 83, 84, 85, 86, 87, 88, 89, 90, 91, 92, 93, 94, 95, 96, 97, 98, 99], \"xaxis\": \"x2\", \"y\": [\"\", -1.382086624696059, -0.869388289322567, \"\", -0.19376507756258066, \"\", \"\", -0.510158058796921, -0.47393748984010886, \"\", -0.8407043853232762, \"\", -2.4514733096744514, -0.0769135232382479, -0.477648534579079, \"\", -0.04900638497774262, \"\", \"\", \"\", -2.138392734845194, -2.1395740217707564, -0.3060687160895461, \"\", -0.31232607027222475, -1.2374255617778918, \"\", -1.5724676376294595, -1.3948897468779635, -0.02120494693133068, -0.4017275050293292, -1.5850533722602347, \"\", -0.1984952543032178, -0.22218771050941866, \"\", -0.9098892816886965, \"\", -3.0465675353099995, -1.7886555511403288, -0.010543361687264996, -2.358955833302035, -0.9157370567048124, \"\", -0.49289167168807047, -0.9263591616855155, \"\", \"\", \"\", \"\", \"\", \"\", -0.7357432961833272, \"\", -0.18178787788650205, -0.26916480435861423, -0.3295334525879817, -0.3801791131241938, \"\", \"\", -1.732138284747426, \"\", \"\", \"\", \"\", -0.3351594963356215, -0.2831617042953464, \"\", -0.6637465606374563, \"\", \"\", -0.806579887792066, \"\", \"\", -1.371019962849048, \"\", -0.38514881403192236, -3.338189225570471, -1.200838659319069, -0.4598696017104017, -0.5365395124910377, \"\", -0.7551682091582903, -1.1466233138808302, \"\", -1.6594240367335795, -0.7430696807033048, -0.6238730478940024, -1.780394170342005, -2.1035517839516666, -1.4989312605601461, -1.31283697347394, \"\", -1.665320658730094, \"\", \"\", -0.0029399585544636064, -1.0702049040814452, -0.3617760041147654, -0.5969621550989724], \"yaxis\": \"y2\"}],                        {\"hovermode\": \"x\", \"legend\": {\"bgcolor\": \"#F5F6F9\", \"font\": {\"color\": \"#4D5663\"}}, \"paper_bgcolor\": \"#F5F6F9\", \"plot_bgcolor\": \"#F5F6F9\", \"template\": {\"data\": {\"bar\": [{\"error_x\": {\"color\": \"#2a3f5f\"}, \"error_y\": {\"color\": \"#2a3f5f\"}, \"marker\": {\"line\": {\"color\": \"#E5ECF6\", \"width\": 0.5}}, \"type\": \"bar\"}], \"barpolar\": [{\"marker\": {\"line\": {\"color\": \"#E5ECF6\", \"width\": 0.5}}, \"type\": \"barpolar\"}], \"carpet\": [{\"aaxis\": {\"endlinecolor\": \"#2a3f5f\", \"gridcolor\": \"white\", \"linecolor\": \"white\", \"minorgridcolor\": \"white\", \"startlinecolor\": \"#2a3f5f\"}, \"baxis\": {\"endlinecolor\": \"#2a3f5f\", \"gridcolor\": \"white\", \"linecolor\": \"white\", \"minorgridcolor\": \"white\", \"startlinecolor\": \"#2a3f5f\"}, \"type\": \"carpet\"}], \"choropleth\": [{\"colorbar\": {\"outlinewidth\": 0, \"ticks\": \"\"}, \"type\": \"choropleth\"}], \"contour\": [{\"colorbar\": {\"outlinewidth\": 0, \"ticks\": \"\"}, \"colorscale\": [[0.0, \"#0d0887\"], [0.1111111111111111, \"#46039f\"], [0.2222222222222222, \"#7201a8\"], [0.3333333333333333, \"#9c179e\"], [0.4444444444444444, \"#bd3786\"], [0.5555555555555556, \"#d8576b\"], [0.6666666666666666, \"#ed7953\"], [0.7777777777777778, \"#fb9f3a\"], [0.8888888888888888, \"#fdca26\"], [1.0, \"#f0f921\"]], \"type\": \"contour\"}], \"contourcarpet\": [{\"colorbar\": {\"outlinewidth\": 0, \"ticks\": \"\"}, \"type\": \"contourcarpet\"}], \"heatmap\": [{\"colorbar\": {\"outlinewidth\": 0, \"ticks\": \"\"}, \"colorscale\": [[0.0, \"#0d0887\"], [0.1111111111111111, \"#46039f\"], [0.2222222222222222, \"#7201a8\"], [0.3333333333333333, \"#9c179e\"], [0.4444444444444444, \"#bd3786\"], [0.5555555555555556, \"#d8576b\"], [0.6666666666666666, \"#ed7953\"], [0.7777777777777778, \"#fb9f3a\"], [0.8888888888888888, \"#fdca26\"], [1.0, \"#f0f921\"]], \"type\": \"heatmap\"}], \"heatmapgl\": [{\"colorbar\": {\"outlinewidth\": 0, \"ticks\": \"\"}, \"colorscale\": [[0.0, \"#0d0887\"], [0.1111111111111111, \"#46039f\"], [0.2222222222222222, \"#7201a8\"], [0.3333333333333333, \"#9c179e\"], [0.4444444444444444, \"#bd3786\"], [0.5555555555555556, \"#d8576b\"], [0.6666666666666666, \"#ed7953\"], [0.7777777777777778, \"#fb9f3a\"], [0.8888888888888888, \"#fdca26\"], [1.0, \"#f0f921\"]], \"type\": \"heatmapgl\"}], \"histogram\": [{\"marker\": {\"colorbar\": {\"outlinewidth\": 0, \"ticks\": \"\"}}, \"type\": \"histogram\"}], \"histogram2d\": [{\"colorbar\": {\"outlinewidth\": 0, \"ticks\": \"\"}, \"colorscale\": [[0.0, \"#0d0887\"], [0.1111111111111111, \"#46039f\"], [0.2222222222222222, \"#7201a8\"], [0.3333333333333333, \"#9c179e\"], [0.4444444444444444, \"#bd3786\"], [0.5555555555555556, \"#d8576b\"], [0.6666666666666666, \"#ed7953\"], [0.7777777777777778, \"#fb9f3a\"], [0.8888888888888888, \"#fdca26\"], [1.0, \"#f0f921\"]], \"type\": \"histogram2d\"}], \"histogram2dcontour\": [{\"colorbar\": {\"outlinewidth\": 0, \"ticks\": \"\"}, \"colorscale\": [[0.0, \"#0d0887\"], [0.1111111111111111, \"#46039f\"], [0.2222222222222222, \"#7201a8\"], [0.3333333333333333, \"#9c179e\"], [0.4444444444444444, \"#bd3786\"], [0.5555555555555556, \"#d8576b\"], [0.6666666666666666, \"#ed7953\"], [0.7777777777777778, \"#fb9f3a\"], [0.8888888888888888, \"#fdca26\"], [1.0, \"#f0f921\"]], \"type\": \"histogram2dcontour\"}], \"mesh3d\": [{\"colorbar\": {\"outlinewidth\": 0, \"ticks\": \"\"}, \"type\": \"mesh3d\"}], \"parcoords\": [{\"line\": {\"colorbar\": {\"outlinewidth\": 0, \"ticks\": \"\"}}, \"type\": \"parcoords\"}], \"pie\": [{\"automargin\": true, \"type\": \"pie\"}], \"scatter\": [{\"marker\": {\"colorbar\": {\"outlinewidth\": 0, \"ticks\": \"\"}}, \"type\": \"scatter\"}], \"scatter3d\": [{\"line\": {\"colorbar\": {\"outlinewidth\": 0, \"ticks\": \"\"}}, \"marker\": {\"colorbar\": {\"outlinewidth\": 0, \"ticks\": \"\"}}, \"type\": \"scatter3d\"}], \"scattercarpet\": [{\"marker\": {\"colorbar\": {\"outlinewidth\": 0, \"ticks\": \"\"}}, \"type\": \"scattercarpet\"}], \"scattergeo\": [{\"marker\": {\"colorbar\": {\"outlinewidth\": 0, \"ticks\": \"\"}}, \"type\": \"scattergeo\"}], \"scattergl\": [{\"marker\": {\"colorbar\": {\"outlinewidth\": 0, \"ticks\": \"\"}}, \"type\": \"scattergl\"}], \"scattermapbox\": [{\"marker\": {\"colorbar\": {\"outlinewidth\": 0, \"ticks\": \"\"}}, \"type\": \"scattermapbox\"}], \"scatterpolar\": [{\"marker\": {\"colorbar\": {\"outlinewidth\": 0, \"ticks\": \"\"}}, \"type\": \"scatterpolar\"}], \"scatterpolargl\": [{\"marker\": {\"colorbar\": {\"outlinewidth\": 0, \"ticks\": \"\"}}, \"type\": \"scatterpolargl\"}], \"scatterternary\": [{\"marker\": {\"colorbar\": {\"outlinewidth\": 0, \"ticks\": \"\"}}, \"type\": \"scatterternary\"}], \"surface\": [{\"colorbar\": {\"outlinewidth\": 0, \"ticks\": \"\"}, \"colorscale\": [[0.0, \"#0d0887\"], [0.1111111111111111, \"#46039f\"], [0.2222222222222222, \"#7201a8\"], [0.3333333333333333, \"#9c179e\"], [0.4444444444444444, \"#bd3786\"], [0.5555555555555556, \"#d8576b\"], [0.6666666666666666, \"#ed7953\"], [0.7777777777777778, \"#fb9f3a\"], [0.8888888888888888, \"#fdca26\"], [1.0, \"#f0f921\"]], \"type\": \"surface\"}], \"table\": [{\"cells\": {\"fill\": {\"color\": \"#EBF0F8\"}, \"line\": {\"color\": \"white\"}}, \"header\": {\"fill\": {\"color\": \"#C8D4E3\"}, \"line\": {\"color\": \"white\"}}, \"type\": \"table\"}]}, \"layout\": {\"annotationdefaults\": {\"arrowcolor\": \"#2a3f5f\", \"arrowhead\": 0, \"arrowwidth\": 1}, \"autotypenumbers\": \"strict\", \"coloraxis\": {\"colorbar\": {\"outlinewidth\": 0, \"ticks\": \"\"}}, \"colorscale\": {\"diverging\": [[0, \"#8e0152\"], [0.1, \"#c51b7d\"], [0.2, \"#de77ae\"], [0.3, \"#f1b6da\"], [0.4, \"#fde0ef\"], [0.5, \"#f7f7f7\"], [0.6, \"#e6f5d0\"], [0.7, \"#b8e186\"], [0.8, \"#7fbc41\"], [0.9, \"#4d9221\"], [1, \"#276419\"]], \"sequential\": [[0.0, \"#0d0887\"], [0.1111111111111111, \"#46039f\"], [0.2222222222222222, \"#7201a8\"], [0.3333333333333333, \"#9c179e\"], [0.4444444444444444, \"#bd3786\"], [0.5555555555555556, \"#d8576b\"], [0.6666666666666666, \"#ed7953\"], [0.7777777777777778, \"#fb9f3a\"], [0.8888888888888888, \"#fdca26\"], [1.0, \"#f0f921\"]], \"sequentialminus\": [[0.0, \"#0d0887\"], [0.1111111111111111, \"#46039f\"], [0.2222222222222222, \"#7201a8\"], [0.3333333333333333, \"#9c179e\"], [0.4444444444444444, \"#bd3786\"], [0.5555555555555556, \"#d8576b\"], [0.6666666666666666, \"#ed7953\"], [0.7777777777777778, \"#fb9f3a\"], [0.8888888888888888, \"#fdca26\"], [1.0, \"#f0f921\"]]}, \"colorway\": [\"#636efa\", \"#EF553B\", \"#00cc96\", \"#ab63fa\", \"#FFA15A\", \"#19d3f3\", \"#FF6692\", \"#B6E880\", \"#FF97FF\", \"#FECB52\"], \"font\": {\"color\": \"#2a3f5f\"}, \"geo\": {\"bgcolor\": \"white\", \"lakecolor\": \"white\", \"landcolor\": \"#E5ECF6\", \"showlakes\": true, \"showland\": true, \"subunitcolor\": \"white\"}, \"hoverlabel\": {\"align\": \"left\"}, \"hovermode\": \"closest\", \"mapbox\": {\"style\": \"light\"}, \"paper_bgcolor\": \"white\", \"plot_bgcolor\": \"#E5ECF6\", \"polar\": {\"angularaxis\": {\"gridcolor\": \"white\", \"linecolor\": \"white\", \"ticks\": \"\"}, \"bgcolor\": \"#E5ECF6\", \"radialaxis\": {\"gridcolor\": \"white\", \"linecolor\": \"white\", \"ticks\": \"\"}}, \"scene\": {\"xaxis\": {\"backgroundcolor\": \"#E5ECF6\", \"gridcolor\": \"white\", \"gridwidth\": 2, \"linecolor\": \"white\", \"showbackground\": true, \"ticks\": \"\", \"zerolinecolor\": \"white\"}, \"yaxis\": {\"backgroundcolor\": \"#E5ECF6\", \"gridcolor\": \"white\", \"gridwidth\": 2, \"linecolor\": \"white\", \"showbackground\": true, \"ticks\": \"\", \"zerolinecolor\": \"white\"}, \"zaxis\": {\"backgroundcolor\": \"#E5ECF6\", \"gridcolor\": \"white\", \"gridwidth\": 2, \"linecolor\": \"white\", \"showbackground\": true, \"ticks\": \"\", \"zerolinecolor\": \"white\"}}, \"shapedefaults\": {\"line\": {\"color\": \"#2a3f5f\"}}, \"ternary\": {\"aaxis\": {\"gridcolor\": \"white\", \"linecolor\": \"white\", \"ticks\": \"\"}, \"baxis\": {\"gridcolor\": \"white\", \"linecolor\": \"white\", \"ticks\": \"\"}, \"bgcolor\": \"#E5ECF6\", \"caxis\": {\"gridcolor\": \"white\", \"linecolor\": \"white\", \"ticks\": \"\"}}, \"title\": {\"x\": 0.05}, \"xaxis\": {\"automargin\": true, \"gridcolor\": \"white\", \"linecolor\": \"white\", \"ticks\": \"\", \"title\": {\"standoff\": 15}, \"zerolinecolor\": \"white\", \"zerolinewidth\": 2}, \"yaxis\": {\"automargin\": true, \"gridcolor\": \"white\", \"linecolor\": \"white\", \"ticks\": \"\", \"title\": {\"standoff\": 15}, \"zerolinecolor\": \"white\", \"zerolinewidth\": 2}}}, \"title\": {\"font\": {\"color\": \"#4D5663\"}}, \"xaxis\": {\"gridcolor\": \"#E1E5ED\", \"showgrid\": true, \"tickfont\": {\"color\": \"#4D5663\"}, \"title\": {\"font\": {\"color\": \"#4D5663\"}, \"text\": \"\"}, \"zerolinecolor\": \"#E1E5ED\"}, \"xaxis2\": {\"anchor\": \"y2\", \"gridcolor\": \"#E1E5ED\", \"showgrid\": true, \"showticklabels\": false, \"tickfont\": {\"color\": \"#4D5663\"}, \"title\": {\"font\": {\"color\": \"#4D5663\"}, \"text\": \"\"}, \"zerolinecolor\": \"#E1E5ED\"}, \"yaxis\": {\"domain\": [0.3, 1], \"gridcolor\": \"#E1E5ED\", \"showgrid\": true, \"tickfont\": {\"color\": \"#4D5663\"}, \"title\": {\"font\": {\"color\": \"#4D5663\"}, \"text\": \"\"}, \"zerolinecolor\": \"#E1E5ED\"}, \"yaxis2\": {\"domain\": [0, 0.25], \"gridcolor\": \"#E1E5ED\", \"showgrid\": true, \"tickfont\": {\"color\": \"#4D5663\"}, \"title\": {\"font\": {\"color\": \"#4D5663\"}, \"text\": \"Spread\"}, \"zerolinecolor\": \"#E1E5ED\"}},                        {\"showLink\": true, \"linkText\": \"Export to plot.ly\", \"plotlyServerURL\": \"https://plot.ly\", \"responsive\": true}                    ).then(function(){\n",
       "                            \n",
       "var gd = document.getElementById('a633e0a9-86d8-453d-a0ce-d1b98afb9f78');\n",
       "var x = new MutationObserver(function (mutations, observer) {{\n",
       "        var display = window.getComputedStyle(gd).display;\n",
       "        if (!display || display === 'none') {{\n",
       "            console.log([gd, 'removed!']);\n",
       "            Plotly.purge(gd);\n",
       "            observer.disconnect();\n",
       "        }}\n",
       "}});\n",
       "\n",
       "// Listen for the removal of the full notebook cells\n",
       "var notebookContainer = gd.closest('#notebook-container');\n",
       "if (notebookContainer) {{\n",
       "    x.observe(notebookContainer, {childList: true});\n",
       "}}\n",
       "\n",
       "// Listen for the clearing of the current output cell\n",
       "var outputEl = gd.closest('.output');\n",
       "if (outputEl) {{\n",
       "    x.observe(outputEl, {childList: true});\n",
       "}}\n",
       "\n",
       "                        })                };                });            </script>        </div>"
      ]
     },
     "metadata": {},
     "output_type": "display_data"
    }
   ],
   "source": [
    "df[['A','B']].iplot(kind='spread')"
   ]
  },
  {
   "cell_type": "code",
   "execution_count": 28,
   "id": "8406239f",
   "metadata": {},
   "outputs": [
    {
     "data": {
      "application/vnd.plotly.v1+json": {
       "config": {
        "linkText": "Export to plot.ly",
        "plotlyServerURL": "https://plot.ly",
        "showLink": true
       },
       "data": [
        {
         "marker": {
          "color": [
           "rgb(255, 153, 51)",
           "rgb(55, 128, 191)",
           "rgb(50, 171, 96)",
           "rgb(128, 0, 128)",
           "rgb(219, 64, 82)",
           "rgb(0, 128, 128)",
           "rgb(255, 255, 51)",
           "rgb(128, 128, 0)",
           "rgb(251, 128, 114)",
           "rgb(128, 177, 211)"
          ],
          "line": {
           "width": 1.3
          },
          "size": [
           60,
           20,
           68,
           70,
           91,
           112,
           43,
           61,
           32,
           58,
           62,
           70,
           50,
           58,
           61,
           52,
           68,
           77,
           60,
           61,
           60,
           80,
           49,
           74,
           41,
           53,
           64,
           39,
           45,
           72,
           49,
           61,
           20,
           102,
           85,
           30,
           90,
           97,
           49,
           87,
           65,
           44,
           87,
           46,
           48,
           38,
           39,
           52,
           22,
           74,
           38,
           66,
           37,
           19,
           69,
           30,
           53,
           43,
           79,
           58,
           31,
           76,
           94,
           58,
           47,
           95,
           48,
           87,
           67,
           72,
           40,
           104,
           32,
           76,
           86,
           55,
           41,
           77,
           60,
           84,
           86,
           42,
           16,
           71,
           52,
           60,
           78,
           42,
           37,
           50,
           69,
           47,
           31,
           36,
           12,
           51,
           37,
           32,
           67,
           34
          ],
          "symbol": "circle"
         },
         "mode": "markers",
         "text": "",
         "type": "scatter",
         "x": [
          0.7579169907008975,
          -0.8161547742370481,
          -1.0676658944274364,
          0.3492477357554279,
          0.3390648990769225,
          0.09742219321199275,
          -1.33055230754233,
          -0.12682840085417438,
          -0.25128864086285696,
          2.1115708861917555,
          -1.339406042465701,
          -0.347374481064104,
          -1.3794015617559465,
          0.23290287749488986,
          0.41586382257588445,
          -0.5975340305163689,
          0.4086109611770097,
          0.5472736736776053,
          0.13715433771920907,
          1.6032654886085844,
          -0.5658030710740445,
          0.4404707283859412,
          -0.33724279007117697,
          -0.060014931120361666,
          -0.055651249216383945,
          -0.4050924167306593,
          -0.5674351170616927,
          -1.4251007871026502,
          -0.8995319823222503,
          1.1062589503452354,
          -0.20382072046038863,
          -0.00010055195585183877,
          0.17696378540158358,
          0.7588837221366781,
          0.2521796539016003,
          0.2853964120837876,
          -0.16277726494508643,
          -0.38601143344105365,
          -1.0170379359384103,
          -0.3466500445108914,
          -1.5401398016670331,
          -0.535571994409165,
          -1.7075842134185053,
          0.5066193456872792,
          -1.1181765596137385,
          -0.07719660704485161,
          1.409412284069849,
          -0.5131803731783747,
          0.14512693266306823,
          2.6527272388996663,
          -0.24086569918403608,
          0.5802248482304968,
          -0.28805074414568127,
          -0.394646373523225,
          -0.18229447257056783,
          -0.7128994194693947,
          -0.1760753682112523,
          -0.03307361130640672,
          2.8949245145138893,
          1.4639937505591218,
          -1.1787561032149947,
          0.5080631908125035,
          0.7299226637744624,
          1.114971455912152,
          0.3670444793270461,
          -0.8986701651154719,
          0.10427824380549375,
          0.4926150883989747,
          0.50128685010186,
          0.1582082959286535,
          1.424381376073982,
          -0.7098519159265192,
          1.4343352301075223,
          0.8848001165715448,
          -0.3329297614837509,
          -0.09449322766838299,
          -1.4331704424392953,
          -2.3482367888755706,
          -0.4313472857630825,
          -0.6850394753749117,
          0.07373150250514426,
          1.5035838122434417,
          -1.0673400959574666,
          -0.1790479235488818,
          0.5497921570738876,
          -1.6569094570064595,
          0.6867680990971627,
          -1.5246247206548413,
          0.06523519227070403,
          -1.0893939851966334,
          -0.6426486274421239,
          -1.1784518458385573,
          1.4014189134269002,
          -1.6916384711818373,
          1.2564031949041172,
          0.9657713826538739,
          -0.3086420219503129,
          -0.3789089791792017,
          -0.30407623942767387,
          -0.2204677342273025
         ],
         "y": [
          0.5684502720699256,
          0.5659318504590108,
          -0.19827760510486944,
          0.32983830760641514,
          0.5328299766395032,
          -2.6070863592723637,
          -1.498912957132498,
          0.38332965794274665,
          0.22264884897725187,
          -1.6528708786582085,
          -0.49870165714242487,
          -0.4786542575383392,
          1.072071747918505,
          0.30981640073313776,
          0.8935123571549635,
          -0.6819292753460076,
          0.4576173461547523,
          0.44311917309584925,
          -0.3834133487353966,
          0.24893642268377136,
          1.5725896637711498,
          2.5800447501566977,
          -0.031174073981630846,
          -0.527185533592221,
          0.25667482105584083,
          0.8323331450472324,
          -0.9568379443293512,
          0.14736685052680928,
          0.4953577645557132,
          1.127463897276566,
          0.1979067845689406,
          1.5849528203043828,
          -0.1747631695179193,
          0.9573789764398959,
          0.47436736441101895,
          -0.33127828318692876,
          0.7471120167436102,
          -2.022638281155942,
          2.0295295993715894,
          1.4420055066294375,
          -1.5295964399797681,
          1.8233838388928698,
          -0.7918471567136929,
          -1.7277233011088322,
          -0.625284887925668,
          0.8491625546406638,
          0.6780281200173601,
          -0.5141795457121822,
          -0.3431646995205548,
          1.5537837344549983,
          -0.3592575226298186,
          -1.200915218048695,
          0.447692552037646,
          -0.7291164997074,
          -0.0005065946840657674,
          -0.4437346151107805,
          0.15345808437672942,
          0.34710550181778704,
          1.7459026911646645,
          -1.3350888262495035,
          0.5533821815324313,
          0.253181086593142,
          -0.9589033870327761,
          0.4962013516394784,
          -0.16364535978691475,
          -0.5635106687798505,
          0.3874399481008401,
          -0.892203741798904,
          1.1650334107393163,
          0.047543043577904336,
          0.11249070564030511,
          0.09672797186554681,
          -0.8058650376771265,
          -0.583781575627234,
          1.038090201365297,
          -0.20666537242679023,
          -1.048021628407373,
          0.9899524366949004,
          0.7694913735559865,
          -0.22516987366451005,
          0.610271014996182,
          -1.199867464191324,
          -0.31217188679917635,
          0.9675753903319483,
          -2.0023223593090176,
          0.002514579727119917,
          1.4298377798004676,
          -0.9007516727608389,
          1.845629362612709,
          1.014157798755033,
          0.8562826331180223,
          0.1343851276353828,
          -1.5959146246492517,
          -0.0263178124517433,
          -0.8647975627911636,
          0.7729014273210385,
          -0.30570206339584927,
          0.6912959249022436,
          0.05769976468709154,
          0.37649442087166995
         ]
        }
       ],
       "layout": {
        "legend": {
         "bgcolor": "#F5F6F9",
         "font": {
          "color": "#4D5663"
         }
        },
        "paper_bgcolor": "#F5F6F9",
        "plot_bgcolor": "#F5F6F9",
        "template": {
         "data": {
          "bar": [
           {
            "error_x": {
             "color": "#2a3f5f"
            },
            "error_y": {
             "color": "#2a3f5f"
            },
            "marker": {
             "line": {
              "color": "#E5ECF6",
              "width": 0.5
             }
            },
            "type": "bar"
           }
          ],
          "barpolar": [
           {
            "marker": {
             "line": {
              "color": "#E5ECF6",
              "width": 0.5
             }
            },
            "type": "barpolar"
           }
          ],
          "carpet": [
           {
            "aaxis": {
             "endlinecolor": "#2a3f5f",
             "gridcolor": "white",
             "linecolor": "white",
             "minorgridcolor": "white",
             "startlinecolor": "#2a3f5f"
            },
            "baxis": {
             "endlinecolor": "#2a3f5f",
             "gridcolor": "white",
             "linecolor": "white",
             "minorgridcolor": "white",
             "startlinecolor": "#2a3f5f"
            },
            "type": "carpet"
           }
          ],
          "choropleth": [
           {
            "colorbar": {
             "outlinewidth": 0,
             "ticks": ""
            },
            "type": "choropleth"
           }
          ],
          "contour": [
           {
            "colorbar": {
             "outlinewidth": 0,
             "ticks": ""
            },
            "colorscale": [
             [
              0,
              "#0d0887"
             ],
             [
              0.1111111111111111,
              "#46039f"
             ],
             [
              0.2222222222222222,
              "#7201a8"
             ],
             [
              0.3333333333333333,
              "#9c179e"
             ],
             [
              0.4444444444444444,
              "#bd3786"
             ],
             [
              0.5555555555555556,
              "#d8576b"
             ],
             [
              0.6666666666666666,
              "#ed7953"
             ],
             [
              0.7777777777777778,
              "#fb9f3a"
             ],
             [
              0.8888888888888888,
              "#fdca26"
             ],
             [
              1,
              "#f0f921"
             ]
            ],
            "type": "contour"
           }
          ],
          "contourcarpet": [
           {
            "colorbar": {
             "outlinewidth": 0,
             "ticks": ""
            },
            "type": "contourcarpet"
           }
          ],
          "heatmap": [
           {
            "colorbar": {
             "outlinewidth": 0,
             "ticks": ""
            },
            "colorscale": [
             [
              0,
              "#0d0887"
             ],
             [
              0.1111111111111111,
              "#46039f"
             ],
             [
              0.2222222222222222,
              "#7201a8"
             ],
             [
              0.3333333333333333,
              "#9c179e"
             ],
             [
              0.4444444444444444,
              "#bd3786"
             ],
             [
              0.5555555555555556,
              "#d8576b"
             ],
             [
              0.6666666666666666,
              "#ed7953"
             ],
             [
              0.7777777777777778,
              "#fb9f3a"
             ],
             [
              0.8888888888888888,
              "#fdca26"
             ],
             [
              1,
              "#f0f921"
             ]
            ],
            "type": "heatmap"
           }
          ],
          "heatmapgl": [
           {
            "colorbar": {
             "outlinewidth": 0,
             "ticks": ""
            },
            "colorscale": [
             [
              0,
              "#0d0887"
             ],
             [
              0.1111111111111111,
              "#46039f"
             ],
             [
              0.2222222222222222,
              "#7201a8"
             ],
             [
              0.3333333333333333,
              "#9c179e"
             ],
             [
              0.4444444444444444,
              "#bd3786"
             ],
             [
              0.5555555555555556,
              "#d8576b"
             ],
             [
              0.6666666666666666,
              "#ed7953"
             ],
             [
              0.7777777777777778,
              "#fb9f3a"
             ],
             [
              0.8888888888888888,
              "#fdca26"
             ],
             [
              1,
              "#f0f921"
             ]
            ],
            "type": "heatmapgl"
           }
          ],
          "histogram": [
           {
            "marker": {
             "colorbar": {
              "outlinewidth": 0,
              "ticks": ""
             }
            },
            "type": "histogram"
           }
          ],
          "histogram2d": [
           {
            "colorbar": {
             "outlinewidth": 0,
             "ticks": ""
            },
            "colorscale": [
             [
              0,
              "#0d0887"
             ],
             [
              0.1111111111111111,
              "#46039f"
             ],
             [
              0.2222222222222222,
              "#7201a8"
             ],
             [
              0.3333333333333333,
              "#9c179e"
             ],
             [
              0.4444444444444444,
              "#bd3786"
             ],
             [
              0.5555555555555556,
              "#d8576b"
             ],
             [
              0.6666666666666666,
              "#ed7953"
             ],
             [
              0.7777777777777778,
              "#fb9f3a"
             ],
             [
              0.8888888888888888,
              "#fdca26"
             ],
             [
              1,
              "#f0f921"
             ]
            ],
            "type": "histogram2d"
           }
          ],
          "histogram2dcontour": [
           {
            "colorbar": {
             "outlinewidth": 0,
             "ticks": ""
            },
            "colorscale": [
             [
              0,
              "#0d0887"
             ],
             [
              0.1111111111111111,
              "#46039f"
             ],
             [
              0.2222222222222222,
              "#7201a8"
             ],
             [
              0.3333333333333333,
              "#9c179e"
             ],
             [
              0.4444444444444444,
              "#bd3786"
             ],
             [
              0.5555555555555556,
              "#d8576b"
             ],
             [
              0.6666666666666666,
              "#ed7953"
             ],
             [
              0.7777777777777778,
              "#fb9f3a"
             ],
             [
              0.8888888888888888,
              "#fdca26"
             ],
             [
              1,
              "#f0f921"
             ]
            ],
            "type": "histogram2dcontour"
           }
          ],
          "mesh3d": [
           {
            "colorbar": {
             "outlinewidth": 0,
             "ticks": ""
            },
            "type": "mesh3d"
           }
          ],
          "parcoords": [
           {
            "line": {
             "colorbar": {
              "outlinewidth": 0,
              "ticks": ""
             }
            },
            "type": "parcoords"
           }
          ],
          "pie": [
           {
            "automargin": true,
            "type": "pie"
           }
          ],
          "scatter": [
           {
            "marker": {
             "colorbar": {
              "outlinewidth": 0,
              "ticks": ""
             }
            },
            "type": "scatter"
           }
          ],
          "scatter3d": [
           {
            "line": {
             "colorbar": {
              "outlinewidth": 0,
              "ticks": ""
             }
            },
            "marker": {
             "colorbar": {
              "outlinewidth": 0,
              "ticks": ""
             }
            },
            "type": "scatter3d"
           }
          ],
          "scattercarpet": [
           {
            "marker": {
             "colorbar": {
              "outlinewidth": 0,
              "ticks": ""
             }
            },
            "type": "scattercarpet"
           }
          ],
          "scattergeo": [
           {
            "marker": {
             "colorbar": {
              "outlinewidth": 0,
              "ticks": ""
             }
            },
            "type": "scattergeo"
           }
          ],
          "scattergl": [
           {
            "marker": {
             "colorbar": {
              "outlinewidth": 0,
              "ticks": ""
             }
            },
            "type": "scattergl"
           }
          ],
          "scattermapbox": [
           {
            "marker": {
             "colorbar": {
              "outlinewidth": 0,
              "ticks": ""
             }
            },
            "type": "scattermapbox"
           }
          ],
          "scatterpolar": [
           {
            "marker": {
             "colorbar": {
              "outlinewidth": 0,
              "ticks": ""
             }
            },
            "type": "scatterpolar"
           }
          ],
          "scatterpolargl": [
           {
            "marker": {
             "colorbar": {
              "outlinewidth": 0,
              "ticks": ""
             }
            },
            "type": "scatterpolargl"
           }
          ],
          "scatterternary": [
           {
            "marker": {
             "colorbar": {
              "outlinewidth": 0,
              "ticks": ""
             }
            },
            "type": "scatterternary"
           }
          ],
          "surface": [
           {
            "colorbar": {
             "outlinewidth": 0,
             "ticks": ""
            },
            "colorscale": [
             [
              0,
              "#0d0887"
             ],
             [
              0.1111111111111111,
              "#46039f"
             ],
             [
              0.2222222222222222,
              "#7201a8"
             ],
             [
              0.3333333333333333,
              "#9c179e"
             ],
             [
              0.4444444444444444,
              "#bd3786"
             ],
             [
              0.5555555555555556,
              "#d8576b"
             ],
             [
              0.6666666666666666,
              "#ed7953"
             ],
             [
              0.7777777777777778,
              "#fb9f3a"
             ],
             [
              0.8888888888888888,
              "#fdca26"
             ],
             [
              1,
              "#f0f921"
             ]
            ],
            "type": "surface"
           }
          ],
          "table": [
           {
            "cells": {
             "fill": {
              "color": "#EBF0F8"
             },
             "line": {
              "color": "white"
             }
            },
            "header": {
             "fill": {
              "color": "#C8D4E3"
             },
             "line": {
              "color": "white"
             }
            },
            "type": "table"
           }
          ]
         },
         "layout": {
          "annotationdefaults": {
           "arrowcolor": "#2a3f5f",
           "arrowhead": 0,
           "arrowwidth": 1
          },
          "autotypenumbers": "strict",
          "coloraxis": {
           "colorbar": {
            "outlinewidth": 0,
            "ticks": ""
           }
          },
          "colorscale": {
           "diverging": [
            [
             0,
             "#8e0152"
            ],
            [
             0.1,
             "#c51b7d"
            ],
            [
             0.2,
             "#de77ae"
            ],
            [
             0.3,
             "#f1b6da"
            ],
            [
             0.4,
             "#fde0ef"
            ],
            [
             0.5,
             "#f7f7f7"
            ],
            [
             0.6,
             "#e6f5d0"
            ],
            [
             0.7,
             "#b8e186"
            ],
            [
             0.8,
             "#7fbc41"
            ],
            [
             0.9,
             "#4d9221"
            ],
            [
             1,
             "#276419"
            ]
           ],
           "sequential": [
            [
             0,
             "#0d0887"
            ],
            [
             0.1111111111111111,
             "#46039f"
            ],
            [
             0.2222222222222222,
             "#7201a8"
            ],
            [
             0.3333333333333333,
             "#9c179e"
            ],
            [
             0.4444444444444444,
             "#bd3786"
            ],
            [
             0.5555555555555556,
             "#d8576b"
            ],
            [
             0.6666666666666666,
             "#ed7953"
            ],
            [
             0.7777777777777778,
             "#fb9f3a"
            ],
            [
             0.8888888888888888,
             "#fdca26"
            ],
            [
             1,
             "#f0f921"
            ]
           ],
           "sequentialminus": [
            [
             0,
             "#0d0887"
            ],
            [
             0.1111111111111111,
             "#46039f"
            ],
            [
             0.2222222222222222,
             "#7201a8"
            ],
            [
             0.3333333333333333,
             "#9c179e"
            ],
            [
             0.4444444444444444,
             "#bd3786"
            ],
            [
             0.5555555555555556,
             "#d8576b"
            ],
            [
             0.6666666666666666,
             "#ed7953"
            ],
            [
             0.7777777777777778,
             "#fb9f3a"
            ],
            [
             0.8888888888888888,
             "#fdca26"
            ],
            [
             1,
             "#f0f921"
            ]
           ]
          },
          "colorway": [
           "#636efa",
           "#EF553B",
           "#00cc96",
           "#ab63fa",
           "#FFA15A",
           "#19d3f3",
           "#FF6692",
           "#B6E880",
           "#FF97FF",
           "#FECB52"
          ],
          "font": {
           "color": "#2a3f5f"
          },
          "geo": {
           "bgcolor": "white",
           "lakecolor": "white",
           "landcolor": "#E5ECF6",
           "showlakes": true,
           "showland": true,
           "subunitcolor": "white"
          },
          "hoverlabel": {
           "align": "left"
          },
          "hovermode": "closest",
          "mapbox": {
           "style": "light"
          },
          "paper_bgcolor": "white",
          "plot_bgcolor": "#E5ECF6",
          "polar": {
           "angularaxis": {
            "gridcolor": "white",
            "linecolor": "white",
            "ticks": ""
           },
           "bgcolor": "#E5ECF6",
           "radialaxis": {
            "gridcolor": "white",
            "linecolor": "white",
            "ticks": ""
           }
          },
          "scene": {
           "xaxis": {
            "backgroundcolor": "#E5ECF6",
            "gridcolor": "white",
            "gridwidth": 2,
            "linecolor": "white",
            "showbackground": true,
            "ticks": "",
            "zerolinecolor": "white"
           },
           "yaxis": {
            "backgroundcolor": "#E5ECF6",
            "gridcolor": "white",
            "gridwidth": 2,
            "linecolor": "white",
            "showbackground": true,
            "ticks": "",
            "zerolinecolor": "white"
           },
           "zaxis": {
            "backgroundcolor": "#E5ECF6",
            "gridcolor": "white",
            "gridwidth": 2,
            "linecolor": "white",
            "showbackground": true,
            "ticks": "",
            "zerolinecolor": "white"
           }
          },
          "shapedefaults": {
           "line": {
            "color": "#2a3f5f"
           }
          },
          "ternary": {
           "aaxis": {
            "gridcolor": "white",
            "linecolor": "white",
            "ticks": ""
           },
           "baxis": {
            "gridcolor": "white",
            "linecolor": "white",
            "ticks": ""
           },
           "bgcolor": "#E5ECF6",
           "caxis": {
            "gridcolor": "white",
            "linecolor": "white",
            "ticks": ""
           }
          },
          "title": {
           "x": 0.05
          },
          "xaxis": {
           "automargin": true,
           "gridcolor": "white",
           "linecolor": "white",
           "ticks": "",
           "title": {
            "standoff": 15
           },
           "zerolinecolor": "white",
           "zerolinewidth": 2
          },
          "yaxis": {
           "automargin": true,
           "gridcolor": "white",
           "linecolor": "white",
           "ticks": "",
           "title": {
            "standoff": 15
           },
           "zerolinecolor": "white",
           "zerolinewidth": 2
          }
         }
        },
        "title": {
         "font": {
          "color": "#4D5663"
         }
        },
        "xaxis": {
         "gridcolor": "#E1E5ED",
         "showgrid": true,
         "tickfont": {
          "color": "#4D5663"
         },
         "title": {
          "font": {
           "color": "#4D5663"
          },
          "text": ""
         },
         "zerolinecolor": "#E1E5ED"
        },
        "yaxis": {
         "gridcolor": "#E1E5ED",
         "showgrid": true,
         "tickfont": {
          "color": "#4D5663"
         },
         "title": {
          "font": {
           "color": "#4D5663"
          },
          "text": ""
         },
         "zerolinecolor": "#E1E5ED"
        }
       }
      },
      "text/html": [
       "<div>                            <div id=\"4635eedb-20fb-45e1-9f89-2175b6b0bd55\" class=\"plotly-graph-div\" style=\"height:525px; width:100%;\"></div>            <script type=\"text/javascript\">                require([\"plotly\"], function(Plotly) {                    window.PLOTLYENV=window.PLOTLYENV || {};\n",
       "                    window.PLOTLYENV.BASE_URL='https://plot.ly';                                    if (document.getElementById(\"4635eedb-20fb-45e1-9f89-2175b6b0bd55\")) {                    Plotly.newPlot(                        \"4635eedb-20fb-45e1-9f89-2175b6b0bd55\",                        [{\"marker\": {\"color\": [\"rgb(255, 153, 51)\", \"rgb(55, 128, 191)\", \"rgb(50, 171, 96)\", \"rgb(128, 0, 128)\", \"rgb(219, 64, 82)\", \"rgb(0, 128, 128)\", \"rgb(255, 255, 51)\", \"rgb(128, 128, 0)\", \"rgb(251, 128, 114)\", \"rgb(128, 177, 211)\"], \"line\": {\"width\": 1.3}, \"size\": [60, 20, 68, 70, 91, 112, 43, 61, 32, 58, 62, 70, 50, 58, 61, 52, 68, 77, 60, 61, 60, 80, 49, 74, 41, 53, 64, 39, 45, 72, 49, 61, 20, 102, 85, 30, 90, 97, 49, 87, 65, 44, 87, 46, 48, 38, 39, 52, 22, 74, 38, 66, 37, 19, 69, 30, 53, 43, 79, 58, 31, 76, 94, 58, 47, 95, 48, 87, 67, 72, 40, 104, 32, 76, 86, 55, 41, 77, 60, 84, 86, 42, 16, 71, 52, 60, 78, 42, 37, 50, 69, 47, 31, 36, 12, 51, 37, 32, 67, 34], \"symbol\": \"circle\"}, \"mode\": \"markers\", \"text\": \"\", \"type\": \"scatter\", \"x\": [0.7579169907008975, -0.8161547742370481, -1.0676658944274364, 0.3492477357554279, 0.3390648990769225, 0.09742219321199275, -1.33055230754233, -0.12682840085417438, -0.25128864086285696, 2.1115708861917555, -1.339406042465701, -0.347374481064104, -1.3794015617559465, 0.23290287749488986, 0.41586382257588445, -0.5975340305163689, 0.4086109611770097, 0.5472736736776053, 0.13715433771920907, 1.6032654886085844, -0.5658030710740445, 0.4404707283859412, -0.33724279007117697, -0.060014931120361666, -0.055651249216383945, -0.4050924167306593, -0.5674351170616927, -1.4251007871026502, -0.8995319823222503, 1.1062589503452354, -0.20382072046038863, -0.00010055195585183877, 0.17696378540158358, 0.7588837221366781, 0.2521796539016003, 0.2853964120837876, -0.16277726494508643, -0.38601143344105365, -1.0170379359384103, -0.3466500445108914, -1.5401398016670331, -0.535571994409165, -1.7075842134185053, 0.5066193456872792, -1.1181765596137385, -0.07719660704485161, 1.409412284069849, -0.5131803731783747, 0.14512693266306823, 2.6527272388996663, -0.24086569918403608, 0.5802248482304968, -0.28805074414568127, -0.394646373523225, -0.18229447257056783, -0.7128994194693947, -0.1760753682112523, -0.03307361130640672, 2.8949245145138893, 1.4639937505591218, -1.1787561032149947, 0.5080631908125035, 0.7299226637744624, 1.114971455912152, 0.3670444793270461, -0.8986701651154719, 0.10427824380549375, 0.4926150883989747, 0.50128685010186, 0.1582082959286535, 1.424381376073982, -0.7098519159265192, 1.4343352301075223, 0.8848001165715448, -0.3329297614837509, -0.09449322766838299, -1.4331704424392953, -2.3482367888755706, -0.4313472857630825, -0.6850394753749117, 0.07373150250514426, 1.5035838122434417, -1.0673400959574666, -0.1790479235488818, 0.5497921570738876, -1.6569094570064595, 0.6867680990971627, -1.5246247206548413, 0.06523519227070403, -1.0893939851966334, -0.6426486274421239, -1.1784518458385573, 1.4014189134269002, -1.6916384711818373, 1.2564031949041172, 0.9657713826538739, -0.3086420219503129, -0.3789089791792017, -0.30407623942767387, -0.2204677342273025], \"y\": [0.5684502720699256, 0.5659318504590108, -0.19827760510486944, 0.32983830760641514, 0.5328299766395032, -2.6070863592723637, -1.498912957132498, 0.38332965794274665, 0.22264884897725187, -1.6528708786582085, -0.49870165714242487, -0.4786542575383392, 1.072071747918505, 0.30981640073313776, 0.8935123571549635, -0.6819292753460076, 0.4576173461547523, 0.44311917309584925, -0.3834133487353966, 0.24893642268377136, 1.5725896637711498, 2.5800447501566977, -0.031174073981630846, -0.527185533592221, 0.25667482105584083, 0.8323331450472324, -0.9568379443293512, 0.14736685052680928, 0.4953577645557132, 1.127463897276566, 0.1979067845689406, 1.5849528203043828, -0.1747631695179193, 0.9573789764398959, 0.47436736441101895, -0.33127828318692876, 0.7471120167436102, -2.022638281155942, 2.0295295993715894, 1.4420055066294375, -1.5295964399797681, 1.8233838388928698, -0.7918471567136929, -1.7277233011088322, -0.625284887925668, 0.8491625546406638, 0.6780281200173601, -0.5141795457121822, -0.3431646995205548, 1.5537837344549983, -0.3592575226298186, -1.200915218048695, 0.447692552037646, -0.7291164997074, -0.0005065946840657674, -0.4437346151107805, 0.15345808437672942, 0.34710550181778704, 1.7459026911646645, -1.3350888262495035, 0.5533821815324313, 0.253181086593142, -0.9589033870327761, 0.4962013516394784, -0.16364535978691475, -0.5635106687798505, 0.3874399481008401, -0.892203741798904, 1.1650334107393163, 0.047543043577904336, 0.11249070564030511, 0.09672797186554681, -0.8058650376771265, -0.583781575627234, 1.038090201365297, -0.20666537242679023, -1.048021628407373, 0.9899524366949004, 0.7694913735559865, -0.22516987366451005, 0.610271014996182, -1.199867464191324, -0.31217188679917635, 0.9675753903319483, -2.0023223593090176, 0.002514579727119917, 1.4298377798004676, -0.9007516727608389, 1.845629362612709, 1.014157798755033, 0.8562826331180223, 0.1343851276353828, -1.5959146246492517, -0.0263178124517433, -0.8647975627911636, 0.7729014273210385, -0.30570206339584927, 0.6912959249022436, 0.05769976468709154, 0.37649442087166995]}],                        {\"legend\": {\"bgcolor\": \"#F5F6F9\", \"font\": {\"color\": \"#4D5663\"}}, \"paper_bgcolor\": \"#F5F6F9\", \"plot_bgcolor\": \"#F5F6F9\", \"template\": {\"data\": {\"bar\": [{\"error_x\": {\"color\": \"#2a3f5f\"}, \"error_y\": {\"color\": \"#2a3f5f\"}, \"marker\": {\"line\": {\"color\": \"#E5ECF6\", \"width\": 0.5}}, \"type\": \"bar\"}], \"barpolar\": [{\"marker\": {\"line\": {\"color\": \"#E5ECF6\", \"width\": 0.5}}, \"type\": \"barpolar\"}], \"carpet\": [{\"aaxis\": {\"endlinecolor\": \"#2a3f5f\", \"gridcolor\": \"white\", \"linecolor\": \"white\", \"minorgridcolor\": \"white\", \"startlinecolor\": \"#2a3f5f\"}, \"baxis\": {\"endlinecolor\": \"#2a3f5f\", \"gridcolor\": \"white\", \"linecolor\": \"white\", \"minorgridcolor\": \"white\", \"startlinecolor\": \"#2a3f5f\"}, \"type\": \"carpet\"}], \"choropleth\": [{\"colorbar\": {\"outlinewidth\": 0, \"ticks\": \"\"}, \"type\": \"choropleth\"}], \"contour\": [{\"colorbar\": {\"outlinewidth\": 0, \"ticks\": \"\"}, \"colorscale\": [[0.0, \"#0d0887\"], [0.1111111111111111, \"#46039f\"], [0.2222222222222222, \"#7201a8\"], [0.3333333333333333, \"#9c179e\"], [0.4444444444444444, \"#bd3786\"], [0.5555555555555556, \"#d8576b\"], [0.6666666666666666, \"#ed7953\"], [0.7777777777777778, \"#fb9f3a\"], [0.8888888888888888, \"#fdca26\"], [1.0, \"#f0f921\"]], \"type\": \"contour\"}], \"contourcarpet\": [{\"colorbar\": {\"outlinewidth\": 0, \"ticks\": \"\"}, \"type\": \"contourcarpet\"}], \"heatmap\": [{\"colorbar\": {\"outlinewidth\": 0, \"ticks\": \"\"}, \"colorscale\": [[0.0, \"#0d0887\"], [0.1111111111111111, \"#46039f\"], [0.2222222222222222, \"#7201a8\"], [0.3333333333333333, \"#9c179e\"], [0.4444444444444444, \"#bd3786\"], [0.5555555555555556, \"#d8576b\"], [0.6666666666666666, \"#ed7953\"], [0.7777777777777778, \"#fb9f3a\"], [0.8888888888888888, \"#fdca26\"], [1.0, \"#f0f921\"]], \"type\": \"heatmap\"}], \"heatmapgl\": [{\"colorbar\": {\"outlinewidth\": 0, \"ticks\": \"\"}, \"colorscale\": [[0.0, \"#0d0887\"], [0.1111111111111111, \"#46039f\"], [0.2222222222222222, \"#7201a8\"], [0.3333333333333333, \"#9c179e\"], [0.4444444444444444, \"#bd3786\"], [0.5555555555555556, \"#d8576b\"], [0.6666666666666666, \"#ed7953\"], [0.7777777777777778, \"#fb9f3a\"], [0.8888888888888888, \"#fdca26\"], [1.0, \"#f0f921\"]], \"type\": \"heatmapgl\"}], \"histogram\": [{\"marker\": {\"colorbar\": {\"outlinewidth\": 0, \"ticks\": \"\"}}, \"type\": \"histogram\"}], \"histogram2d\": [{\"colorbar\": {\"outlinewidth\": 0, \"ticks\": \"\"}, \"colorscale\": [[0.0, \"#0d0887\"], [0.1111111111111111, \"#46039f\"], [0.2222222222222222, \"#7201a8\"], [0.3333333333333333, \"#9c179e\"], [0.4444444444444444, \"#bd3786\"], [0.5555555555555556, \"#d8576b\"], [0.6666666666666666, \"#ed7953\"], [0.7777777777777778, \"#fb9f3a\"], [0.8888888888888888, \"#fdca26\"], [1.0, \"#f0f921\"]], \"type\": \"histogram2d\"}], \"histogram2dcontour\": [{\"colorbar\": {\"outlinewidth\": 0, \"ticks\": \"\"}, \"colorscale\": [[0.0, \"#0d0887\"], [0.1111111111111111, \"#46039f\"], [0.2222222222222222, \"#7201a8\"], [0.3333333333333333, \"#9c179e\"], [0.4444444444444444, \"#bd3786\"], [0.5555555555555556, \"#d8576b\"], [0.6666666666666666, \"#ed7953\"], [0.7777777777777778, \"#fb9f3a\"], [0.8888888888888888, \"#fdca26\"], [1.0, \"#f0f921\"]], \"type\": \"histogram2dcontour\"}], \"mesh3d\": [{\"colorbar\": {\"outlinewidth\": 0, \"ticks\": \"\"}, \"type\": \"mesh3d\"}], \"parcoords\": [{\"line\": {\"colorbar\": {\"outlinewidth\": 0, \"ticks\": \"\"}}, \"type\": \"parcoords\"}], \"pie\": [{\"automargin\": true, \"type\": \"pie\"}], \"scatter\": [{\"marker\": {\"colorbar\": {\"outlinewidth\": 0, \"ticks\": \"\"}}, \"type\": \"scatter\"}], \"scatter3d\": [{\"line\": {\"colorbar\": {\"outlinewidth\": 0, \"ticks\": \"\"}}, \"marker\": {\"colorbar\": {\"outlinewidth\": 0, \"ticks\": \"\"}}, \"type\": \"scatter3d\"}], \"scattercarpet\": [{\"marker\": {\"colorbar\": {\"outlinewidth\": 0, \"ticks\": \"\"}}, \"type\": \"scattercarpet\"}], \"scattergeo\": [{\"marker\": {\"colorbar\": {\"outlinewidth\": 0, \"ticks\": \"\"}}, \"type\": \"scattergeo\"}], \"scattergl\": [{\"marker\": {\"colorbar\": {\"outlinewidth\": 0, \"ticks\": \"\"}}, \"type\": \"scattergl\"}], \"scattermapbox\": [{\"marker\": {\"colorbar\": {\"outlinewidth\": 0, \"ticks\": \"\"}}, \"type\": \"scattermapbox\"}], \"scatterpolar\": [{\"marker\": {\"colorbar\": {\"outlinewidth\": 0, \"ticks\": \"\"}}, \"type\": \"scatterpolar\"}], \"scatterpolargl\": [{\"marker\": {\"colorbar\": {\"outlinewidth\": 0, \"ticks\": \"\"}}, \"type\": \"scatterpolargl\"}], \"scatterternary\": [{\"marker\": {\"colorbar\": {\"outlinewidth\": 0, \"ticks\": \"\"}}, \"type\": \"scatterternary\"}], \"surface\": [{\"colorbar\": {\"outlinewidth\": 0, \"ticks\": \"\"}, \"colorscale\": [[0.0, \"#0d0887\"], [0.1111111111111111, \"#46039f\"], [0.2222222222222222, \"#7201a8\"], [0.3333333333333333, \"#9c179e\"], [0.4444444444444444, \"#bd3786\"], [0.5555555555555556, \"#d8576b\"], [0.6666666666666666, \"#ed7953\"], [0.7777777777777778, \"#fb9f3a\"], [0.8888888888888888, \"#fdca26\"], [1.0, \"#f0f921\"]], \"type\": \"surface\"}], \"table\": [{\"cells\": {\"fill\": {\"color\": \"#EBF0F8\"}, \"line\": {\"color\": \"white\"}}, \"header\": {\"fill\": {\"color\": \"#C8D4E3\"}, \"line\": {\"color\": \"white\"}}, \"type\": \"table\"}]}, \"layout\": {\"annotationdefaults\": {\"arrowcolor\": \"#2a3f5f\", \"arrowhead\": 0, \"arrowwidth\": 1}, \"autotypenumbers\": \"strict\", \"coloraxis\": {\"colorbar\": {\"outlinewidth\": 0, \"ticks\": \"\"}}, \"colorscale\": {\"diverging\": [[0, \"#8e0152\"], [0.1, \"#c51b7d\"], [0.2, \"#de77ae\"], [0.3, \"#f1b6da\"], [0.4, \"#fde0ef\"], [0.5, \"#f7f7f7\"], [0.6, \"#e6f5d0\"], [0.7, \"#b8e186\"], [0.8, \"#7fbc41\"], [0.9, \"#4d9221\"], [1, \"#276419\"]], \"sequential\": [[0.0, \"#0d0887\"], [0.1111111111111111, \"#46039f\"], [0.2222222222222222, \"#7201a8\"], [0.3333333333333333, \"#9c179e\"], [0.4444444444444444, \"#bd3786\"], [0.5555555555555556, \"#d8576b\"], [0.6666666666666666, \"#ed7953\"], [0.7777777777777778, \"#fb9f3a\"], [0.8888888888888888, \"#fdca26\"], [1.0, \"#f0f921\"]], \"sequentialminus\": [[0.0, \"#0d0887\"], [0.1111111111111111, \"#46039f\"], [0.2222222222222222, \"#7201a8\"], [0.3333333333333333, \"#9c179e\"], [0.4444444444444444, \"#bd3786\"], [0.5555555555555556, \"#d8576b\"], [0.6666666666666666, \"#ed7953\"], [0.7777777777777778, \"#fb9f3a\"], [0.8888888888888888, \"#fdca26\"], [1.0, \"#f0f921\"]]}, \"colorway\": [\"#636efa\", \"#EF553B\", \"#00cc96\", \"#ab63fa\", \"#FFA15A\", \"#19d3f3\", \"#FF6692\", \"#B6E880\", \"#FF97FF\", \"#FECB52\"], \"font\": {\"color\": \"#2a3f5f\"}, \"geo\": {\"bgcolor\": \"white\", \"lakecolor\": \"white\", \"landcolor\": \"#E5ECF6\", \"showlakes\": true, \"showland\": true, \"subunitcolor\": \"white\"}, \"hoverlabel\": {\"align\": \"left\"}, \"hovermode\": \"closest\", \"mapbox\": {\"style\": \"light\"}, \"paper_bgcolor\": \"white\", \"plot_bgcolor\": \"#E5ECF6\", \"polar\": {\"angularaxis\": {\"gridcolor\": \"white\", \"linecolor\": \"white\", \"ticks\": \"\"}, \"bgcolor\": \"#E5ECF6\", \"radialaxis\": {\"gridcolor\": \"white\", \"linecolor\": \"white\", \"ticks\": \"\"}}, \"scene\": {\"xaxis\": {\"backgroundcolor\": \"#E5ECF6\", \"gridcolor\": \"white\", \"gridwidth\": 2, \"linecolor\": \"white\", \"showbackground\": true, \"ticks\": \"\", \"zerolinecolor\": \"white\"}, \"yaxis\": {\"backgroundcolor\": \"#E5ECF6\", \"gridcolor\": \"white\", \"gridwidth\": 2, \"linecolor\": \"white\", \"showbackground\": true, \"ticks\": \"\", \"zerolinecolor\": \"white\"}, \"zaxis\": {\"backgroundcolor\": \"#E5ECF6\", \"gridcolor\": \"white\", \"gridwidth\": 2, \"linecolor\": \"white\", \"showbackground\": true, \"ticks\": \"\", \"zerolinecolor\": \"white\"}}, \"shapedefaults\": {\"line\": {\"color\": \"#2a3f5f\"}}, \"ternary\": {\"aaxis\": {\"gridcolor\": \"white\", \"linecolor\": \"white\", \"ticks\": \"\"}, \"baxis\": {\"gridcolor\": \"white\", \"linecolor\": \"white\", \"ticks\": \"\"}, \"bgcolor\": \"#E5ECF6\", \"caxis\": {\"gridcolor\": \"white\", \"linecolor\": \"white\", \"ticks\": \"\"}}, \"title\": {\"x\": 0.05}, \"xaxis\": {\"automargin\": true, \"gridcolor\": \"white\", \"linecolor\": \"white\", \"ticks\": \"\", \"title\": {\"standoff\": 15}, \"zerolinecolor\": \"white\", \"zerolinewidth\": 2}, \"yaxis\": {\"automargin\": true, \"gridcolor\": \"white\", \"linecolor\": \"white\", \"ticks\": \"\", \"title\": {\"standoff\": 15}, \"zerolinecolor\": \"white\", \"zerolinewidth\": 2}}}, \"title\": {\"font\": {\"color\": \"#4D5663\"}}, \"xaxis\": {\"gridcolor\": \"#E1E5ED\", \"showgrid\": true, \"tickfont\": {\"color\": \"#4D5663\"}, \"title\": {\"font\": {\"color\": \"#4D5663\"}, \"text\": \"\"}, \"zerolinecolor\": \"#E1E5ED\"}, \"yaxis\": {\"gridcolor\": \"#E1E5ED\", \"showgrid\": true, \"tickfont\": {\"color\": \"#4D5663\"}, \"title\": {\"font\": {\"color\": \"#4D5663\"}, \"text\": \"\"}, \"zerolinecolor\": \"#E1E5ED\"}},                        {\"showLink\": true, \"linkText\": \"Export to plot.ly\", \"plotlyServerURL\": \"https://plot.ly\", \"responsive\": true}                    ).then(function(){\n",
       "                            \n",
       "var gd = document.getElementById('4635eedb-20fb-45e1-9f89-2175b6b0bd55');\n",
       "var x = new MutationObserver(function (mutations, observer) {{\n",
       "        var display = window.getComputedStyle(gd).display;\n",
       "        if (!display || display === 'none') {{\n",
       "            console.log([gd, 'removed!']);\n",
       "            Plotly.purge(gd);\n",
       "            observer.disconnect();\n",
       "        }}\n",
       "}});\n",
       "\n",
       "// Listen for the removal of the full notebook cells\n",
       "var notebookContainer = gd.closest('#notebook-container');\n",
       "if (notebookContainer) {{\n",
       "    x.observe(notebookContainer, {childList: true});\n",
       "}}\n",
       "\n",
       "// Listen for the clearing of the current output cell\n",
       "var outputEl = gd.closest('.output');\n",
       "if (outputEl) {{\n",
       "    x.observe(outputEl, {childList: true});\n",
       "}}\n",
       "\n",
       "                        })                };                });            </script>        </div>"
      ]
     },
     "metadata": {},
     "output_type": "display_data"
    }
   ],
   "source": [
    "df.iplot(kind='bubble',x='A',y='B',size='C')"
   ]
  },
  {
   "cell_type": "code",
   "execution_count": 29,
   "id": "30d476bb",
   "metadata": {},
   "outputs": [
    {
     "data": {
      "application/vnd.plotly.v1+json": {
       "config": {
        "linkText": "Export to plot.ly",
        "plotlyServerURL": "https://plot.ly",
        "showLink": true
       },
       "data": [
        {
         "histfunc": "count",
         "histnorm": "",
         "marker": {
          "color": "rgba(255, 153, 51, 1.0)",
          "line": {
           "color": "#4D5663",
           "width": 1.3
          }
         },
         "name": "A",
         "nbinsx": 10,
         "opacity": 0.8,
         "orientation": "v",
         "type": "histogram",
         "x": [
          0.7579169907008975,
          -0.8161547742370481,
          -1.0676658944274364,
          0.3492477357554279,
          0.3390648990769225,
          0.09742219321199275,
          -1.33055230754233,
          -0.12682840085417438,
          -0.25128864086285696,
          2.1115708861917555,
          -1.339406042465701,
          -0.347374481064104,
          -1.3794015617559465,
          0.23290287749488986,
          0.41586382257588445,
          -0.5975340305163689,
          0.4086109611770097,
          0.5472736736776053,
          0.13715433771920907,
          1.6032654886085844,
          -0.5658030710740445,
          0.4404707283859412,
          -0.33724279007117697,
          -0.060014931120361666,
          -0.055651249216383945,
          -0.4050924167306593,
          -0.5674351170616927,
          -1.4251007871026502,
          -0.8995319823222503,
          1.1062589503452354,
          -0.20382072046038863,
          -0.00010055195585183877,
          0.17696378540158358,
          0.7588837221366781,
          0.2521796539016003,
          0.2853964120837876,
          -0.16277726494508643,
          -0.38601143344105365,
          -1.0170379359384103,
          -0.3466500445108914,
          -1.5401398016670331,
          -0.535571994409165,
          -1.7075842134185053,
          0.5066193456872792,
          -1.1181765596137385,
          -0.07719660704485161,
          1.409412284069849,
          -0.5131803731783747,
          0.14512693266306823,
          2.6527272388996663,
          -0.24086569918403608,
          0.5802248482304968,
          -0.28805074414568127,
          -0.394646373523225,
          -0.18229447257056783,
          -0.7128994194693947,
          -0.1760753682112523,
          -0.03307361130640672,
          2.8949245145138893,
          1.4639937505591218,
          -1.1787561032149947,
          0.5080631908125035,
          0.7299226637744624,
          1.114971455912152,
          0.3670444793270461,
          -0.8986701651154719,
          0.10427824380549375,
          0.4926150883989747,
          0.50128685010186,
          0.1582082959286535,
          1.424381376073982,
          -0.7098519159265192,
          1.4343352301075223,
          0.8848001165715448,
          -0.3329297614837509,
          -0.09449322766838299,
          -1.4331704424392953,
          -2.3482367888755706,
          -0.4313472857630825,
          -0.6850394753749117,
          0.07373150250514426,
          1.5035838122434417,
          -1.0673400959574666,
          -0.1790479235488818,
          0.5497921570738876,
          -1.6569094570064595,
          0.6867680990971627,
          -1.5246247206548413,
          0.06523519227070403,
          -1.0893939851966334,
          -0.6426486274421239,
          -1.1784518458385573,
          1.4014189134269002,
          -1.6916384711818373,
          1.2564031949041172,
          0.9657713826538739,
          -0.3086420219503129,
          -0.3789089791792017,
          -0.30407623942767387,
          -0.2204677342273025
         ],
         "xaxis": "x",
         "yaxis": "y"
        },
        {
         "line": {
          "color": "rgba(128, 128, 128, 1.0)",
          "dash": "solid",
          "shape": "linear",
          "width": 1.3
         },
         "marker": {
          "size": 2,
          "symbol": "circle"
         },
         "mode": "markers",
         "name": "A",
         "text": "",
         "type": "scatter",
         "x": [
          0.5684502720699256,
          0.5659318504590108,
          -0.19827760510486944,
          0.32983830760641514,
          0.5328299766395032,
          -2.6070863592723637,
          -1.498912957132498,
          0.38332965794274665,
          0.22264884897725187,
          -1.6528708786582085,
          -0.49870165714242487,
          -0.4786542575383392,
          1.072071747918505,
          0.30981640073313776,
          0.8935123571549635,
          -0.6819292753460076,
          0.4576173461547523,
          0.44311917309584925,
          -0.3834133487353966,
          0.24893642268377136,
          1.5725896637711498,
          2.5800447501566977,
          -0.031174073981630846,
          -0.527185533592221,
          0.25667482105584083,
          0.8323331450472324,
          -0.9568379443293512,
          0.14736685052680928,
          0.4953577645557132,
          1.127463897276566,
          0.1979067845689406,
          1.5849528203043828,
          -0.1747631695179193,
          0.9573789764398959,
          0.47436736441101895,
          -0.33127828318692876,
          0.7471120167436102,
          -2.022638281155942,
          2.0295295993715894,
          1.4420055066294375,
          -1.5295964399797681,
          1.8233838388928698,
          -0.7918471567136929,
          -1.7277233011088322,
          -0.625284887925668,
          0.8491625546406638,
          0.6780281200173601,
          -0.5141795457121822,
          -0.3431646995205548,
          1.5537837344549983,
          -0.3592575226298186,
          -1.200915218048695,
          0.447692552037646,
          -0.7291164997074,
          -0.0005065946840657674,
          -0.4437346151107805,
          0.15345808437672942,
          0.34710550181778704,
          1.7459026911646645,
          -1.3350888262495035,
          0.5533821815324313,
          0.253181086593142,
          -0.9589033870327761,
          0.4962013516394784,
          -0.16364535978691475,
          -0.5635106687798505,
          0.3874399481008401,
          -0.892203741798904,
          1.1650334107393163,
          0.047543043577904336,
          0.11249070564030511,
          0.09672797186554681,
          -0.8058650376771265,
          -0.583781575627234,
          1.038090201365297,
          -0.20666537242679023,
          -1.048021628407373,
          0.9899524366949004,
          0.7694913735559865,
          -0.22516987366451005,
          0.610271014996182,
          -1.199867464191324,
          -0.31217188679917635,
          0.9675753903319483,
          -2.0023223593090176,
          0.002514579727119917,
          1.4298377798004676,
          -0.9007516727608389,
          1.845629362612709,
          1.014157798755033,
          0.8562826331180223,
          0.1343851276353828,
          -1.5959146246492517,
          -0.0263178124517433,
          -0.8647975627911636,
          0.7729014273210385,
          -0.30570206339584927,
          0.6912959249022436,
          0.05769976468709154,
          0.37649442087166995
         ],
         "xaxis": "x2",
         "y": [
          0.7579169907008975,
          -0.8161547742370481,
          -1.0676658944274364,
          0.3492477357554279,
          0.3390648990769225,
          0.09742219321199275,
          -1.33055230754233,
          -0.12682840085417438,
          -0.25128864086285696,
          2.1115708861917555,
          -1.339406042465701,
          -0.347374481064104,
          -1.3794015617559465,
          0.23290287749488986,
          0.41586382257588445,
          -0.5975340305163689,
          0.4086109611770097,
          0.5472736736776053,
          0.13715433771920907,
          1.6032654886085844,
          -0.5658030710740445,
          0.4404707283859412,
          -0.33724279007117697,
          -0.060014931120361666,
          -0.055651249216383945,
          -0.4050924167306593,
          -0.5674351170616927,
          -1.4251007871026502,
          -0.8995319823222503,
          1.1062589503452354,
          -0.20382072046038863,
          -0.00010055195585183877,
          0.17696378540158358,
          0.7588837221366781,
          0.2521796539016003,
          0.2853964120837876,
          -0.16277726494508643,
          -0.38601143344105365,
          -1.0170379359384103,
          -0.3466500445108914,
          -1.5401398016670331,
          -0.535571994409165,
          -1.7075842134185053,
          0.5066193456872792,
          -1.1181765596137385,
          -0.07719660704485161,
          1.409412284069849,
          -0.5131803731783747,
          0.14512693266306823,
          2.6527272388996663,
          -0.24086569918403608,
          0.5802248482304968,
          -0.28805074414568127,
          -0.394646373523225,
          -0.18229447257056783,
          -0.7128994194693947,
          -0.1760753682112523,
          -0.03307361130640672,
          2.8949245145138893,
          1.4639937505591218,
          -1.1787561032149947,
          0.5080631908125035,
          0.7299226637744624,
          1.114971455912152,
          0.3670444793270461,
          -0.8986701651154719,
          0.10427824380549375,
          0.4926150883989747,
          0.50128685010186,
          0.1582082959286535,
          1.424381376073982,
          -0.7098519159265192,
          1.4343352301075223,
          0.8848001165715448,
          -0.3329297614837509,
          -0.09449322766838299,
          -1.4331704424392953,
          -2.3482367888755706,
          -0.4313472857630825,
          -0.6850394753749117,
          0.07373150250514426,
          1.5035838122434417,
          -1.0673400959574666,
          -0.1790479235488818,
          0.5497921570738876,
          -1.6569094570064595,
          0.6867680990971627,
          -1.5246247206548413,
          0.06523519227070403,
          -1.0893939851966334,
          -0.6426486274421239,
          -1.1784518458385573,
          1.4014189134269002,
          -1.6916384711818373,
          1.2564031949041172,
          0.9657713826538739,
          -0.3086420219503129,
          -0.3789089791792017,
          -0.30407623942767387,
          -0.2204677342273025
         ],
         "yaxis": "y2"
        },
        {
         "line": {
          "color": "rgba(128, 128, 128, 1.0)",
          "dash": "solid",
          "shape": "linear",
          "width": 1.3
         },
         "marker": {
          "size": 2,
          "symbol": "circle"
         },
         "mode": "markers",
         "name": "A",
         "text": "",
         "type": "scatter",
         "x": [
          -0.030841936520710423,
          -1.7897465844954101,
          0.33404857729631904,
          0.42957481394269537,
          1.3906679427925948,
          2.292633359034967,
          -0.7649790745758274,
          0.018126786175386135,
          -1.2706645279234314,
          -0.08426149632796881,
          0.07389371271328721,
          0.4243084993669805,
          -0.45464384933490637,
          -0.09473693777734563,
          0.03948991548022201,
          -0.37543131845098937,
          0.36294247945133895,
          0.7316061698865982,
          0.009311538500927507,
          0.01427552739454796,
          0.004373975200186838,
          0.8630383424204059,
          -0.5056348337641644,
          0.5952881803139014,
          -0.8591868262923849,
          -0.30517970825684787,
          0.18242953940181528,
          -0.937798674707065,
          -0.6987263821951233,
          0.5238960257688077,
          -0.48518372156003675,
          0.03146689657984299,
          -1.783826821471204,
          1.8763164275690554,
          1.1024227023493425,
          -1.374424585129283,
          1.327051208825934,
          1.6631033877268955,
          -0.5221836274219149,
          1.1790678399942525,
          0.20449931917440659,
          -0.7351507913998312,
          1.181331806951473,
          -0.6498461989231527,
          -0.561984383721052,
          -0.980958455737706,
          -0.9527489235554565,
          -0.3559026940821522,
          -1.7312463852737618,
          0.6003524590425994,
          -1.0011676580633053,
          0.27599291708270945,
          -1.0562305417097186,
          -1.8426355697171088,
          0.3820952216784,
          -1.3604752246569802,
          -0.3145948157468955,
          -0.7570896887087242,
          0.8407257362979608,
          -0.08334889085136048,
          -1.31888837125692,
          0.7077421503422455,
          1.5082924871792198,
          -0.10394197691061856,
          -0.5812564941032132,
          1.5742308084010164,
          -0.5459628896978114,
          1.182911260415,
          0.31165711404723745,
          0.5411365254188535,
          -0.9152362874791712,
          1.9486794223808281,
          -1.260161129482686,
          0.7143899005700038,
          1.1340389483026478,
          -0.217513783036078,
          -0.8809358145856119,
          0.7646336205622859,
          0.003658402843417368,
          1.0612831411933366,
          1.174055516773016,
          -0.8050002895921485,
          -1.9886559208325512,
          0.4993274729681875,
          -0.3561485718277287,
          -0.012824899034422837,
          0.8102233246215578,
          -0.8346862887134354,
          -1.0459324117012032,
          -0.46180759226587104,
          0.3757891945839428,
          -0.609346617161401,
          -1.318819973101796,
          -1.1054063168652104,
          -2.180036977980027,
          -0.40512129375765205,
          -1.0247128324872112,
          -1.282520781927594,
          0.3039137428223451,
          -1.1538024512803582
         ],
         "xaxis": "x3",
         "y": [
          0.7579169907008975,
          -0.8161547742370481,
          -1.0676658944274364,
          0.3492477357554279,
          0.3390648990769225,
          0.09742219321199275,
          -1.33055230754233,
          -0.12682840085417438,
          -0.25128864086285696,
          2.1115708861917555,
          -1.339406042465701,
          -0.347374481064104,
          -1.3794015617559465,
          0.23290287749488986,
          0.41586382257588445,
          -0.5975340305163689,
          0.4086109611770097,
          0.5472736736776053,
          0.13715433771920907,
          1.6032654886085844,
          -0.5658030710740445,
          0.4404707283859412,
          -0.33724279007117697,
          -0.060014931120361666,
          -0.055651249216383945,
          -0.4050924167306593,
          -0.5674351170616927,
          -1.4251007871026502,
          -0.8995319823222503,
          1.1062589503452354,
          -0.20382072046038863,
          -0.00010055195585183877,
          0.17696378540158358,
          0.7588837221366781,
          0.2521796539016003,
          0.2853964120837876,
          -0.16277726494508643,
          -0.38601143344105365,
          -1.0170379359384103,
          -0.3466500445108914,
          -1.5401398016670331,
          -0.535571994409165,
          -1.7075842134185053,
          0.5066193456872792,
          -1.1181765596137385,
          -0.07719660704485161,
          1.409412284069849,
          -0.5131803731783747,
          0.14512693266306823,
          2.6527272388996663,
          -0.24086569918403608,
          0.5802248482304968,
          -0.28805074414568127,
          -0.394646373523225,
          -0.18229447257056783,
          -0.7128994194693947,
          -0.1760753682112523,
          -0.03307361130640672,
          2.8949245145138893,
          1.4639937505591218,
          -1.1787561032149947,
          0.5080631908125035,
          0.7299226637744624,
          1.114971455912152,
          0.3670444793270461,
          -0.8986701651154719,
          0.10427824380549375,
          0.4926150883989747,
          0.50128685010186,
          0.1582082959286535,
          1.424381376073982,
          -0.7098519159265192,
          1.4343352301075223,
          0.8848001165715448,
          -0.3329297614837509,
          -0.09449322766838299,
          -1.4331704424392953,
          -2.3482367888755706,
          -0.4313472857630825,
          -0.6850394753749117,
          0.07373150250514426,
          1.5035838122434417,
          -1.0673400959574666,
          -0.1790479235488818,
          0.5497921570738876,
          -1.6569094570064595,
          0.6867680990971627,
          -1.5246247206548413,
          0.06523519227070403,
          -1.0893939851966334,
          -0.6426486274421239,
          -1.1784518458385573,
          1.4014189134269002,
          -1.6916384711818373,
          1.2564031949041172,
          0.9657713826538739,
          -0.3086420219503129,
          -0.3789089791792017,
          -0.30407623942767387,
          -0.2204677342273025
         ],
         "yaxis": "y3"
        },
        {
         "line": {
          "color": "rgba(128, 128, 128, 1.0)",
          "dash": "solid",
          "shape": "linear",
          "width": 1.3
         },
         "marker": {
          "size": 2,
          "symbol": "circle"
         },
         "mode": "markers",
         "name": "A",
         "text": "",
         "type": "scatter",
         "x": [
          0.06450635021046695,
          0.2596574522833259,
          1.0026143147803723,
          0.561642770158224,
          -0.3427874639302748,
          -0.9508333723957706,
          0.622800588343014,
          0.3125927148018621,
          1.1150879717363051,
          2.455851706634036,
          1.2742268799631815,
          1.154299919220273,
          -0.7942439680024461,
          -0.8644470781202114,
          -0.4168734520579206,
          -1.181803784199834,
          1.238433626346655,
          0.05372197763399264,
          0.34185576901013764,
          -1.4565659440581091,
          -0.1026818959296048,
          0.903541925904409,
          -0.8012528882328342,
          -1.0175719360567876,
          -2.7328299440970025,
          0.7148301356669923,
          -0.8239975679920563,
          -0.7576409674557157,
          -0.5693802501599392,
          -1.0556713820709995,
          -1.3705199522230866,
          -1.3560770882040558,
          0.7309342348001,
          -0.8703792444993791,
          0.09189649227909341,
          -0.3010341429755626,
          -0.3806964790753045,
          -1.2013579543332842,
          1.391184470518253,
          -1.8386086609074515,
          1.6546453153471088,
          -0.38789801126027745,
          0.09767288988891892,
          -1.3640703521993343,
          1.3871828331113376,
          -0.339887497599879,
          0.6410865305435189,
          -0.10596461045588117,
          1.114632580477332,
          0.5887394941232663,
          0.44177588052267247,
          0.12993293999471517,
          -1.001727314146639,
          -0.7320765446444998,
          0.3202318776190888,
          1.163610560377854,
          0.04939823794477496,
          0.04223995029416441,
          -0.14567905816720583,
          0.36920980691186267,
          0.3773260968601199,
          -0.8496724441848096,
          0.2041626662514401,
          0.7618730607445849,
          -1.1507069986281788,
          0.6599107371136214,
          -0.06753929552515554,
          -1.2165069573838576,
          1.8987843998608216,
          -0.31490087940180644,
          0.3660743345820462,
          0.4218107956766632,
          0.3089912594501252,
          0.394789105793771,
          0.4253362614950715,
          1.660226841327557,
          -0.22761012389628388,
          -0.5069865734320621,
          -0.09445619273657074,
          1.1539355107601834,
          2.0500571926687705,
          -0.8948538495499534,
          0.8925199369923554,
          0.16043421919060608,
          0.4190797854967326,
          -1.1605531588840317,
          0.8533946459510025,
          1.0230756283887796,
          1.385085155070938,
          -4.433536853331192,
          -0.4836933956232965,
          -0.13250107547132398,
          -0.17499236765283083,
          -0.026059638174104723,
          -0.13890017489053902,
          -0.1953849616368364,
          0.3124549496360172,
          0.8958394835349717,
          0.009559555697668766,
          -0.6476092790134855
         ],
         "xaxis": "x4",
         "y": [
          0.7579169907008975,
          -0.8161547742370481,
          -1.0676658944274364,
          0.3492477357554279,
          0.3390648990769225,
          0.09742219321199275,
          -1.33055230754233,
          -0.12682840085417438,
          -0.25128864086285696,
          2.1115708861917555,
          -1.339406042465701,
          -0.347374481064104,
          -1.3794015617559465,
          0.23290287749488986,
          0.41586382257588445,
          -0.5975340305163689,
          0.4086109611770097,
          0.5472736736776053,
          0.13715433771920907,
          1.6032654886085844,
          -0.5658030710740445,
          0.4404707283859412,
          -0.33724279007117697,
          -0.060014931120361666,
          -0.055651249216383945,
          -0.4050924167306593,
          -0.5674351170616927,
          -1.4251007871026502,
          -0.8995319823222503,
          1.1062589503452354,
          -0.20382072046038863,
          -0.00010055195585183877,
          0.17696378540158358,
          0.7588837221366781,
          0.2521796539016003,
          0.2853964120837876,
          -0.16277726494508643,
          -0.38601143344105365,
          -1.0170379359384103,
          -0.3466500445108914,
          -1.5401398016670331,
          -0.535571994409165,
          -1.7075842134185053,
          0.5066193456872792,
          -1.1181765596137385,
          -0.07719660704485161,
          1.409412284069849,
          -0.5131803731783747,
          0.14512693266306823,
          2.6527272388996663,
          -0.24086569918403608,
          0.5802248482304968,
          -0.28805074414568127,
          -0.394646373523225,
          -0.18229447257056783,
          -0.7128994194693947,
          -0.1760753682112523,
          -0.03307361130640672,
          2.8949245145138893,
          1.4639937505591218,
          -1.1787561032149947,
          0.5080631908125035,
          0.7299226637744624,
          1.114971455912152,
          0.3670444793270461,
          -0.8986701651154719,
          0.10427824380549375,
          0.4926150883989747,
          0.50128685010186,
          0.1582082959286535,
          1.424381376073982,
          -0.7098519159265192,
          1.4343352301075223,
          0.8848001165715448,
          -0.3329297614837509,
          -0.09449322766838299,
          -1.4331704424392953,
          -2.3482367888755706,
          -0.4313472857630825,
          -0.6850394753749117,
          0.07373150250514426,
          1.5035838122434417,
          -1.0673400959574666,
          -0.1790479235488818,
          0.5497921570738876,
          -1.6569094570064595,
          0.6867680990971627,
          -1.5246247206548413,
          0.06523519227070403,
          -1.0893939851966334,
          -0.6426486274421239,
          -1.1784518458385573,
          1.4014189134269002,
          -1.6916384711818373,
          1.2564031949041172,
          0.9657713826538739,
          -0.3086420219503129,
          -0.3789089791792017,
          -0.30407623942767387,
          -0.2204677342273025
         ],
         "yaxis": "y4"
        },
        {
         "line": {
          "color": "rgba(128, 128, 128, 1.0)",
          "dash": "solid",
          "shape": "linear",
          "width": 1.3
         },
         "marker": {
          "size": 2,
          "symbol": "circle"
         },
         "mode": "markers",
         "name": "B",
         "text": "",
         "type": "scatter",
         "x": [
          0.7579169907008975,
          -0.8161547742370481,
          -1.0676658944274364,
          0.3492477357554279,
          0.3390648990769225,
          0.09742219321199275,
          -1.33055230754233,
          -0.12682840085417438,
          -0.25128864086285696,
          2.1115708861917555,
          -1.339406042465701,
          -0.347374481064104,
          -1.3794015617559465,
          0.23290287749488986,
          0.41586382257588445,
          -0.5975340305163689,
          0.4086109611770097,
          0.5472736736776053,
          0.13715433771920907,
          1.6032654886085844,
          -0.5658030710740445,
          0.4404707283859412,
          -0.33724279007117697,
          -0.060014931120361666,
          -0.055651249216383945,
          -0.4050924167306593,
          -0.5674351170616927,
          -1.4251007871026502,
          -0.8995319823222503,
          1.1062589503452354,
          -0.20382072046038863,
          -0.00010055195585183877,
          0.17696378540158358,
          0.7588837221366781,
          0.2521796539016003,
          0.2853964120837876,
          -0.16277726494508643,
          -0.38601143344105365,
          -1.0170379359384103,
          -0.3466500445108914,
          -1.5401398016670331,
          -0.535571994409165,
          -1.7075842134185053,
          0.5066193456872792,
          -1.1181765596137385,
          -0.07719660704485161,
          1.409412284069849,
          -0.5131803731783747,
          0.14512693266306823,
          2.6527272388996663,
          -0.24086569918403608,
          0.5802248482304968,
          -0.28805074414568127,
          -0.394646373523225,
          -0.18229447257056783,
          -0.7128994194693947,
          -0.1760753682112523,
          -0.03307361130640672,
          2.8949245145138893,
          1.4639937505591218,
          -1.1787561032149947,
          0.5080631908125035,
          0.7299226637744624,
          1.114971455912152,
          0.3670444793270461,
          -0.8986701651154719,
          0.10427824380549375,
          0.4926150883989747,
          0.50128685010186,
          0.1582082959286535,
          1.424381376073982,
          -0.7098519159265192,
          1.4343352301075223,
          0.8848001165715448,
          -0.3329297614837509,
          -0.09449322766838299,
          -1.4331704424392953,
          -2.3482367888755706,
          -0.4313472857630825,
          -0.6850394753749117,
          0.07373150250514426,
          1.5035838122434417,
          -1.0673400959574666,
          -0.1790479235488818,
          0.5497921570738876,
          -1.6569094570064595,
          0.6867680990971627,
          -1.5246247206548413,
          0.06523519227070403,
          -1.0893939851966334,
          -0.6426486274421239,
          -1.1784518458385573,
          1.4014189134269002,
          -1.6916384711818373,
          1.2564031949041172,
          0.9657713826538739,
          -0.3086420219503129,
          -0.3789089791792017,
          -0.30407623942767387,
          -0.2204677342273025
         ],
         "xaxis": "x5",
         "y": [
          0.5684502720699256,
          0.5659318504590108,
          -0.19827760510486944,
          0.32983830760641514,
          0.5328299766395032,
          -2.6070863592723637,
          -1.498912957132498,
          0.38332965794274665,
          0.22264884897725187,
          -1.6528708786582085,
          -0.49870165714242487,
          -0.4786542575383392,
          1.072071747918505,
          0.30981640073313776,
          0.8935123571549635,
          -0.6819292753460076,
          0.4576173461547523,
          0.44311917309584925,
          -0.3834133487353966,
          0.24893642268377136,
          1.5725896637711498,
          2.5800447501566977,
          -0.031174073981630846,
          -0.527185533592221,
          0.25667482105584083,
          0.8323331450472324,
          -0.9568379443293512,
          0.14736685052680928,
          0.4953577645557132,
          1.127463897276566,
          0.1979067845689406,
          1.5849528203043828,
          -0.1747631695179193,
          0.9573789764398959,
          0.47436736441101895,
          -0.33127828318692876,
          0.7471120167436102,
          -2.022638281155942,
          2.0295295993715894,
          1.4420055066294375,
          -1.5295964399797681,
          1.8233838388928698,
          -0.7918471567136929,
          -1.7277233011088322,
          -0.625284887925668,
          0.8491625546406638,
          0.6780281200173601,
          -0.5141795457121822,
          -0.3431646995205548,
          1.5537837344549983,
          -0.3592575226298186,
          -1.200915218048695,
          0.447692552037646,
          -0.7291164997074,
          -0.0005065946840657674,
          -0.4437346151107805,
          0.15345808437672942,
          0.34710550181778704,
          1.7459026911646645,
          -1.3350888262495035,
          0.5533821815324313,
          0.253181086593142,
          -0.9589033870327761,
          0.4962013516394784,
          -0.16364535978691475,
          -0.5635106687798505,
          0.3874399481008401,
          -0.892203741798904,
          1.1650334107393163,
          0.047543043577904336,
          0.11249070564030511,
          0.09672797186554681,
          -0.8058650376771265,
          -0.583781575627234,
          1.038090201365297,
          -0.20666537242679023,
          -1.048021628407373,
          0.9899524366949004,
          0.7694913735559865,
          -0.22516987366451005,
          0.610271014996182,
          -1.199867464191324,
          -0.31217188679917635,
          0.9675753903319483,
          -2.0023223593090176,
          0.002514579727119917,
          1.4298377798004676,
          -0.9007516727608389,
          1.845629362612709,
          1.014157798755033,
          0.8562826331180223,
          0.1343851276353828,
          -1.5959146246492517,
          -0.0263178124517433,
          -0.8647975627911636,
          0.7729014273210385,
          -0.30570206339584927,
          0.6912959249022436,
          0.05769976468709154,
          0.37649442087166995
         ],
         "yaxis": "y5"
        },
        {
         "histfunc": "count",
         "histnorm": "",
         "marker": {
          "color": "rgba(55, 128, 191, 1.0)",
          "line": {
           "color": "#4D5663",
           "width": 1.3
          }
         },
         "name": "B",
         "nbinsx": 10,
         "opacity": 0.8,
         "orientation": "v",
         "type": "histogram",
         "x": [
          0.5684502720699256,
          0.5659318504590108,
          -0.19827760510486944,
          0.32983830760641514,
          0.5328299766395032,
          -2.6070863592723637,
          -1.498912957132498,
          0.38332965794274665,
          0.22264884897725187,
          -1.6528708786582085,
          -0.49870165714242487,
          -0.4786542575383392,
          1.072071747918505,
          0.30981640073313776,
          0.8935123571549635,
          -0.6819292753460076,
          0.4576173461547523,
          0.44311917309584925,
          -0.3834133487353966,
          0.24893642268377136,
          1.5725896637711498,
          2.5800447501566977,
          -0.031174073981630846,
          -0.527185533592221,
          0.25667482105584083,
          0.8323331450472324,
          -0.9568379443293512,
          0.14736685052680928,
          0.4953577645557132,
          1.127463897276566,
          0.1979067845689406,
          1.5849528203043828,
          -0.1747631695179193,
          0.9573789764398959,
          0.47436736441101895,
          -0.33127828318692876,
          0.7471120167436102,
          -2.022638281155942,
          2.0295295993715894,
          1.4420055066294375,
          -1.5295964399797681,
          1.8233838388928698,
          -0.7918471567136929,
          -1.7277233011088322,
          -0.625284887925668,
          0.8491625546406638,
          0.6780281200173601,
          -0.5141795457121822,
          -0.3431646995205548,
          1.5537837344549983,
          -0.3592575226298186,
          -1.200915218048695,
          0.447692552037646,
          -0.7291164997074,
          -0.0005065946840657674,
          -0.4437346151107805,
          0.15345808437672942,
          0.34710550181778704,
          1.7459026911646645,
          -1.3350888262495035,
          0.5533821815324313,
          0.253181086593142,
          -0.9589033870327761,
          0.4962013516394784,
          -0.16364535978691475,
          -0.5635106687798505,
          0.3874399481008401,
          -0.892203741798904,
          1.1650334107393163,
          0.047543043577904336,
          0.11249070564030511,
          0.09672797186554681,
          -0.8058650376771265,
          -0.583781575627234,
          1.038090201365297,
          -0.20666537242679023,
          -1.048021628407373,
          0.9899524366949004,
          0.7694913735559865,
          -0.22516987366451005,
          0.610271014996182,
          -1.199867464191324,
          -0.31217188679917635,
          0.9675753903319483,
          -2.0023223593090176,
          0.002514579727119917,
          1.4298377798004676,
          -0.9007516727608389,
          1.845629362612709,
          1.014157798755033,
          0.8562826331180223,
          0.1343851276353828,
          -1.5959146246492517,
          -0.0263178124517433,
          -0.8647975627911636,
          0.7729014273210385,
          -0.30570206339584927,
          0.6912959249022436,
          0.05769976468709154,
          0.37649442087166995
         ],
         "xaxis": "x6",
         "yaxis": "y6"
        },
        {
         "line": {
          "color": "rgba(128, 128, 128, 1.0)",
          "dash": "solid",
          "shape": "linear",
          "width": 1.3
         },
         "marker": {
          "size": 2,
          "symbol": "circle"
         },
         "mode": "markers",
         "name": "B",
         "text": "",
         "type": "scatter",
         "x": [
          -0.030841936520710423,
          -1.7897465844954101,
          0.33404857729631904,
          0.42957481394269537,
          1.3906679427925948,
          2.292633359034967,
          -0.7649790745758274,
          0.018126786175386135,
          -1.2706645279234314,
          -0.08426149632796881,
          0.07389371271328721,
          0.4243084993669805,
          -0.45464384933490637,
          -0.09473693777734563,
          0.03948991548022201,
          -0.37543131845098937,
          0.36294247945133895,
          0.7316061698865982,
          0.009311538500927507,
          0.01427552739454796,
          0.004373975200186838,
          0.8630383424204059,
          -0.5056348337641644,
          0.5952881803139014,
          -0.8591868262923849,
          -0.30517970825684787,
          0.18242953940181528,
          -0.937798674707065,
          -0.6987263821951233,
          0.5238960257688077,
          -0.48518372156003675,
          0.03146689657984299,
          -1.783826821471204,
          1.8763164275690554,
          1.1024227023493425,
          -1.374424585129283,
          1.327051208825934,
          1.6631033877268955,
          -0.5221836274219149,
          1.1790678399942525,
          0.20449931917440659,
          -0.7351507913998312,
          1.181331806951473,
          -0.6498461989231527,
          -0.561984383721052,
          -0.980958455737706,
          -0.9527489235554565,
          -0.3559026940821522,
          -1.7312463852737618,
          0.6003524590425994,
          -1.0011676580633053,
          0.27599291708270945,
          -1.0562305417097186,
          -1.8426355697171088,
          0.3820952216784,
          -1.3604752246569802,
          -0.3145948157468955,
          -0.7570896887087242,
          0.8407257362979608,
          -0.08334889085136048,
          -1.31888837125692,
          0.7077421503422455,
          1.5082924871792198,
          -0.10394197691061856,
          -0.5812564941032132,
          1.5742308084010164,
          -0.5459628896978114,
          1.182911260415,
          0.31165711404723745,
          0.5411365254188535,
          -0.9152362874791712,
          1.9486794223808281,
          -1.260161129482686,
          0.7143899005700038,
          1.1340389483026478,
          -0.217513783036078,
          -0.8809358145856119,
          0.7646336205622859,
          0.003658402843417368,
          1.0612831411933366,
          1.174055516773016,
          -0.8050002895921485,
          -1.9886559208325512,
          0.4993274729681875,
          -0.3561485718277287,
          -0.012824899034422837,
          0.8102233246215578,
          -0.8346862887134354,
          -1.0459324117012032,
          -0.46180759226587104,
          0.3757891945839428,
          -0.609346617161401,
          -1.318819973101796,
          -1.1054063168652104,
          -2.180036977980027,
          -0.40512129375765205,
          -1.0247128324872112,
          -1.282520781927594,
          0.3039137428223451,
          -1.1538024512803582
         ],
         "xaxis": "x7",
         "y": [
          0.5684502720699256,
          0.5659318504590108,
          -0.19827760510486944,
          0.32983830760641514,
          0.5328299766395032,
          -2.6070863592723637,
          -1.498912957132498,
          0.38332965794274665,
          0.22264884897725187,
          -1.6528708786582085,
          -0.49870165714242487,
          -0.4786542575383392,
          1.072071747918505,
          0.30981640073313776,
          0.8935123571549635,
          -0.6819292753460076,
          0.4576173461547523,
          0.44311917309584925,
          -0.3834133487353966,
          0.24893642268377136,
          1.5725896637711498,
          2.5800447501566977,
          -0.031174073981630846,
          -0.527185533592221,
          0.25667482105584083,
          0.8323331450472324,
          -0.9568379443293512,
          0.14736685052680928,
          0.4953577645557132,
          1.127463897276566,
          0.1979067845689406,
          1.5849528203043828,
          -0.1747631695179193,
          0.9573789764398959,
          0.47436736441101895,
          -0.33127828318692876,
          0.7471120167436102,
          -2.022638281155942,
          2.0295295993715894,
          1.4420055066294375,
          -1.5295964399797681,
          1.8233838388928698,
          -0.7918471567136929,
          -1.7277233011088322,
          -0.625284887925668,
          0.8491625546406638,
          0.6780281200173601,
          -0.5141795457121822,
          -0.3431646995205548,
          1.5537837344549983,
          -0.3592575226298186,
          -1.200915218048695,
          0.447692552037646,
          -0.7291164997074,
          -0.0005065946840657674,
          -0.4437346151107805,
          0.15345808437672942,
          0.34710550181778704,
          1.7459026911646645,
          -1.3350888262495035,
          0.5533821815324313,
          0.253181086593142,
          -0.9589033870327761,
          0.4962013516394784,
          -0.16364535978691475,
          -0.5635106687798505,
          0.3874399481008401,
          -0.892203741798904,
          1.1650334107393163,
          0.047543043577904336,
          0.11249070564030511,
          0.09672797186554681,
          -0.8058650376771265,
          -0.583781575627234,
          1.038090201365297,
          -0.20666537242679023,
          -1.048021628407373,
          0.9899524366949004,
          0.7694913735559865,
          -0.22516987366451005,
          0.610271014996182,
          -1.199867464191324,
          -0.31217188679917635,
          0.9675753903319483,
          -2.0023223593090176,
          0.002514579727119917,
          1.4298377798004676,
          -0.9007516727608389,
          1.845629362612709,
          1.014157798755033,
          0.8562826331180223,
          0.1343851276353828,
          -1.5959146246492517,
          -0.0263178124517433,
          -0.8647975627911636,
          0.7729014273210385,
          -0.30570206339584927,
          0.6912959249022436,
          0.05769976468709154,
          0.37649442087166995
         ],
         "yaxis": "y7"
        },
        {
         "line": {
          "color": "rgba(128, 128, 128, 1.0)",
          "dash": "solid",
          "shape": "linear",
          "width": 1.3
         },
         "marker": {
          "size": 2,
          "symbol": "circle"
         },
         "mode": "markers",
         "name": "B",
         "text": "",
         "type": "scatter",
         "x": [
          0.06450635021046695,
          0.2596574522833259,
          1.0026143147803723,
          0.561642770158224,
          -0.3427874639302748,
          -0.9508333723957706,
          0.622800588343014,
          0.3125927148018621,
          1.1150879717363051,
          2.455851706634036,
          1.2742268799631815,
          1.154299919220273,
          -0.7942439680024461,
          -0.8644470781202114,
          -0.4168734520579206,
          -1.181803784199834,
          1.238433626346655,
          0.05372197763399264,
          0.34185576901013764,
          -1.4565659440581091,
          -0.1026818959296048,
          0.903541925904409,
          -0.8012528882328342,
          -1.0175719360567876,
          -2.7328299440970025,
          0.7148301356669923,
          -0.8239975679920563,
          -0.7576409674557157,
          -0.5693802501599392,
          -1.0556713820709995,
          -1.3705199522230866,
          -1.3560770882040558,
          0.7309342348001,
          -0.8703792444993791,
          0.09189649227909341,
          -0.3010341429755626,
          -0.3806964790753045,
          -1.2013579543332842,
          1.391184470518253,
          -1.8386086609074515,
          1.6546453153471088,
          -0.38789801126027745,
          0.09767288988891892,
          -1.3640703521993343,
          1.3871828331113376,
          -0.339887497599879,
          0.6410865305435189,
          -0.10596461045588117,
          1.114632580477332,
          0.5887394941232663,
          0.44177588052267247,
          0.12993293999471517,
          -1.001727314146639,
          -0.7320765446444998,
          0.3202318776190888,
          1.163610560377854,
          0.04939823794477496,
          0.04223995029416441,
          -0.14567905816720583,
          0.36920980691186267,
          0.3773260968601199,
          -0.8496724441848096,
          0.2041626662514401,
          0.7618730607445849,
          -1.1507069986281788,
          0.6599107371136214,
          -0.06753929552515554,
          -1.2165069573838576,
          1.8987843998608216,
          -0.31490087940180644,
          0.3660743345820462,
          0.4218107956766632,
          0.3089912594501252,
          0.394789105793771,
          0.4253362614950715,
          1.660226841327557,
          -0.22761012389628388,
          -0.5069865734320621,
          -0.09445619273657074,
          1.1539355107601834,
          2.0500571926687705,
          -0.8948538495499534,
          0.8925199369923554,
          0.16043421919060608,
          0.4190797854967326,
          -1.1605531588840317,
          0.8533946459510025,
          1.0230756283887796,
          1.385085155070938,
          -4.433536853331192,
          -0.4836933956232965,
          -0.13250107547132398,
          -0.17499236765283083,
          -0.026059638174104723,
          -0.13890017489053902,
          -0.1953849616368364,
          0.3124549496360172,
          0.8958394835349717,
          0.009559555697668766,
          -0.6476092790134855
         ],
         "xaxis": "x8",
         "y": [
          0.5684502720699256,
          0.5659318504590108,
          -0.19827760510486944,
          0.32983830760641514,
          0.5328299766395032,
          -2.6070863592723637,
          -1.498912957132498,
          0.38332965794274665,
          0.22264884897725187,
          -1.6528708786582085,
          -0.49870165714242487,
          -0.4786542575383392,
          1.072071747918505,
          0.30981640073313776,
          0.8935123571549635,
          -0.6819292753460076,
          0.4576173461547523,
          0.44311917309584925,
          -0.3834133487353966,
          0.24893642268377136,
          1.5725896637711498,
          2.5800447501566977,
          -0.031174073981630846,
          -0.527185533592221,
          0.25667482105584083,
          0.8323331450472324,
          -0.9568379443293512,
          0.14736685052680928,
          0.4953577645557132,
          1.127463897276566,
          0.1979067845689406,
          1.5849528203043828,
          -0.1747631695179193,
          0.9573789764398959,
          0.47436736441101895,
          -0.33127828318692876,
          0.7471120167436102,
          -2.022638281155942,
          2.0295295993715894,
          1.4420055066294375,
          -1.5295964399797681,
          1.8233838388928698,
          -0.7918471567136929,
          -1.7277233011088322,
          -0.625284887925668,
          0.8491625546406638,
          0.6780281200173601,
          -0.5141795457121822,
          -0.3431646995205548,
          1.5537837344549983,
          -0.3592575226298186,
          -1.200915218048695,
          0.447692552037646,
          -0.7291164997074,
          -0.0005065946840657674,
          -0.4437346151107805,
          0.15345808437672942,
          0.34710550181778704,
          1.7459026911646645,
          -1.3350888262495035,
          0.5533821815324313,
          0.253181086593142,
          -0.9589033870327761,
          0.4962013516394784,
          -0.16364535978691475,
          -0.5635106687798505,
          0.3874399481008401,
          -0.892203741798904,
          1.1650334107393163,
          0.047543043577904336,
          0.11249070564030511,
          0.09672797186554681,
          -0.8058650376771265,
          -0.583781575627234,
          1.038090201365297,
          -0.20666537242679023,
          -1.048021628407373,
          0.9899524366949004,
          0.7694913735559865,
          -0.22516987366451005,
          0.610271014996182,
          -1.199867464191324,
          -0.31217188679917635,
          0.9675753903319483,
          -2.0023223593090176,
          0.002514579727119917,
          1.4298377798004676,
          -0.9007516727608389,
          1.845629362612709,
          1.014157798755033,
          0.8562826331180223,
          0.1343851276353828,
          -1.5959146246492517,
          -0.0263178124517433,
          -0.8647975627911636,
          0.7729014273210385,
          -0.30570206339584927,
          0.6912959249022436,
          0.05769976468709154,
          0.37649442087166995
         ],
         "yaxis": "y8"
        },
        {
         "line": {
          "color": "rgba(128, 128, 128, 1.0)",
          "dash": "solid",
          "shape": "linear",
          "width": 1.3
         },
         "marker": {
          "size": 2,
          "symbol": "circle"
         },
         "mode": "markers",
         "name": "C",
         "text": "",
         "type": "scatter",
         "x": [
          0.7579169907008975,
          -0.8161547742370481,
          -1.0676658944274364,
          0.3492477357554279,
          0.3390648990769225,
          0.09742219321199275,
          -1.33055230754233,
          -0.12682840085417438,
          -0.25128864086285696,
          2.1115708861917555,
          -1.339406042465701,
          -0.347374481064104,
          -1.3794015617559465,
          0.23290287749488986,
          0.41586382257588445,
          -0.5975340305163689,
          0.4086109611770097,
          0.5472736736776053,
          0.13715433771920907,
          1.6032654886085844,
          -0.5658030710740445,
          0.4404707283859412,
          -0.33724279007117697,
          -0.060014931120361666,
          -0.055651249216383945,
          -0.4050924167306593,
          -0.5674351170616927,
          -1.4251007871026502,
          -0.8995319823222503,
          1.1062589503452354,
          -0.20382072046038863,
          -0.00010055195585183877,
          0.17696378540158358,
          0.7588837221366781,
          0.2521796539016003,
          0.2853964120837876,
          -0.16277726494508643,
          -0.38601143344105365,
          -1.0170379359384103,
          -0.3466500445108914,
          -1.5401398016670331,
          -0.535571994409165,
          -1.7075842134185053,
          0.5066193456872792,
          -1.1181765596137385,
          -0.07719660704485161,
          1.409412284069849,
          -0.5131803731783747,
          0.14512693266306823,
          2.6527272388996663,
          -0.24086569918403608,
          0.5802248482304968,
          -0.28805074414568127,
          -0.394646373523225,
          -0.18229447257056783,
          -0.7128994194693947,
          -0.1760753682112523,
          -0.03307361130640672,
          2.8949245145138893,
          1.4639937505591218,
          -1.1787561032149947,
          0.5080631908125035,
          0.7299226637744624,
          1.114971455912152,
          0.3670444793270461,
          -0.8986701651154719,
          0.10427824380549375,
          0.4926150883989747,
          0.50128685010186,
          0.1582082959286535,
          1.424381376073982,
          -0.7098519159265192,
          1.4343352301075223,
          0.8848001165715448,
          -0.3329297614837509,
          -0.09449322766838299,
          -1.4331704424392953,
          -2.3482367888755706,
          -0.4313472857630825,
          -0.6850394753749117,
          0.07373150250514426,
          1.5035838122434417,
          -1.0673400959574666,
          -0.1790479235488818,
          0.5497921570738876,
          -1.6569094570064595,
          0.6867680990971627,
          -1.5246247206548413,
          0.06523519227070403,
          -1.0893939851966334,
          -0.6426486274421239,
          -1.1784518458385573,
          1.4014189134269002,
          -1.6916384711818373,
          1.2564031949041172,
          0.9657713826538739,
          -0.3086420219503129,
          -0.3789089791792017,
          -0.30407623942767387,
          -0.2204677342273025
         ],
         "xaxis": "x9",
         "y": [
          -0.030841936520710423,
          -1.7897465844954101,
          0.33404857729631904,
          0.42957481394269537,
          1.3906679427925948,
          2.292633359034967,
          -0.7649790745758274,
          0.018126786175386135,
          -1.2706645279234314,
          -0.08426149632796881,
          0.07389371271328721,
          0.4243084993669805,
          -0.45464384933490637,
          -0.09473693777734563,
          0.03948991548022201,
          -0.37543131845098937,
          0.36294247945133895,
          0.7316061698865982,
          0.009311538500927507,
          0.01427552739454796,
          0.004373975200186838,
          0.8630383424204059,
          -0.5056348337641644,
          0.5952881803139014,
          -0.8591868262923849,
          -0.30517970825684787,
          0.18242953940181528,
          -0.937798674707065,
          -0.6987263821951233,
          0.5238960257688077,
          -0.48518372156003675,
          0.03146689657984299,
          -1.783826821471204,
          1.8763164275690554,
          1.1024227023493425,
          -1.374424585129283,
          1.327051208825934,
          1.6631033877268955,
          -0.5221836274219149,
          1.1790678399942525,
          0.20449931917440659,
          -0.7351507913998312,
          1.181331806951473,
          -0.6498461989231527,
          -0.561984383721052,
          -0.980958455737706,
          -0.9527489235554565,
          -0.3559026940821522,
          -1.7312463852737618,
          0.6003524590425994,
          -1.0011676580633053,
          0.27599291708270945,
          -1.0562305417097186,
          -1.8426355697171088,
          0.3820952216784,
          -1.3604752246569802,
          -0.3145948157468955,
          -0.7570896887087242,
          0.8407257362979608,
          -0.08334889085136048,
          -1.31888837125692,
          0.7077421503422455,
          1.5082924871792198,
          -0.10394197691061856,
          -0.5812564941032132,
          1.5742308084010164,
          -0.5459628896978114,
          1.182911260415,
          0.31165711404723745,
          0.5411365254188535,
          -0.9152362874791712,
          1.9486794223808281,
          -1.260161129482686,
          0.7143899005700038,
          1.1340389483026478,
          -0.217513783036078,
          -0.8809358145856119,
          0.7646336205622859,
          0.003658402843417368,
          1.0612831411933366,
          1.174055516773016,
          -0.8050002895921485,
          -1.9886559208325512,
          0.4993274729681875,
          -0.3561485718277287,
          -0.012824899034422837,
          0.8102233246215578,
          -0.8346862887134354,
          -1.0459324117012032,
          -0.46180759226587104,
          0.3757891945839428,
          -0.609346617161401,
          -1.318819973101796,
          -1.1054063168652104,
          -2.180036977980027,
          -0.40512129375765205,
          -1.0247128324872112,
          -1.282520781927594,
          0.3039137428223451,
          -1.1538024512803582
         ],
         "yaxis": "y9"
        },
        {
         "line": {
          "color": "rgba(128, 128, 128, 1.0)",
          "dash": "solid",
          "shape": "linear",
          "width": 1.3
         },
         "marker": {
          "size": 2,
          "symbol": "circle"
         },
         "mode": "markers",
         "name": "C",
         "text": "",
         "type": "scatter",
         "x": [
          0.5684502720699256,
          0.5659318504590108,
          -0.19827760510486944,
          0.32983830760641514,
          0.5328299766395032,
          -2.6070863592723637,
          -1.498912957132498,
          0.38332965794274665,
          0.22264884897725187,
          -1.6528708786582085,
          -0.49870165714242487,
          -0.4786542575383392,
          1.072071747918505,
          0.30981640073313776,
          0.8935123571549635,
          -0.6819292753460076,
          0.4576173461547523,
          0.44311917309584925,
          -0.3834133487353966,
          0.24893642268377136,
          1.5725896637711498,
          2.5800447501566977,
          -0.031174073981630846,
          -0.527185533592221,
          0.25667482105584083,
          0.8323331450472324,
          -0.9568379443293512,
          0.14736685052680928,
          0.4953577645557132,
          1.127463897276566,
          0.1979067845689406,
          1.5849528203043828,
          -0.1747631695179193,
          0.9573789764398959,
          0.47436736441101895,
          -0.33127828318692876,
          0.7471120167436102,
          -2.022638281155942,
          2.0295295993715894,
          1.4420055066294375,
          -1.5295964399797681,
          1.8233838388928698,
          -0.7918471567136929,
          -1.7277233011088322,
          -0.625284887925668,
          0.8491625546406638,
          0.6780281200173601,
          -0.5141795457121822,
          -0.3431646995205548,
          1.5537837344549983,
          -0.3592575226298186,
          -1.200915218048695,
          0.447692552037646,
          -0.7291164997074,
          -0.0005065946840657674,
          -0.4437346151107805,
          0.15345808437672942,
          0.34710550181778704,
          1.7459026911646645,
          -1.3350888262495035,
          0.5533821815324313,
          0.253181086593142,
          -0.9589033870327761,
          0.4962013516394784,
          -0.16364535978691475,
          -0.5635106687798505,
          0.3874399481008401,
          -0.892203741798904,
          1.1650334107393163,
          0.047543043577904336,
          0.11249070564030511,
          0.09672797186554681,
          -0.8058650376771265,
          -0.583781575627234,
          1.038090201365297,
          -0.20666537242679023,
          -1.048021628407373,
          0.9899524366949004,
          0.7694913735559865,
          -0.22516987366451005,
          0.610271014996182,
          -1.199867464191324,
          -0.31217188679917635,
          0.9675753903319483,
          -2.0023223593090176,
          0.002514579727119917,
          1.4298377798004676,
          -0.9007516727608389,
          1.845629362612709,
          1.014157798755033,
          0.8562826331180223,
          0.1343851276353828,
          -1.5959146246492517,
          -0.0263178124517433,
          -0.8647975627911636,
          0.7729014273210385,
          -0.30570206339584927,
          0.6912959249022436,
          0.05769976468709154,
          0.37649442087166995
         ],
         "xaxis": "x10",
         "y": [
          -0.030841936520710423,
          -1.7897465844954101,
          0.33404857729631904,
          0.42957481394269537,
          1.3906679427925948,
          2.292633359034967,
          -0.7649790745758274,
          0.018126786175386135,
          -1.2706645279234314,
          -0.08426149632796881,
          0.07389371271328721,
          0.4243084993669805,
          -0.45464384933490637,
          -0.09473693777734563,
          0.03948991548022201,
          -0.37543131845098937,
          0.36294247945133895,
          0.7316061698865982,
          0.009311538500927507,
          0.01427552739454796,
          0.004373975200186838,
          0.8630383424204059,
          -0.5056348337641644,
          0.5952881803139014,
          -0.8591868262923849,
          -0.30517970825684787,
          0.18242953940181528,
          -0.937798674707065,
          -0.6987263821951233,
          0.5238960257688077,
          -0.48518372156003675,
          0.03146689657984299,
          -1.783826821471204,
          1.8763164275690554,
          1.1024227023493425,
          -1.374424585129283,
          1.327051208825934,
          1.6631033877268955,
          -0.5221836274219149,
          1.1790678399942525,
          0.20449931917440659,
          -0.7351507913998312,
          1.181331806951473,
          -0.6498461989231527,
          -0.561984383721052,
          -0.980958455737706,
          -0.9527489235554565,
          -0.3559026940821522,
          -1.7312463852737618,
          0.6003524590425994,
          -1.0011676580633053,
          0.27599291708270945,
          -1.0562305417097186,
          -1.8426355697171088,
          0.3820952216784,
          -1.3604752246569802,
          -0.3145948157468955,
          -0.7570896887087242,
          0.8407257362979608,
          -0.08334889085136048,
          -1.31888837125692,
          0.7077421503422455,
          1.5082924871792198,
          -0.10394197691061856,
          -0.5812564941032132,
          1.5742308084010164,
          -0.5459628896978114,
          1.182911260415,
          0.31165711404723745,
          0.5411365254188535,
          -0.9152362874791712,
          1.9486794223808281,
          -1.260161129482686,
          0.7143899005700038,
          1.1340389483026478,
          -0.217513783036078,
          -0.8809358145856119,
          0.7646336205622859,
          0.003658402843417368,
          1.0612831411933366,
          1.174055516773016,
          -0.8050002895921485,
          -1.9886559208325512,
          0.4993274729681875,
          -0.3561485718277287,
          -0.012824899034422837,
          0.8102233246215578,
          -0.8346862887134354,
          -1.0459324117012032,
          -0.46180759226587104,
          0.3757891945839428,
          -0.609346617161401,
          -1.318819973101796,
          -1.1054063168652104,
          -2.180036977980027,
          -0.40512129375765205,
          -1.0247128324872112,
          -1.282520781927594,
          0.3039137428223451,
          -1.1538024512803582
         ],
         "yaxis": "y10"
        },
        {
         "histfunc": "count",
         "histnorm": "",
         "marker": {
          "color": "rgba(50, 171, 96, 1.0)",
          "line": {
           "color": "#4D5663",
           "width": 1.3
          }
         },
         "name": "C",
         "nbinsx": 10,
         "opacity": 0.8,
         "orientation": "v",
         "type": "histogram",
         "x": [
          -0.030841936520710423,
          -1.7897465844954101,
          0.33404857729631904,
          0.42957481394269537,
          1.3906679427925948,
          2.292633359034967,
          -0.7649790745758274,
          0.018126786175386135,
          -1.2706645279234314,
          -0.08426149632796881,
          0.07389371271328721,
          0.4243084993669805,
          -0.45464384933490637,
          -0.09473693777734563,
          0.03948991548022201,
          -0.37543131845098937,
          0.36294247945133895,
          0.7316061698865982,
          0.009311538500927507,
          0.01427552739454796,
          0.004373975200186838,
          0.8630383424204059,
          -0.5056348337641644,
          0.5952881803139014,
          -0.8591868262923849,
          -0.30517970825684787,
          0.18242953940181528,
          -0.937798674707065,
          -0.6987263821951233,
          0.5238960257688077,
          -0.48518372156003675,
          0.03146689657984299,
          -1.783826821471204,
          1.8763164275690554,
          1.1024227023493425,
          -1.374424585129283,
          1.327051208825934,
          1.6631033877268955,
          -0.5221836274219149,
          1.1790678399942525,
          0.20449931917440659,
          -0.7351507913998312,
          1.181331806951473,
          -0.6498461989231527,
          -0.561984383721052,
          -0.980958455737706,
          -0.9527489235554565,
          -0.3559026940821522,
          -1.7312463852737618,
          0.6003524590425994,
          -1.0011676580633053,
          0.27599291708270945,
          -1.0562305417097186,
          -1.8426355697171088,
          0.3820952216784,
          -1.3604752246569802,
          -0.3145948157468955,
          -0.7570896887087242,
          0.8407257362979608,
          -0.08334889085136048,
          -1.31888837125692,
          0.7077421503422455,
          1.5082924871792198,
          -0.10394197691061856,
          -0.5812564941032132,
          1.5742308084010164,
          -0.5459628896978114,
          1.182911260415,
          0.31165711404723745,
          0.5411365254188535,
          -0.9152362874791712,
          1.9486794223808281,
          -1.260161129482686,
          0.7143899005700038,
          1.1340389483026478,
          -0.217513783036078,
          -0.8809358145856119,
          0.7646336205622859,
          0.003658402843417368,
          1.0612831411933366,
          1.174055516773016,
          -0.8050002895921485,
          -1.9886559208325512,
          0.4993274729681875,
          -0.3561485718277287,
          -0.012824899034422837,
          0.8102233246215578,
          -0.8346862887134354,
          -1.0459324117012032,
          -0.46180759226587104,
          0.3757891945839428,
          -0.609346617161401,
          -1.318819973101796,
          -1.1054063168652104,
          -2.180036977980027,
          -0.40512129375765205,
          -1.0247128324872112,
          -1.282520781927594,
          0.3039137428223451,
          -1.1538024512803582
         ],
         "xaxis": "x11",
         "yaxis": "y11"
        },
        {
         "line": {
          "color": "rgba(128, 128, 128, 1.0)",
          "dash": "solid",
          "shape": "linear",
          "width": 1.3
         },
         "marker": {
          "size": 2,
          "symbol": "circle"
         },
         "mode": "markers",
         "name": "C",
         "text": "",
         "type": "scatter",
         "x": [
          0.06450635021046695,
          0.2596574522833259,
          1.0026143147803723,
          0.561642770158224,
          -0.3427874639302748,
          -0.9508333723957706,
          0.622800588343014,
          0.3125927148018621,
          1.1150879717363051,
          2.455851706634036,
          1.2742268799631815,
          1.154299919220273,
          -0.7942439680024461,
          -0.8644470781202114,
          -0.4168734520579206,
          -1.181803784199834,
          1.238433626346655,
          0.05372197763399264,
          0.34185576901013764,
          -1.4565659440581091,
          -0.1026818959296048,
          0.903541925904409,
          -0.8012528882328342,
          -1.0175719360567876,
          -2.7328299440970025,
          0.7148301356669923,
          -0.8239975679920563,
          -0.7576409674557157,
          -0.5693802501599392,
          -1.0556713820709995,
          -1.3705199522230866,
          -1.3560770882040558,
          0.7309342348001,
          -0.8703792444993791,
          0.09189649227909341,
          -0.3010341429755626,
          -0.3806964790753045,
          -1.2013579543332842,
          1.391184470518253,
          -1.8386086609074515,
          1.6546453153471088,
          -0.38789801126027745,
          0.09767288988891892,
          -1.3640703521993343,
          1.3871828331113376,
          -0.339887497599879,
          0.6410865305435189,
          -0.10596461045588117,
          1.114632580477332,
          0.5887394941232663,
          0.44177588052267247,
          0.12993293999471517,
          -1.001727314146639,
          -0.7320765446444998,
          0.3202318776190888,
          1.163610560377854,
          0.04939823794477496,
          0.04223995029416441,
          -0.14567905816720583,
          0.36920980691186267,
          0.3773260968601199,
          -0.8496724441848096,
          0.2041626662514401,
          0.7618730607445849,
          -1.1507069986281788,
          0.6599107371136214,
          -0.06753929552515554,
          -1.2165069573838576,
          1.8987843998608216,
          -0.31490087940180644,
          0.3660743345820462,
          0.4218107956766632,
          0.3089912594501252,
          0.394789105793771,
          0.4253362614950715,
          1.660226841327557,
          -0.22761012389628388,
          -0.5069865734320621,
          -0.09445619273657074,
          1.1539355107601834,
          2.0500571926687705,
          -0.8948538495499534,
          0.8925199369923554,
          0.16043421919060608,
          0.4190797854967326,
          -1.1605531588840317,
          0.8533946459510025,
          1.0230756283887796,
          1.385085155070938,
          -4.433536853331192,
          -0.4836933956232965,
          -0.13250107547132398,
          -0.17499236765283083,
          -0.026059638174104723,
          -0.13890017489053902,
          -0.1953849616368364,
          0.3124549496360172,
          0.8958394835349717,
          0.009559555697668766,
          -0.6476092790134855
         ],
         "xaxis": "x12",
         "y": [
          -0.030841936520710423,
          -1.7897465844954101,
          0.33404857729631904,
          0.42957481394269537,
          1.3906679427925948,
          2.292633359034967,
          -0.7649790745758274,
          0.018126786175386135,
          -1.2706645279234314,
          -0.08426149632796881,
          0.07389371271328721,
          0.4243084993669805,
          -0.45464384933490637,
          -0.09473693777734563,
          0.03948991548022201,
          -0.37543131845098937,
          0.36294247945133895,
          0.7316061698865982,
          0.009311538500927507,
          0.01427552739454796,
          0.004373975200186838,
          0.8630383424204059,
          -0.5056348337641644,
          0.5952881803139014,
          -0.8591868262923849,
          -0.30517970825684787,
          0.18242953940181528,
          -0.937798674707065,
          -0.6987263821951233,
          0.5238960257688077,
          -0.48518372156003675,
          0.03146689657984299,
          -1.783826821471204,
          1.8763164275690554,
          1.1024227023493425,
          -1.374424585129283,
          1.327051208825934,
          1.6631033877268955,
          -0.5221836274219149,
          1.1790678399942525,
          0.20449931917440659,
          -0.7351507913998312,
          1.181331806951473,
          -0.6498461989231527,
          -0.561984383721052,
          -0.980958455737706,
          -0.9527489235554565,
          -0.3559026940821522,
          -1.7312463852737618,
          0.6003524590425994,
          -1.0011676580633053,
          0.27599291708270945,
          -1.0562305417097186,
          -1.8426355697171088,
          0.3820952216784,
          -1.3604752246569802,
          -0.3145948157468955,
          -0.7570896887087242,
          0.8407257362979608,
          -0.08334889085136048,
          -1.31888837125692,
          0.7077421503422455,
          1.5082924871792198,
          -0.10394197691061856,
          -0.5812564941032132,
          1.5742308084010164,
          -0.5459628896978114,
          1.182911260415,
          0.31165711404723745,
          0.5411365254188535,
          -0.9152362874791712,
          1.9486794223808281,
          -1.260161129482686,
          0.7143899005700038,
          1.1340389483026478,
          -0.217513783036078,
          -0.8809358145856119,
          0.7646336205622859,
          0.003658402843417368,
          1.0612831411933366,
          1.174055516773016,
          -0.8050002895921485,
          -1.9886559208325512,
          0.4993274729681875,
          -0.3561485718277287,
          -0.012824899034422837,
          0.8102233246215578,
          -0.8346862887134354,
          -1.0459324117012032,
          -0.46180759226587104,
          0.3757891945839428,
          -0.609346617161401,
          -1.318819973101796,
          -1.1054063168652104,
          -2.180036977980027,
          -0.40512129375765205,
          -1.0247128324872112,
          -1.282520781927594,
          0.3039137428223451,
          -1.1538024512803582
         ],
         "yaxis": "y12"
        },
        {
         "line": {
          "color": "rgba(128, 128, 128, 1.0)",
          "dash": "solid",
          "shape": "linear",
          "width": 1.3
         },
         "marker": {
          "size": 2,
          "symbol": "circle"
         },
         "mode": "markers",
         "name": "D",
         "text": "",
         "type": "scatter",
         "x": [
          0.7579169907008975,
          -0.8161547742370481,
          -1.0676658944274364,
          0.3492477357554279,
          0.3390648990769225,
          0.09742219321199275,
          -1.33055230754233,
          -0.12682840085417438,
          -0.25128864086285696,
          2.1115708861917555,
          -1.339406042465701,
          -0.347374481064104,
          -1.3794015617559465,
          0.23290287749488986,
          0.41586382257588445,
          -0.5975340305163689,
          0.4086109611770097,
          0.5472736736776053,
          0.13715433771920907,
          1.6032654886085844,
          -0.5658030710740445,
          0.4404707283859412,
          -0.33724279007117697,
          -0.060014931120361666,
          -0.055651249216383945,
          -0.4050924167306593,
          -0.5674351170616927,
          -1.4251007871026502,
          -0.8995319823222503,
          1.1062589503452354,
          -0.20382072046038863,
          -0.00010055195585183877,
          0.17696378540158358,
          0.7588837221366781,
          0.2521796539016003,
          0.2853964120837876,
          -0.16277726494508643,
          -0.38601143344105365,
          -1.0170379359384103,
          -0.3466500445108914,
          -1.5401398016670331,
          -0.535571994409165,
          -1.7075842134185053,
          0.5066193456872792,
          -1.1181765596137385,
          -0.07719660704485161,
          1.409412284069849,
          -0.5131803731783747,
          0.14512693266306823,
          2.6527272388996663,
          -0.24086569918403608,
          0.5802248482304968,
          -0.28805074414568127,
          -0.394646373523225,
          -0.18229447257056783,
          -0.7128994194693947,
          -0.1760753682112523,
          -0.03307361130640672,
          2.8949245145138893,
          1.4639937505591218,
          -1.1787561032149947,
          0.5080631908125035,
          0.7299226637744624,
          1.114971455912152,
          0.3670444793270461,
          -0.8986701651154719,
          0.10427824380549375,
          0.4926150883989747,
          0.50128685010186,
          0.1582082959286535,
          1.424381376073982,
          -0.7098519159265192,
          1.4343352301075223,
          0.8848001165715448,
          -0.3329297614837509,
          -0.09449322766838299,
          -1.4331704424392953,
          -2.3482367888755706,
          -0.4313472857630825,
          -0.6850394753749117,
          0.07373150250514426,
          1.5035838122434417,
          -1.0673400959574666,
          -0.1790479235488818,
          0.5497921570738876,
          -1.6569094570064595,
          0.6867680990971627,
          -1.5246247206548413,
          0.06523519227070403,
          -1.0893939851966334,
          -0.6426486274421239,
          -1.1784518458385573,
          1.4014189134269002,
          -1.6916384711818373,
          1.2564031949041172,
          0.9657713826538739,
          -0.3086420219503129,
          -0.3789089791792017,
          -0.30407623942767387,
          -0.2204677342273025
         ],
         "xaxis": "x13",
         "y": [
          0.06450635021046695,
          0.2596574522833259,
          1.0026143147803723,
          0.561642770158224,
          -0.3427874639302748,
          -0.9508333723957706,
          0.622800588343014,
          0.3125927148018621,
          1.1150879717363051,
          2.455851706634036,
          1.2742268799631815,
          1.154299919220273,
          -0.7942439680024461,
          -0.8644470781202114,
          -0.4168734520579206,
          -1.181803784199834,
          1.238433626346655,
          0.05372197763399264,
          0.34185576901013764,
          -1.4565659440581091,
          -0.1026818959296048,
          0.903541925904409,
          -0.8012528882328342,
          -1.0175719360567876,
          -2.7328299440970025,
          0.7148301356669923,
          -0.8239975679920563,
          -0.7576409674557157,
          -0.5693802501599392,
          -1.0556713820709995,
          -1.3705199522230866,
          -1.3560770882040558,
          0.7309342348001,
          -0.8703792444993791,
          0.09189649227909341,
          -0.3010341429755626,
          -0.3806964790753045,
          -1.2013579543332842,
          1.391184470518253,
          -1.8386086609074515,
          1.6546453153471088,
          -0.38789801126027745,
          0.09767288988891892,
          -1.3640703521993343,
          1.3871828331113376,
          -0.339887497599879,
          0.6410865305435189,
          -0.10596461045588117,
          1.114632580477332,
          0.5887394941232663,
          0.44177588052267247,
          0.12993293999471517,
          -1.001727314146639,
          -0.7320765446444998,
          0.3202318776190888,
          1.163610560377854,
          0.04939823794477496,
          0.04223995029416441,
          -0.14567905816720583,
          0.36920980691186267,
          0.3773260968601199,
          -0.8496724441848096,
          0.2041626662514401,
          0.7618730607445849,
          -1.1507069986281788,
          0.6599107371136214,
          -0.06753929552515554,
          -1.2165069573838576,
          1.8987843998608216,
          -0.31490087940180644,
          0.3660743345820462,
          0.4218107956766632,
          0.3089912594501252,
          0.394789105793771,
          0.4253362614950715,
          1.660226841327557,
          -0.22761012389628388,
          -0.5069865734320621,
          -0.09445619273657074,
          1.1539355107601834,
          2.0500571926687705,
          -0.8948538495499534,
          0.8925199369923554,
          0.16043421919060608,
          0.4190797854967326,
          -1.1605531588840317,
          0.8533946459510025,
          1.0230756283887796,
          1.385085155070938,
          -4.433536853331192,
          -0.4836933956232965,
          -0.13250107547132398,
          -0.17499236765283083,
          -0.026059638174104723,
          -0.13890017489053902,
          -0.1953849616368364,
          0.3124549496360172,
          0.8958394835349717,
          0.009559555697668766,
          -0.6476092790134855
         ],
         "yaxis": "y13"
        },
        {
         "line": {
          "color": "rgba(128, 128, 128, 1.0)",
          "dash": "solid",
          "shape": "linear",
          "width": 1.3
         },
         "marker": {
          "size": 2,
          "symbol": "circle"
         },
         "mode": "markers",
         "name": "D",
         "text": "",
         "type": "scatter",
         "x": [
          0.5684502720699256,
          0.5659318504590108,
          -0.19827760510486944,
          0.32983830760641514,
          0.5328299766395032,
          -2.6070863592723637,
          -1.498912957132498,
          0.38332965794274665,
          0.22264884897725187,
          -1.6528708786582085,
          -0.49870165714242487,
          -0.4786542575383392,
          1.072071747918505,
          0.30981640073313776,
          0.8935123571549635,
          -0.6819292753460076,
          0.4576173461547523,
          0.44311917309584925,
          -0.3834133487353966,
          0.24893642268377136,
          1.5725896637711498,
          2.5800447501566977,
          -0.031174073981630846,
          -0.527185533592221,
          0.25667482105584083,
          0.8323331450472324,
          -0.9568379443293512,
          0.14736685052680928,
          0.4953577645557132,
          1.127463897276566,
          0.1979067845689406,
          1.5849528203043828,
          -0.1747631695179193,
          0.9573789764398959,
          0.47436736441101895,
          -0.33127828318692876,
          0.7471120167436102,
          -2.022638281155942,
          2.0295295993715894,
          1.4420055066294375,
          -1.5295964399797681,
          1.8233838388928698,
          -0.7918471567136929,
          -1.7277233011088322,
          -0.625284887925668,
          0.8491625546406638,
          0.6780281200173601,
          -0.5141795457121822,
          -0.3431646995205548,
          1.5537837344549983,
          -0.3592575226298186,
          -1.200915218048695,
          0.447692552037646,
          -0.7291164997074,
          -0.0005065946840657674,
          -0.4437346151107805,
          0.15345808437672942,
          0.34710550181778704,
          1.7459026911646645,
          -1.3350888262495035,
          0.5533821815324313,
          0.253181086593142,
          -0.9589033870327761,
          0.4962013516394784,
          -0.16364535978691475,
          -0.5635106687798505,
          0.3874399481008401,
          -0.892203741798904,
          1.1650334107393163,
          0.047543043577904336,
          0.11249070564030511,
          0.09672797186554681,
          -0.8058650376771265,
          -0.583781575627234,
          1.038090201365297,
          -0.20666537242679023,
          -1.048021628407373,
          0.9899524366949004,
          0.7694913735559865,
          -0.22516987366451005,
          0.610271014996182,
          -1.199867464191324,
          -0.31217188679917635,
          0.9675753903319483,
          -2.0023223593090176,
          0.002514579727119917,
          1.4298377798004676,
          -0.9007516727608389,
          1.845629362612709,
          1.014157798755033,
          0.8562826331180223,
          0.1343851276353828,
          -1.5959146246492517,
          -0.0263178124517433,
          -0.8647975627911636,
          0.7729014273210385,
          -0.30570206339584927,
          0.6912959249022436,
          0.05769976468709154,
          0.37649442087166995
         ],
         "xaxis": "x14",
         "y": [
          0.06450635021046695,
          0.2596574522833259,
          1.0026143147803723,
          0.561642770158224,
          -0.3427874639302748,
          -0.9508333723957706,
          0.622800588343014,
          0.3125927148018621,
          1.1150879717363051,
          2.455851706634036,
          1.2742268799631815,
          1.154299919220273,
          -0.7942439680024461,
          -0.8644470781202114,
          -0.4168734520579206,
          -1.181803784199834,
          1.238433626346655,
          0.05372197763399264,
          0.34185576901013764,
          -1.4565659440581091,
          -0.1026818959296048,
          0.903541925904409,
          -0.8012528882328342,
          -1.0175719360567876,
          -2.7328299440970025,
          0.7148301356669923,
          -0.8239975679920563,
          -0.7576409674557157,
          -0.5693802501599392,
          -1.0556713820709995,
          -1.3705199522230866,
          -1.3560770882040558,
          0.7309342348001,
          -0.8703792444993791,
          0.09189649227909341,
          -0.3010341429755626,
          -0.3806964790753045,
          -1.2013579543332842,
          1.391184470518253,
          -1.8386086609074515,
          1.6546453153471088,
          -0.38789801126027745,
          0.09767288988891892,
          -1.3640703521993343,
          1.3871828331113376,
          -0.339887497599879,
          0.6410865305435189,
          -0.10596461045588117,
          1.114632580477332,
          0.5887394941232663,
          0.44177588052267247,
          0.12993293999471517,
          -1.001727314146639,
          -0.7320765446444998,
          0.3202318776190888,
          1.163610560377854,
          0.04939823794477496,
          0.04223995029416441,
          -0.14567905816720583,
          0.36920980691186267,
          0.3773260968601199,
          -0.8496724441848096,
          0.2041626662514401,
          0.7618730607445849,
          -1.1507069986281788,
          0.6599107371136214,
          -0.06753929552515554,
          -1.2165069573838576,
          1.8987843998608216,
          -0.31490087940180644,
          0.3660743345820462,
          0.4218107956766632,
          0.3089912594501252,
          0.394789105793771,
          0.4253362614950715,
          1.660226841327557,
          -0.22761012389628388,
          -0.5069865734320621,
          -0.09445619273657074,
          1.1539355107601834,
          2.0500571926687705,
          -0.8948538495499534,
          0.8925199369923554,
          0.16043421919060608,
          0.4190797854967326,
          -1.1605531588840317,
          0.8533946459510025,
          1.0230756283887796,
          1.385085155070938,
          -4.433536853331192,
          -0.4836933956232965,
          -0.13250107547132398,
          -0.17499236765283083,
          -0.026059638174104723,
          -0.13890017489053902,
          -0.1953849616368364,
          0.3124549496360172,
          0.8958394835349717,
          0.009559555697668766,
          -0.6476092790134855
         ],
         "yaxis": "y14"
        },
        {
         "line": {
          "color": "rgba(128, 128, 128, 1.0)",
          "dash": "solid",
          "shape": "linear",
          "width": 1.3
         },
         "marker": {
          "size": 2,
          "symbol": "circle"
         },
         "mode": "markers",
         "name": "D",
         "text": "",
         "type": "scatter",
         "x": [
          -0.030841936520710423,
          -1.7897465844954101,
          0.33404857729631904,
          0.42957481394269537,
          1.3906679427925948,
          2.292633359034967,
          -0.7649790745758274,
          0.018126786175386135,
          -1.2706645279234314,
          -0.08426149632796881,
          0.07389371271328721,
          0.4243084993669805,
          -0.45464384933490637,
          -0.09473693777734563,
          0.03948991548022201,
          -0.37543131845098937,
          0.36294247945133895,
          0.7316061698865982,
          0.009311538500927507,
          0.01427552739454796,
          0.004373975200186838,
          0.8630383424204059,
          -0.5056348337641644,
          0.5952881803139014,
          -0.8591868262923849,
          -0.30517970825684787,
          0.18242953940181528,
          -0.937798674707065,
          -0.6987263821951233,
          0.5238960257688077,
          -0.48518372156003675,
          0.03146689657984299,
          -1.783826821471204,
          1.8763164275690554,
          1.1024227023493425,
          -1.374424585129283,
          1.327051208825934,
          1.6631033877268955,
          -0.5221836274219149,
          1.1790678399942525,
          0.20449931917440659,
          -0.7351507913998312,
          1.181331806951473,
          -0.6498461989231527,
          -0.561984383721052,
          -0.980958455737706,
          -0.9527489235554565,
          -0.3559026940821522,
          -1.7312463852737618,
          0.6003524590425994,
          -1.0011676580633053,
          0.27599291708270945,
          -1.0562305417097186,
          -1.8426355697171088,
          0.3820952216784,
          -1.3604752246569802,
          -0.3145948157468955,
          -0.7570896887087242,
          0.8407257362979608,
          -0.08334889085136048,
          -1.31888837125692,
          0.7077421503422455,
          1.5082924871792198,
          -0.10394197691061856,
          -0.5812564941032132,
          1.5742308084010164,
          -0.5459628896978114,
          1.182911260415,
          0.31165711404723745,
          0.5411365254188535,
          -0.9152362874791712,
          1.9486794223808281,
          -1.260161129482686,
          0.7143899005700038,
          1.1340389483026478,
          -0.217513783036078,
          -0.8809358145856119,
          0.7646336205622859,
          0.003658402843417368,
          1.0612831411933366,
          1.174055516773016,
          -0.8050002895921485,
          -1.9886559208325512,
          0.4993274729681875,
          -0.3561485718277287,
          -0.012824899034422837,
          0.8102233246215578,
          -0.8346862887134354,
          -1.0459324117012032,
          -0.46180759226587104,
          0.3757891945839428,
          -0.609346617161401,
          -1.318819973101796,
          -1.1054063168652104,
          -2.180036977980027,
          -0.40512129375765205,
          -1.0247128324872112,
          -1.282520781927594,
          0.3039137428223451,
          -1.1538024512803582
         ],
         "xaxis": "x15",
         "y": [
          0.06450635021046695,
          0.2596574522833259,
          1.0026143147803723,
          0.561642770158224,
          -0.3427874639302748,
          -0.9508333723957706,
          0.622800588343014,
          0.3125927148018621,
          1.1150879717363051,
          2.455851706634036,
          1.2742268799631815,
          1.154299919220273,
          -0.7942439680024461,
          -0.8644470781202114,
          -0.4168734520579206,
          -1.181803784199834,
          1.238433626346655,
          0.05372197763399264,
          0.34185576901013764,
          -1.4565659440581091,
          -0.1026818959296048,
          0.903541925904409,
          -0.8012528882328342,
          -1.0175719360567876,
          -2.7328299440970025,
          0.7148301356669923,
          -0.8239975679920563,
          -0.7576409674557157,
          -0.5693802501599392,
          -1.0556713820709995,
          -1.3705199522230866,
          -1.3560770882040558,
          0.7309342348001,
          -0.8703792444993791,
          0.09189649227909341,
          -0.3010341429755626,
          -0.3806964790753045,
          -1.2013579543332842,
          1.391184470518253,
          -1.8386086609074515,
          1.6546453153471088,
          -0.38789801126027745,
          0.09767288988891892,
          -1.3640703521993343,
          1.3871828331113376,
          -0.339887497599879,
          0.6410865305435189,
          -0.10596461045588117,
          1.114632580477332,
          0.5887394941232663,
          0.44177588052267247,
          0.12993293999471517,
          -1.001727314146639,
          -0.7320765446444998,
          0.3202318776190888,
          1.163610560377854,
          0.04939823794477496,
          0.04223995029416441,
          -0.14567905816720583,
          0.36920980691186267,
          0.3773260968601199,
          -0.8496724441848096,
          0.2041626662514401,
          0.7618730607445849,
          -1.1507069986281788,
          0.6599107371136214,
          -0.06753929552515554,
          -1.2165069573838576,
          1.8987843998608216,
          -0.31490087940180644,
          0.3660743345820462,
          0.4218107956766632,
          0.3089912594501252,
          0.394789105793771,
          0.4253362614950715,
          1.660226841327557,
          -0.22761012389628388,
          -0.5069865734320621,
          -0.09445619273657074,
          1.1539355107601834,
          2.0500571926687705,
          -0.8948538495499534,
          0.8925199369923554,
          0.16043421919060608,
          0.4190797854967326,
          -1.1605531588840317,
          0.8533946459510025,
          1.0230756283887796,
          1.385085155070938,
          -4.433536853331192,
          -0.4836933956232965,
          -0.13250107547132398,
          -0.17499236765283083,
          -0.026059638174104723,
          -0.13890017489053902,
          -0.1953849616368364,
          0.3124549496360172,
          0.8958394835349717,
          0.009559555697668766,
          -0.6476092790134855
         ],
         "yaxis": "y15"
        },
        {
         "histfunc": "count",
         "histnorm": "",
         "marker": {
          "color": "rgba(128, 0, 128, 1.0)",
          "line": {
           "color": "#4D5663",
           "width": 1.3
          }
         },
         "name": "D",
         "nbinsx": 10,
         "opacity": 0.8,
         "orientation": "v",
         "type": "histogram",
         "x": [
          0.06450635021046695,
          0.2596574522833259,
          1.0026143147803723,
          0.561642770158224,
          -0.3427874639302748,
          -0.9508333723957706,
          0.622800588343014,
          0.3125927148018621,
          1.1150879717363051,
          2.455851706634036,
          1.2742268799631815,
          1.154299919220273,
          -0.7942439680024461,
          -0.8644470781202114,
          -0.4168734520579206,
          -1.181803784199834,
          1.238433626346655,
          0.05372197763399264,
          0.34185576901013764,
          -1.4565659440581091,
          -0.1026818959296048,
          0.903541925904409,
          -0.8012528882328342,
          -1.0175719360567876,
          -2.7328299440970025,
          0.7148301356669923,
          -0.8239975679920563,
          -0.7576409674557157,
          -0.5693802501599392,
          -1.0556713820709995,
          -1.3705199522230866,
          -1.3560770882040558,
          0.7309342348001,
          -0.8703792444993791,
          0.09189649227909341,
          -0.3010341429755626,
          -0.3806964790753045,
          -1.2013579543332842,
          1.391184470518253,
          -1.8386086609074515,
          1.6546453153471088,
          -0.38789801126027745,
          0.09767288988891892,
          -1.3640703521993343,
          1.3871828331113376,
          -0.339887497599879,
          0.6410865305435189,
          -0.10596461045588117,
          1.114632580477332,
          0.5887394941232663,
          0.44177588052267247,
          0.12993293999471517,
          -1.001727314146639,
          -0.7320765446444998,
          0.3202318776190888,
          1.163610560377854,
          0.04939823794477496,
          0.04223995029416441,
          -0.14567905816720583,
          0.36920980691186267,
          0.3773260968601199,
          -0.8496724441848096,
          0.2041626662514401,
          0.7618730607445849,
          -1.1507069986281788,
          0.6599107371136214,
          -0.06753929552515554,
          -1.2165069573838576,
          1.8987843998608216,
          -0.31490087940180644,
          0.3660743345820462,
          0.4218107956766632,
          0.3089912594501252,
          0.394789105793771,
          0.4253362614950715,
          1.660226841327557,
          -0.22761012389628388,
          -0.5069865734320621,
          -0.09445619273657074,
          1.1539355107601834,
          2.0500571926687705,
          -0.8948538495499534,
          0.8925199369923554,
          0.16043421919060608,
          0.4190797854967326,
          -1.1605531588840317,
          0.8533946459510025,
          1.0230756283887796,
          1.385085155070938,
          -4.433536853331192,
          -0.4836933956232965,
          -0.13250107547132398,
          -0.17499236765283083,
          -0.026059638174104723,
          -0.13890017489053902,
          -0.1953849616368364,
          0.3124549496360172,
          0.8958394835349717,
          0.009559555697668766,
          -0.6476092790134855
         ],
         "xaxis": "x16",
         "yaxis": "y16"
        }
       ],
       "layout": {
        "bargap": 0.02,
        "legend": {
         "bgcolor": "#F5F6F9",
         "font": {
          "color": "#4D5663"
         }
        },
        "paper_bgcolor": "#F5F6F9",
        "plot_bgcolor": "#F5F6F9",
        "showlegend": false,
        "template": {
         "data": {
          "bar": [
           {
            "error_x": {
             "color": "#2a3f5f"
            },
            "error_y": {
             "color": "#2a3f5f"
            },
            "marker": {
             "line": {
              "color": "#E5ECF6",
              "width": 0.5
             }
            },
            "type": "bar"
           }
          ],
          "barpolar": [
           {
            "marker": {
             "line": {
              "color": "#E5ECF6",
              "width": 0.5
             }
            },
            "type": "barpolar"
           }
          ],
          "carpet": [
           {
            "aaxis": {
             "endlinecolor": "#2a3f5f",
             "gridcolor": "white",
             "linecolor": "white",
             "minorgridcolor": "white",
             "startlinecolor": "#2a3f5f"
            },
            "baxis": {
             "endlinecolor": "#2a3f5f",
             "gridcolor": "white",
             "linecolor": "white",
             "minorgridcolor": "white",
             "startlinecolor": "#2a3f5f"
            },
            "type": "carpet"
           }
          ],
          "choropleth": [
           {
            "colorbar": {
             "outlinewidth": 0,
             "ticks": ""
            },
            "type": "choropleth"
           }
          ],
          "contour": [
           {
            "colorbar": {
             "outlinewidth": 0,
             "ticks": ""
            },
            "colorscale": [
             [
              0,
              "#0d0887"
             ],
             [
              0.1111111111111111,
              "#46039f"
             ],
             [
              0.2222222222222222,
              "#7201a8"
             ],
             [
              0.3333333333333333,
              "#9c179e"
             ],
             [
              0.4444444444444444,
              "#bd3786"
             ],
             [
              0.5555555555555556,
              "#d8576b"
             ],
             [
              0.6666666666666666,
              "#ed7953"
             ],
             [
              0.7777777777777778,
              "#fb9f3a"
             ],
             [
              0.8888888888888888,
              "#fdca26"
             ],
             [
              1,
              "#f0f921"
             ]
            ],
            "type": "contour"
           }
          ],
          "contourcarpet": [
           {
            "colorbar": {
             "outlinewidth": 0,
             "ticks": ""
            },
            "type": "contourcarpet"
           }
          ],
          "heatmap": [
           {
            "colorbar": {
             "outlinewidth": 0,
             "ticks": ""
            },
            "colorscale": [
             [
              0,
              "#0d0887"
             ],
             [
              0.1111111111111111,
              "#46039f"
             ],
             [
              0.2222222222222222,
              "#7201a8"
             ],
             [
              0.3333333333333333,
              "#9c179e"
             ],
             [
              0.4444444444444444,
              "#bd3786"
             ],
             [
              0.5555555555555556,
              "#d8576b"
             ],
             [
              0.6666666666666666,
              "#ed7953"
             ],
             [
              0.7777777777777778,
              "#fb9f3a"
             ],
             [
              0.8888888888888888,
              "#fdca26"
             ],
             [
              1,
              "#f0f921"
             ]
            ],
            "type": "heatmap"
           }
          ],
          "heatmapgl": [
           {
            "colorbar": {
             "outlinewidth": 0,
             "ticks": ""
            },
            "colorscale": [
             [
              0,
              "#0d0887"
             ],
             [
              0.1111111111111111,
              "#46039f"
             ],
             [
              0.2222222222222222,
              "#7201a8"
             ],
             [
              0.3333333333333333,
              "#9c179e"
             ],
             [
              0.4444444444444444,
              "#bd3786"
             ],
             [
              0.5555555555555556,
              "#d8576b"
             ],
             [
              0.6666666666666666,
              "#ed7953"
             ],
             [
              0.7777777777777778,
              "#fb9f3a"
             ],
             [
              0.8888888888888888,
              "#fdca26"
             ],
             [
              1,
              "#f0f921"
             ]
            ],
            "type": "heatmapgl"
           }
          ],
          "histogram": [
           {
            "marker": {
             "colorbar": {
              "outlinewidth": 0,
              "ticks": ""
             }
            },
            "type": "histogram"
           }
          ],
          "histogram2d": [
           {
            "colorbar": {
             "outlinewidth": 0,
             "ticks": ""
            },
            "colorscale": [
             [
              0,
              "#0d0887"
             ],
             [
              0.1111111111111111,
              "#46039f"
             ],
             [
              0.2222222222222222,
              "#7201a8"
             ],
             [
              0.3333333333333333,
              "#9c179e"
             ],
             [
              0.4444444444444444,
              "#bd3786"
             ],
             [
              0.5555555555555556,
              "#d8576b"
             ],
             [
              0.6666666666666666,
              "#ed7953"
             ],
             [
              0.7777777777777778,
              "#fb9f3a"
             ],
             [
              0.8888888888888888,
              "#fdca26"
             ],
             [
              1,
              "#f0f921"
             ]
            ],
            "type": "histogram2d"
           }
          ],
          "histogram2dcontour": [
           {
            "colorbar": {
             "outlinewidth": 0,
             "ticks": ""
            },
            "colorscale": [
             [
              0,
              "#0d0887"
             ],
             [
              0.1111111111111111,
              "#46039f"
             ],
             [
              0.2222222222222222,
              "#7201a8"
             ],
             [
              0.3333333333333333,
              "#9c179e"
             ],
             [
              0.4444444444444444,
              "#bd3786"
             ],
             [
              0.5555555555555556,
              "#d8576b"
             ],
             [
              0.6666666666666666,
              "#ed7953"
             ],
             [
              0.7777777777777778,
              "#fb9f3a"
             ],
             [
              0.8888888888888888,
              "#fdca26"
             ],
             [
              1,
              "#f0f921"
             ]
            ],
            "type": "histogram2dcontour"
           }
          ],
          "mesh3d": [
           {
            "colorbar": {
             "outlinewidth": 0,
             "ticks": ""
            },
            "type": "mesh3d"
           }
          ],
          "parcoords": [
           {
            "line": {
             "colorbar": {
              "outlinewidth": 0,
              "ticks": ""
             }
            },
            "type": "parcoords"
           }
          ],
          "pie": [
           {
            "automargin": true,
            "type": "pie"
           }
          ],
          "scatter": [
           {
            "marker": {
             "colorbar": {
              "outlinewidth": 0,
              "ticks": ""
             }
            },
            "type": "scatter"
           }
          ],
          "scatter3d": [
           {
            "line": {
             "colorbar": {
              "outlinewidth": 0,
              "ticks": ""
             }
            },
            "marker": {
             "colorbar": {
              "outlinewidth": 0,
              "ticks": ""
             }
            },
            "type": "scatter3d"
           }
          ],
          "scattercarpet": [
           {
            "marker": {
             "colorbar": {
              "outlinewidth": 0,
              "ticks": ""
             }
            },
            "type": "scattercarpet"
           }
          ],
          "scattergeo": [
           {
            "marker": {
             "colorbar": {
              "outlinewidth": 0,
              "ticks": ""
             }
            },
            "type": "scattergeo"
           }
          ],
          "scattergl": [
           {
            "marker": {
             "colorbar": {
              "outlinewidth": 0,
              "ticks": ""
             }
            },
            "type": "scattergl"
           }
          ],
          "scattermapbox": [
           {
            "marker": {
             "colorbar": {
              "outlinewidth": 0,
              "ticks": ""
             }
            },
            "type": "scattermapbox"
           }
          ],
          "scatterpolar": [
           {
            "marker": {
             "colorbar": {
              "outlinewidth": 0,
              "ticks": ""
             }
            },
            "type": "scatterpolar"
           }
          ],
          "scatterpolargl": [
           {
            "marker": {
             "colorbar": {
              "outlinewidth": 0,
              "ticks": ""
             }
            },
            "type": "scatterpolargl"
           }
          ],
          "scatterternary": [
           {
            "marker": {
             "colorbar": {
              "outlinewidth": 0,
              "ticks": ""
             }
            },
            "type": "scatterternary"
           }
          ],
          "surface": [
           {
            "colorbar": {
             "outlinewidth": 0,
             "ticks": ""
            },
            "colorscale": [
             [
              0,
              "#0d0887"
             ],
             [
              0.1111111111111111,
              "#46039f"
             ],
             [
              0.2222222222222222,
              "#7201a8"
             ],
             [
              0.3333333333333333,
              "#9c179e"
             ],
             [
              0.4444444444444444,
              "#bd3786"
             ],
             [
              0.5555555555555556,
              "#d8576b"
             ],
             [
              0.6666666666666666,
              "#ed7953"
             ],
             [
              0.7777777777777778,
              "#fb9f3a"
             ],
             [
              0.8888888888888888,
              "#fdca26"
             ],
             [
              1,
              "#f0f921"
             ]
            ],
            "type": "surface"
           }
          ],
          "table": [
           {
            "cells": {
             "fill": {
              "color": "#EBF0F8"
             },
             "line": {
              "color": "white"
             }
            },
            "header": {
             "fill": {
              "color": "#C8D4E3"
             },
             "line": {
              "color": "white"
             }
            },
            "type": "table"
           }
          ]
         },
         "layout": {
          "annotationdefaults": {
           "arrowcolor": "#2a3f5f",
           "arrowhead": 0,
           "arrowwidth": 1
          },
          "autotypenumbers": "strict",
          "coloraxis": {
           "colorbar": {
            "outlinewidth": 0,
            "ticks": ""
           }
          },
          "colorscale": {
           "diverging": [
            [
             0,
             "#8e0152"
            ],
            [
             0.1,
             "#c51b7d"
            ],
            [
             0.2,
             "#de77ae"
            ],
            [
             0.3,
             "#f1b6da"
            ],
            [
             0.4,
             "#fde0ef"
            ],
            [
             0.5,
             "#f7f7f7"
            ],
            [
             0.6,
             "#e6f5d0"
            ],
            [
             0.7,
             "#b8e186"
            ],
            [
             0.8,
             "#7fbc41"
            ],
            [
             0.9,
             "#4d9221"
            ],
            [
             1,
             "#276419"
            ]
           ],
           "sequential": [
            [
             0,
             "#0d0887"
            ],
            [
             0.1111111111111111,
             "#46039f"
            ],
            [
             0.2222222222222222,
             "#7201a8"
            ],
            [
             0.3333333333333333,
             "#9c179e"
            ],
            [
             0.4444444444444444,
             "#bd3786"
            ],
            [
             0.5555555555555556,
             "#d8576b"
            ],
            [
             0.6666666666666666,
             "#ed7953"
            ],
            [
             0.7777777777777778,
             "#fb9f3a"
            ],
            [
             0.8888888888888888,
             "#fdca26"
            ],
            [
             1,
             "#f0f921"
            ]
           ],
           "sequentialminus": [
            [
             0,
             "#0d0887"
            ],
            [
             0.1111111111111111,
             "#46039f"
            ],
            [
             0.2222222222222222,
             "#7201a8"
            ],
            [
             0.3333333333333333,
             "#9c179e"
            ],
            [
             0.4444444444444444,
             "#bd3786"
            ],
            [
             0.5555555555555556,
             "#d8576b"
            ],
            [
             0.6666666666666666,
             "#ed7953"
            ],
            [
             0.7777777777777778,
             "#fb9f3a"
            ],
            [
             0.8888888888888888,
             "#fdca26"
            ],
            [
             1,
             "#f0f921"
            ]
           ]
          },
          "colorway": [
           "#636efa",
           "#EF553B",
           "#00cc96",
           "#ab63fa",
           "#FFA15A",
           "#19d3f3",
           "#FF6692",
           "#B6E880",
           "#FF97FF",
           "#FECB52"
          ],
          "font": {
           "color": "#2a3f5f"
          },
          "geo": {
           "bgcolor": "white",
           "lakecolor": "white",
           "landcolor": "#E5ECF6",
           "showlakes": true,
           "showland": true,
           "subunitcolor": "white"
          },
          "hoverlabel": {
           "align": "left"
          },
          "hovermode": "closest",
          "mapbox": {
           "style": "light"
          },
          "paper_bgcolor": "white",
          "plot_bgcolor": "#E5ECF6",
          "polar": {
           "angularaxis": {
            "gridcolor": "white",
            "linecolor": "white",
            "ticks": ""
           },
           "bgcolor": "#E5ECF6",
           "radialaxis": {
            "gridcolor": "white",
            "linecolor": "white",
            "ticks": ""
           }
          },
          "scene": {
           "xaxis": {
            "backgroundcolor": "#E5ECF6",
            "gridcolor": "white",
            "gridwidth": 2,
            "linecolor": "white",
            "showbackground": true,
            "ticks": "",
            "zerolinecolor": "white"
           },
           "yaxis": {
            "backgroundcolor": "#E5ECF6",
            "gridcolor": "white",
            "gridwidth": 2,
            "linecolor": "white",
            "showbackground": true,
            "ticks": "",
            "zerolinecolor": "white"
           },
           "zaxis": {
            "backgroundcolor": "#E5ECF6",
            "gridcolor": "white",
            "gridwidth": 2,
            "linecolor": "white",
            "showbackground": true,
            "ticks": "",
            "zerolinecolor": "white"
           }
          },
          "shapedefaults": {
           "line": {
            "color": "#2a3f5f"
           }
          },
          "ternary": {
           "aaxis": {
            "gridcolor": "white",
            "linecolor": "white",
            "ticks": ""
           },
           "baxis": {
            "gridcolor": "white",
            "linecolor": "white",
            "ticks": ""
           },
           "bgcolor": "#E5ECF6",
           "caxis": {
            "gridcolor": "white",
            "linecolor": "white",
            "ticks": ""
           }
          },
          "title": {
           "x": 0.05
          },
          "xaxis": {
           "automargin": true,
           "gridcolor": "white",
           "linecolor": "white",
           "ticks": "",
           "title": {
            "standoff": 15
           },
           "zerolinecolor": "white",
           "zerolinewidth": 2
          },
          "yaxis": {
           "automargin": true,
           "gridcolor": "white",
           "linecolor": "white",
           "ticks": "",
           "title": {
            "standoff": 15
           },
           "zerolinecolor": "white",
           "zerolinewidth": 2
          }
         }
        },
        "title": {
         "font": {
          "color": "#4D5663"
         }
        },
        "xaxis": {
         "anchor": "y",
         "domain": [
          0,
          0.2125
         ],
         "gridcolor": "#E1E5ED",
         "showgrid": false,
         "tickfont": {
          "color": "#4D5663"
         },
         "title": {
          "font": {
           "color": "#4D5663"
          },
          "text": ""
         },
         "zerolinecolor": "#E1E5ED"
        },
        "xaxis10": {
         "anchor": "y10",
         "domain": [
          0.2625,
          0.475
         ],
         "gridcolor": "#E1E5ED",
         "showgrid": false,
         "tickfont": {
          "color": "#4D5663"
         },
         "title": {
          "font": {
           "color": "#4D5663"
          },
          "text": ""
         },
         "zerolinecolor": "#E1E5ED"
        },
        "xaxis11": {
         "anchor": "y11",
         "domain": [
          0.525,
          0.7375
         ],
         "gridcolor": "#E1E5ED",
         "showgrid": false,
         "tickfont": {
          "color": "#4D5663"
         },
         "title": {
          "font": {
           "color": "#4D5663"
          },
          "text": ""
         },
         "zerolinecolor": "#E1E5ED"
        },
        "xaxis12": {
         "anchor": "y12",
         "domain": [
          0.7875,
          1
         ],
         "gridcolor": "#E1E5ED",
         "showgrid": false,
         "tickfont": {
          "color": "#4D5663"
         },
         "title": {
          "font": {
           "color": "#4D5663"
          },
          "text": ""
         },
         "zerolinecolor": "#E1E5ED"
        },
        "xaxis13": {
         "anchor": "y13",
         "domain": [
          0,
          0.2125
         ],
         "gridcolor": "#E1E5ED",
         "showgrid": false,
         "tickfont": {
          "color": "#4D5663"
         },
         "title": {
          "font": {
           "color": "#4D5663"
          },
          "text": ""
         },
         "zerolinecolor": "#E1E5ED"
        },
        "xaxis14": {
         "anchor": "y14",
         "domain": [
          0.2625,
          0.475
         ],
         "gridcolor": "#E1E5ED",
         "showgrid": false,
         "tickfont": {
          "color": "#4D5663"
         },
         "title": {
          "font": {
           "color": "#4D5663"
          },
          "text": ""
         },
         "zerolinecolor": "#E1E5ED"
        },
        "xaxis15": {
         "anchor": "y15",
         "domain": [
          0.525,
          0.7375
         ],
         "gridcolor": "#E1E5ED",
         "showgrid": false,
         "tickfont": {
          "color": "#4D5663"
         },
         "title": {
          "font": {
           "color": "#4D5663"
          },
          "text": ""
         },
         "zerolinecolor": "#E1E5ED"
        },
        "xaxis16": {
         "anchor": "y16",
         "domain": [
          0.7875,
          1
         ],
         "gridcolor": "#E1E5ED",
         "showgrid": false,
         "tickfont": {
          "color": "#4D5663"
         },
         "title": {
          "font": {
           "color": "#4D5663"
          },
          "text": ""
         },
         "zerolinecolor": "#E1E5ED"
        },
        "xaxis2": {
         "anchor": "y2",
         "domain": [
          0.2625,
          0.475
         ],
         "gridcolor": "#E1E5ED",
         "showgrid": false,
         "tickfont": {
          "color": "#4D5663"
         },
         "title": {
          "font": {
           "color": "#4D5663"
          },
          "text": ""
         },
         "zerolinecolor": "#E1E5ED"
        },
        "xaxis3": {
         "anchor": "y3",
         "domain": [
          0.525,
          0.7375
         ],
         "gridcolor": "#E1E5ED",
         "showgrid": false,
         "tickfont": {
          "color": "#4D5663"
         },
         "title": {
          "font": {
           "color": "#4D5663"
          },
          "text": ""
         },
         "zerolinecolor": "#E1E5ED"
        },
        "xaxis4": {
         "anchor": "y4",
         "domain": [
          0.7875,
          1
         ],
         "gridcolor": "#E1E5ED",
         "showgrid": false,
         "tickfont": {
          "color": "#4D5663"
         },
         "title": {
          "font": {
           "color": "#4D5663"
          },
          "text": ""
         },
         "zerolinecolor": "#E1E5ED"
        },
        "xaxis5": {
         "anchor": "y5",
         "domain": [
          0,
          0.2125
         ],
         "gridcolor": "#E1E5ED",
         "showgrid": false,
         "tickfont": {
          "color": "#4D5663"
         },
         "title": {
          "font": {
           "color": "#4D5663"
          },
          "text": ""
         },
         "zerolinecolor": "#E1E5ED"
        },
        "xaxis6": {
         "anchor": "y6",
         "domain": [
          0.2625,
          0.475
         ],
         "gridcolor": "#E1E5ED",
         "showgrid": false,
         "tickfont": {
          "color": "#4D5663"
         },
         "title": {
          "font": {
           "color": "#4D5663"
          },
          "text": ""
         },
         "zerolinecolor": "#E1E5ED"
        },
        "xaxis7": {
         "anchor": "y7",
         "domain": [
          0.525,
          0.7375
         ],
         "gridcolor": "#E1E5ED",
         "showgrid": false,
         "tickfont": {
          "color": "#4D5663"
         },
         "title": {
          "font": {
           "color": "#4D5663"
          },
          "text": ""
         },
         "zerolinecolor": "#E1E5ED"
        },
        "xaxis8": {
         "anchor": "y8",
         "domain": [
          0.7875,
          1
         ],
         "gridcolor": "#E1E5ED",
         "showgrid": false,
         "tickfont": {
          "color": "#4D5663"
         },
         "title": {
          "font": {
           "color": "#4D5663"
          },
          "text": ""
         },
         "zerolinecolor": "#E1E5ED"
        },
        "xaxis9": {
         "anchor": "y9",
         "domain": [
          0,
          0.2125
         ],
         "gridcolor": "#E1E5ED",
         "showgrid": false,
         "tickfont": {
          "color": "#4D5663"
         },
         "title": {
          "font": {
           "color": "#4D5663"
          },
          "text": ""
         },
         "zerolinecolor": "#E1E5ED"
        },
        "yaxis": {
         "anchor": "x",
         "domain": [
          0.8025,
          1
         ],
         "gridcolor": "#E1E5ED",
         "showgrid": false,
         "tickfont": {
          "color": "#4D5663"
         },
         "title": {
          "font": {
           "color": "#4D5663"
          },
          "text": ""
         },
         "zerolinecolor": "#E1E5ED"
        },
        "yaxis10": {
         "anchor": "x10",
         "domain": [
          0.2675,
          0.465
         ],
         "gridcolor": "#E1E5ED",
         "showgrid": false,
         "tickfont": {
          "color": "#4D5663"
         },
         "title": {
          "font": {
           "color": "#4D5663"
          },
          "text": ""
         },
         "zerolinecolor": "#E1E5ED"
        },
        "yaxis11": {
         "anchor": "x11",
         "domain": [
          0.2675,
          0.465
         ],
         "gridcolor": "#E1E5ED",
         "showgrid": false,
         "tickfont": {
          "color": "#4D5663"
         },
         "title": {
          "font": {
           "color": "#4D5663"
          },
          "text": ""
         },
         "zerolinecolor": "#E1E5ED"
        },
        "yaxis12": {
         "anchor": "x12",
         "domain": [
          0.2675,
          0.465
         ],
         "gridcolor": "#E1E5ED",
         "showgrid": false,
         "tickfont": {
          "color": "#4D5663"
         },
         "title": {
          "font": {
           "color": "#4D5663"
          },
          "text": ""
         },
         "zerolinecolor": "#E1E5ED"
        },
        "yaxis13": {
         "anchor": "x13",
         "domain": [
          0,
          0.1975
         ],
         "gridcolor": "#E1E5ED",
         "showgrid": false,
         "tickfont": {
          "color": "#4D5663"
         },
         "title": {
          "font": {
           "color": "#4D5663"
          },
          "text": ""
         },
         "zerolinecolor": "#E1E5ED"
        },
        "yaxis14": {
         "anchor": "x14",
         "domain": [
          0,
          0.1975
         ],
         "gridcolor": "#E1E5ED",
         "showgrid": false,
         "tickfont": {
          "color": "#4D5663"
         },
         "title": {
          "font": {
           "color": "#4D5663"
          },
          "text": ""
         },
         "zerolinecolor": "#E1E5ED"
        },
        "yaxis15": {
         "anchor": "x15",
         "domain": [
          0,
          0.1975
         ],
         "gridcolor": "#E1E5ED",
         "showgrid": false,
         "tickfont": {
          "color": "#4D5663"
         },
         "title": {
          "font": {
           "color": "#4D5663"
          },
          "text": ""
         },
         "zerolinecolor": "#E1E5ED"
        },
        "yaxis16": {
         "anchor": "x16",
         "domain": [
          0,
          0.1975
         ],
         "gridcolor": "#E1E5ED",
         "showgrid": false,
         "tickfont": {
          "color": "#4D5663"
         },
         "title": {
          "font": {
           "color": "#4D5663"
          },
          "text": ""
         },
         "zerolinecolor": "#E1E5ED"
        },
        "yaxis2": {
         "anchor": "x2",
         "domain": [
          0.8025,
          1
         ],
         "gridcolor": "#E1E5ED",
         "showgrid": false,
         "tickfont": {
          "color": "#4D5663"
         },
         "title": {
          "font": {
           "color": "#4D5663"
          },
          "text": ""
         },
         "zerolinecolor": "#E1E5ED"
        },
        "yaxis3": {
         "anchor": "x3",
         "domain": [
          0.8025,
          1
         ],
         "gridcolor": "#E1E5ED",
         "showgrid": false,
         "tickfont": {
          "color": "#4D5663"
         },
         "title": {
          "font": {
           "color": "#4D5663"
          },
          "text": ""
         },
         "zerolinecolor": "#E1E5ED"
        },
        "yaxis4": {
         "anchor": "x4",
         "domain": [
          0.8025,
          1
         ],
         "gridcolor": "#E1E5ED",
         "showgrid": false,
         "tickfont": {
          "color": "#4D5663"
         },
         "title": {
          "font": {
           "color": "#4D5663"
          },
          "text": ""
         },
         "zerolinecolor": "#E1E5ED"
        },
        "yaxis5": {
         "anchor": "x5",
         "domain": [
          0.535,
          0.7325
         ],
         "gridcolor": "#E1E5ED",
         "showgrid": false,
         "tickfont": {
          "color": "#4D5663"
         },
         "title": {
          "font": {
           "color": "#4D5663"
          },
          "text": ""
         },
         "zerolinecolor": "#E1E5ED"
        },
        "yaxis6": {
         "anchor": "x6",
         "domain": [
          0.535,
          0.7325
         ],
         "gridcolor": "#E1E5ED",
         "showgrid": false,
         "tickfont": {
          "color": "#4D5663"
         },
         "title": {
          "font": {
           "color": "#4D5663"
          },
          "text": ""
         },
         "zerolinecolor": "#E1E5ED"
        },
        "yaxis7": {
         "anchor": "x7",
         "domain": [
          0.535,
          0.7325
         ],
         "gridcolor": "#E1E5ED",
         "showgrid": false,
         "tickfont": {
          "color": "#4D5663"
         },
         "title": {
          "font": {
           "color": "#4D5663"
          },
          "text": ""
         },
         "zerolinecolor": "#E1E5ED"
        },
        "yaxis8": {
         "anchor": "x8",
         "domain": [
          0.535,
          0.7325
         ],
         "gridcolor": "#E1E5ED",
         "showgrid": false,
         "tickfont": {
          "color": "#4D5663"
         },
         "title": {
          "font": {
           "color": "#4D5663"
          },
          "text": ""
         },
         "zerolinecolor": "#E1E5ED"
        },
        "yaxis9": {
         "anchor": "x9",
         "domain": [
          0.2675,
          0.465
         ],
         "gridcolor": "#E1E5ED",
         "showgrid": false,
         "tickfont": {
          "color": "#4D5663"
         },
         "title": {
          "font": {
           "color": "#4D5663"
          },
          "text": ""
         },
         "zerolinecolor": "#E1E5ED"
        }
       }
      },
      "text/html": [
       "<div>                            <div id=\"49b80d12-05df-4505-8d02-a2384d520c26\" class=\"plotly-graph-div\" style=\"height:525px; width:100%;\"></div>            <script type=\"text/javascript\">                require([\"plotly\"], function(Plotly) {                    window.PLOTLYENV=window.PLOTLYENV || {};\n",
       "                    window.PLOTLYENV.BASE_URL='https://plot.ly';                                    if (document.getElementById(\"49b80d12-05df-4505-8d02-a2384d520c26\")) {                    Plotly.newPlot(                        \"49b80d12-05df-4505-8d02-a2384d520c26\",                        [{\"histfunc\": \"count\", \"histnorm\": \"\", \"marker\": {\"color\": \"rgba(255, 153, 51, 1.0)\", \"line\": {\"color\": \"#4D5663\", \"width\": 1.3}}, \"name\": \"A\", \"nbinsx\": 10, \"opacity\": 0.8, \"orientation\": \"v\", \"type\": \"histogram\", \"x\": [0.7579169907008975, -0.8161547742370481, -1.0676658944274364, 0.3492477357554279, 0.3390648990769225, 0.09742219321199275, -1.33055230754233, -0.12682840085417438, -0.25128864086285696, 2.1115708861917555, -1.339406042465701, -0.347374481064104, -1.3794015617559465, 0.23290287749488986, 0.41586382257588445, -0.5975340305163689, 0.4086109611770097, 0.5472736736776053, 0.13715433771920907, 1.6032654886085844, -0.5658030710740445, 0.4404707283859412, -0.33724279007117697, -0.060014931120361666, -0.055651249216383945, -0.4050924167306593, -0.5674351170616927, -1.4251007871026502, -0.8995319823222503, 1.1062589503452354, -0.20382072046038863, -0.00010055195585183877, 0.17696378540158358, 0.7588837221366781, 0.2521796539016003, 0.2853964120837876, -0.16277726494508643, -0.38601143344105365, -1.0170379359384103, -0.3466500445108914, -1.5401398016670331, -0.535571994409165, -1.7075842134185053, 0.5066193456872792, -1.1181765596137385, -0.07719660704485161, 1.409412284069849, -0.5131803731783747, 0.14512693266306823, 2.6527272388996663, -0.24086569918403608, 0.5802248482304968, -0.28805074414568127, -0.394646373523225, -0.18229447257056783, -0.7128994194693947, -0.1760753682112523, -0.03307361130640672, 2.8949245145138893, 1.4639937505591218, -1.1787561032149947, 0.5080631908125035, 0.7299226637744624, 1.114971455912152, 0.3670444793270461, -0.8986701651154719, 0.10427824380549375, 0.4926150883989747, 0.50128685010186, 0.1582082959286535, 1.424381376073982, -0.7098519159265192, 1.4343352301075223, 0.8848001165715448, -0.3329297614837509, -0.09449322766838299, -1.4331704424392953, -2.3482367888755706, -0.4313472857630825, -0.6850394753749117, 0.07373150250514426, 1.5035838122434417, -1.0673400959574666, -0.1790479235488818, 0.5497921570738876, -1.6569094570064595, 0.6867680990971627, -1.5246247206548413, 0.06523519227070403, -1.0893939851966334, -0.6426486274421239, -1.1784518458385573, 1.4014189134269002, -1.6916384711818373, 1.2564031949041172, 0.9657713826538739, -0.3086420219503129, -0.3789089791792017, -0.30407623942767387, -0.2204677342273025], \"xaxis\": \"x\", \"yaxis\": \"y\"}, {\"line\": {\"color\": \"rgba(128, 128, 128, 1.0)\", \"dash\": \"solid\", \"shape\": \"linear\", \"width\": 1.3}, \"marker\": {\"size\": 2, \"symbol\": \"circle\"}, \"mode\": \"markers\", \"name\": \"A\", \"text\": \"\", \"type\": \"scatter\", \"x\": [0.5684502720699256, 0.5659318504590108, -0.19827760510486944, 0.32983830760641514, 0.5328299766395032, -2.6070863592723637, -1.498912957132498, 0.38332965794274665, 0.22264884897725187, -1.6528708786582085, -0.49870165714242487, -0.4786542575383392, 1.072071747918505, 0.30981640073313776, 0.8935123571549635, -0.6819292753460076, 0.4576173461547523, 0.44311917309584925, -0.3834133487353966, 0.24893642268377136, 1.5725896637711498, 2.5800447501566977, -0.031174073981630846, -0.527185533592221, 0.25667482105584083, 0.8323331450472324, -0.9568379443293512, 0.14736685052680928, 0.4953577645557132, 1.127463897276566, 0.1979067845689406, 1.5849528203043828, -0.1747631695179193, 0.9573789764398959, 0.47436736441101895, -0.33127828318692876, 0.7471120167436102, -2.022638281155942, 2.0295295993715894, 1.4420055066294375, -1.5295964399797681, 1.8233838388928698, -0.7918471567136929, -1.7277233011088322, -0.625284887925668, 0.8491625546406638, 0.6780281200173601, -0.5141795457121822, -0.3431646995205548, 1.5537837344549983, -0.3592575226298186, -1.200915218048695, 0.447692552037646, -0.7291164997074, -0.0005065946840657674, -0.4437346151107805, 0.15345808437672942, 0.34710550181778704, 1.7459026911646645, -1.3350888262495035, 0.5533821815324313, 0.253181086593142, -0.9589033870327761, 0.4962013516394784, -0.16364535978691475, -0.5635106687798505, 0.3874399481008401, -0.892203741798904, 1.1650334107393163, 0.047543043577904336, 0.11249070564030511, 0.09672797186554681, -0.8058650376771265, -0.583781575627234, 1.038090201365297, -0.20666537242679023, -1.048021628407373, 0.9899524366949004, 0.7694913735559865, -0.22516987366451005, 0.610271014996182, -1.199867464191324, -0.31217188679917635, 0.9675753903319483, -2.0023223593090176, 0.002514579727119917, 1.4298377798004676, -0.9007516727608389, 1.845629362612709, 1.014157798755033, 0.8562826331180223, 0.1343851276353828, -1.5959146246492517, -0.0263178124517433, -0.8647975627911636, 0.7729014273210385, -0.30570206339584927, 0.6912959249022436, 0.05769976468709154, 0.37649442087166995], \"xaxis\": \"x2\", \"y\": [0.7579169907008975, -0.8161547742370481, -1.0676658944274364, 0.3492477357554279, 0.3390648990769225, 0.09742219321199275, -1.33055230754233, -0.12682840085417438, -0.25128864086285696, 2.1115708861917555, -1.339406042465701, -0.347374481064104, -1.3794015617559465, 0.23290287749488986, 0.41586382257588445, -0.5975340305163689, 0.4086109611770097, 0.5472736736776053, 0.13715433771920907, 1.6032654886085844, -0.5658030710740445, 0.4404707283859412, -0.33724279007117697, -0.060014931120361666, -0.055651249216383945, -0.4050924167306593, -0.5674351170616927, -1.4251007871026502, -0.8995319823222503, 1.1062589503452354, -0.20382072046038863, -0.00010055195585183877, 0.17696378540158358, 0.7588837221366781, 0.2521796539016003, 0.2853964120837876, -0.16277726494508643, -0.38601143344105365, -1.0170379359384103, -0.3466500445108914, -1.5401398016670331, -0.535571994409165, -1.7075842134185053, 0.5066193456872792, -1.1181765596137385, -0.07719660704485161, 1.409412284069849, -0.5131803731783747, 0.14512693266306823, 2.6527272388996663, -0.24086569918403608, 0.5802248482304968, -0.28805074414568127, -0.394646373523225, -0.18229447257056783, -0.7128994194693947, -0.1760753682112523, -0.03307361130640672, 2.8949245145138893, 1.4639937505591218, -1.1787561032149947, 0.5080631908125035, 0.7299226637744624, 1.114971455912152, 0.3670444793270461, -0.8986701651154719, 0.10427824380549375, 0.4926150883989747, 0.50128685010186, 0.1582082959286535, 1.424381376073982, -0.7098519159265192, 1.4343352301075223, 0.8848001165715448, -0.3329297614837509, -0.09449322766838299, -1.4331704424392953, -2.3482367888755706, -0.4313472857630825, -0.6850394753749117, 0.07373150250514426, 1.5035838122434417, -1.0673400959574666, -0.1790479235488818, 0.5497921570738876, -1.6569094570064595, 0.6867680990971627, -1.5246247206548413, 0.06523519227070403, -1.0893939851966334, -0.6426486274421239, -1.1784518458385573, 1.4014189134269002, -1.6916384711818373, 1.2564031949041172, 0.9657713826538739, -0.3086420219503129, -0.3789089791792017, -0.30407623942767387, -0.2204677342273025], \"yaxis\": \"y2\"}, {\"line\": {\"color\": \"rgba(128, 128, 128, 1.0)\", \"dash\": \"solid\", \"shape\": \"linear\", \"width\": 1.3}, \"marker\": {\"size\": 2, \"symbol\": \"circle\"}, \"mode\": \"markers\", \"name\": \"A\", \"text\": \"\", \"type\": \"scatter\", \"x\": [-0.030841936520710423, -1.7897465844954101, 0.33404857729631904, 0.42957481394269537, 1.3906679427925948, 2.292633359034967, -0.7649790745758274, 0.018126786175386135, -1.2706645279234314, -0.08426149632796881, 0.07389371271328721, 0.4243084993669805, -0.45464384933490637, -0.09473693777734563, 0.03948991548022201, -0.37543131845098937, 0.36294247945133895, 0.7316061698865982, 0.009311538500927507, 0.01427552739454796, 0.004373975200186838, 0.8630383424204059, -0.5056348337641644, 0.5952881803139014, -0.8591868262923849, -0.30517970825684787, 0.18242953940181528, -0.937798674707065, -0.6987263821951233, 0.5238960257688077, -0.48518372156003675, 0.03146689657984299, -1.783826821471204, 1.8763164275690554, 1.1024227023493425, -1.374424585129283, 1.327051208825934, 1.6631033877268955, -0.5221836274219149, 1.1790678399942525, 0.20449931917440659, -0.7351507913998312, 1.181331806951473, -0.6498461989231527, -0.561984383721052, -0.980958455737706, -0.9527489235554565, -0.3559026940821522, -1.7312463852737618, 0.6003524590425994, -1.0011676580633053, 0.27599291708270945, -1.0562305417097186, -1.8426355697171088, 0.3820952216784, -1.3604752246569802, -0.3145948157468955, -0.7570896887087242, 0.8407257362979608, -0.08334889085136048, -1.31888837125692, 0.7077421503422455, 1.5082924871792198, -0.10394197691061856, -0.5812564941032132, 1.5742308084010164, -0.5459628896978114, 1.182911260415, 0.31165711404723745, 0.5411365254188535, -0.9152362874791712, 1.9486794223808281, -1.260161129482686, 0.7143899005700038, 1.1340389483026478, -0.217513783036078, -0.8809358145856119, 0.7646336205622859, 0.003658402843417368, 1.0612831411933366, 1.174055516773016, -0.8050002895921485, -1.9886559208325512, 0.4993274729681875, -0.3561485718277287, -0.012824899034422837, 0.8102233246215578, -0.8346862887134354, -1.0459324117012032, -0.46180759226587104, 0.3757891945839428, -0.609346617161401, -1.318819973101796, -1.1054063168652104, -2.180036977980027, -0.40512129375765205, -1.0247128324872112, -1.282520781927594, 0.3039137428223451, -1.1538024512803582], \"xaxis\": \"x3\", \"y\": [0.7579169907008975, -0.8161547742370481, -1.0676658944274364, 0.3492477357554279, 0.3390648990769225, 0.09742219321199275, -1.33055230754233, -0.12682840085417438, -0.25128864086285696, 2.1115708861917555, -1.339406042465701, -0.347374481064104, -1.3794015617559465, 0.23290287749488986, 0.41586382257588445, -0.5975340305163689, 0.4086109611770097, 0.5472736736776053, 0.13715433771920907, 1.6032654886085844, -0.5658030710740445, 0.4404707283859412, -0.33724279007117697, -0.060014931120361666, -0.055651249216383945, -0.4050924167306593, -0.5674351170616927, -1.4251007871026502, -0.8995319823222503, 1.1062589503452354, -0.20382072046038863, -0.00010055195585183877, 0.17696378540158358, 0.7588837221366781, 0.2521796539016003, 0.2853964120837876, -0.16277726494508643, -0.38601143344105365, -1.0170379359384103, -0.3466500445108914, -1.5401398016670331, -0.535571994409165, -1.7075842134185053, 0.5066193456872792, -1.1181765596137385, -0.07719660704485161, 1.409412284069849, -0.5131803731783747, 0.14512693266306823, 2.6527272388996663, -0.24086569918403608, 0.5802248482304968, -0.28805074414568127, -0.394646373523225, -0.18229447257056783, -0.7128994194693947, -0.1760753682112523, -0.03307361130640672, 2.8949245145138893, 1.4639937505591218, -1.1787561032149947, 0.5080631908125035, 0.7299226637744624, 1.114971455912152, 0.3670444793270461, -0.8986701651154719, 0.10427824380549375, 0.4926150883989747, 0.50128685010186, 0.1582082959286535, 1.424381376073982, -0.7098519159265192, 1.4343352301075223, 0.8848001165715448, -0.3329297614837509, -0.09449322766838299, -1.4331704424392953, -2.3482367888755706, -0.4313472857630825, -0.6850394753749117, 0.07373150250514426, 1.5035838122434417, -1.0673400959574666, -0.1790479235488818, 0.5497921570738876, -1.6569094570064595, 0.6867680990971627, -1.5246247206548413, 0.06523519227070403, -1.0893939851966334, -0.6426486274421239, -1.1784518458385573, 1.4014189134269002, -1.6916384711818373, 1.2564031949041172, 0.9657713826538739, -0.3086420219503129, -0.3789089791792017, -0.30407623942767387, -0.2204677342273025], \"yaxis\": \"y3\"}, {\"line\": {\"color\": \"rgba(128, 128, 128, 1.0)\", \"dash\": \"solid\", \"shape\": \"linear\", \"width\": 1.3}, \"marker\": {\"size\": 2, \"symbol\": \"circle\"}, \"mode\": \"markers\", \"name\": \"A\", \"text\": \"\", \"type\": \"scatter\", \"x\": [0.06450635021046695, 0.2596574522833259, 1.0026143147803723, 0.561642770158224, -0.3427874639302748, -0.9508333723957706, 0.622800588343014, 0.3125927148018621, 1.1150879717363051, 2.455851706634036, 1.2742268799631815, 1.154299919220273, -0.7942439680024461, -0.8644470781202114, -0.4168734520579206, -1.181803784199834, 1.238433626346655, 0.05372197763399264, 0.34185576901013764, -1.4565659440581091, -0.1026818959296048, 0.903541925904409, -0.8012528882328342, -1.0175719360567876, -2.7328299440970025, 0.7148301356669923, -0.8239975679920563, -0.7576409674557157, -0.5693802501599392, -1.0556713820709995, -1.3705199522230866, -1.3560770882040558, 0.7309342348001, -0.8703792444993791, 0.09189649227909341, -0.3010341429755626, -0.3806964790753045, -1.2013579543332842, 1.391184470518253, -1.8386086609074515, 1.6546453153471088, -0.38789801126027745, 0.09767288988891892, -1.3640703521993343, 1.3871828331113376, -0.339887497599879, 0.6410865305435189, -0.10596461045588117, 1.114632580477332, 0.5887394941232663, 0.44177588052267247, 0.12993293999471517, -1.001727314146639, -0.7320765446444998, 0.3202318776190888, 1.163610560377854, 0.04939823794477496, 0.04223995029416441, -0.14567905816720583, 0.36920980691186267, 0.3773260968601199, -0.8496724441848096, 0.2041626662514401, 0.7618730607445849, -1.1507069986281788, 0.6599107371136214, -0.06753929552515554, -1.2165069573838576, 1.8987843998608216, -0.31490087940180644, 0.3660743345820462, 0.4218107956766632, 0.3089912594501252, 0.394789105793771, 0.4253362614950715, 1.660226841327557, -0.22761012389628388, -0.5069865734320621, -0.09445619273657074, 1.1539355107601834, 2.0500571926687705, -0.8948538495499534, 0.8925199369923554, 0.16043421919060608, 0.4190797854967326, -1.1605531588840317, 0.8533946459510025, 1.0230756283887796, 1.385085155070938, -4.433536853331192, -0.4836933956232965, -0.13250107547132398, -0.17499236765283083, -0.026059638174104723, -0.13890017489053902, -0.1953849616368364, 0.3124549496360172, 0.8958394835349717, 0.009559555697668766, -0.6476092790134855], \"xaxis\": \"x4\", \"y\": [0.7579169907008975, -0.8161547742370481, -1.0676658944274364, 0.3492477357554279, 0.3390648990769225, 0.09742219321199275, -1.33055230754233, -0.12682840085417438, -0.25128864086285696, 2.1115708861917555, -1.339406042465701, -0.347374481064104, -1.3794015617559465, 0.23290287749488986, 0.41586382257588445, -0.5975340305163689, 0.4086109611770097, 0.5472736736776053, 0.13715433771920907, 1.6032654886085844, -0.5658030710740445, 0.4404707283859412, -0.33724279007117697, -0.060014931120361666, -0.055651249216383945, -0.4050924167306593, -0.5674351170616927, -1.4251007871026502, -0.8995319823222503, 1.1062589503452354, -0.20382072046038863, -0.00010055195585183877, 0.17696378540158358, 0.7588837221366781, 0.2521796539016003, 0.2853964120837876, -0.16277726494508643, -0.38601143344105365, -1.0170379359384103, -0.3466500445108914, -1.5401398016670331, -0.535571994409165, -1.7075842134185053, 0.5066193456872792, -1.1181765596137385, -0.07719660704485161, 1.409412284069849, -0.5131803731783747, 0.14512693266306823, 2.6527272388996663, -0.24086569918403608, 0.5802248482304968, -0.28805074414568127, -0.394646373523225, -0.18229447257056783, -0.7128994194693947, -0.1760753682112523, -0.03307361130640672, 2.8949245145138893, 1.4639937505591218, -1.1787561032149947, 0.5080631908125035, 0.7299226637744624, 1.114971455912152, 0.3670444793270461, -0.8986701651154719, 0.10427824380549375, 0.4926150883989747, 0.50128685010186, 0.1582082959286535, 1.424381376073982, -0.7098519159265192, 1.4343352301075223, 0.8848001165715448, -0.3329297614837509, -0.09449322766838299, -1.4331704424392953, -2.3482367888755706, -0.4313472857630825, -0.6850394753749117, 0.07373150250514426, 1.5035838122434417, -1.0673400959574666, -0.1790479235488818, 0.5497921570738876, -1.6569094570064595, 0.6867680990971627, -1.5246247206548413, 0.06523519227070403, -1.0893939851966334, -0.6426486274421239, -1.1784518458385573, 1.4014189134269002, -1.6916384711818373, 1.2564031949041172, 0.9657713826538739, -0.3086420219503129, -0.3789089791792017, -0.30407623942767387, -0.2204677342273025], \"yaxis\": \"y4\"}, {\"line\": {\"color\": \"rgba(128, 128, 128, 1.0)\", \"dash\": \"solid\", \"shape\": \"linear\", \"width\": 1.3}, \"marker\": {\"size\": 2, \"symbol\": \"circle\"}, \"mode\": \"markers\", \"name\": \"B\", \"text\": \"\", \"type\": \"scatter\", \"x\": [0.7579169907008975, -0.8161547742370481, -1.0676658944274364, 0.3492477357554279, 0.3390648990769225, 0.09742219321199275, -1.33055230754233, -0.12682840085417438, -0.25128864086285696, 2.1115708861917555, -1.339406042465701, -0.347374481064104, -1.3794015617559465, 0.23290287749488986, 0.41586382257588445, -0.5975340305163689, 0.4086109611770097, 0.5472736736776053, 0.13715433771920907, 1.6032654886085844, -0.5658030710740445, 0.4404707283859412, -0.33724279007117697, -0.060014931120361666, -0.055651249216383945, -0.4050924167306593, -0.5674351170616927, -1.4251007871026502, -0.8995319823222503, 1.1062589503452354, -0.20382072046038863, -0.00010055195585183877, 0.17696378540158358, 0.7588837221366781, 0.2521796539016003, 0.2853964120837876, -0.16277726494508643, -0.38601143344105365, -1.0170379359384103, -0.3466500445108914, -1.5401398016670331, -0.535571994409165, -1.7075842134185053, 0.5066193456872792, -1.1181765596137385, -0.07719660704485161, 1.409412284069849, -0.5131803731783747, 0.14512693266306823, 2.6527272388996663, -0.24086569918403608, 0.5802248482304968, -0.28805074414568127, -0.394646373523225, -0.18229447257056783, -0.7128994194693947, -0.1760753682112523, -0.03307361130640672, 2.8949245145138893, 1.4639937505591218, -1.1787561032149947, 0.5080631908125035, 0.7299226637744624, 1.114971455912152, 0.3670444793270461, -0.8986701651154719, 0.10427824380549375, 0.4926150883989747, 0.50128685010186, 0.1582082959286535, 1.424381376073982, -0.7098519159265192, 1.4343352301075223, 0.8848001165715448, -0.3329297614837509, -0.09449322766838299, -1.4331704424392953, -2.3482367888755706, -0.4313472857630825, -0.6850394753749117, 0.07373150250514426, 1.5035838122434417, -1.0673400959574666, -0.1790479235488818, 0.5497921570738876, -1.6569094570064595, 0.6867680990971627, -1.5246247206548413, 0.06523519227070403, -1.0893939851966334, -0.6426486274421239, -1.1784518458385573, 1.4014189134269002, -1.6916384711818373, 1.2564031949041172, 0.9657713826538739, -0.3086420219503129, -0.3789089791792017, -0.30407623942767387, -0.2204677342273025], \"xaxis\": \"x5\", \"y\": [0.5684502720699256, 0.5659318504590108, -0.19827760510486944, 0.32983830760641514, 0.5328299766395032, -2.6070863592723637, -1.498912957132498, 0.38332965794274665, 0.22264884897725187, -1.6528708786582085, -0.49870165714242487, -0.4786542575383392, 1.072071747918505, 0.30981640073313776, 0.8935123571549635, -0.6819292753460076, 0.4576173461547523, 0.44311917309584925, -0.3834133487353966, 0.24893642268377136, 1.5725896637711498, 2.5800447501566977, -0.031174073981630846, -0.527185533592221, 0.25667482105584083, 0.8323331450472324, -0.9568379443293512, 0.14736685052680928, 0.4953577645557132, 1.127463897276566, 0.1979067845689406, 1.5849528203043828, -0.1747631695179193, 0.9573789764398959, 0.47436736441101895, -0.33127828318692876, 0.7471120167436102, -2.022638281155942, 2.0295295993715894, 1.4420055066294375, -1.5295964399797681, 1.8233838388928698, -0.7918471567136929, -1.7277233011088322, -0.625284887925668, 0.8491625546406638, 0.6780281200173601, -0.5141795457121822, -0.3431646995205548, 1.5537837344549983, -0.3592575226298186, -1.200915218048695, 0.447692552037646, -0.7291164997074, -0.0005065946840657674, -0.4437346151107805, 0.15345808437672942, 0.34710550181778704, 1.7459026911646645, -1.3350888262495035, 0.5533821815324313, 0.253181086593142, -0.9589033870327761, 0.4962013516394784, -0.16364535978691475, -0.5635106687798505, 0.3874399481008401, -0.892203741798904, 1.1650334107393163, 0.047543043577904336, 0.11249070564030511, 0.09672797186554681, -0.8058650376771265, -0.583781575627234, 1.038090201365297, -0.20666537242679023, -1.048021628407373, 0.9899524366949004, 0.7694913735559865, -0.22516987366451005, 0.610271014996182, -1.199867464191324, -0.31217188679917635, 0.9675753903319483, -2.0023223593090176, 0.002514579727119917, 1.4298377798004676, -0.9007516727608389, 1.845629362612709, 1.014157798755033, 0.8562826331180223, 0.1343851276353828, -1.5959146246492517, -0.0263178124517433, -0.8647975627911636, 0.7729014273210385, -0.30570206339584927, 0.6912959249022436, 0.05769976468709154, 0.37649442087166995], \"yaxis\": \"y5\"}, {\"histfunc\": \"count\", \"histnorm\": \"\", \"marker\": {\"color\": \"rgba(55, 128, 191, 1.0)\", \"line\": {\"color\": \"#4D5663\", \"width\": 1.3}}, \"name\": \"B\", \"nbinsx\": 10, \"opacity\": 0.8, \"orientation\": \"v\", \"type\": \"histogram\", \"x\": [0.5684502720699256, 0.5659318504590108, -0.19827760510486944, 0.32983830760641514, 0.5328299766395032, -2.6070863592723637, -1.498912957132498, 0.38332965794274665, 0.22264884897725187, -1.6528708786582085, -0.49870165714242487, -0.4786542575383392, 1.072071747918505, 0.30981640073313776, 0.8935123571549635, -0.6819292753460076, 0.4576173461547523, 0.44311917309584925, -0.3834133487353966, 0.24893642268377136, 1.5725896637711498, 2.5800447501566977, -0.031174073981630846, -0.527185533592221, 0.25667482105584083, 0.8323331450472324, -0.9568379443293512, 0.14736685052680928, 0.4953577645557132, 1.127463897276566, 0.1979067845689406, 1.5849528203043828, -0.1747631695179193, 0.9573789764398959, 0.47436736441101895, -0.33127828318692876, 0.7471120167436102, -2.022638281155942, 2.0295295993715894, 1.4420055066294375, -1.5295964399797681, 1.8233838388928698, -0.7918471567136929, -1.7277233011088322, -0.625284887925668, 0.8491625546406638, 0.6780281200173601, -0.5141795457121822, -0.3431646995205548, 1.5537837344549983, -0.3592575226298186, -1.200915218048695, 0.447692552037646, -0.7291164997074, -0.0005065946840657674, -0.4437346151107805, 0.15345808437672942, 0.34710550181778704, 1.7459026911646645, -1.3350888262495035, 0.5533821815324313, 0.253181086593142, -0.9589033870327761, 0.4962013516394784, -0.16364535978691475, -0.5635106687798505, 0.3874399481008401, -0.892203741798904, 1.1650334107393163, 0.047543043577904336, 0.11249070564030511, 0.09672797186554681, -0.8058650376771265, -0.583781575627234, 1.038090201365297, -0.20666537242679023, -1.048021628407373, 0.9899524366949004, 0.7694913735559865, -0.22516987366451005, 0.610271014996182, -1.199867464191324, -0.31217188679917635, 0.9675753903319483, -2.0023223593090176, 0.002514579727119917, 1.4298377798004676, -0.9007516727608389, 1.845629362612709, 1.014157798755033, 0.8562826331180223, 0.1343851276353828, -1.5959146246492517, -0.0263178124517433, -0.8647975627911636, 0.7729014273210385, -0.30570206339584927, 0.6912959249022436, 0.05769976468709154, 0.37649442087166995], \"xaxis\": \"x6\", \"yaxis\": \"y6\"}, {\"line\": {\"color\": \"rgba(128, 128, 128, 1.0)\", \"dash\": \"solid\", \"shape\": \"linear\", \"width\": 1.3}, \"marker\": {\"size\": 2, \"symbol\": \"circle\"}, \"mode\": \"markers\", \"name\": \"B\", \"text\": \"\", \"type\": \"scatter\", \"x\": [-0.030841936520710423, -1.7897465844954101, 0.33404857729631904, 0.42957481394269537, 1.3906679427925948, 2.292633359034967, -0.7649790745758274, 0.018126786175386135, -1.2706645279234314, -0.08426149632796881, 0.07389371271328721, 0.4243084993669805, -0.45464384933490637, -0.09473693777734563, 0.03948991548022201, -0.37543131845098937, 0.36294247945133895, 0.7316061698865982, 0.009311538500927507, 0.01427552739454796, 0.004373975200186838, 0.8630383424204059, -0.5056348337641644, 0.5952881803139014, -0.8591868262923849, -0.30517970825684787, 0.18242953940181528, -0.937798674707065, -0.6987263821951233, 0.5238960257688077, -0.48518372156003675, 0.03146689657984299, -1.783826821471204, 1.8763164275690554, 1.1024227023493425, -1.374424585129283, 1.327051208825934, 1.6631033877268955, -0.5221836274219149, 1.1790678399942525, 0.20449931917440659, -0.7351507913998312, 1.181331806951473, -0.6498461989231527, -0.561984383721052, -0.980958455737706, -0.9527489235554565, -0.3559026940821522, -1.7312463852737618, 0.6003524590425994, -1.0011676580633053, 0.27599291708270945, -1.0562305417097186, -1.8426355697171088, 0.3820952216784, -1.3604752246569802, -0.3145948157468955, -0.7570896887087242, 0.8407257362979608, -0.08334889085136048, -1.31888837125692, 0.7077421503422455, 1.5082924871792198, -0.10394197691061856, -0.5812564941032132, 1.5742308084010164, -0.5459628896978114, 1.182911260415, 0.31165711404723745, 0.5411365254188535, -0.9152362874791712, 1.9486794223808281, -1.260161129482686, 0.7143899005700038, 1.1340389483026478, -0.217513783036078, -0.8809358145856119, 0.7646336205622859, 0.003658402843417368, 1.0612831411933366, 1.174055516773016, -0.8050002895921485, -1.9886559208325512, 0.4993274729681875, -0.3561485718277287, -0.012824899034422837, 0.8102233246215578, -0.8346862887134354, -1.0459324117012032, -0.46180759226587104, 0.3757891945839428, -0.609346617161401, -1.318819973101796, -1.1054063168652104, -2.180036977980027, -0.40512129375765205, -1.0247128324872112, -1.282520781927594, 0.3039137428223451, -1.1538024512803582], \"xaxis\": \"x7\", \"y\": [0.5684502720699256, 0.5659318504590108, -0.19827760510486944, 0.32983830760641514, 0.5328299766395032, -2.6070863592723637, -1.498912957132498, 0.38332965794274665, 0.22264884897725187, -1.6528708786582085, -0.49870165714242487, -0.4786542575383392, 1.072071747918505, 0.30981640073313776, 0.8935123571549635, -0.6819292753460076, 0.4576173461547523, 0.44311917309584925, -0.3834133487353966, 0.24893642268377136, 1.5725896637711498, 2.5800447501566977, -0.031174073981630846, -0.527185533592221, 0.25667482105584083, 0.8323331450472324, -0.9568379443293512, 0.14736685052680928, 0.4953577645557132, 1.127463897276566, 0.1979067845689406, 1.5849528203043828, -0.1747631695179193, 0.9573789764398959, 0.47436736441101895, -0.33127828318692876, 0.7471120167436102, -2.022638281155942, 2.0295295993715894, 1.4420055066294375, -1.5295964399797681, 1.8233838388928698, -0.7918471567136929, -1.7277233011088322, -0.625284887925668, 0.8491625546406638, 0.6780281200173601, -0.5141795457121822, -0.3431646995205548, 1.5537837344549983, -0.3592575226298186, -1.200915218048695, 0.447692552037646, -0.7291164997074, -0.0005065946840657674, -0.4437346151107805, 0.15345808437672942, 0.34710550181778704, 1.7459026911646645, -1.3350888262495035, 0.5533821815324313, 0.253181086593142, -0.9589033870327761, 0.4962013516394784, -0.16364535978691475, -0.5635106687798505, 0.3874399481008401, -0.892203741798904, 1.1650334107393163, 0.047543043577904336, 0.11249070564030511, 0.09672797186554681, -0.8058650376771265, -0.583781575627234, 1.038090201365297, -0.20666537242679023, -1.048021628407373, 0.9899524366949004, 0.7694913735559865, -0.22516987366451005, 0.610271014996182, -1.199867464191324, -0.31217188679917635, 0.9675753903319483, -2.0023223593090176, 0.002514579727119917, 1.4298377798004676, -0.9007516727608389, 1.845629362612709, 1.014157798755033, 0.8562826331180223, 0.1343851276353828, -1.5959146246492517, -0.0263178124517433, -0.8647975627911636, 0.7729014273210385, -0.30570206339584927, 0.6912959249022436, 0.05769976468709154, 0.37649442087166995], \"yaxis\": \"y7\"}, {\"line\": {\"color\": \"rgba(128, 128, 128, 1.0)\", \"dash\": \"solid\", \"shape\": \"linear\", \"width\": 1.3}, \"marker\": {\"size\": 2, \"symbol\": \"circle\"}, \"mode\": \"markers\", \"name\": \"B\", \"text\": \"\", \"type\": \"scatter\", \"x\": [0.06450635021046695, 0.2596574522833259, 1.0026143147803723, 0.561642770158224, -0.3427874639302748, -0.9508333723957706, 0.622800588343014, 0.3125927148018621, 1.1150879717363051, 2.455851706634036, 1.2742268799631815, 1.154299919220273, -0.7942439680024461, -0.8644470781202114, -0.4168734520579206, -1.181803784199834, 1.238433626346655, 0.05372197763399264, 0.34185576901013764, -1.4565659440581091, -0.1026818959296048, 0.903541925904409, -0.8012528882328342, -1.0175719360567876, -2.7328299440970025, 0.7148301356669923, -0.8239975679920563, -0.7576409674557157, -0.5693802501599392, -1.0556713820709995, -1.3705199522230866, -1.3560770882040558, 0.7309342348001, -0.8703792444993791, 0.09189649227909341, -0.3010341429755626, -0.3806964790753045, -1.2013579543332842, 1.391184470518253, -1.8386086609074515, 1.6546453153471088, -0.38789801126027745, 0.09767288988891892, -1.3640703521993343, 1.3871828331113376, -0.339887497599879, 0.6410865305435189, -0.10596461045588117, 1.114632580477332, 0.5887394941232663, 0.44177588052267247, 0.12993293999471517, -1.001727314146639, -0.7320765446444998, 0.3202318776190888, 1.163610560377854, 0.04939823794477496, 0.04223995029416441, -0.14567905816720583, 0.36920980691186267, 0.3773260968601199, -0.8496724441848096, 0.2041626662514401, 0.7618730607445849, -1.1507069986281788, 0.6599107371136214, -0.06753929552515554, -1.2165069573838576, 1.8987843998608216, -0.31490087940180644, 0.3660743345820462, 0.4218107956766632, 0.3089912594501252, 0.394789105793771, 0.4253362614950715, 1.660226841327557, -0.22761012389628388, -0.5069865734320621, -0.09445619273657074, 1.1539355107601834, 2.0500571926687705, -0.8948538495499534, 0.8925199369923554, 0.16043421919060608, 0.4190797854967326, -1.1605531588840317, 0.8533946459510025, 1.0230756283887796, 1.385085155070938, -4.433536853331192, -0.4836933956232965, -0.13250107547132398, -0.17499236765283083, -0.026059638174104723, -0.13890017489053902, -0.1953849616368364, 0.3124549496360172, 0.8958394835349717, 0.009559555697668766, -0.6476092790134855], \"xaxis\": \"x8\", \"y\": [0.5684502720699256, 0.5659318504590108, -0.19827760510486944, 0.32983830760641514, 0.5328299766395032, -2.6070863592723637, -1.498912957132498, 0.38332965794274665, 0.22264884897725187, -1.6528708786582085, -0.49870165714242487, -0.4786542575383392, 1.072071747918505, 0.30981640073313776, 0.8935123571549635, -0.6819292753460076, 0.4576173461547523, 0.44311917309584925, -0.3834133487353966, 0.24893642268377136, 1.5725896637711498, 2.5800447501566977, -0.031174073981630846, -0.527185533592221, 0.25667482105584083, 0.8323331450472324, -0.9568379443293512, 0.14736685052680928, 0.4953577645557132, 1.127463897276566, 0.1979067845689406, 1.5849528203043828, -0.1747631695179193, 0.9573789764398959, 0.47436736441101895, -0.33127828318692876, 0.7471120167436102, -2.022638281155942, 2.0295295993715894, 1.4420055066294375, -1.5295964399797681, 1.8233838388928698, -0.7918471567136929, -1.7277233011088322, -0.625284887925668, 0.8491625546406638, 0.6780281200173601, -0.5141795457121822, -0.3431646995205548, 1.5537837344549983, -0.3592575226298186, -1.200915218048695, 0.447692552037646, -0.7291164997074, -0.0005065946840657674, -0.4437346151107805, 0.15345808437672942, 0.34710550181778704, 1.7459026911646645, -1.3350888262495035, 0.5533821815324313, 0.253181086593142, -0.9589033870327761, 0.4962013516394784, -0.16364535978691475, -0.5635106687798505, 0.3874399481008401, -0.892203741798904, 1.1650334107393163, 0.047543043577904336, 0.11249070564030511, 0.09672797186554681, -0.8058650376771265, -0.583781575627234, 1.038090201365297, -0.20666537242679023, -1.048021628407373, 0.9899524366949004, 0.7694913735559865, -0.22516987366451005, 0.610271014996182, -1.199867464191324, -0.31217188679917635, 0.9675753903319483, -2.0023223593090176, 0.002514579727119917, 1.4298377798004676, -0.9007516727608389, 1.845629362612709, 1.014157798755033, 0.8562826331180223, 0.1343851276353828, -1.5959146246492517, -0.0263178124517433, -0.8647975627911636, 0.7729014273210385, -0.30570206339584927, 0.6912959249022436, 0.05769976468709154, 0.37649442087166995], \"yaxis\": \"y8\"}, {\"line\": {\"color\": \"rgba(128, 128, 128, 1.0)\", \"dash\": \"solid\", \"shape\": \"linear\", \"width\": 1.3}, \"marker\": {\"size\": 2, \"symbol\": \"circle\"}, \"mode\": \"markers\", \"name\": \"C\", \"text\": \"\", \"type\": \"scatter\", \"x\": [0.7579169907008975, -0.8161547742370481, -1.0676658944274364, 0.3492477357554279, 0.3390648990769225, 0.09742219321199275, -1.33055230754233, -0.12682840085417438, -0.25128864086285696, 2.1115708861917555, -1.339406042465701, -0.347374481064104, -1.3794015617559465, 0.23290287749488986, 0.41586382257588445, -0.5975340305163689, 0.4086109611770097, 0.5472736736776053, 0.13715433771920907, 1.6032654886085844, -0.5658030710740445, 0.4404707283859412, -0.33724279007117697, -0.060014931120361666, -0.055651249216383945, -0.4050924167306593, -0.5674351170616927, -1.4251007871026502, -0.8995319823222503, 1.1062589503452354, -0.20382072046038863, -0.00010055195585183877, 0.17696378540158358, 0.7588837221366781, 0.2521796539016003, 0.2853964120837876, -0.16277726494508643, -0.38601143344105365, -1.0170379359384103, -0.3466500445108914, -1.5401398016670331, -0.535571994409165, -1.7075842134185053, 0.5066193456872792, -1.1181765596137385, -0.07719660704485161, 1.409412284069849, -0.5131803731783747, 0.14512693266306823, 2.6527272388996663, -0.24086569918403608, 0.5802248482304968, -0.28805074414568127, -0.394646373523225, -0.18229447257056783, -0.7128994194693947, -0.1760753682112523, -0.03307361130640672, 2.8949245145138893, 1.4639937505591218, -1.1787561032149947, 0.5080631908125035, 0.7299226637744624, 1.114971455912152, 0.3670444793270461, -0.8986701651154719, 0.10427824380549375, 0.4926150883989747, 0.50128685010186, 0.1582082959286535, 1.424381376073982, -0.7098519159265192, 1.4343352301075223, 0.8848001165715448, -0.3329297614837509, -0.09449322766838299, -1.4331704424392953, -2.3482367888755706, -0.4313472857630825, -0.6850394753749117, 0.07373150250514426, 1.5035838122434417, -1.0673400959574666, -0.1790479235488818, 0.5497921570738876, -1.6569094570064595, 0.6867680990971627, -1.5246247206548413, 0.06523519227070403, -1.0893939851966334, -0.6426486274421239, -1.1784518458385573, 1.4014189134269002, -1.6916384711818373, 1.2564031949041172, 0.9657713826538739, -0.3086420219503129, -0.3789089791792017, -0.30407623942767387, -0.2204677342273025], \"xaxis\": \"x9\", \"y\": [-0.030841936520710423, -1.7897465844954101, 0.33404857729631904, 0.42957481394269537, 1.3906679427925948, 2.292633359034967, -0.7649790745758274, 0.018126786175386135, -1.2706645279234314, -0.08426149632796881, 0.07389371271328721, 0.4243084993669805, -0.45464384933490637, -0.09473693777734563, 0.03948991548022201, -0.37543131845098937, 0.36294247945133895, 0.7316061698865982, 0.009311538500927507, 0.01427552739454796, 0.004373975200186838, 0.8630383424204059, -0.5056348337641644, 0.5952881803139014, -0.8591868262923849, -0.30517970825684787, 0.18242953940181528, -0.937798674707065, -0.6987263821951233, 0.5238960257688077, -0.48518372156003675, 0.03146689657984299, -1.783826821471204, 1.8763164275690554, 1.1024227023493425, -1.374424585129283, 1.327051208825934, 1.6631033877268955, -0.5221836274219149, 1.1790678399942525, 0.20449931917440659, -0.7351507913998312, 1.181331806951473, -0.6498461989231527, -0.561984383721052, -0.980958455737706, -0.9527489235554565, -0.3559026940821522, -1.7312463852737618, 0.6003524590425994, -1.0011676580633053, 0.27599291708270945, -1.0562305417097186, -1.8426355697171088, 0.3820952216784, -1.3604752246569802, -0.3145948157468955, -0.7570896887087242, 0.8407257362979608, -0.08334889085136048, -1.31888837125692, 0.7077421503422455, 1.5082924871792198, -0.10394197691061856, -0.5812564941032132, 1.5742308084010164, -0.5459628896978114, 1.182911260415, 0.31165711404723745, 0.5411365254188535, -0.9152362874791712, 1.9486794223808281, -1.260161129482686, 0.7143899005700038, 1.1340389483026478, -0.217513783036078, -0.8809358145856119, 0.7646336205622859, 0.003658402843417368, 1.0612831411933366, 1.174055516773016, -0.8050002895921485, -1.9886559208325512, 0.4993274729681875, -0.3561485718277287, -0.012824899034422837, 0.8102233246215578, -0.8346862887134354, -1.0459324117012032, -0.46180759226587104, 0.3757891945839428, -0.609346617161401, -1.318819973101796, -1.1054063168652104, -2.180036977980027, -0.40512129375765205, -1.0247128324872112, -1.282520781927594, 0.3039137428223451, -1.1538024512803582], \"yaxis\": \"y9\"}, {\"line\": {\"color\": \"rgba(128, 128, 128, 1.0)\", \"dash\": \"solid\", \"shape\": \"linear\", \"width\": 1.3}, \"marker\": {\"size\": 2, \"symbol\": \"circle\"}, \"mode\": \"markers\", \"name\": \"C\", \"text\": \"\", \"type\": \"scatter\", \"x\": [0.5684502720699256, 0.5659318504590108, -0.19827760510486944, 0.32983830760641514, 0.5328299766395032, -2.6070863592723637, -1.498912957132498, 0.38332965794274665, 0.22264884897725187, -1.6528708786582085, -0.49870165714242487, -0.4786542575383392, 1.072071747918505, 0.30981640073313776, 0.8935123571549635, -0.6819292753460076, 0.4576173461547523, 0.44311917309584925, -0.3834133487353966, 0.24893642268377136, 1.5725896637711498, 2.5800447501566977, -0.031174073981630846, -0.527185533592221, 0.25667482105584083, 0.8323331450472324, -0.9568379443293512, 0.14736685052680928, 0.4953577645557132, 1.127463897276566, 0.1979067845689406, 1.5849528203043828, -0.1747631695179193, 0.9573789764398959, 0.47436736441101895, -0.33127828318692876, 0.7471120167436102, -2.022638281155942, 2.0295295993715894, 1.4420055066294375, -1.5295964399797681, 1.8233838388928698, -0.7918471567136929, -1.7277233011088322, -0.625284887925668, 0.8491625546406638, 0.6780281200173601, -0.5141795457121822, -0.3431646995205548, 1.5537837344549983, -0.3592575226298186, -1.200915218048695, 0.447692552037646, -0.7291164997074, -0.0005065946840657674, -0.4437346151107805, 0.15345808437672942, 0.34710550181778704, 1.7459026911646645, -1.3350888262495035, 0.5533821815324313, 0.253181086593142, -0.9589033870327761, 0.4962013516394784, -0.16364535978691475, -0.5635106687798505, 0.3874399481008401, -0.892203741798904, 1.1650334107393163, 0.047543043577904336, 0.11249070564030511, 0.09672797186554681, -0.8058650376771265, -0.583781575627234, 1.038090201365297, -0.20666537242679023, -1.048021628407373, 0.9899524366949004, 0.7694913735559865, -0.22516987366451005, 0.610271014996182, -1.199867464191324, -0.31217188679917635, 0.9675753903319483, -2.0023223593090176, 0.002514579727119917, 1.4298377798004676, -0.9007516727608389, 1.845629362612709, 1.014157798755033, 0.8562826331180223, 0.1343851276353828, -1.5959146246492517, -0.0263178124517433, -0.8647975627911636, 0.7729014273210385, -0.30570206339584927, 0.6912959249022436, 0.05769976468709154, 0.37649442087166995], \"xaxis\": \"x10\", \"y\": [-0.030841936520710423, -1.7897465844954101, 0.33404857729631904, 0.42957481394269537, 1.3906679427925948, 2.292633359034967, -0.7649790745758274, 0.018126786175386135, -1.2706645279234314, -0.08426149632796881, 0.07389371271328721, 0.4243084993669805, -0.45464384933490637, -0.09473693777734563, 0.03948991548022201, -0.37543131845098937, 0.36294247945133895, 0.7316061698865982, 0.009311538500927507, 0.01427552739454796, 0.004373975200186838, 0.8630383424204059, -0.5056348337641644, 0.5952881803139014, -0.8591868262923849, -0.30517970825684787, 0.18242953940181528, -0.937798674707065, -0.6987263821951233, 0.5238960257688077, -0.48518372156003675, 0.03146689657984299, -1.783826821471204, 1.8763164275690554, 1.1024227023493425, -1.374424585129283, 1.327051208825934, 1.6631033877268955, -0.5221836274219149, 1.1790678399942525, 0.20449931917440659, -0.7351507913998312, 1.181331806951473, -0.6498461989231527, -0.561984383721052, -0.980958455737706, -0.9527489235554565, -0.3559026940821522, -1.7312463852737618, 0.6003524590425994, -1.0011676580633053, 0.27599291708270945, -1.0562305417097186, -1.8426355697171088, 0.3820952216784, -1.3604752246569802, -0.3145948157468955, -0.7570896887087242, 0.8407257362979608, -0.08334889085136048, -1.31888837125692, 0.7077421503422455, 1.5082924871792198, -0.10394197691061856, -0.5812564941032132, 1.5742308084010164, -0.5459628896978114, 1.182911260415, 0.31165711404723745, 0.5411365254188535, -0.9152362874791712, 1.9486794223808281, -1.260161129482686, 0.7143899005700038, 1.1340389483026478, -0.217513783036078, -0.8809358145856119, 0.7646336205622859, 0.003658402843417368, 1.0612831411933366, 1.174055516773016, -0.8050002895921485, -1.9886559208325512, 0.4993274729681875, -0.3561485718277287, -0.012824899034422837, 0.8102233246215578, -0.8346862887134354, -1.0459324117012032, -0.46180759226587104, 0.3757891945839428, -0.609346617161401, -1.318819973101796, -1.1054063168652104, -2.180036977980027, -0.40512129375765205, -1.0247128324872112, -1.282520781927594, 0.3039137428223451, -1.1538024512803582], \"yaxis\": \"y10\"}, {\"histfunc\": \"count\", \"histnorm\": \"\", \"marker\": {\"color\": \"rgba(50, 171, 96, 1.0)\", \"line\": {\"color\": \"#4D5663\", \"width\": 1.3}}, \"name\": \"C\", \"nbinsx\": 10, \"opacity\": 0.8, \"orientation\": \"v\", \"type\": \"histogram\", \"x\": [-0.030841936520710423, -1.7897465844954101, 0.33404857729631904, 0.42957481394269537, 1.3906679427925948, 2.292633359034967, -0.7649790745758274, 0.018126786175386135, -1.2706645279234314, -0.08426149632796881, 0.07389371271328721, 0.4243084993669805, -0.45464384933490637, -0.09473693777734563, 0.03948991548022201, -0.37543131845098937, 0.36294247945133895, 0.7316061698865982, 0.009311538500927507, 0.01427552739454796, 0.004373975200186838, 0.8630383424204059, -0.5056348337641644, 0.5952881803139014, -0.8591868262923849, -0.30517970825684787, 0.18242953940181528, -0.937798674707065, -0.6987263821951233, 0.5238960257688077, -0.48518372156003675, 0.03146689657984299, -1.783826821471204, 1.8763164275690554, 1.1024227023493425, -1.374424585129283, 1.327051208825934, 1.6631033877268955, -0.5221836274219149, 1.1790678399942525, 0.20449931917440659, -0.7351507913998312, 1.181331806951473, -0.6498461989231527, -0.561984383721052, -0.980958455737706, -0.9527489235554565, -0.3559026940821522, -1.7312463852737618, 0.6003524590425994, -1.0011676580633053, 0.27599291708270945, -1.0562305417097186, -1.8426355697171088, 0.3820952216784, -1.3604752246569802, -0.3145948157468955, -0.7570896887087242, 0.8407257362979608, -0.08334889085136048, -1.31888837125692, 0.7077421503422455, 1.5082924871792198, -0.10394197691061856, -0.5812564941032132, 1.5742308084010164, -0.5459628896978114, 1.182911260415, 0.31165711404723745, 0.5411365254188535, -0.9152362874791712, 1.9486794223808281, -1.260161129482686, 0.7143899005700038, 1.1340389483026478, -0.217513783036078, -0.8809358145856119, 0.7646336205622859, 0.003658402843417368, 1.0612831411933366, 1.174055516773016, -0.8050002895921485, -1.9886559208325512, 0.4993274729681875, -0.3561485718277287, -0.012824899034422837, 0.8102233246215578, -0.8346862887134354, -1.0459324117012032, -0.46180759226587104, 0.3757891945839428, -0.609346617161401, -1.318819973101796, -1.1054063168652104, -2.180036977980027, -0.40512129375765205, -1.0247128324872112, -1.282520781927594, 0.3039137428223451, -1.1538024512803582], \"xaxis\": \"x11\", \"yaxis\": \"y11\"}, {\"line\": {\"color\": \"rgba(128, 128, 128, 1.0)\", \"dash\": \"solid\", \"shape\": \"linear\", \"width\": 1.3}, \"marker\": {\"size\": 2, \"symbol\": \"circle\"}, \"mode\": \"markers\", \"name\": \"C\", \"text\": \"\", \"type\": \"scatter\", \"x\": [0.06450635021046695, 0.2596574522833259, 1.0026143147803723, 0.561642770158224, -0.3427874639302748, -0.9508333723957706, 0.622800588343014, 0.3125927148018621, 1.1150879717363051, 2.455851706634036, 1.2742268799631815, 1.154299919220273, -0.7942439680024461, -0.8644470781202114, -0.4168734520579206, -1.181803784199834, 1.238433626346655, 0.05372197763399264, 0.34185576901013764, -1.4565659440581091, -0.1026818959296048, 0.903541925904409, -0.8012528882328342, -1.0175719360567876, -2.7328299440970025, 0.7148301356669923, -0.8239975679920563, -0.7576409674557157, -0.5693802501599392, -1.0556713820709995, -1.3705199522230866, -1.3560770882040558, 0.7309342348001, -0.8703792444993791, 0.09189649227909341, -0.3010341429755626, -0.3806964790753045, -1.2013579543332842, 1.391184470518253, -1.8386086609074515, 1.6546453153471088, -0.38789801126027745, 0.09767288988891892, -1.3640703521993343, 1.3871828331113376, -0.339887497599879, 0.6410865305435189, -0.10596461045588117, 1.114632580477332, 0.5887394941232663, 0.44177588052267247, 0.12993293999471517, -1.001727314146639, -0.7320765446444998, 0.3202318776190888, 1.163610560377854, 0.04939823794477496, 0.04223995029416441, -0.14567905816720583, 0.36920980691186267, 0.3773260968601199, -0.8496724441848096, 0.2041626662514401, 0.7618730607445849, -1.1507069986281788, 0.6599107371136214, -0.06753929552515554, -1.2165069573838576, 1.8987843998608216, -0.31490087940180644, 0.3660743345820462, 0.4218107956766632, 0.3089912594501252, 0.394789105793771, 0.4253362614950715, 1.660226841327557, -0.22761012389628388, -0.5069865734320621, -0.09445619273657074, 1.1539355107601834, 2.0500571926687705, -0.8948538495499534, 0.8925199369923554, 0.16043421919060608, 0.4190797854967326, -1.1605531588840317, 0.8533946459510025, 1.0230756283887796, 1.385085155070938, -4.433536853331192, -0.4836933956232965, -0.13250107547132398, -0.17499236765283083, -0.026059638174104723, -0.13890017489053902, -0.1953849616368364, 0.3124549496360172, 0.8958394835349717, 0.009559555697668766, -0.6476092790134855], \"xaxis\": \"x12\", \"y\": [-0.030841936520710423, -1.7897465844954101, 0.33404857729631904, 0.42957481394269537, 1.3906679427925948, 2.292633359034967, -0.7649790745758274, 0.018126786175386135, -1.2706645279234314, -0.08426149632796881, 0.07389371271328721, 0.4243084993669805, -0.45464384933490637, -0.09473693777734563, 0.03948991548022201, -0.37543131845098937, 0.36294247945133895, 0.7316061698865982, 0.009311538500927507, 0.01427552739454796, 0.004373975200186838, 0.8630383424204059, -0.5056348337641644, 0.5952881803139014, -0.8591868262923849, -0.30517970825684787, 0.18242953940181528, -0.937798674707065, -0.6987263821951233, 0.5238960257688077, -0.48518372156003675, 0.03146689657984299, -1.783826821471204, 1.8763164275690554, 1.1024227023493425, -1.374424585129283, 1.327051208825934, 1.6631033877268955, -0.5221836274219149, 1.1790678399942525, 0.20449931917440659, -0.7351507913998312, 1.181331806951473, -0.6498461989231527, -0.561984383721052, -0.980958455737706, -0.9527489235554565, -0.3559026940821522, -1.7312463852737618, 0.6003524590425994, -1.0011676580633053, 0.27599291708270945, -1.0562305417097186, -1.8426355697171088, 0.3820952216784, -1.3604752246569802, -0.3145948157468955, -0.7570896887087242, 0.8407257362979608, -0.08334889085136048, -1.31888837125692, 0.7077421503422455, 1.5082924871792198, -0.10394197691061856, -0.5812564941032132, 1.5742308084010164, -0.5459628896978114, 1.182911260415, 0.31165711404723745, 0.5411365254188535, -0.9152362874791712, 1.9486794223808281, -1.260161129482686, 0.7143899005700038, 1.1340389483026478, -0.217513783036078, -0.8809358145856119, 0.7646336205622859, 0.003658402843417368, 1.0612831411933366, 1.174055516773016, -0.8050002895921485, -1.9886559208325512, 0.4993274729681875, -0.3561485718277287, -0.012824899034422837, 0.8102233246215578, -0.8346862887134354, -1.0459324117012032, -0.46180759226587104, 0.3757891945839428, -0.609346617161401, -1.318819973101796, -1.1054063168652104, -2.180036977980027, -0.40512129375765205, -1.0247128324872112, -1.282520781927594, 0.3039137428223451, -1.1538024512803582], \"yaxis\": \"y12\"}, {\"line\": {\"color\": \"rgba(128, 128, 128, 1.0)\", \"dash\": \"solid\", \"shape\": \"linear\", \"width\": 1.3}, \"marker\": {\"size\": 2, \"symbol\": \"circle\"}, \"mode\": \"markers\", \"name\": \"D\", \"text\": \"\", \"type\": \"scatter\", \"x\": [0.7579169907008975, -0.8161547742370481, -1.0676658944274364, 0.3492477357554279, 0.3390648990769225, 0.09742219321199275, -1.33055230754233, -0.12682840085417438, -0.25128864086285696, 2.1115708861917555, -1.339406042465701, -0.347374481064104, -1.3794015617559465, 0.23290287749488986, 0.41586382257588445, -0.5975340305163689, 0.4086109611770097, 0.5472736736776053, 0.13715433771920907, 1.6032654886085844, -0.5658030710740445, 0.4404707283859412, -0.33724279007117697, -0.060014931120361666, -0.055651249216383945, -0.4050924167306593, -0.5674351170616927, -1.4251007871026502, -0.8995319823222503, 1.1062589503452354, -0.20382072046038863, -0.00010055195585183877, 0.17696378540158358, 0.7588837221366781, 0.2521796539016003, 0.2853964120837876, -0.16277726494508643, -0.38601143344105365, -1.0170379359384103, -0.3466500445108914, -1.5401398016670331, -0.535571994409165, -1.7075842134185053, 0.5066193456872792, -1.1181765596137385, -0.07719660704485161, 1.409412284069849, -0.5131803731783747, 0.14512693266306823, 2.6527272388996663, -0.24086569918403608, 0.5802248482304968, -0.28805074414568127, -0.394646373523225, -0.18229447257056783, -0.7128994194693947, -0.1760753682112523, -0.03307361130640672, 2.8949245145138893, 1.4639937505591218, -1.1787561032149947, 0.5080631908125035, 0.7299226637744624, 1.114971455912152, 0.3670444793270461, -0.8986701651154719, 0.10427824380549375, 0.4926150883989747, 0.50128685010186, 0.1582082959286535, 1.424381376073982, -0.7098519159265192, 1.4343352301075223, 0.8848001165715448, -0.3329297614837509, -0.09449322766838299, -1.4331704424392953, -2.3482367888755706, -0.4313472857630825, -0.6850394753749117, 0.07373150250514426, 1.5035838122434417, -1.0673400959574666, -0.1790479235488818, 0.5497921570738876, -1.6569094570064595, 0.6867680990971627, -1.5246247206548413, 0.06523519227070403, -1.0893939851966334, -0.6426486274421239, -1.1784518458385573, 1.4014189134269002, -1.6916384711818373, 1.2564031949041172, 0.9657713826538739, -0.3086420219503129, -0.3789089791792017, -0.30407623942767387, -0.2204677342273025], \"xaxis\": \"x13\", \"y\": [0.06450635021046695, 0.2596574522833259, 1.0026143147803723, 0.561642770158224, -0.3427874639302748, -0.9508333723957706, 0.622800588343014, 0.3125927148018621, 1.1150879717363051, 2.455851706634036, 1.2742268799631815, 1.154299919220273, -0.7942439680024461, -0.8644470781202114, -0.4168734520579206, -1.181803784199834, 1.238433626346655, 0.05372197763399264, 0.34185576901013764, -1.4565659440581091, -0.1026818959296048, 0.903541925904409, -0.8012528882328342, -1.0175719360567876, -2.7328299440970025, 0.7148301356669923, -0.8239975679920563, -0.7576409674557157, -0.5693802501599392, -1.0556713820709995, -1.3705199522230866, -1.3560770882040558, 0.7309342348001, -0.8703792444993791, 0.09189649227909341, -0.3010341429755626, -0.3806964790753045, -1.2013579543332842, 1.391184470518253, -1.8386086609074515, 1.6546453153471088, -0.38789801126027745, 0.09767288988891892, -1.3640703521993343, 1.3871828331113376, -0.339887497599879, 0.6410865305435189, -0.10596461045588117, 1.114632580477332, 0.5887394941232663, 0.44177588052267247, 0.12993293999471517, -1.001727314146639, -0.7320765446444998, 0.3202318776190888, 1.163610560377854, 0.04939823794477496, 0.04223995029416441, -0.14567905816720583, 0.36920980691186267, 0.3773260968601199, -0.8496724441848096, 0.2041626662514401, 0.7618730607445849, -1.1507069986281788, 0.6599107371136214, -0.06753929552515554, -1.2165069573838576, 1.8987843998608216, -0.31490087940180644, 0.3660743345820462, 0.4218107956766632, 0.3089912594501252, 0.394789105793771, 0.4253362614950715, 1.660226841327557, -0.22761012389628388, -0.5069865734320621, -0.09445619273657074, 1.1539355107601834, 2.0500571926687705, -0.8948538495499534, 0.8925199369923554, 0.16043421919060608, 0.4190797854967326, -1.1605531588840317, 0.8533946459510025, 1.0230756283887796, 1.385085155070938, -4.433536853331192, -0.4836933956232965, -0.13250107547132398, -0.17499236765283083, -0.026059638174104723, -0.13890017489053902, -0.1953849616368364, 0.3124549496360172, 0.8958394835349717, 0.009559555697668766, -0.6476092790134855], \"yaxis\": \"y13\"}, {\"line\": {\"color\": \"rgba(128, 128, 128, 1.0)\", \"dash\": \"solid\", \"shape\": \"linear\", \"width\": 1.3}, \"marker\": {\"size\": 2, \"symbol\": \"circle\"}, \"mode\": \"markers\", \"name\": \"D\", \"text\": \"\", \"type\": \"scatter\", \"x\": [0.5684502720699256, 0.5659318504590108, -0.19827760510486944, 0.32983830760641514, 0.5328299766395032, -2.6070863592723637, -1.498912957132498, 0.38332965794274665, 0.22264884897725187, -1.6528708786582085, -0.49870165714242487, -0.4786542575383392, 1.072071747918505, 0.30981640073313776, 0.8935123571549635, -0.6819292753460076, 0.4576173461547523, 0.44311917309584925, -0.3834133487353966, 0.24893642268377136, 1.5725896637711498, 2.5800447501566977, -0.031174073981630846, -0.527185533592221, 0.25667482105584083, 0.8323331450472324, -0.9568379443293512, 0.14736685052680928, 0.4953577645557132, 1.127463897276566, 0.1979067845689406, 1.5849528203043828, -0.1747631695179193, 0.9573789764398959, 0.47436736441101895, -0.33127828318692876, 0.7471120167436102, -2.022638281155942, 2.0295295993715894, 1.4420055066294375, -1.5295964399797681, 1.8233838388928698, -0.7918471567136929, -1.7277233011088322, -0.625284887925668, 0.8491625546406638, 0.6780281200173601, -0.5141795457121822, -0.3431646995205548, 1.5537837344549983, -0.3592575226298186, -1.200915218048695, 0.447692552037646, -0.7291164997074, -0.0005065946840657674, -0.4437346151107805, 0.15345808437672942, 0.34710550181778704, 1.7459026911646645, -1.3350888262495035, 0.5533821815324313, 0.253181086593142, -0.9589033870327761, 0.4962013516394784, -0.16364535978691475, -0.5635106687798505, 0.3874399481008401, -0.892203741798904, 1.1650334107393163, 0.047543043577904336, 0.11249070564030511, 0.09672797186554681, -0.8058650376771265, -0.583781575627234, 1.038090201365297, -0.20666537242679023, -1.048021628407373, 0.9899524366949004, 0.7694913735559865, -0.22516987366451005, 0.610271014996182, -1.199867464191324, -0.31217188679917635, 0.9675753903319483, -2.0023223593090176, 0.002514579727119917, 1.4298377798004676, -0.9007516727608389, 1.845629362612709, 1.014157798755033, 0.8562826331180223, 0.1343851276353828, -1.5959146246492517, -0.0263178124517433, -0.8647975627911636, 0.7729014273210385, -0.30570206339584927, 0.6912959249022436, 0.05769976468709154, 0.37649442087166995], \"xaxis\": \"x14\", \"y\": [0.06450635021046695, 0.2596574522833259, 1.0026143147803723, 0.561642770158224, -0.3427874639302748, -0.9508333723957706, 0.622800588343014, 0.3125927148018621, 1.1150879717363051, 2.455851706634036, 1.2742268799631815, 1.154299919220273, -0.7942439680024461, -0.8644470781202114, -0.4168734520579206, -1.181803784199834, 1.238433626346655, 0.05372197763399264, 0.34185576901013764, -1.4565659440581091, -0.1026818959296048, 0.903541925904409, -0.8012528882328342, -1.0175719360567876, -2.7328299440970025, 0.7148301356669923, -0.8239975679920563, -0.7576409674557157, -0.5693802501599392, -1.0556713820709995, -1.3705199522230866, -1.3560770882040558, 0.7309342348001, -0.8703792444993791, 0.09189649227909341, -0.3010341429755626, -0.3806964790753045, -1.2013579543332842, 1.391184470518253, -1.8386086609074515, 1.6546453153471088, -0.38789801126027745, 0.09767288988891892, -1.3640703521993343, 1.3871828331113376, -0.339887497599879, 0.6410865305435189, -0.10596461045588117, 1.114632580477332, 0.5887394941232663, 0.44177588052267247, 0.12993293999471517, -1.001727314146639, -0.7320765446444998, 0.3202318776190888, 1.163610560377854, 0.04939823794477496, 0.04223995029416441, -0.14567905816720583, 0.36920980691186267, 0.3773260968601199, -0.8496724441848096, 0.2041626662514401, 0.7618730607445849, -1.1507069986281788, 0.6599107371136214, -0.06753929552515554, -1.2165069573838576, 1.8987843998608216, -0.31490087940180644, 0.3660743345820462, 0.4218107956766632, 0.3089912594501252, 0.394789105793771, 0.4253362614950715, 1.660226841327557, -0.22761012389628388, -0.5069865734320621, -0.09445619273657074, 1.1539355107601834, 2.0500571926687705, -0.8948538495499534, 0.8925199369923554, 0.16043421919060608, 0.4190797854967326, -1.1605531588840317, 0.8533946459510025, 1.0230756283887796, 1.385085155070938, -4.433536853331192, -0.4836933956232965, -0.13250107547132398, -0.17499236765283083, -0.026059638174104723, -0.13890017489053902, -0.1953849616368364, 0.3124549496360172, 0.8958394835349717, 0.009559555697668766, -0.6476092790134855], \"yaxis\": \"y14\"}, {\"line\": {\"color\": \"rgba(128, 128, 128, 1.0)\", \"dash\": \"solid\", \"shape\": \"linear\", \"width\": 1.3}, \"marker\": {\"size\": 2, \"symbol\": \"circle\"}, \"mode\": \"markers\", \"name\": \"D\", \"text\": \"\", \"type\": \"scatter\", \"x\": [-0.030841936520710423, -1.7897465844954101, 0.33404857729631904, 0.42957481394269537, 1.3906679427925948, 2.292633359034967, -0.7649790745758274, 0.018126786175386135, -1.2706645279234314, -0.08426149632796881, 0.07389371271328721, 0.4243084993669805, -0.45464384933490637, -0.09473693777734563, 0.03948991548022201, -0.37543131845098937, 0.36294247945133895, 0.7316061698865982, 0.009311538500927507, 0.01427552739454796, 0.004373975200186838, 0.8630383424204059, -0.5056348337641644, 0.5952881803139014, -0.8591868262923849, -0.30517970825684787, 0.18242953940181528, -0.937798674707065, -0.6987263821951233, 0.5238960257688077, -0.48518372156003675, 0.03146689657984299, -1.783826821471204, 1.8763164275690554, 1.1024227023493425, -1.374424585129283, 1.327051208825934, 1.6631033877268955, -0.5221836274219149, 1.1790678399942525, 0.20449931917440659, -0.7351507913998312, 1.181331806951473, -0.6498461989231527, -0.561984383721052, -0.980958455737706, -0.9527489235554565, -0.3559026940821522, -1.7312463852737618, 0.6003524590425994, -1.0011676580633053, 0.27599291708270945, -1.0562305417097186, -1.8426355697171088, 0.3820952216784, -1.3604752246569802, -0.3145948157468955, -0.7570896887087242, 0.8407257362979608, -0.08334889085136048, -1.31888837125692, 0.7077421503422455, 1.5082924871792198, -0.10394197691061856, -0.5812564941032132, 1.5742308084010164, -0.5459628896978114, 1.182911260415, 0.31165711404723745, 0.5411365254188535, -0.9152362874791712, 1.9486794223808281, -1.260161129482686, 0.7143899005700038, 1.1340389483026478, -0.217513783036078, -0.8809358145856119, 0.7646336205622859, 0.003658402843417368, 1.0612831411933366, 1.174055516773016, -0.8050002895921485, -1.9886559208325512, 0.4993274729681875, -0.3561485718277287, -0.012824899034422837, 0.8102233246215578, -0.8346862887134354, -1.0459324117012032, -0.46180759226587104, 0.3757891945839428, -0.609346617161401, -1.318819973101796, -1.1054063168652104, -2.180036977980027, -0.40512129375765205, -1.0247128324872112, -1.282520781927594, 0.3039137428223451, -1.1538024512803582], \"xaxis\": \"x15\", \"y\": [0.06450635021046695, 0.2596574522833259, 1.0026143147803723, 0.561642770158224, -0.3427874639302748, -0.9508333723957706, 0.622800588343014, 0.3125927148018621, 1.1150879717363051, 2.455851706634036, 1.2742268799631815, 1.154299919220273, -0.7942439680024461, -0.8644470781202114, -0.4168734520579206, -1.181803784199834, 1.238433626346655, 0.05372197763399264, 0.34185576901013764, -1.4565659440581091, -0.1026818959296048, 0.903541925904409, -0.8012528882328342, -1.0175719360567876, -2.7328299440970025, 0.7148301356669923, -0.8239975679920563, -0.7576409674557157, -0.5693802501599392, -1.0556713820709995, -1.3705199522230866, -1.3560770882040558, 0.7309342348001, -0.8703792444993791, 0.09189649227909341, -0.3010341429755626, -0.3806964790753045, -1.2013579543332842, 1.391184470518253, -1.8386086609074515, 1.6546453153471088, -0.38789801126027745, 0.09767288988891892, -1.3640703521993343, 1.3871828331113376, -0.339887497599879, 0.6410865305435189, -0.10596461045588117, 1.114632580477332, 0.5887394941232663, 0.44177588052267247, 0.12993293999471517, -1.001727314146639, -0.7320765446444998, 0.3202318776190888, 1.163610560377854, 0.04939823794477496, 0.04223995029416441, -0.14567905816720583, 0.36920980691186267, 0.3773260968601199, -0.8496724441848096, 0.2041626662514401, 0.7618730607445849, -1.1507069986281788, 0.6599107371136214, -0.06753929552515554, -1.2165069573838576, 1.8987843998608216, -0.31490087940180644, 0.3660743345820462, 0.4218107956766632, 0.3089912594501252, 0.394789105793771, 0.4253362614950715, 1.660226841327557, -0.22761012389628388, -0.5069865734320621, -0.09445619273657074, 1.1539355107601834, 2.0500571926687705, -0.8948538495499534, 0.8925199369923554, 0.16043421919060608, 0.4190797854967326, -1.1605531588840317, 0.8533946459510025, 1.0230756283887796, 1.385085155070938, -4.433536853331192, -0.4836933956232965, -0.13250107547132398, -0.17499236765283083, -0.026059638174104723, -0.13890017489053902, -0.1953849616368364, 0.3124549496360172, 0.8958394835349717, 0.009559555697668766, -0.6476092790134855], \"yaxis\": \"y15\"}, {\"histfunc\": \"count\", \"histnorm\": \"\", \"marker\": {\"color\": \"rgba(128, 0, 128, 1.0)\", \"line\": {\"color\": \"#4D5663\", \"width\": 1.3}}, \"name\": \"D\", \"nbinsx\": 10, \"opacity\": 0.8, \"orientation\": \"v\", \"type\": \"histogram\", \"x\": [0.06450635021046695, 0.2596574522833259, 1.0026143147803723, 0.561642770158224, -0.3427874639302748, -0.9508333723957706, 0.622800588343014, 0.3125927148018621, 1.1150879717363051, 2.455851706634036, 1.2742268799631815, 1.154299919220273, -0.7942439680024461, -0.8644470781202114, -0.4168734520579206, -1.181803784199834, 1.238433626346655, 0.05372197763399264, 0.34185576901013764, -1.4565659440581091, -0.1026818959296048, 0.903541925904409, -0.8012528882328342, -1.0175719360567876, -2.7328299440970025, 0.7148301356669923, -0.8239975679920563, -0.7576409674557157, -0.5693802501599392, -1.0556713820709995, -1.3705199522230866, -1.3560770882040558, 0.7309342348001, -0.8703792444993791, 0.09189649227909341, -0.3010341429755626, -0.3806964790753045, -1.2013579543332842, 1.391184470518253, -1.8386086609074515, 1.6546453153471088, -0.38789801126027745, 0.09767288988891892, -1.3640703521993343, 1.3871828331113376, -0.339887497599879, 0.6410865305435189, -0.10596461045588117, 1.114632580477332, 0.5887394941232663, 0.44177588052267247, 0.12993293999471517, -1.001727314146639, -0.7320765446444998, 0.3202318776190888, 1.163610560377854, 0.04939823794477496, 0.04223995029416441, -0.14567905816720583, 0.36920980691186267, 0.3773260968601199, -0.8496724441848096, 0.2041626662514401, 0.7618730607445849, -1.1507069986281788, 0.6599107371136214, -0.06753929552515554, -1.2165069573838576, 1.8987843998608216, -0.31490087940180644, 0.3660743345820462, 0.4218107956766632, 0.3089912594501252, 0.394789105793771, 0.4253362614950715, 1.660226841327557, -0.22761012389628388, -0.5069865734320621, -0.09445619273657074, 1.1539355107601834, 2.0500571926687705, -0.8948538495499534, 0.8925199369923554, 0.16043421919060608, 0.4190797854967326, -1.1605531588840317, 0.8533946459510025, 1.0230756283887796, 1.385085155070938, -4.433536853331192, -0.4836933956232965, -0.13250107547132398, -0.17499236765283083, -0.026059638174104723, -0.13890017489053902, -0.1953849616368364, 0.3124549496360172, 0.8958394835349717, 0.009559555697668766, -0.6476092790134855], \"xaxis\": \"x16\", \"yaxis\": \"y16\"}],                        {\"bargap\": 0.02, \"legend\": {\"bgcolor\": \"#F5F6F9\", \"font\": {\"color\": \"#4D5663\"}}, \"paper_bgcolor\": \"#F5F6F9\", \"plot_bgcolor\": \"#F5F6F9\", \"showlegend\": false, \"template\": {\"data\": {\"bar\": [{\"error_x\": {\"color\": \"#2a3f5f\"}, \"error_y\": {\"color\": \"#2a3f5f\"}, \"marker\": {\"line\": {\"color\": \"#E5ECF6\", \"width\": 0.5}}, \"type\": \"bar\"}], \"barpolar\": [{\"marker\": {\"line\": {\"color\": \"#E5ECF6\", \"width\": 0.5}}, \"type\": \"barpolar\"}], \"carpet\": [{\"aaxis\": {\"endlinecolor\": \"#2a3f5f\", \"gridcolor\": \"white\", \"linecolor\": \"white\", \"minorgridcolor\": \"white\", \"startlinecolor\": \"#2a3f5f\"}, \"baxis\": {\"endlinecolor\": \"#2a3f5f\", \"gridcolor\": \"white\", \"linecolor\": \"white\", \"minorgridcolor\": \"white\", \"startlinecolor\": \"#2a3f5f\"}, \"type\": \"carpet\"}], \"choropleth\": [{\"colorbar\": {\"outlinewidth\": 0, \"ticks\": \"\"}, \"type\": \"choropleth\"}], \"contour\": [{\"colorbar\": {\"outlinewidth\": 0, \"ticks\": \"\"}, \"colorscale\": [[0.0, \"#0d0887\"], [0.1111111111111111, \"#46039f\"], [0.2222222222222222, \"#7201a8\"], [0.3333333333333333, \"#9c179e\"], [0.4444444444444444, \"#bd3786\"], [0.5555555555555556, \"#d8576b\"], [0.6666666666666666, \"#ed7953\"], [0.7777777777777778, \"#fb9f3a\"], [0.8888888888888888, \"#fdca26\"], [1.0, \"#f0f921\"]], \"type\": \"contour\"}], \"contourcarpet\": [{\"colorbar\": {\"outlinewidth\": 0, \"ticks\": \"\"}, \"type\": \"contourcarpet\"}], \"heatmap\": [{\"colorbar\": {\"outlinewidth\": 0, \"ticks\": \"\"}, \"colorscale\": [[0.0, \"#0d0887\"], [0.1111111111111111, \"#46039f\"], [0.2222222222222222, \"#7201a8\"], [0.3333333333333333, \"#9c179e\"], [0.4444444444444444, \"#bd3786\"], [0.5555555555555556, \"#d8576b\"], [0.6666666666666666, \"#ed7953\"], [0.7777777777777778, \"#fb9f3a\"], [0.8888888888888888, \"#fdca26\"], [1.0, \"#f0f921\"]], \"type\": \"heatmap\"}], \"heatmapgl\": [{\"colorbar\": {\"outlinewidth\": 0, \"ticks\": \"\"}, \"colorscale\": [[0.0, \"#0d0887\"], [0.1111111111111111, \"#46039f\"], [0.2222222222222222, \"#7201a8\"], [0.3333333333333333, \"#9c179e\"], [0.4444444444444444, \"#bd3786\"], [0.5555555555555556, \"#d8576b\"], [0.6666666666666666, \"#ed7953\"], [0.7777777777777778, \"#fb9f3a\"], [0.8888888888888888, \"#fdca26\"], [1.0, \"#f0f921\"]], \"type\": \"heatmapgl\"}], \"histogram\": [{\"marker\": {\"colorbar\": {\"outlinewidth\": 0, \"ticks\": \"\"}}, \"type\": \"histogram\"}], \"histogram2d\": [{\"colorbar\": {\"outlinewidth\": 0, \"ticks\": \"\"}, \"colorscale\": [[0.0, \"#0d0887\"], [0.1111111111111111, \"#46039f\"], [0.2222222222222222, \"#7201a8\"], [0.3333333333333333, \"#9c179e\"], [0.4444444444444444, \"#bd3786\"], [0.5555555555555556, \"#d8576b\"], [0.6666666666666666, \"#ed7953\"], [0.7777777777777778, \"#fb9f3a\"], [0.8888888888888888, \"#fdca26\"], [1.0, \"#f0f921\"]], \"type\": \"histogram2d\"}], \"histogram2dcontour\": [{\"colorbar\": {\"outlinewidth\": 0, \"ticks\": \"\"}, \"colorscale\": [[0.0, \"#0d0887\"], [0.1111111111111111, \"#46039f\"], [0.2222222222222222, \"#7201a8\"], [0.3333333333333333, \"#9c179e\"], [0.4444444444444444, \"#bd3786\"], [0.5555555555555556, \"#d8576b\"], [0.6666666666666666, \"#ed7953\"], [0.7777777777777778, \"#fb9f3a\"], [0.8888888888888888, \"#fdca26\"], [1.0, \"#f0f921\"]], \"type\": \"histogram2dcontour\"}], \"mesh3d\": [{\"colorbar\": {\"outlinewidth\": 0, \"ticks\": \"\"}, \"type\": \"mesh3d\"}], \"parcoords\": [{\"line\": {\"colorbar\": {\"outlinewidth\": 0, \"ticks\": \"\"}}, \"type\": \"parcoords\"}], \"pie\": [{\"automargin\": true, \"type\": \"pie\"}], \"scatter\": [{\"marker\": {\"colorbar\": {\"outlinewidth\": 0, \"ticks\": \"\"}}, \"type\": \"scatter\"}], \"scatter3d\": [{\"line\": {\"colorbar\": {\"outlinewidth\": 0, \"ticks\": \"\"}}, \"marker\": {\"colorbar\": {\"outlinewidth\": 0, \"ticks\": \"\"}}, \"type\": \"scatter3d\"}], \"scattercarpet\": [{\"marker\": {\"colorbar\": {\"outlinewidth\": 0, \"ticks\": \"\"}}, \"type\": \"scattercarpet\"}], \"scattergeo\": [{\"marker\": {\"colorbar\": {\"outlinewidth\": 0, \"ticks\": \"\"}}, \"type\": \"scattergeo\"}], \"scattergl\": [{\"marker\": {\"colorbar\": {\"outlinewidth\": 0, \"ticks\": \"\"}}, \"type\": \"scattergl\"}], \"scattermapbox\": [{\"marker\": {\"colorbar\": {\"outlinewidth\": 0, \"ticks\": \"\"}}, \"type\": \"scattermapbox\"}], \"scatterpolar\": [{\"marker\": {\"colorbar\": {\"outlinewidth\": 0, \"ticks\": \"\"}}, \"type\": \"scatterpolar\"}], \"scatterpolargl\": [{\"marker\": {\"colorbar\": {\"outlinewidth\": 0, \"ticks\": \"\"}}, \"type\": \"scatterpolargl\"}], \"scatterternary\": [{\"marker\": {\"colorbar\": {\"outlinewidth\": 0, \"ticks\": \"\"}}, \"type\": \"scatterternary\"}], \"surface\": [{\"colorbar\": {\"outlinewidth\": 0, \"ticks\": \"\"}, \"colorscale\": [[0.0, \"#0d0887\"], [0.1111111111111111, \"#46039f\"], [0.2222222222222222, \"#7201a8\"], [0.3333333333333333, \"#9c179e\"], [0.4444444444444444, \"#bd3786\"], [0.5555555555555556, \"#d8576b\"], [0.6666666666666666, \"#ed7953\"], [0.7777777777777778, \"#fb9f3a\"], [0.8888888888888888, \"#fdca26\"], [1.0, \"#f0f921\"]], \"type\": \"surface\"}], \"table\": [{\"cells\": {\"fill\": {\"color\": \"#EBF0F8\"}, \"line\": {\"color\": \"white\"}}, \"header\": {\"fill\": {\"color\": \"#C8D4E3\"}, \"line\": {\"color\": \"white\"}}, \"type\": \"table\"}]}, \"layout\": {\"annotationdefaults\": {\"arrowcolor\": \"#2a3f5f\", \"arrowhead\": 0, \"arrowwidth\": 1}, \"autotypenumbers\": \"strict\", \"coloraxis\": {\"colorbar\": {\"outlinewidth\": 0, \"ticks\": \"\"}}, \"colorscale\": {\"diverging\": [[0, \"#8e0152\"], [0.1, \"#c51b7d\"], [0.2, \"#de77ae\"], [0.3, \"#f1b6da\"], [0.4, \"#fde0ef\"], [0.5, \"#f7f7f7\"], [0.6, \"#e6f5d0\"], [0.7, \"#b8e186\"], [0.8, \"#7fbc41\"], [0.9, \"#4d9221\"], [1, \"#276419\"]], \"sequential\": [[0.0, \"#0d0887\"], [0.1111111111111111, \"#46039f\"], [0.2222222222222222, \"#7201a8\"], [0.3333333333333333, \"#9c179e\"], [0.4444444444444444, \"#bd3786\"], [0.5555555555555556, \"#d8576b\"], [0.6666666666666666, \"#ed7953\"], [0.7777777777777778, \"#fb9f3a\"], [0.8888888888888888, \"#fdca26\"], [1.0, \"#f0f921\"]], \"sequentialminus\": [[0.0, \"#0d0887\"], [0.1111111111111111, \"#46039f\"], [0.2222222222222222, \"#7201a8\"], [0.3333333333333333, \"#9c179e\"], [0.4444444444444444, \"#bd3786\"], [0.5555555555555556, \"#d8576b\"], [0.6666666666666666, \"#ed7953\"], [0.7777777777777778, \"#fb9f3a\"], [0.8888888888888888, \"#fdca26\"], [1.0, \"#f0f921\"]]}, \"colorway\": [\"#636efa\", \"#EF553B\", \"#00cc96\", \"#ab63fa\", \"#FFA15A\", \"#19d3f3\", \"#FF6692\", \"#B6E880\", \"#FF97FF\", \"#FECB52\"], \"font\": {\"color\": \"#2a3f5f\"}, \"geo\": {\"bgcolor\": \"white\", \"lakecolor\": \"white\", \"landcolor\": \"#E5ECF6\", \"showlakes\": true, \"showland\": true, \"subunitcolor\": \"white\"}, \"hoverlabel\": {\"align\": \"left\"}, \"hovermode\": \"closest\", \"mapbox\": {\"style\": \"light\"}, \"paper_bgcolor\": \"white\", \"plot_bgcolor\": \"#E5ECF6\", \"polar\": {\"angularaxis\": {\"gridcolor\": \"white\", \"linecolor\": \"white\", \"ticks\": \"\"}, \"bgcolor\": \"#E5ECF6\", \"radialaxis\": {\"gridcolor\": \"white\", \"linecolor\": \"white\", \"ticks\": \"\"}}, \"scene\": {\"xaxis\": {\"backgroundcolor\": \"#E5ECF6\", \"gridcolor\": \"white\", \"gridwidth\": 2, \"linecolor\": \"white\", \"showbackground\": true, \"ticks\": \"\", \"zerolinecolor\": \"white\"}, \"yaxis\": {\"backgroundcolor\": \"#E5ECF6\", \"gridcolor\": \"white\", \"gridwidth\": 2, \"linecolor\": \"white\", \"showbackground\": true, \"ticks\": \"\", \"zerolinecolor\": \"white\"}, \"zaxis\": {\"backgroundcolor\": \"#E5ECF6\", \"gridcolor\": \"white\", \"gridwidth\": 2, \"linecolor\": \"white\", \"showbackground\": true, \"ticks\": \"\", \"zerolinecolor\": \"white\"}}, \"shapedefaults\": {\"line\": {\"color\": \"#2a3f5f\"}}, \"ternary\": {\"aaxis\": {\"gridcolor\": \"white\", \"linecolor\": \"white\", \"ticks\": \"\"}, \"baxis\": {\"gridcolor\": \"white\", \"linecolor\": \"white\", \"ticks\": \"\"}, \"bgcolor\": \"#E5ECF6\", \"caxis\": {\"gridcolor\": \"white\", \"linecolor\": \"white\", \"ticks\": \"\"}}, \"title\": {\"x\": 0.05}, \"xaxis\": {\"automargin\": true, \"gridcolor\": \"white\", \"linecolor\": \"white\", \"ticks\": \"\", \"title\": {\"standoff\": 15}, \"zerolinecolor\": \"white\", \"zerolinewidth\": 2}, \"yaxis\": {\"automargin\": true, \"gridcolor\": \"white\", \"linecolor\": \"white\", \"ticks\": \"\", \"title\": {\"standoff\": 15}, \"zerolinecolor\": \"white\", \"zerolinewidth\": 2}}}, \"title\": {\"font\": {\"color\": \"#4D5663\"}}, \"xaxis\": {\"anchor\": \"y\", \"domain\": [0.0, 0.2125], \"gridcolor\": \"#E1E5ED\", \"showgrid\": false, \"tickfont\": {\"color\": \"#4D5663\"}, \"title\": {\"font\": {\"color\": \"#4D5663\"}, \"text\": \"\"}, \"zerolinecolor\": \"#E1E5ED\"}, \"xaxis10\": {\"anchor\": \"y10\", \"domain\": [0.2625, 0.475], \"gridcolor\": \"#E1E5ED\", \"showgrid\": false, \"tickfont\": {\"color\": \"#4D5663\"}, \"title\": {\"font\": {\"color\": \"#4D5663\"}, \"text\": \"\"}, \"zerolinecolor\": \"#E1E5ED\"}, \"xaxis11\": {\"anchor\": \"y11\", \"domain\": [0.525, 0.7375], \"gridcolor\": \"#E1E5ED\", \"showgrid\": false, \"tickfont\": {\"color\": \"#4D5663\"}, \"title\": {\"font\": {\"color\": \"#4D5663\"}, \"text\": \"\"}, \"zerolinecolor\": \"#E1E5ED\"}, \"xaxis12\": {\"anchor\": \"y12\", \"domain\": [0.7875, 1.0], \"gridcolor\": \"#E1E5ED\", \"showgrid\": false, \"tickfont\": {\"color\": \"#4D5663\"}, \"title\": {\"font\": {\"color\": \"#4D5663\"}, \"text\": \"\"}, \"zerolinecolor\": \"#E1E5ED\"}, \"xaxis13\": {\"anchor\": \"y13\", \"domain\": [0.0, 0.2125], \"gridcolor\": \"#E1E5ED\", \"showgrid\": false, \"tickfont\": {\"color\": \"#4D5663\"}, \"title\": {\"font\": {\"color\": \"#4D5663\"}, \"text\": \"\"}, \"zerolinecolor\": \"#E1E5ED\"}, \"xaxis14\": {\"anchor\": \"y14\", \"domain\": [0.2625, 0.475], \"gridcolor\": \"#E1E5ED\", \"showgrid\": false, \"tickfont\": {\"color\": \"#4D5663\"}, \"title\": {\"font\": {\"color\": \"#4D5663\"}, \"text\": \"\"}, \"zerolinecolor\": \"#E1E5ED\"}, \"xaxis15\": {\"anchor\": \"y15\", \"domain\": [0.525, 0.7375], \"gridcolor\": \"#E1E5ED\", \"showgrid\": false, \"tickfont\": {\"color\": \"#4D5663\"}, \"title\": {\"font\": {\"color\": \"#4D5663\"}, \"text\": \"\"}, \"zerolinecolor\": \"#E1E5ED\"}, \"xaxis16\": {\"anchor\": \"y16\", \"domain\": [0.7875, 1.0], \"gridcolor\": \"#E1E5ED\", \"showgrid\": false, \"tickfont\": {\"color\": \"#4D5663\"}, \"title\": {\"font\": {\"color\": \"#4D5663\"}, \"text\": \"\"}, \"zerolinecolor\": \"#E1E5ED\"}, \"xaxis2\": {\"anchor\": \"y2\", \"domain\": [0.2625, 0.475], \"gridcolor\": \"#E1E5ED\", \"showgrid\": false, \"tickfont\": {\"color\": \"#4D5663\"}, \"title\": {\"font\": {\"color\": \"#4D5663\"}, \"text\": \"\"}, \"zerolinecolor\": \"#E1E5ED\"}, \"xaxis3\": {\"anchor\": \"y3\", \"domain\": [0.525, 0.7375], \"gridcolor\": \"#E1E5ED\", \"showgrid\": false, \"tickfont\": {\"color\": \"#4D5663\"}, \"title\": {\"font\": {\"color\": \"#4D5663\"}, \"text\": \"\"}, \"zerolinecolor\": \"#E1E5ED\"}, \"xaxis4\": {\"anchor\": \"y4\", \"domain\": [0.7875, 1.0], \"gridcolor\": \"#E1E5ED\", \"showgrid\": false, \"tickfont\": {\"color\": \"#4D5663\"}, \"title\": {\"font\": {\"color\": \"#4D5663\"}, \"text\": \"\"}, \"zerolinecolor\": \"#E1E5ED\"}, \"xaxis5\": {\"anchor\": \"y5\", \"domain\": [0.0, 0.2125], \"gridcolor\": \"#E1E5ED\", \"showgrid\": false, \"tickfont\": {\"color\": \"#4D5663\"}, \"title\": {\"font\": {\"color\": \"#4D5663\"}, \"text\": \"\"}, \"zerolinecolor\": \"#E1E5ED\"}, \"xaxis6\": {\"anchor\": \"y6\", \"domain\": [0.2625, 0.475], \"gridcolor\": \"#E1E5ED\", \"showgrid\": false, \"tickfont\": {\"color\": \"#4D5663\"}, \"title\": {\"font\": {\"color\": \"#4D5663\"}, \"text\": \"\"}, \"zerolinecolor\": \"#E1E5ED\"}, \"xaxis7\": {\"anchor\": \"y7\", \"domain\": [0.525, 0.7375], \"gridcolor\": \"#E1E5ED\", \"showgrid\": false, \"tickfont\": {\"color\": \"#4D5663\"}, \"title\": {\"font\": {\"color\": \"#4D5663\"}, \"text\": \"\"}, \"zerolinecolor\": \"#E1E5ED\"}, \"xaxis8\": {\"anchor\": \"y8\", \"domain\": [0.7875, 1.0], \"gridcolor\": \"#E1E5ED\", \"showgrid\": false, \"tickfont\": {\"color\": \"#4D5663\"}, \"title\": {\"font\": {\"color\": \"#4D5663\"}, \"text\": \"\"}, \"zerolinecolor\": \"#E1E5ED\"}, \"xaxis9\": {\"anchor\": \"y9\", \"domain\": [0.0, 0.2125], \"gridcolor\": \"#E1E5ED\", \"showgrid\": false, \"tickfont\": {\"color\": \"#4D5663\"}, \"title\": {\"font\": {\"color\": \"#4D5663\"}, \"text\": \"\"}, \"zerolinecolor\": \"#E1E5ED\"}, \"yaxis\": {\"anchor\": \"x\", \"domain\": [0.8025, 1.0], \"gridcolor\": \"#E1E5ED\", \"showgrid\": false, \"tickfont\": {\"color\": \"#4D5663\"}, \"title\": {\"font\": {\"color\": \"#4D5663\"}, \"text\": \"\"}, \"zerolinecolor\": \"#E1E5ED\"}, \"yaxis10\": {\"anchor\": \"x10\", \"domain\": [0.2675, 0.465], \"gridcolor\": \"#E1E5ED\", \"showgrid\": false, \"tickfont\": {\"color\": \"#4D5663\"}, \"title\": {\"font\": {\"color\": \"#4D5663\"}, \"text\": \"\"}, \"zerolinecolor\": \"#E1E5ED\"}, \"yaxis11\": {\"anchor\": \"x11\", \"domain\": [0.2675, 0.465], \"gridcolor\": \"#E1E5ED\", \"showgrid\": false, \"tickfont\": {\"color\": \"#4D5663\"}, \"title\": {\"font\": {\"color\": \"#4D5663\"}, \"text\": \"\"}, \"zerolinecolor\": \"#E1E5ED\"}, \"yaxis12\": {\"anchor\": \"x12\", \"domain\": [0.2675, 0.465], \"gridcolor\": \"#E1E5ED\", \"showgrid\": false, \"tickfont\": {\"color\": \"#4D5663\"}, \"title\": {\"font\": {\"color\": \"#4D5663\"}, \"text\": \"\"}, \"zerolinecolor\": \"#E1E5ED\"}, \"yaxis13\": {\"anchor\": \"x13\", \"domain\": [0.0, 0.1975], \"gridcolor\": \"#E1E5ED\", \"showgrid\": false, \"tickfont\": {\"color\": \"#4D5663\"}, \"title\": {\"font\": {\"color\": \"#4D5663\"}, \"text\": \"\"}, \"zerolinecolor\": \"#E1E5ED\"}, \"yaxis14\": {\"anchor\": \"x14\", \"domain\": [0.0, 0.1975], \"gridcolor\": \"#E1E5ED\", \"showgrid\": false, \"tickfont\": {\"color\": \"#4D5663\"}, \"title\": {\"font\": {\"color\": \"#4D5663\"}, \"text\": \"\"}, \"zerolinecolor\": \"#E1E5ED\"}, \"yaxis15\": {\"anchor\": \"x15\", \"domain\": [0.0, 0.1975], \"gridcolor\": \"#E1E5ED\", \"showgrid\": false, \"tickfont\": {\"color\": \"#4D5663\"}, \"title\": {\"font\": {\"color\": \"#4D5663\"}, \"text\": \"\"}, \"zerolinecolor\": \"#E1E5ED\"}, \"yaxis16\": {\"anchor\": \"x16\", \"domain\": [0.0, 0.1975], \"gridcolor\": \"#E1E5ED\", \"showgrid\": false, \"tickfont\": {\"color\": \"#4D5663\"}, \"title\": {\"font\": {\"color\": \"#4D5663\"}, \"text\": \"\"}, \"zerolinecolor\": \"#E1E5ED\"}, \"yaxis2\": {\"anchor\": \"x2\", \"domain\": [0.8025, 1.0], \"gridcolor\": \"#E1E5ED\", \"showgrid\": false, \"tickfont\": {\"color\": \"#4D5663\"}, \"title\": {\"font\": {\"color\": \"#4D5663\"}, \"text\": \"\"}, \"zerolinecolor\": \"#E1E5ED\"}, \"yaxis3\": {\"anchor\": \"x3\", \"domain\": [0.8025, 1.0], \"gridcolor\": \"#E1E5ED\", \"showgrid\": false, \"tickfont\": {\"color\": \"#4D5663\"}, \"title\": {\"font\": {\"color\": \"#4D5663\"}, \"text\": \"\"}, \"zerolinecolor\": \"#E1E5ED\"}, \"yaxis4\": {\"anchor\": \"x4\", \"domain\": [0.8025, 1.0], \"gridcolor\": \"#E1E5ED\", \"showgrid\": false, \"tickfont\": {\"color\": \"#4D5663\"}, \"title\": {\"font\": {\"color\": \"#4D5663\"}, \"text\": \"\"}, \"zerolinecolor\": \"#E1E5ED\"}, \"yaxis5\": {\"anchor\": \"x5\", \"domain\": [0.535, 0.7325], \"gridcolor\": \"#E1E5ED\", \"showgrid\": false, \"tickfont\": {\"color\": \"#4D5663\"}, \"title\": {\"font\": {\"color\": \"#4D5663\"}, \"text\": \"\"}, \"zerolinecolor\": \"#E1E5ED\"}, \"yaxis6\": {\"anchor\": \"x6\", \"domain\": [0.535, 0.7325], \"gridcolor\": \"#E1E5ED\", \"showgrid\": false, \"tickfont\": {\"color\": \"#4D5663\"}, \"title\": {\"font\": {\"color\": \"#4D5663\"}, \"text\": \"\"}, \"zerolinecolor\": \"#E1E5ED\"}, \"yaxis7\": {\"anchor\": \"x7\", \"domain\": [0.535, 0.7325], \"gridcolor\": \"#E1E5ED\", \"showgrid\": false, \"tickfont\": {\"color\": \"#4D5663\"}, \"title\": {\"font\": {\"color\": \"#4D5663\"}, \"text\": \"\"}, \"zerolinecolor\": \"#E1E5ED\"}, \"yaxis8\": {\"anchor\": \"x8\", \"domain\": [0.535, 0.7325], \"gridcolor\": \"#E1E5ED\", \"showgrid\": false, \"tickfont\": {\"color\": \"#4D5663\"}, \"title\": {\"font\": {\"color\": \"#4D5663\"}, \"text\": \"\"}, \"zerolinecolor\": \"#E1E5ED\"}, \"yaxis9\": {\"anchor\": \"x9\", \"domain\": [0.2675, 0.465], \"gridcolor\": \"#E1E5ED\", \"showgrid\": false, \"tickfont\": {\"color\": \"#4D5663\"}, \"title\": {\"font\": {\"color\": \"#4D5663\"}, \"text\": \"\"}, \"zerolinecolor\": \"#E1E5ED\"}},                        {\"showLink\": true, \"linkText\": \"Export to plot.ly\", \"plotlyServerURL\": \"https://plot.ly\", \"responsive\": true}                    ).then(function(){\n",
       "                            \n",
       "var gd = document.getElementById('49b80d12-05df-4505-8d02-a2384d520c26');\n",
       "var x = new MutationObserver(function (mutations, observer) {{\n",
       "        var display = window.getComputedStyle(gd).display;\n",
       "        if (!display || display === 'none') {{\n",
       "            console.log([gd, 'removed!']);\n",
       "            Plotly.purge(gd);\n",
       "            observer.disconnect();\n",
       "        }}\n",
       "}});\n",
       "\n",
       "// Listen for the removal of the full notebook cells\n",
       "var notebookContainer = gd.closest('#notebook-container');\n",
       "if (notebookContainer) {{\n",
       "    x.observe(notebookContainer, {childList: true});\n",
       "}}\n",
       "\n",
       "// Listen for the clearing of the current output cell\n",
       "var outputEl = gd.closest('.output');\n",
       "if (outputEl) {{\n",
       "    x.observe(outputEl, {childList: true});\n",
       "}}\n",
       "\n",
       "                        })                };                });            </script>        </div>"
      ]
     },
     "metadata": {},
     "output_type": "display_data"
    }
   ],
   "source": [
    "df.scatter_matrix()"
   ]
  },
  {
   "cell_type": "code",
   "execution_count": null,
   "id": "a7407376",
   "metadata": {},
   "outputs": [],
   "source": [
    "# Dones"
   ]
  }
 ],
 "metadata": {
  "kernelspec": {
   "display_name": "Python 3",
   "language": "python",
   "name": "python3"
  },
  "language_info": {
   "codemirror_mode": {
    "name": "ipython",
    "version": 3
   },
   "file_extension": ".py",
   "mimetype": "text/x-python",
   "name": "python",
   "nbconvert_exporter": "python",
   "pygments_lexer": "ipython3",
   "version": "3.8.8"
  }
 },
 "nbformat": 4,
 "nbformat_minor": 5
}
